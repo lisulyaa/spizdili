{
 "cells": [
  {
   "cell_type": "markdown",
   "metadata": {},
   "source": [
    "# Исследование объявлений о продаже квартир\n",
    "\n",
    "В вашем распоряжении данные сервиса Яндекс.Недвижимость — архив объявлений о продаже квартир в Санкт-Петербурге и соседних населённых пунктов за несколько лет. Нужно научиться определять рыночную стоимость объектов недвижимости. Ваша задача — установить параметры. Это позволит построить автоматизированную систему: она отследит аномалии и мошенническую деятельность. \n",
    "\n",
    "По каждой квартире на продажу доступны два вида данных. Первые вписаны пользователем, вторые — получены автоматически на основе картографических данных. Например, расстояние до центра, аэропорта, ближайшего парка и водоёма. "
   ]
  },
  {
   "cell_type": "markdown",
   "metadata": {},
   "source": [
    "### Откройте файл с данными и изучите общую информацию. "
   ]
  },
  {
   "cell_type": "code",
   "execution_count": 2,
   "metadata": {},
   "outputs": [],
   "source": [
    "import pandas as pd\n",
    "import matplotlib.pyplot as plt"
   ]
  },
  {
   "cell_type": "code",
   "execution_count": 3,
   "metadata": {},
   "outputs": [
    {
     "data": {
      "text/html": [
       "<div>\n",
       "<style scoped>\n",
       "    .dataframe tbody tr th:only-of-type {\n",
       "        vertical-align: middle;\n",
       "    }\n",
       "\n",
       "    .dataframe tbody tr th {\n",
       "        vertical-align: top;\n",
       "    }\n",
       "\n",
       "    .dataframe thead th {\n",
       "        text-align: right;\n",
       "    }\n",
       "</style>\n",
       "<table border=\"1\" class=\"dataframe\">\n",
       "  <thead>\n",
       "    <tr style=\"text-align: right;\">\n",
       "      <th></th>\n",
       "      <th>total_images</th>\n",
       "      <th>last_price</th>\n",
       "      <th>total_area</th>\n",
       "      <th>first_day_exposition</th>\n",
       "      <th>rooms</th>\n",
       "      <th>ceiling_height</th>\n",
       "      <th>floors_total</th>\n",
       "      <th>living_area</th>\n",
       "      <th>floor</th>\n",
       "      <th>is_apartment</th>\n",
       "      <th>studio</th>\n",
       "      <th>open_plan</th>\n",
       "      <th>kitchen_area</th>\n",
       "      <th>balcony</th>\n",
       "      <th>locality_name</th>\n",
       "      <th>airports_nearest</th>\n",
       "      <th>cityCenters_nearest</th>\n",
       "      <th>parks_around3000</th>\n",
       "      <th>parks_nearest</th>\n",
       "      <th>ponds_around3000</th>\n",
       "      <th>ponds_nearest</th>\n",
       "      <th>days_exposition</th>\n",
       "    </tr>\n",
       "  </thead>\n",
       "  <tbody>\n",
       "    <tr>\n",
       "      <th>0</th>\n",
       "      <td>20</td>\n",
       "      <td>13000000.0</td>\n",
       "      <td>108.00</td>\n",
       "      <td>2019-03-07T00:00:00</td>\n",
       "      <td>3</td>\n",
       "      <td>2.70</td>\n",
       "      <td>16.0</td>\n",
       "      <td>51.0</td>\n",
       "      <td>8</td>\n",
       "      <td>NaN</td>\n",
       "      <td>False</td>\n",
       "      <td>False</td>\n",
       "      <td>25.00</td>\n",
       "      <td>NaN</td>\n",
       "      <td>Санкт-Петербург</td>\n",
       "      <td>18863.0</td>\n",
       "      <td>16028.0</td>\n",
       "      <td>1.0</td>\n",
       "      <td>482.0</td>\n",
       "      <td>2.0</td>\n",
       "      <td>755.0</td>\n",
       "      <td>NaN</td>\n",
       "    </tr>\n",
       "    <tr>\n",
       "      <th>1</th>\n",
       "      <td>7</td>\n",
       "      <td>3350000.0</td>\n",
       "      <td>40.40</td>\n",
       "      <td>2018-12-04T00:00:00</td>\n",
       "      <td>1</td>\n",
       "      <td>NaN</td>\n",
       "      <td>11.0</td>\n",
       "      <td>18.6</td>\n",
       "      <td>1</td>\n",
       "      <td>NaN</td>\n",
       "      <td>False</td>\n",
       "      <td>False</td>\n",
       "      <td>11.00</td>\n",
       "      <td>2.0</td>\n",
       "      <td>посёлок Шушары</td>\n",
       "      <td>12817.0</td>\n",
       "      <td>18603.0</td>\n",
       "      <td>0.0</td>\n",
       "      <td>NaN</td>\n",
       "      <td>0.0</td>\n",
       "      <td>NaN</td>\n",
       "      <td>81.0</td>\n",
       "    </tr>\n",
       "    <tr>\n",
       "      <th>2</th>\n",
       "      <td>10</td>\n",
       "      <td>5196000.0</td>\n",
       "      <td>56.00</td>\n",
       "      <td>2015-08-20T00:00:00</td>\n",
       "      <td>2</td>\n",
       "      <td>NaN</td>\n",
       "      <td>5.0</td>\n",
       "      <td>34.3</td>\n",
       "      <td>4</td>\n",
       "      <td>NaN</td>\n",
       "      <td>False</td>\n",
       "      <td>False</td>\n",
       "      <td>8.30</td>\n",
       "      <td>0.0</td>\n",
       "      <td>Санкт-Петербург</td>\n",
       "      <td>21741.0</td>\n",
       "      <td>13933.0</td>\n",
       "      <td>1.0</td>\n",
       "      <td>90.0</td>\n",
       "      <td>2.0</td>\n",
       "      <td>574.0</td>\n",
       "      <td>558.0</td>\n",
       "    </tr>\n",
       "    <tr>\n",
       "      <th>3</th>\n",
       "      <td>0</td>\n",
       "      <td>64900000.0</td>\n",
       "      <td>159.00</td>\n",
       "      <td>2015-07-24T00:00:00</td>\n",
       "      <td>3</td>\n",
       "      <td>NaN</td>\n",
       "      <td>14.0</td>\n",
       "      <td>NaN</td>\n",
       "      <td>9</td>\n",
       "      <td>NaN</td>\n",
       "      <td>False</td>\n",
       "      <td>False</td>\n",
       "      <td>NaN</td>\n",
       "      <td>0.0</td>\n",
       "      <td>Санкт-Петербург</td>\n",
       "      <td>28098.0</td>\n",
       "      <td>6800.0</td>\n",
       "      <td>2.0</td>\n",
       "      <td>84.0</td>\n",
       "      <td>3.0</td>\n",
       "      <td>234.0</td>\n",
       "      <td>424.0</td>\n",
       "    </tr>\n",
       "    <tr>\n",
       "      <th>4</th>\n",
       "      <td>2</td>\n",
       "      <td>10000000.0</td>\n",
       "      <td>100.00</td>\n",
       "      <td>2018-06-19T00:00:00</td>\n",
       "      <td>2</td>\n",
       "      <td>3.03</td>\n",
       "      <td>14.0</td>\n",
       "      <td>32.0</td>\n",
       "      <td>13</td>\n",
       "      <td>NaN</td>\n",
       "      <td>False</td>\n",
       "      <td>False</td>\n",
       "      <td>41.00</td>\n",
       "      <td>NaN</td>\n",
       "      <td>Санкт-Петербург</td>\n",
       "      <td>31856.0</td>\n",
       "      <td>8098.0</td>\n",
       "      <td>2.0</td>\n",
       "      <td>112.0</td>\n",
       "      <td>1.0</td>\n",
       "      <td>48.0</td>\n",
       "      <td>121.0</td>\n",
       "    </tr>\n",
       "    <tr>\n",
       "      <th>...</th>\n",
       "      <td>...</td>\n",
       "      <td>...</td>\n",
       "      <td>...</td>\n",
       "      <td>...</td>\n",
       "      <td>...</td>\n",
       "      <td>...</td>\n",
       "      <td>...</td>\n",
       "      <td>...</td>\n",
       "      <td>...</td>\n",
       "      <td>...</td>\n",
       "      <td>...</td>\n",
       "      <td>...</td>\n",
       "      <td>...</td>\n",
       "      <td>...</td>\n",
       "      <td>...</td>\n",
       "      <td>...</td>\n",
       "      <td>...</td>\n",
       "      <td>...</td>\n",
       "      <td>...</td>\n",
       "      <td>...</td>\n",
       "      <td>...</td>\n",
       "      <td>...</td>\n",
       "    </tr>\n",
       "    <tr>\n",
       "      <th>23694</th>\n",
       "      <td>9</td>\n",
       "      <td>9700000.0</td>\n",
       "      <td>133.81</td>\n",
       "      <td>2017-03-21T00:00:00</td>\n",
       "      <td>3</td>\n",
       "      <td>3.70</td>\n",
       "      <td>5.0</td>\n",
       "      <td>73.3</td>\n",
       "      <td>3</td>\n",
       "      <td>NaN</td>\n",
       "      <td>False</td>\n",
       "      <td>False</td>\n",
       "      <td>13.83</td>\n",
       "      <td>NaN</td>\n",
       "      <td>Санкт-Петербург</td>\n",
       "      <td>24665.0</td>\n",
       "      <td>4232.0</td>\n",
       "      <td>1.0</td>\n",
       "      <td>796.0</td>\n",
       "      <td>3.0</td>\n",
       "      <td>381.0</td>\n",
       "      <td>NaN</td>\n",
       "    </tr>\n",
       "    <tr>\n",
       "      <th>23695</th>\n",
       "      <td>14</td>\n",
       "      <td>3100000.0</td>\n",
       "      <td>59.00</td>\n",
       "      <td>2018-01-15T00:00:00</td>\n",
       "      <td>3</td>\n",
       "      <td>NaN</td>\n",
       "      <td>5.0</td>\n",
       "      <td>38.0</td>\n",
       "      <td>4</td>\n",
       "      <td>NaN</td>\n",
       "      <td>False</td>\n",
       "      <td>False</td>\n",
       "      <td>8.50</td>\n",
       "      <td>NaN</td>\n",
       "      <td>Тосно</td>\n",
       "      <td>NaN</td>\n",
       "      <td>NaN</td>\n",
       "      <td>NaN</td>\n",
       "      <td>NaN</td>\n",
       "      <td>NaN</td>\n",
       "      <td>NaN</td>\n",
       "      <td>45.0</td>\n",
       "    </tr>\n",
       "    <tr>\n",
       "      <th>23696</th>\n",
       "      <td>18</td>\n",
       "      <td>2500000.0</td>\n",
       "      <td>56.70</td>\n",
       "      <td>2018-02-11T00:00:00</td>\n",
       "      <td>2</td>\n",
       "      <td>NaN</td>\n",
       "      <td>3.0</td>\n",
       "      <td>29.7</td>\n",
       "      <td>1</td>\n",
       "      <td>NaN</td>\n",
       "      <td>False</td>\n",
       "      <td>False</td>\n",
       "      <td>NaN</td>\n",
       "      <td>NaN</td>\n",
       "      <td>село Рождествено</td>\n",
       "      <td>NaN</td>\n",
       "      <td>NaN</td>\n",
       "      <td>NaN</td>\n",
       "      <td>NaN</td>\n",
       "      <td>NaN</td>\n",
       "      <td>NaN</td>\n",
       "      <td>NaN</td>\n",
       "    </tr>\n",
       "    <tr>\n",
       "      <th>23697</th>\n",
       "      <td>13</td>\n",
       "      <td>11475000.0</td>\n",
       "      <td>76.75</td>\n",
       "      <td>2017-03-28T00:00:00</td>\n",
       "      <td>2</td>\n",
       "      <td>3.00</td>\n",
       "      <td>17.0</td>\n",
       "      <td>NaN</td>\n",
       "      <td>12</td>\n",
       "      <td>NaN</td>\n",
       "      <td>False</td>\n",
       "      <td>False</td>\n",
       "      <td>23.30</td>\n",
       "      <td>2.0</td>\n",
       "      <td>Санкт-Петербург</td>\n",
       "      <td>39140.0</td>\n",
       "      <td>10364.0</td>\n",
       "      <td>2.0</td>\n",
       "      <td>173.0</td>\n",
       "      <td>3.0</td>\n",
       "      <td>196.0</td>\n",
       "      <td>602.0</td>\n",
       "    </tr>\n",
       "    <tr>\n",
       "      <th>23698</th>\n",
       "      <td>4</td>\n",
       "      <td>1350000.0</td>\n",
       "      <td>32.30</td>\n",
       "      <td>2017-07-21T00:00:00</td>\n",
       "      <td>1</td>\n",
       "      <td>2.50</td>\n",
       "      <td>5.0</td>\n",
       "      <td>12.3</td>\n",
       "      <td>1</td>\n",
       "      <td>NaN</td>\n",
       "      <td>False</td>\n",
       "      <td>False</td>\n",
       "      <td>9.00</td>\n",
       "      <td>NaN</td>\n",
       "      <td>поселок Новый Учхоз</td>\n",
       "      <td>NaN</td>\n",
       "      <td>NaN</td>\n",
       "      <td>NaN</td>\n",
       "      <td>NaN</td>\n",
       "      <td>NaN</td>\n",
       "      <td>NaN</td>\n",
       "      <td>NaN</td>\n",
       "    </tr>\n",
       "  </tbody>\n",
       "</table>\n",
       "<p>23699 rows × 22 columns</p>\n",
       "</div>"
      ],
      "text/plain": [
       "       total_images  last_price  total_area first_day_exposition  rooms  \\\n",
       "0                20  13000000.0      108.00  2019-03-07T00:00:00      3   \n",
       "1                 7   3350000.0       40.40  2018-12-04T00:00:00      1   \n",
       "2                10   5196000.0       56.00  2015-08-20T00:00:00      2   \n",
       "3                 0  64900000.0      159.00  2015-07-24T00:00:00      3   \n",
       "4                 2  10000000.0      100.00  2018-06-19T00:00:00      2   \n",
       "...             ...         ...         ...                  ...    ...   \n",
       "23694             9   9700000.0      133.81  2017-03-21T00:00:00      3   \n",
       "23695            14   3100000.0       59.00  2018-01-15T00:00:00      3   \n",
       "23696            18   2500000.0       56.70  2018-02-11T00:00:00      2   \n",
       "23697            13  11475000.0       76.75  2017-03-28T00:00:00      2   \n",
       "23698             4   1350000.0       32.30  2017-07-21T00:00:00      1   \n",
       "\n",
       "       ceiling_height  floors_total  living_area  floor is_apartment  studio  \\\n",
       "0                2.70          16.0         51.0      8          NaN   False   \n",
       "1                 NaN          11.0         18.6      1          NaN   False   \n",
       "2                 NaN           5.0         34.3      4          NaN   False   \n",
       "3                 NaN          14.0          NaN      9          NaN   False   \n",
       "4                3.03          14.0         32.0     13          NaN   False   \n",
       "...               ...           ...          ...    ...          ...     ...   \n",
       "23694            3.70           5.0         73.3      3          NaN   False   \n",
       "23695             NaN           5.0         38.0      4          NaN   False   \n",
       "23696             NaN           3.0         29.7      1          NaN   False   \n",
       "23697            3.00          17.0          NaN     12          NaN   False   \n",
       "23698            2.50           5.0         12.3      1          NaN   False   \n",
       "\n",
       "       open_plan  kitchen_area  balcony        locality_name  \\\n",
       "0          False         25.00      NaN      Санкт-Петербург   \n",
       "1          False         11.00      2.0       посёлок Шушары   \n",
       "2          False          8.30      0.0      Санкт-Петербург   \n",
       "3          False           NaN      0.0      Санкт-Петербург   \n",
       "4          False         41.00      NaN      Санкт-Петербург   \n",
       "...          ...           ...      ...                  ...   \n",
       "23694      False         13.83      NaN      Санкт-Петербург   \n",
       "23695      False          8.50      NaN                Тосно   \n",
       "23696      False           NaN      NaN     село Рождествено   \n",
       "23697      False         23.30      2.0      Санкт-Петербург   \n",
       "23698      False          9.00      NaN  поселок Новый Учхоз   \n",
       "\n",
       "       airports_nearest  cityCenters_nearest  parks_around3000  parks_nearest  \\\n",
       "0               18863.0              16028.0               1.0          482.0   \n",
       "1               12817.0              18603.0               0.0            NaN   \n",
       "2               21741.0              13933.0               1.0           90.0   \n",
       "3               28098.0               6800.0               2.0           84.0   \n",
       "4               31856.0               8098.0               2.0          112.0   \n",
       "...                 ...                  ...               ...            ...   \n",
       "23694           24665.0               4232.0               1.0          796.0   \n",
       "23695               NaN                  NaN               NaN            NaN   \n",
       "23696               NaN                  NaN               NaN            NaN   \n",
       "23697           39140.0              10364.0               2.0          173.0   \n",
       "23698               NaN                  NaN               NaN            NaN   \n",
       "\n",
       "       ponds_around3000  ponds_nearest  days_exposition  \n",
       "0                   2.0          755.0              NaN  \n",
       "1                   0.0            NaN             81.0  \n",
       "2                   2.0          574.0            558.0  \n",
       "3                   3.0          234.0            424.0  \n",
       "4                   1.0           48.0            121.0  \n",
       "...                 ...            ...              ...  \n",
       "23694               3.0          381.0              NaN  \n",
       "23695               NaN            NaN             45.0  \n",
       "23696               NaN            NaN              NaN  \n",
       "23697               3.0          196.0            602.0  \n",
       "23698               NaN            NaN              NaN  \n",
       "\n",
       "[23699 rows x 22 columns]"
      ]
     },
     "execution_count": 3,
     "metadata": {},
     "output_type": "execute_result"
    }
   ],
   "source": [
    "data = pd.read_csv(f'/datasets/real_estate_data.csv', sep='\\t')\n",
    "pd.set_option('display.max_columns', None)\n",
    "data"
   ]
  },
  {
   "cell_type": "code",
   "execution_count": 4,
   "metadata": {},
   "outputs": [
    {
     "name": "stdout",
     "output_type": "stream",
     "text": [
      "<class 'pandas.core.frame.DataFrame'>\n",
      "RangeIndex: 23699 entries, 0 to 23698\n",
      "Data columns (total 22 columns):\n",
      " #   Column                Non-Null Count  Dtype  \n",
      "---  ------                --------------  -----  \n",
      " 0   total_images          23699 non-null  int64  \n",
      " 1   last_price            23699 non-null  float64\n",
      " 2   total_area            23699 non-null  float64\n",
      " 3   first_day_exposition  23699 non-null  object \n",
      " 4   rooms                 23699 non-null  int64  \n",
      " 5   ceiling_height        14504 non-null  float64\n",
      " 6   floors_total          23613 non-null  float64\n",
      " 7   living_area           21796 non-null  float64\n",
      " 8   floor                 23699 non-null  int64  \n",
      " 9   is_apartment          2775 non-null   object \n",
      " 10  studio                23699 non-null  bool   \n",
      " 11  open_plan             23699 non-null  bool   \n",
      " 12  kitchen_area          21421 non-null  float64\n",
      " 13  balcony               12180 non-null  float64\n",
      " 14  locality_name         23650 non-null  object \n",
      " 15  airports_nearest      18157 non-null  float64\n",
      " 16  cityCenters_nearest   18180 non-null  float64\n",
      " 17  parks_around3000      18181 non-null  float64\n",
      " 18  parks_nearest         8079 non-null   float64\n",
      " 19  ponds_around3000      18181 non-null  float64\n",
      " 20  ponds_nearest         9110 non-null   float64\n",
      " 21  days_exposition       20518 non-null  float64\n",
      "dtypes: bool(2), float64(14), int64(3), object(3)\n",
      "memory usage: 3.7+ MB\n"
     ]
    }
   ],
   "source": [
    "data.info()"
   ]
  },
  {
   "cell_type": "code",
   "execution_count": 5,
   "metadata": {},
   "outputs": [
    {
     "data": {
      "image/png": "[encoded data removed]",
      "text/plain": [
       "<Figure size 1080x1440 with 20 Axes>"
      ]
     },
     "metadata": {
      "needs_background": "light"
     },
     "output_type": "display_data"
    }
   ],
   "source": [
    "data.hist(figsize=(15, 20), color='#12a184');"
   ]
  },
  {
   "cell_type": "markdown",
   "metadata": {},
   "source": [
    "С первого взгляда мы видим большое количество пропусков в данных, в столбце \"is_apartment\" в превью датафрейма нет ни одного заполненного значения. Также мы видим большое количество пропусков в столбцах: \"ceiling_height\", \"balcony\", \"city_centers_nearest\", \"parks_around3000\", \"parks_nearest\", \"ponds_around3000\", \"ponds_nearest\" и др.\n",
    "\n",
    "В информации о датафрейме, мы видим, что некоторые столбцы имеют некорректный тип данных, столбец \"cityCenters_nearest\" нуждается в переименовке, для приведения к единому стилю.\n",
    "\n",
    "Можно подвести итог, что прежде чем проводить аналитику данного датасета, предворительно следует сделать предобработку данных."
   ]
  },
  {
   "cell_type": "markdown",
   "metadata": {},
   "source": [
    "### Предобработка данных"
   ]
  },
  {
   "cell_type": "code",
   "execution_count": 6,
   "metadata": {},
   "outputs": [],
   "source": [
    "data = data.rename(columns= {'cityCenters_nearest' : 'city_centers_nearest' }) #переименуем колонку чтобы все было в едином стиле"
   ]
  },
  {
   "cell_type": "code",
   "execution_count": 7,
   "metadata": {},
   "outputs": [
    {
     "data": {
      "text/plain": [
       "total_images                0\n",
       "last_price                  0\n",
       "total_area                  0\n",
       "first_day_exposition        0\n",
       "rooms                       0\n",
       "ceiling_height           9195\n",
       "floors_total               86\n",
       "living_area              1903\n",
       "floor                       0\n",
       "is_apartment            20924\n",
       "studio                      0\n",
       "open_plan                   0\n",
       "kitchen_area             2278\n",
       "balcony                 11519\n",
       "locality_name              49\n",
       "airports_nearest         5542\n",
       "city_centers_nearest     5519\n",
       "parks_around3000         5518\n",
       "parks_nearest           15620\n",
       "ponds_around3000         5518\n",
       "ponds_nearest           14589\n",
       "days_exposition          3181\n",
       "dtype: int64"
      ]
     },
     "execution_count": 7,
     "metadata": {},
     "output_type": "execute_result"
    }
   ],
   "source": [
    "data.isna().sum() #определяем пропущенные значения"
   ]
  },
  {
   "cell_type": "markdown",
   "metadata": {},
   "source": [
    "---\n",
    "***Обработка пропущенных значений***"
   ]
  },
  {
   "cell_type": "markdown",
   "metadata": {},
   "source": [
    "Пропуски связанные с населённым пунктом проще всего заполнить строчкой \"неизвестно\", так как мы не можем знать, что за населенный пункт должен был быть указан."
   ]
  },
  {
   "cell_type": "code",
   "execution_count": 8,
   "metadata": {},
   "outputs": [],
   "source": [
    "data['locality_name'] = data['locality_name'].fillna('unknown') #название населённого пункта"
   ]
  },
  {
   "cell_type": "markdown",
   "metadata": {},
   "source": [
    "Пропуски в столбце \"высота потолков\" заменим на медианное значение."
   ]
  },
  {
   "cell_type": "code",
   "execution_count": 9,
   "metadata": {},
   "outputs": [],
   "source": [
    "data['ceiling_height'] = data['ceiling_height'].fillna(data['ceiling_height'].median()) #высота потолков (м)"
   ]
  },
  {
   "cell_type": "markdown",
   "metadata": {},
   "source": [
    "Пропуски связанные с количеством этажей в доме логичнее всего заполнить медианным значением по населенному пункту.\n"
   ]
  },
  {
   "cell_type": "code",
   "execution_count": 10,
   "metadata": {},
   "outputs": [],
   "source": [
    "data['floors_total'] = data['floors_total'].fillna(data['floor']) "
   ]
  },
  {
   "cell_type": "markdown",
   "metadata": {},
   "source": [
    "Пропуски в столбце \"апартаменты\" скорее всего связаны с тем, что поле не является обязательным для заполнения. Так как этот статус не влияет на качество жилья."
   ]
  },
  {
   "cell_type": "code",
   "execution_count": 11,
   "metadata": {},
   "outputs": [],
   "source": [
    "data['is_apartment'] = data['is_apartment'].fillna(False) #является ли площадь апартаментами"
   ]
  },
  {
   "cell_type": "markdown",
   "metadata": {},
   "source": [
    "Чтобы максимально точно заменить пропуски в столбце \"жилая площадь\" нам нужно найти отношение столбца \"жилой площади\" к \"общей площади\", а затем поделить \"общую площадь\" на медиану этих отношений по населенному пункту:"
   ]
  },
  {
   "cell_type": "code",
   "execution_count": 12,
   "metadata": {},
   "outputs": [],
   "source": [
    "area_data_slice = data[['living_area','total_area','locality_name']].copy() #создаем отдельный датафрейм с нужными столбцами\n",
    "\n",
    "area_data_slice['area_attitude'] = area_data_slice['living_area'] / area_data_slice['total_area'] #создаем столбец отношения жилой площади к общей площади\n",
    "\n",
    "for t in data['locality_name'].unique(): #заполним пропуски в столбце жилой площади, умножив общую площадь на медиану отношений этих площадей по населенному пункту\n",
    "    data.loc[(data['locality_name'] == t) & (data['living_area'].isna()), 'living_area'] = \\\n",
    "     data['total_area'].multiply(area_data_slice.loc[(area_data_slice['locality_name'] == t), 'area_attitude'].mean())   "
   ]
  },
  {
   "cell_type": "markdown",
   "metadata": {},
   "source": [
    "Аналогично поступим с площадью кухни:"
   ]
  },
  {
   "cell_type": "code",
   "execution_count": 13,
   "metadata": {},
   "outputs": [],
   "source": [
    "area_data_slice = data[['kitchen_area','total_area','locality_name']].copy() #создаем отдельный датафрейм с нужными столбцами\n",
    "\n",
    "area_data_slice['area_attitude'] = area_data_slice['kitchen_area'] / area_data_slice['total_area'] #создаем столбец отношения площади кухни к общей площади\n",
    "\n",
    "for t in data['locality_name'].unique(): #заполним пропуски в столбце площади кухни, умножив общую площадь на медиану отношений этих площадей по населенному пункту\n",
    "    data.loc[(data['locality_name'] == t) & (data['kitchen_area'].isna()), 'kitchen_area'] = \\\n",
    "     data['total_area'].multiply(area_data_slice.loc[(area_data_slice['locality_name'] == t), 'area_attitude'].mean())   "
   ]
  },
  {
   "cell_type": "markdown",
   "metadata": {},
   "source": [
    "Скорее всего пропуски в столбце \"наличие балкона\" говорит нам о том, что люди не указывают балкон так как в доме их нет. Поэтому заменим пропуски нулём."
   ]
  },
  {
   "cell_type": "code",
   "execution_count": 14,
   "metadata": {},
   "outputs": [],
   "source": [
    "data['balcony'] = data['balcony'].fillna(0) #наличие балкона"
   ]
  },
  {
   "cell_type": "code",
   "execution_count": 15,
   "metadata": {
    "scrolled": false
   },
   "outputs": [
    {
     "data": {
      "text/plain": [
       "total_images                0\n",
       "last_price                  0\n",
       "total_area                  0\n",
       "first_day_exposition        0\n",
       "rooms                       0\n",
       "ceiling_height              0\n",
       "floors_total                0\n",
       "living_area                17\n",
       "floor                       0\n",
       "is_apartment                0\n",
       "studio                      0\n",
       "open_plan                   0\n",
       "kitchen_area               19\n",
       "balcony                     0\n",
       "locality_name               0\n",
       "airports_nearest         5542\n",
       "city_centers_nearest     5519\n",
       "parks_around3000         5518\n",
       "parks_nearest           15620\n",
       "ponds_around3000         5518\n",
       "ponds_nearest           14589\n",
       "days_exposition          3181\n",
       "dtype: int64"
      ]
     },
     "execution_count": 15,
     "metadata": {},
     "output_type": "execute_result"
    }
   ],
   "source": [
    "data.isna().sum() #смотрим результат работы"
   ]
  },
  {
   "cell_type": "markdown",
   "metadata": {},
   "source": [
    "---\n",
    "***Изменены типы данных***"
   ]
  },
  {
   "cell_type": "code",
   "execution_count": 16,
   "metadata": {},
   "outputs": [
    {
     "data": {
      "text/plain": [
       "total_images              int64\n",
       "last_price              float64\n",
       "total_area              float64\n",
       "first_day_exposition     object\n",
       "rooms                     int64\n",
       "ceiling_height          float64\n",
       "floors_total            float64\n",
       "living_area             float64\n",
       "floor                     int64\n",
       "is_apartment               bool\n",
       "studio                     bool\n",
       "open_plan                  bool\n",
       "kitchen_area            float64\n",
       "balcony                 float64\n",
       "locality_name            object\n",
       "airports_nearest        float64\n",
       "city_centers_nearest    float64\n",
       "parks_around3000        float64\n",
       "parks_nearest           float64\n",
       "ponds_around3000        float64\n",
       "ponds_nearest           float64\n",
       "days_exposition         float64\n",
       "dtype: object"
      ]
     },
     "execution_count": 16,
     "metadata": {},
     "output_type": "execute_result"
    }
   ],
   "source": [
    "data.dtypes #посмотрим типы всех столбцов"
   ]
  },
  {
   "cell_type": "markdown",
   "metadata": {},
   "source": [
    "Для того чтобы привести код в аккуртный вид чтобы нам было с ним удобнее работать, нужно изменить типы столбцов на надлежащее ему. Например чтобы проще было проводить расчеты со временем, нужно привести стобец c датой в тип 'date_time'. Количество этажей является всегда целым числом, поэтому этот столбец приведём к 'int', и точно также поступим с количеством балконов."
   ]
  },
  {
   "cell_type": "code",
   "execution_count": 17,
   "metadata": {},
   "outputs": [
    {
     "data": {
      "text/plain": [
       "0       2019-03-07\n",
       "1       2018-12-04\n",
       "2       2015-08-20\n",
       "3       2015-07-24\n",
       "4       2018-06-19\n",
       "           ...    \n",
       "23694   2017-03-21\n",
       "23695   2018-01-15\n",
       "23696   2018-02-11\n",
       "23697   2017-03-28\n",
       "23698   2017-07-21\n",
       "Name: first_day_exposition, Length: 23699, dtype: datetime64[ns]"
      ]
     },
     "execution_count": 17,
     "metadata": {},
     "output_type": "execute_result"
    }
   ],
   "source": [
    "data['first_day_exposition'] = pd.to_datetime(data['first_day_exposition'], format='%Y-%m-%dT%H:%M:%S') #приводим время к типу datetime\n",
    "data['floors_total'] = data['floors_total'].astype('int') #приводим количество этажей к типу int т.к. это будет целое число\n",
    "data['balcony'] = data['balcony'].astype('int')  #приводим количество балконов к типу int т.к. это будет целое число\n",
    "data['first_day_exposition']"
   ]
  },
  {
   "cell_type": "markdown",
   "metadata": {},
   "source": [
    "---\n",
    "Устранены неявные дубликаты в названиях населённых пунктов"
   ]
  },
  {
   "cell_type": "code",
   "execution_count": 1,
   "metadata": {},
   "outputs": [
    {
     "ename": "NameError",
     "evalue": "name 'data' is not defined",
     "output_type": "error",
     "traceback": [
      "\u001b[0;31m---------------------------------------------------------------------------\u001b[0m",
      "\u001b[0;31mNameError\u001b[0m                                 Traceback (most recent call last)",
      "\u001b[0;32m/tmp/ipykernel_72/1609130409.py\u001b[0m in \u001b[0;36m<module>\u001b[0;34m\u001b[0m\n\u001b[0;32m----> 1\u001b[0;31m \u001b[0mdata\u001b[0m\u001b[0;34m[\u001b[0m\u001b[0;34m'locality_name'\u001b[0m\u001b[0;34m]\u001b[0m \u001b[0;34m=\u001b[0m \u001b[0mdata\u001b[0m\u001b[0;34m[\u001b[0m\u001b[0;34m'locality_name'\u001b[0m\u001b[0;34m]\u001b[0m\u001b[0;34m.\u001b[0m\u001b[0mstr\u001b[0m\u001b[0;34m.\u001b[0m\u001b[0mlower\u001b[0m\u001b[0;34m(\u001b[0m\u001b[0;34m)\u001b[0m \u001b[0;31m#приведём строчки к нижниму регистру\u001b[0m\u001b[0;34m\u001b[0m\u001b[0;34m\u001b[0m\u001b[0m\n\u001b[0m\u001b[1;32m      2\u001b[0m \u001b[0mdata\u001b[0m\u001b[0;34m[\u001b[0m\u001b[0;34m'locality_name'\u001b[0m\u001b[0;34m]\u001b[0m \u001b[0;34m=\u001b[0m \u001b[0mdata\u001b[0m\u001b[0;34m[\u001b[0m\u001b[0;34m'locality_name'\u001b[0m\u001b[0;34m]\u001b[0m\u001b[0;34m.\u001b[0m\u001b[0mstr\u001b[0m\u001b[0;34m.\u001b[0m\u001b[0mreplace\u001b[0m\u001b[0;34m(\u001b[0m\u001b[0;34m'ё'\u001b[0m\u001b[0;34m,\u001b[0m\u001b[0;34m'е'\u001b[0m\u001b[0;34m)\u001b[0m \u001b[0;31m#заменим все ё на е для того чтобы в дальнейшем нам было удобно работать со строками\u001b[0m\u001b[0;34m\u001b[0m\u001b[0;34m\u001b[0m\u001b[0m\n\u001b[1;32m      3\u001b[0m \u001b[0mdata\u001b[0m\u001b[0;34m[\u001b[0m\u001b[0;34m'locality_name'\u001b[0m\u001b[0;34m]\u001b[0m \u001b[0;34m=\u001b[0m \u001b[0mdata\u001b[0m\u001b[0;34m[\u001b[0m\u001b[0;34m'locality_name'\u001b[0m\u001b[0;34m]\u001b[0m\u001b[0;34m.\u001b[0m\u001b[0mstr\u001b[0m\u001b[0;34m.\u001b[0m\u001b[0mreplace\u001b[0m\u001b[0;34m(\u001b[0m\u001b[0;34m'поселок городского типа '\u001b[0m\u001b[0;34m,\u001b[0m \u001b[0;34m''\u001b[0m\u001b[0;34m)\u001b[0m\u001b[0;34m\u001b[0m\u001b[0;34m\u001b[0m\u001b[0m\n\u001b[1;32m      4\u001b[0m \u001b[0mdata\u001b[0m\u001b[0;34m[\u001b[0m\u001b[0;34m'locality_name'\u001b[0m\u001b[0;34m]\u001b[0m \u001b[0;34m=\u001b[0m \u001b[0mdata\u001b[0m\u001b[0;34m[\u001b[0m\u001b[0;34m'locality_name'\u001b[0m\u001b[0;34m]\u001b[0m\u001b[0;34m.\u001b[0m\u001b[0mstr\u001b[0m\u001b[0;34m.\u001b[0m\u001b[0mreplace\u001b[0m\u001b[0;34m(\u001b[0m\u001b[0;34m'поселок '\u001b[0m\u001b[0;34m,\u001b[0m \u001b[0;34m''\u001b[0m\u001b[0;34m)\u001b[0m\u001b[0;34m\u001b[0m\u001b[0;34m\u001b[0m\u001b[0m\n\u001b[1;32m      5\u001b[0m \u001b[0mdata\u001b[0m\u001b[0;34m[\u001b[0m\u001b[0;34m'locality_name'\u001b[0m\u001b[0;34m]\u001b[0m \u001b[0;34m=\u001b[0m \u001b[0mdata\u001b[0m\u001b[0;34m[\u001b[0m\u001b[0;34m'locality_name'\u001b[0m\u001b[0;34m]\u001b[0m\u001b[0;34m.\u001b[0m\u001b[0mstr\u001b[0m\u001b[0;34m.\u001b[0m\u001b[0mreplace\u001b[0m\u001b[0;34m(\u001b[0m\u001b[0;34m'коттеджный поселок '\u001b[0m\u001b[0;34m,\u001b[0m \u001b[0;34m''\u001b[0m\u001b[0;34m)\u001b[0m\u001b[0;34m\u001b[0m\u001b[0;34m\u001b[0m\u001b[0m\n",
      "\u001b[0;31mNameError\u001b[0m: name 'data' is not defined"
     ]
    }
   ],
   "source": [
    "data['locality_name'] = data['locality_name'].str.lower() #приведём строчки к нижниму регистру\n",
    "data['locality_name'] = data['locality_name'].str.replace('ё','е') #заменим все ё на е для того чтобы в дальнейшем нам было удобно работать со строками\n",
    "data['locality_name'] = data['locality_name'].str.replace('поселок городского типа ', '')\n",
    "data['locality_name'] = data['locality_name'].str.replace('поселок ', '')\n",
    "data['locality_name'] = data['locality_name'].str.replace('коттеджный поселок ', '')\n",
    "data['locality_name'] = data['locality_name'].str.replace('село ', '')\n",
    "data['locality_name'] = data['locality_name'].str.replace('деревня ', '') #также уберём все ненужные нам слова в строках, чтобы оставить только названия\n",
    "\n",
    "data['locality_name'].unique()"
   ]
  },
  {
   "cell_type": "markdown",
   "metadata": {},
   "source": [
    "Таким образом мы получили чистый список в которых остались лишь названия. Это даёт нам то, что \"поселок мурино\" и \"поселок городского типа мурино\" слились в одну ячейку и таким образом данные не дублируются."
   ]
  },
  {
   "cell_type": "markdown",
   "metadata": {},
   "source": [
    "---\n",
    "***Устраняем редкие и выбивающиеся значения (аномалии)***"
   ]
  },
  {
   "cell_type": "markdown",
   "metadata": {},
   "source": [
    "Возвращаемся к столбцу \"высота потолков\". Как я уже говорила ранее, там где значения слишком большие, скорее всего люди по случайности неправильно поставили точку. Чтобы решить эту проблему разделим слишком большие числа на 10, чтобы получить корректное значение.\n",
    "Также есть и аномально низкие проставленные значения. Их природа не очень понятна, поэтому чтобы приблизиться к правде, можем просто добавить к слишком маленьким значениям +1."
   ]
  },
  {
   "cell_type": "code",
   "execution_count": 54,
   "metadata": {},
   "outputs": [
    {
     "data": {
      "text/plain": [
       "array([2.7 , 2.65, 3.03, 2.5 , 2.67, 2.56, 3.05, 2.75, 2.6 , 2.9 , 2.8 ,\n",
       "       2.55, 3.  , 3.2 , 2.61, 3.25, 3.45, 2.77, 2.85, 2.64, 2.57, 4.15,\n",
       "       3.5 , 3.3 , 2.71, 4.  , 2.47, 2.73, 2.84, 3.1 , 2.34, 3.4 , 3.06,\n",
       "       2.72, 2.54, 2.51, 2.78, 2.76, 2.58, 3.7 , 2.52, 5.2 , 2.87, 2.66,\n",
       "       2.59, 2.  , 2.45, 3.6 , 2.92, 3.11, 3.13, 3.8 , 3.15, 3.55, 3.16,\n",
       "       3.62, 3.12, 2.53, 2.74, 2.96, 2.46, 5.3 , 5.  , 2.79, 2.95, 4.06,\n",
       "       2.94, 3.82, 3.54, 3.53, 2.83, 4.7 , 2.4 , 3.38, 3.01, 5.6 , 3.65,\n",
       "       3.9 , 3.18, 3.35, 2.3 , 3.57, 2.48, 2.62, 2.82, 3.98, 2.63, 3.83,\n",
       "       3.52, 3.95, 3.75, 2.88, 3.67, 3.87, 3.66, 3.85, 3.86, 4.19, 3.24,\n",
       "       4.8 , 4.5 , 4.2 , 3.36, 3.08, 3.68, 3.07, 3.37, 3.09, 8.  , 3.26,\n",
       "       3.34, 2.81, 3.44, 2.97, 3.14, 4.37, 2.68, 3.22, 3.27, 4.1 , 2.93,\n",
       "       3.46, 3.47, 3.33, 3.63, 3.32, 2.2 , 1.83, 2.98, 2.86, 3.17, 4.4 ,\n",
       "       3.28, 3.04, 4.45, 5.5 , 3.84, 3.23, 3.02, 3.21, 3.43, 3.78, 4.3 ,\n",
       "       3.39, 2.69, 3.31, 4.65, 3.56, 3.51, 3.93, 3.42, 2.99, 3.49, 4.14,\n",
       "       2.91, 3.88, 1.75, 4.25, 3.29, 2.25, 3.76, 3.69, 6.  , 2.26, 2.89,\n",
       "       3.58, 5.8 , 2.49, 4.9 , 3.48, 2.03, 3.59])"
      ]
     },
     "execution_count": 54,
     "metadata": {},
     "output_type": "execute_result"
    }
   ],
   "source": [
    "data.loc[data['ceiling_height'] > 8, 'ceiling_height'] /= 10 #высота потолков (м)\n",
    "data.loc[data['ceiling_height'] < 1.5, 'ceiling_height'] += 1\n",
    "data['ceiling_height'].unique()"
   ]
  },
  {
   "cell_type": "markdown",
   "metadata": {},
   "source": [
    "Заменим слишком маленькие значения в размерах жилой комнаты на медианные, и если жилая площадь больше общей то заменим на медианное значение по населенному пункту"
   ]
  },
  {
   "cell_type": "code",
   "execution_count": 20,
   "metadata": {},
   "outputs": [],
   "source": [
    "for t in data['locality_name'].unique():\n",
    "    data.loc[(data['locality_name'] == t) & ((data['living_area'] < 15) | (data['living_area'] > data['total_area'])), 'living_area'] = \\\n",
    "    data.loc[(data['locality_name'] == t), 'living_area'].mean() "
   ]
  },
  {
   "cell_type": "markdown",
   "metadata": {},
   "source": [
    "Уберём недвижимость со слишком большой площадью, заменим такие значения на медианные:"
   ]
  },
  {
   "cell_type": "code",
   "execution_count": 21,
   "metadata": {},
   "outputs": [
    {
     "data": {
      "text/plain": [
       "590.0"
      ]
     },
     "execution_count": 21,
     "metadata": {},
     "output_type": "execute_result"
    }
   ],
   "source": [
    "for t in data['locality_name'].unique():\n",
    "    data.loc[(data['locality_name'] == t) & (data['total_area'] > 600), 'total_area'] = \\\n",
    "    data.loc[(data['locality_name'] == t), 'total_area'].median() \n",
    "data['total_area'].unique().max()"
   ]
  },
  {
   "cell_type": "markdown",
   "metadata": {},
   "source": [
    "Посчитаем средний метраж комнат по разным городам, и сравним количество комнат в объявлениях  с их площадью и скорректируем аномальные значения в стобце \"количество комнат\""
   ]
  },
  {
   "cell_type": "code",
   "execution_count": 22,
   "metadata": {},
   "outputs": [
    {
     "data": {
      "text/plain": [
       "array([ 3.,  1.,  2.,  4.,  5.,  6.,  0.,  7.,  8., 14., 10., 15.,  9.,\n",
       "       12.])"
      ]
     },
     "execution_count": 22,
     "metadata": {},
     "output_type": "execute_result"
    }
   ],
   "source": [
    "rooms_area_attitude_by_locality_name = {}\n",
    "\n",
    "for t in data['locality_name'].unique(): # создали список со среднем метражем комнат по населенным пунктам в зависимости от общей площади\n",
    "    rooms_area_attitude_by_locality_name[t] = (data.loc[data['locality_name'] == t , 'total_area'] / data.loc[data['locality_name'] == t, 'rooms']).median()\n",
    "\n",
    "for t in data['locality_name'].unique(): # заменили сильно отличающиеся по критерию (общая площадь \\ количество комнат)\n",
    "    data.loc[(data['locality_name'] == t) & \\\n",
    "             (data['total_area'].div(data['rooms']) < (rooms_area_attitude_by_locality_name[t] * 0.7)), 'rooms'] = (data['total_area'].div(rooms_area_attitude_by_locality_name[t]))\n",
    "\n",
    "rooms_area_attitude_by_locality_name #средний метраж комнат по городам и населенным пунктам\n",
    "data['rooms'] = data['rooms'].round() #округление количества комнат\n",
    "data['rooms'].unique()"
   ]
  },
  {
   "cell_type": "markdown",
   "metadata": {},
   "source": [
    "### Посчитайте и добавьте в таблицу новые столбцы"
   ]
  },
  {
   "cell_type": "code",
   "execution_count": 23,
   "metadata": {},
   "outputs": [
    {
     "data": {
      "text/plain": [
       "0        120370.370370\n",
       "1         82920.792079\n",
       "2         92785.714286\n",
       "3        408176.100629\n",
       "4        100000.000000\n",
       "             ...      \n",
       "23694     72490.845228\n",
       "23695     52542.372881\n",
       "23696     44091.710758\n",
       "23697    149511.400651\n",
       "23698     41795.665635\n",
       "Name: square_meter_price, Length: 23699, dtype: float64"
      ]
     },
     "execution_count": 23,
     "metadata": {},
     "output_type": "execute_result"
    }
   ],
   "source": [
    "# цена одного квадратного метра\n",
    "data['square_meter_price'] = data['last_price'] / data['total_area']\n",
    "data['square_meter_price']"
   ]
  },
  {
   "cell_type": "code",
   "execution_count": 24,
   "metadata": {},
   "outputs": [
    {
     "data": {
      "text/plain": [
       "0        3\n",
       "1        1\n",
       "2        3\n",
       "3        4\n",
       "4        1\n",
       "        ..\n",
       "23694    1\n",
       "23695    0\n",
       "23696    6\n",
       "23697    1\n",
       "23698    4\n",
       "Name: publication_day, Length: 23699, dtype: int64"
      ]
     },
     "execution_count": 24,
     "metadata": {},
     "output_type": "execute_result"
    }
   ],
   "source": [
    "#день недели публикации объявления (0 — понедельник, 1 — вторник и так далее)\n",
    "data['publication_day'] = data['first_day_exposition'].dt.dayofweek\n",
    "data['publication_day']"
   ]
  },
  {
   "cell_type": "code",
   "execution_count": 25,
   "metadata": {},
   "outputs": [
    {
     "data": {
      "text/plain": [
       "0         3\n",
       "1        12\n",
       "2         8\n",
       "3         7\n",
       "4         6\n",
       "         ..\n",
       "23694     3\n",
       "23695     1\n",
       "23696     2\n",
       "23697     3\n",
       "23698     7\n",
       "Name: publication_month, Length: 23699, dtype: int64"
      ]
     },
     "execution_count": 25,
     "metadata": {},
     "output_type": "execute_result"
    }
   ],
   "source": [
    "#месяц публикации объявления\n",
    "data['publication_month'] = data['first_day_exposition'].dt.month\n",
    "data['publication_month']"
   ]
  },
  {
   "cell_type": "code",
   "execution_count": 26,
   "metadata": {},
   "outputs": [
    {
     "data": {
      "text/plain": [
       "0        2019\n",
       "1        2018\n",
       "2        2015\n",
       "3        2015\n",
       "4        2018\n",
       "         ... \n",
       "23694    2017\n",
       "23695    2018\n",
       "23696    2018\n",
       "23697    2017\n",
       "23698    2017\n",
       "Name: publication_year, Length: 23699, dtype: int64"
      ]
     },
     "execution_count": 26,
     "metadata": {},
     "output_type": "execute_result"
    }
   ],
   "source": [
    "#год публикации объявления\n",
    "data['publication_year'] = data['first_day_exposition'].dt.year\n",
    "data['publication_year']"
   ]
  },
  {
   "cell_type": "code",
   "execution_count": 27,
   "metadata": {},
   "outputs": [
    {
     "data": {
      "text/plain": [
       "array(['другой', 'первый', 'последний'], dtype=object)"
      ]
     },
     "execution_count": 27,
     "metadata": {},
     "output_type": "execute_result"
    }
   ],
   "source": [
    "#тип этажа квартиры (значения — «первый», «последний», «другой»)\n",
    "data['floor_type'] = 'другой'\n",
    "data.loc[data['floor'] == data['floors_total'], 'floor_type'] = 'последний'\n",
    "data.loc[data['floor'] == 1, 'floor_type'] = 'первый'\n",
    "data['floor_type'].unique()"
   ]
  },
  {
   "cell_type": "code",
   "execution_count": 28,
   "metadata": {},
   "outputs": [
    {
     "data": {
      "text/plain": [
       "0        16.0\n",
       "1        19.0\n",
       "2        14.0\n",
       "3         7.0\n",
       "4         8.0\n",
       "         ... \n",
       "23694     4.0\n",
       "23695    13.0\n",
       "23696    13.0\n",
       "23697    10.0\n",
       "23698    13.0\n",
       "Name: city_centers_nearest_km, Length: 23699, dtype: float64"
      ]
     },
     "execution_count": 28,
     "metadata": {},
     "output_type": "execute_result"
    }
   ],
   "source": [
    "#расстояние до центра города в километрах (переведите из м в км и округлите до целых значений)\n",
    "data['city_centers_nearest_km'] = data['city_centers_nearest'].div(1000).round()\n",
    "data['city_centers_nearest_km'].fillna(data['city_centers_nearest_km'].median())"
   ]
  },
  {
   "cell_type": "markdown",
   "metadata": {},
   "source": [
    "### Проведите исследовательский анализ данных"
   ]
  },
  {
   "cell_type": "markdown",
   "metadata": {},
   "source": [
    "---\n",
    "***Постройте отдельные гистограммы для каждого из параметров.***"
   ]
  },
  {
   "cell_type": "markdown",
   "metadata": {},
   "source": [
    "По графику мы можем увидеть распределение площадей в квартире/доме. Сразу бросается в глаза распределенее площади кухни, во многих квартирах кухня примерно одинаковый величины, в районе 15-20 кв. метров."
   ]
  },
  {
   "cell_type": "code",
   "execution_count": 29,
   "metadata": {},
   "outputs": [
    {
     "data": {
      "text/plain": [
       "<AxesSubplot:>"
      ]
     },
     "execution_count": 29,
     "metadata": {},
     "output_type": "execute_result"
    },
    {
     "data": {
      "image/png": "[encoded data removed]",
      "text/plain": [
       "<Figure size 720x432 with 1 Axes>"
      ]
     },
     "metadata": {
      "needs_background": "light"
     },
     "output_type": "display_data"
    }
   ],
   "source": [
    "data['total_area'].hist( bins=100, range=(0, 300), figsize=(10,6), alpha=0.6, legend=True) #общая площадь\n",
    "data['living_area'].hist(bins=100, range=(0, 300), figsize=(10,6), alpha=0.6,legend=True) #жилая площадь\n",
    "data['kitchen_area'].hist(bins=100, range=(0, 300), figsize=(10,6), alpha=0.6,legend=True, color='#12a184') #площадь кухни"
   ]
  },
  {
   "cell_type": "markdown",
   "metadata": {},
   "source": [
    "По графику мы можем наблюдать, обратно логорифмическую зависимость количества объявлений и стоимости объявлений. Дешевых объявлений больше!!!"
   ]
  },
  {
   "cell_type": "code",
   "execution_count": 30,
   "metadata": {},
   "outputs": [
    {
     "data": {
      "text/plain": [
       "<AxesSubplot:>"
      ]
     },
     "execution_count": 30,
     "metadata": {},
     "output_type": "execute_result"
    },
    {
     "data": {
      "image/png": "[encoded data removed]",
      "text/plain": [
       "<Figure size 720x432 with 1 Axes>"
      ]
     },
     "metadata": {
      "needs_background": "light"
     },
     "output_type": "display_data"
    }
   ],
   "source": [
    "#к этому графику я применила параметр лог для того чтобы сделать логорифмический масштаб оси стоимости квартир\n",
    "data['last_price'].div(1000000).hist(figsize=(10,6), color='#12a184', bins=100, log=True)"
   ]
  },
  {
   "cell_type": "markdown",
   "metadata": {},
   "source": [
    "Больше всего объявленй в диапозоне от 1 до 3 комнат."
   ]
  },
  {
   "cell_type": "code",
   "execution_count": 31,
   "metadata": {},
   "outputs": [
    {
     "data": {
      "text/plain": [
       "<AxesSubplot:>"
      ]
     },
     "execution_count": 31,
     "metadata": {},
     "output_type": "execute_result"
    },
    {
     "data": {
      "image/png": "[encoded data removed]",
      "text/plain": [
       "<Figure size 720x432 with 1 Axes>"
      ]
     },
     "metadata": {
      "needs_background": "light"
     },
     "output_type": "display_data"
    }
   ],
   "source": [
    "data['rooms'].hist(bins=15,figsize=(10,6), color='#12a184',legend=True)"
   ]
  },
  {
   "cell_type": "markdown",
   "metadata": {},
   "source": [
    "Самая распространенная высота потолков 2.7 метров."
   ]
  },
  {
   "cell_type": "code",
   "execution_count": 32,
   "metadata": {},
   "outputs": [
    {
     "data": {
      "text/plain": [
       "<AxesSubplot:>"
      ]
     },
     "execution_count": 32,
     "metadata": {},
     "output_type": "execute_result"
    },
    {
     "data": {
      "image/png": "[encoded data removed]",
      "text/plain": [
       "<Figure size 720x432 with 1 Axes>"
      ]
     },
     "metadata": {
      "needs_background": "light"
     },
     "output_type": "display_data"
    }
   ],
   "source": [
    "data['ceiling_height'].hist(bins=10,figsize=(10,6), color='#12a184',legend=True)"
   ]
  },
  {
   "cell_type": "markdown",
   "metadata": {},
   "source": [
    "Много предложений покупки недвижимости в малоэтажной застройке. Это напрямую связано с текущей этажностью рынка жилья. На графике мы видим зависимость этажа квартиры из объявления и этажности домов в населенных пунктах"
   ]
  },
  {
   "cell_type": "code",
   "execution_count": 33,
   "metadata": {},
   "outputs": [
    {
     "data": {
      "text/plain": [
       "<AxesSubplot:>"
      ]
     },
     "execution_count": 33,
     "metadata": {},
     "output_type": "execute_result"
    },
    {
     "data": {
      "image/png": "[encoded data removed]",
      "text/plain": [
       "<Figure size 720x432 with 1 Axes>"
      ]
     },
     "metadata": {
      "needs_background": "light"
     },
     "output_type": "display_data"
    }
   ],
   "source": [
    "data['floor'].hist(bins=33, figsize=(10,6), alpha=0.6,legend=True, color='#12a184')\n",
    "data['floors_total'].hist(bins=36, figsize=(10,6),alpha=0.6, legend=True)"
   ]
  },
  {
   "cell_type": "markdown",
   "metadata": {},
   "source": [
    "На графике мы видим распределение предложений по этажам. На первом и последнем этаже меньше всего предложений по понятной причине, общую часть рынка занимают предложения с остальными этажами."
   ]
  },
  {
   "cell_type": "code",
   "execution_count": 34,
   "metadata": {},
   "outputs": [
    {
     "data": {
      "text/plain": [
       "<AxesSubplot:>"
      ]
     },
     "execution_count": 34,
     "metadata": {},
     "output_type": "execute_result"
    },
    {
     "data": {
      "image/png": "[encoded data removed]",
      "text/plain": [
       "<Figure size 720x360 with 1 Axes>"
      ]
     },
     "metadata": {
      "needs_background": "light"
     },
     "output_type": "display_data"
    }
   ],
   "source": [
    "data['floor_type'].hist(bins=3, figsize=(10,5), color='#12a184')"
   ]
  },
  {
   "cell_type": "markdown",
   "metadata": {},
   "source": [
    "Большую часть значений в этих столбцах, нам не удалось восстановить, поэтому график не может отражать достоверные данные. Но из тех данных, что у нас есть, мы можем сказать, что в каком населенном пункте мы бы не находились, парк находится в относительной близости, что не скажешь об аэропортах. Из некоторых точек придётся приодалеть расстояние аж 80км."
   ]
  },
  {
   "cell_type": "code",
   "execution_count": 35,
   "metadata": {},
   "outputs": [
    {
     "data": {
      "text/plain": [
       "<AxesSubplot:>"
      ]
     },
     "execution_count": 35,
     "metadata": {},
     "output_type": "execute_result"
    },
    {
     "data": {
      "image/png": "[encoded data removed]",
      "text/plain": [
       "<Figure size 720x432 with 1 Axes>"
      ]
     },
     "metadata": {
      "needs_background": "light"
     },
     "output_type": "display_data"
    }
   ],
   "source": [
    "data['city_centers_nearest'].hist(bins=100,figsize=(10,6), alpha=0.6,legend=True, log=True)#расстояние до центра\n",
    "data['airports_nearest'].hist(bins=100,figsize=(10,6), alpha=0.6,legend=True, log=True, color='#12a184')#расстояние до аэропопта\n",
    "data['parks_nearest'].hist(bins=100,figsize=(10,6), alpha=0.6,legend=True, log=True)#расстояние до парка"
   ]
  },
  {
   "cell_type": "markdown",
   "metadata": {},
   "source": [
    "По первому мы четко видим, то что чаще публикаются объявления в будние дни. Можно сделать предположение, что это связано с рабочим графиком риэлтора который занимается размещением объявлений. \n",
    "\n",
    "По второму графику мы видим, что чаще всего публикуются объявления с февраля по апрель, затем идёт резкий спад, а затем равномерный рост."
   ]
  },
  {
   "cell_type": "code",
   "execution_count": 36,
   "metadata": {},
   "outputs": [
    {
     "data": {
      "text/plain": [
       "Text(0.5, 0, 'месяц в году')"
      ]
     },
     "execution_count": 36,
     "metadata": {},
     "output_type": "execute_result"
    },
    {
     "data": {
      "image/png": "[encoded data removed]",
      "text/plain": [
       "<Figure size 864x288 with 2 Axes>"
      ]
     },
     "metadata": {
      "needs_background": "light"
     },
     "output_type": "display_data"
    }
   ],
   "source": [
    "fig, axes = plt.subplots(1,2, figsize=(12, 4))\n",
    "\n",
    "data.hist('publication_day',bins=7, ax=axes[0],color='#12a184',legend=True)#день публикации\n",
    "data.hist('publication_month',bins=12, ax=axes[1],color='#12a184',legend=True) #месяц публикации\n",
    "\n",
    "axes[0].set_title('День публикации') \n",
    "axes[1].set_title('Месяц публикации') \n",
    "\n",
    "axes[0].set_ylabel('количество объявлений')\n",
    "axes[0].set_xlabel('день недели')\n",
    "\n",
    "axes[1].set_ylabel('количество объявлений')\n",
    "axes[1].set_xlabel('месяц в году')"
   ]
  },
  {
   "cell_type": "markdown",
   "metadata": {},
   "source": [
    "---\n",
    "***Изучите, как быстро продавались квартиры***"
   ]
  },
  {
   "cell_type": "code",
   "execution_count": 37,
   "metadata": {},
   "outputs": [
    {
     "data": {
      "text/plain": [
       "<AxesSubplot:>"
      ]
     },
     "execution_count": 37,
     "metadata": {},
     "output_type": "execute_result"
    },
    {
     "data": {
      "image/png": "[encoded data removed]",
      "text/plain": [
       "<Figure size 720x360 with 1 Axes>"
      ]
     },
     "metadata": {
      "needs_background": "light"
     },
     "output_type": "display_data"
    }
   ],
   "source": [
    "data['days_exposition'].hist(bins=30, figsize=(10,5), color='#12a184') #построим гистрограмму"
   ]
  },
  {
   "cell_type": "code",
   "execution_count": 38,
   "metadata": {},
   "outputs": [
    {
     "name": "stdout",
     "output_type": "stream",
     "text": [
      "среднее значение: 180.88863436982163\n",
      "медианное значение: 95.0\n"
     ]
    }
   ],
   "source": [
    "print('среднее значение:', data['days_exposition'].mean()) #посчитаем среднее\n",
    "print('медианное значение:',data['days_exposition'].median()) #посчитаем медиану"
   ]
  },
  {
   "cell_type": "markdown",
   "metadata": {},
   "source": [
    "Сделаем гипотезу:\n",
    "\n",
    "Продажа недвижимости чаще всего происходит в первое время после публикации объявления, также наблюдается обратная зависимость частоты продаж с течением времени"
   ]
  },
  {
   "cell_type": "code",
   "execution_count": 39,
   "metadata": {},
   "outputs": [
    {
     "data": {
      "text/plain": [
       "<AxesSubplot:>"
      ]
     },
     "execution_count": 39,
     "metadata": {},
     "output_type": "execute_result"
    },
    {
     "data": {
      "image/png": "[encoded data removed]",
      "text/plain": [
       "<Figure size 360x720 with 1 Axes>"
      ]
     },
     "metadata": {
      "needs_background": "light"
     },
     "output_type": "display_data"
    }
   ],
   "source": [
    "data.boxplot('days_exposition', figsize=(5,10))"
   ]
  },
  {
   "cell_type": "markdown",
   "metadata": {},
   "source": [
    "По данной диаграмме размаха мы видим что начиная с 450 дня наблюдается диапозон редких значений. Чтобы сделать более точные выводы по данным, их нужно отфильтровать"
   ]
  },
  {
   "cell_type": "code",
   "execution_count": 40,
   "metadata": {},
   "outputs": [
    {
     "data": {
      "text/plain": [
       "<AxesSubplot:>"
      ]
     },
     "execution_count": 40,
     "metadata": {},
     "output_type": "execute_result"
    },
    {
     "data": {
      "image/png": "[encoded data removed]",
      "text/plain": [
       "<Figure size 1152x360 with 2 Axes>"
      ]
     },
     "metadata": {
      "needs_background": "light"
     },
     "output_type": "display_data"
    }
   ],
   "source": [
    "data_filter=data.query('days_exposition < 285') #подберем query gate для фильтрации - это позволит нам провести более четкй анализ\n",
    "fig, axes = plt.subplots(1,2, figsize=(16, 5))\n",
    "data_filter.hist('days_exposition',bins=30,ax=axes[0], color='#12a184') #построим гистрограмму\n",
    "data_filter.boxplot('days_exposition',ax=axes[1])"
   ]
  },
  {
   "cell_type": "markdown",
   "metadata": {},
   "source": [
    "По диаграмме размаха мы можем увидеть, что объявления которые провисели на сайте 285 дней и более являются выбросами, и могут искажать данные. \n",
    "Гипотеза подтверждена, продажи чаще происходят в первое время после публикации. Также можно сделать утверждение, что объявления переходящие за черту 285 дней не соответствуют запросам рынка."
   ]
  },
  {
   "cell_type": "markdown",
   "metadata": {},
   "source": [
    "---\n",
    "***Какие факторы больше всего влияют на общую (полную) стоимость объекта?***"
   ]
  },
  {
   "cell_type": "code",
   "execution_count": 41,
   "metadata": {
    "scrolled": true
   },
   "outputs": [
    {
     "data": {
      "text/plain": [
       "last_price           1.000000\n",
       "total_area           0.597799\n",
       "living_area          0.587123\n",
       "kitchen_area         0.515936\n",
       "rooms                0.373076\n",
       "floor                0.026576\n",
       "publication_day      0.001550\n",
       "publication_month    0.002779\n",
       "publication_year    -0.043089\n",
       "Name: last_price, dtype: float64"
      ]
     },
     "execution_count": 41,
     "metadata": {},
     "output_type": "execute_result"
    }
   ],
   "source": [
    "#создадим переменую с корелляцией столбоц которые нас интерисует\n",
    "corr_data = data[['last_price','locality_name','total_area','living_area', 'kitchen_area','rooms', 'floor', 'publication_day', 'publication_month', 'publication_year']].copy().corr()\n",
    "corr_data['last_price'] # выведем на экран корреляции с ценой"
   ]
  },
  {
   "cell_type": "markdown",
   "metadata": {},
   "source": [
    "По получившейся таблице мы видим, что цена напрямую зависит от общей площади, жилой площади, площади кухни и количества комнат. Всё остальное не влияет на цену недвижимости. Незначительно но может повлиять этаж на котором расположена квартира. А также можно заметить что с каждым годом объявление незначительно теряет в ликвидности.\n",
    "Построим графики с самыми значительными факторами:"
   ]
  },
  {
   "cell_type": "markdown",
   "metadata": {},
   "source": [
    "Выбирем самый показательный участок из выборки соотношения цены к общей площади квартиры:\n",
    "\n",
    "Таким образом можем сказать, что основное поле предложений по общей площади квартир находится в интервале от 20 до 100 кв. метров, с соотношением цен до 3 миллионов."
   ]
  },
  {
   "cell_type": "code",
   "execution_count": 42,
   "metadata": {},
   "outputs": [
    {
     "data": {
      "text/plain": [
       "<AxesSubplot:xlabel='last_price', ylabel='total_area'>"
      ]
     },
     "execution_count": 42,
     "metadata": {},
     "output_type": "execute_result"
    },
    {
     "data": {
      "image/png": "[encoded data removed]",
      "text/plain": [
       "<Figure size 720x360 with 1 Axes>"
      ]
     },
     "metadata": {
      "needs_background": "light"
     },
     "output_type": "display_data"
    }
   ],
   "source": [
    "# взаимосвязь цены с общей площадью квартиры. с помощью query отбросим слишком большие значения \n",
    "data.query('last_price < 70000000').plot(x='last_price', y='total_area', kind='scatter', alpha=0.3,figsize=(10,5),color='#12a184') "
   ]
  },
  {
   "cell_type": "markdown",
   "metadata": {},
   "source": [
    "На этой диаграмме можем заметить, что большее поле предложений включает в себя от 5 до 100 кв. метров жилой площади, с соотношением цен до 2,5 миллионов."
   ]
  },
  {
   "cell_type": "code",
   "execution_count": 43,
   "metadata": {},
   "outputs": [
    {
     "data": {
      "text/plain": [
       "<AxesSubplot:xlabel='last_price', ylabel='living_area'>"
      ]
     },
     "execution_count": 43,
     "metadata": {},
     "output_type": "execute_result"
    },
    {
     "data": {
      "image/png": "[encoded data removed]",
      "text/plain": [
       "<Figure size 720x360 with 1 Axes>"
      ]
     },
     "metadata": {
      "needs_background": "light"
     },
     "output_type": "display_data"
    }
   ],
   "source": [
    "#взаимосвязь цены с жилой площадью\n",
    "data.query('last_price < 70000000').plot(x='last_price', y='living_area', kind='scatter', alpha=0.3,figsize=(10,5),color='#12a184')"
   ]
  },
  {
   "cell_type": "markdown",
   "metadata": {},
   "source": [
    "На диаграмме можем заметить, что большее поле предложений включает в себя от 5 до 25 кв. метров площади кухни, с соотношением цен до 2 миллионов."
   ]
  },
  {
   "cell_type": "code",
   "execution_count": 44,
   "metadata": {
    "scrolled": true
   },
   "outputs": [
    {
     "data": {
      "text/plain": [
       "<AxesSubplot:xlabel='last_price', ylabel='kitchen_area'>"
      ]
     },
     "execution_count": 44,
     "metadata": {},
     "output_type": "execute_result"
    },
    {
     "data": {
      "image/png": "[encoded data removed]",
      "text/plain": [
       "<Figure size 720x360 with 1 Axes>"
      ]
     },
     "metadata": {
      "needs_background": "light"
     },
     "output_type": "display_data"
    }
   ],
   "source": [
    "#взаимосвязь цены с кухонной площадью\n",
    "data.query('last_price < 70000000').plot(x='last_price', y='kitchen_area', kind='scatter', alpha=0.3,figsize=(10,5),color='#12a184') "
   ]
  },
  {
   "cell_type": "markdown",
   "metadata": {},
   "source": [
    "На графике мы видим, что цена имеет равномерный рост в зависимости от количества комнат. Однако есть просадки по цене в районе 9, 10, и 14 комнат. Вероятнее всего продавцы намеренно снижали цену чтобы поскорее продать квартиру."
   ]
  },
  {
   "cell_type": "code",
   "execution_count": 45,
   "metadata": {},
   "outputs": [
    {
     "data": {
      "text/plain": [
       "<AxesSubplot:xlabel='rooms'>"
      ]
     },
     "execution_count": 45,
     "metadata": {},
     "output_type": "execute_result"
    },
    {
     "data": {
      "image/png": "[encoded data removed]",
      "text/plain": [
       "<Figure size 720x360 with 1 Axes>"
      ]
     },
     "metadata": {
      "needs_background": "light"
     },
     "output_type": "display_data"
    }
   ],
   "source": [
    "#взаимосвязь цены с количеством комнат\n",
    "pd.pivot_table(data,index=['rooms'], aggfunc='median')['last_price'].plot.bar(x='last_price', y='rooms',figsize=(10,5),color='#12a184') "
   ]
  },
  {
   "cell_type": "markdown",
   "metadata": {},
   "source": [
    "По графику стоит отметить, что на первом этаже самые недорогие квартиры. Скорее всего это связано с тем, что на первых этажах не так комфортно жить как на остальных, так как может быть шумно или другие приколы. На последнем этаже недвижимость дешевле чем на других этажах. Это тоже может быть связано с тем, что крыша может протекать и могут быть лишние проблемы в проживании на последнем этаже."
   ]
  },
  {
   "cell_type": "code",
   "execution_count": 46,
   "metadata": {},
   "outputs": [
    {
     "data": {
      "text/plain": [
       "<AxesSubplot:xlabel='floor_type'>"
      ]
     },
     "execution_count": 46,
     "metadata": {},
     "output_type": "execute_result"
    },
    {
     "data": {
      "image/png": "[encoded data removed]",
      "text/plain": [
       "<Figure size 720x360 with 1 Axes>"
      ]
     },
     "metadata": {
      "needs_background": "light"
     },
     "output_type": "display_data"
    }
   ],
   "source": [
    "#взаимосвязь цены с категорией этажа\n",
    "pd.pivot_table(data,index=['floor_type'], aggfunc='median')['last_price'].plot.bar(x='last_price', y='floor_type',figsize=(10,5),color='#12a184') "
   ]
  },
  {
   "cell_type": "markdown",
   "metadata": {},
   "source": [
    "По гистограмме мы видим, что в субботу квартиры продаются дороже всего. Стоит тут отметить, что это не коррелирует с количеством публикаций в день недели. Большая часть объявлений публикуется в будние дни. Также можно сказать, что цены растут параллельно с количеством публикации объявлений в среду и четверг."
   ]
  },
  {
   "cell_type": "code",
   "execution_count": 47,
   "metadata": {},
   "outputs": [
    {
     "data": {
      "text/plain": [
       "<AxesSubplot:xlabel='publication_day_name'>"
      ]
     },
     "execution_count": 47,
     "metadata": {},
     "output_type": "execute_result"
    },
    {
     "data": {
      "image/png": "[encoded data removed]",
      "text/plain": [
       "<Figure size 720x432 with 1 Axes>"
      ]
     },
     "metadata": {
      "needs_background": "light"
     },
     "output_type": "display_data"
    }
   ],
   "source": [
    "#взаимосвязь цены с днём недели публикации\n",
    "data['publication_day_name'] = data['publication_day'].replace({\n",
    "   0: '0 - понедельник', 1: '1 - вторник', 2: '2 - среда', 3: '3 - четверг', 4: '4 - пятница', 5: '5 - суббота', 6: '6 - воскресенье'\n",
    "})\n",
    "pd.pivot_table(data, index = ['publication_day_name'])['last_price'].plot.bar(x='publication_day_name', y='last_price',figsize=(10,6), color='#12a184')"
   ]
  },
  {
   "cell_type": "markdown",
   "metadata": {},
   "source": [
    "По графику мы видим, что с декабря по январь рынок цен недвижимости растёт, затем наблюдается спад, и снова рост в апреле. Также высокие показатели стоимости квартир наблюдается в сентябре, а просадка цен наблюдается в июне, августе и октябре. Можно заметить синусоидную зависимость цен от времени, это может быть связано с тем, что при завышении цен рынок корректирует стоимость к актуальной."
   ]
  },
  {
   "cell_type": "code",
   "execution_count": 48,
   "metadata": {},
   "outputs": [
    {
     "data": {
      "text/plain": [
       "<AxesSubplot:xlabel='publication_month'>"
      ]
     },
     "execution_count": 48,
     "metadata": {},
     "output_type": "execute_result"
    },
    {
     "data": {
      "image/png": "[encoded data removed]",
      "text/plain": [
       "<Figure size 720x360 with 1 Axes>"
      ]
     },
     "metadata": {
      "needs_background": "light"
     },
     "output_type": "display_data"
    }
   ],
   "source": [
    "#взаимосвязь цены с месяцем публикации\n",
    "pd.pivot_table(data, index = ['publication_month'])['last_price'].plot.bar(x='last_price', y='publication_month',figsize=(10,5),color='#12a184')"
   ]
  },
  {
   "cell_type": "markdown",
   "metadata": {},
   "source": [
    "По гистограмме мы видим, что в 2014 году был пик высоких цен на недвижимость, затем вплоть до 2018 года на рынке наблюдается равномерный спад стоимости. В 2019 снова происходит небольшой рост цен."
   ]
  },
  {
   "cell_type": "code",
   "execution_count": 49,
   "metadata": {},
   "outputs": [
    {
     "data": {
      "text/plain": [
       "<AxesSubplot:xlabel='publication_year'>"
      ]
     },
     "execution_count": 49,
     "metadata": {},
     "output_type": "execute_result"
    },
    {
     "data": {
      "image/png": "[encoded data removed]",
      "text/plain": [
       "<Figure size 720x360 with 1 Axes>"
      ]
     },
     "metadata": {
      "needs_background": "light"
     },
     "output_type": "display_data"
    }
   ],
   "source": [
    "#взаимосвязь цены с годом публикации\n",
    "pd.pivot_table(data, index = ['publication_year'])['last_price'].plot.bar(x='last_price', y='publication_year',figsize=(10,5),color='#12a184')"
   ]
  },
  {
   "cell_type": "markdown",
   "metadata": {},
   "source": [
    "---\n",
    "***Посчитайте среднюю цену одного квадратного метра в 10 населённых пунктах с наибольшим числом объявлений.***"
   ]
  },
  {
   "cell_type": "code",
   "execution_count": 50,
   "metadata": {},
   "outputs": [
    {
     "data": {
      "text/plain": [
       "санкт-петербург    15721\n",
       "мурино               590\n",
       "кудрово              472\n",
       "шушары               440\n",
       "всеволожск           398\n",
       "пушкин               369\n",
       "колпино              338\n",
       "парголово            327\n",
       "гатчина              307\n",
       "выборг               237\n",
       "Name: locality_name, dtype: int64"
      ]
     },
     "execution_count": 50,
     "metadata": {},
     "output_type": "execute_result"
    }
   ],
   "source": [
    "data['locality_name'].value_counts().head(10) #выводим 10 самых частых городов по количеству объявлений"
   ]
  },
  {
   "cell_type": "code",
   "execution_count": 51,
   "metadata": {},
   "outputs": [
    {
     "data": {
      "text/plain": [
       "{'санкт-петербург': 115916.75542754149,\n",
       " 'мурино': 86087.51204970534,\n",
       " 'кудрово': 95324.93054392203,\n",
       " 'шушары': 78677.3642167513,\n",
       " 'всеволожск': 68654.4739860316,\n",
       " 'пушкин': 103125.81929072196,\n",
       " 'колпино': 75424.57909803945,\n",
       " 'парголово': 90175.91345801107,\n",
       " 'гатчина': 68746.14676333922,\n",
       " 'выборг': 58141.90915331862}"
      ]
     },
     "execution_count": 51,
     "metadata": {},
     "output_type": "execute_result"
    }
   ],
   "source": [
    "means_by_locality_name ={} #посчитаем среднюю стоимость кв метра в 10 самых популярных населенных пунктах\n",
    "\n",
    "for t in data['locality_name'].value_counts().head(10).index:\n",
    "    means_by_locality_name[t] = (data.loc[data['locality_name'] == t, 'last_price'] / data.loc[data['locality_name'] == t, 'total_area']).mean()\n",
    "\n",
    "means_by_locality_name"
   ]
  },
  {
   "cell_type": "markdown",
   "metadata": {},
   "source": [
    "Самая высокая стоимость квадратного метра в Санкт-Петербурге - 115916 рублей за квадратный метр. Самая низкая стоимость в Выборге - 58141 рублей за квадратный метр."
   ]
  },
  {
   "cell_type": "markdown",
   "metadata": {},
   "source": [
    "---\n",
    "***Выделим квартиры в Санкт-Петербурге и вычислим среднюю цену каждого километра.***"
   ]
  },
  {
   "cell_type": "code",
   "execution_count": 52,
   "metadata": {},
   "outputs": [
    {
     "data": {
      "text/plain": [
       "<AxesSubplot:xlabel='city_centers_nearest_km'>"
      ]
     },
     "execution_count": 52,
     "metadata": {},
     "output_type": "execute_result"
    },
    {
     "data": {
      "image/png": "[encoded data removed]",
      "text/plain": [
       "<Figure size 720x432 with 1 Axes>"
      ]
     },
     "metadata": {
      "needs_background": "light"
     },
     "output_type": "display_data"
    }
   ],
   "source": [
    "mean_price = data.query('locality_name == \"санкт-петербург\"').groupby('city_centers_nearest_km')['last_price'].mean()\n",
    "mean_price.plot(figsize=(10,6),color='#12a184')"
   ]
  },
  {
   "cell_type": "markdown",
   "metadata": {},
   "source": [
    "По графику мы видим, чем ближе квартира к центру тем выше её стоимость. Однако на графике мы можем увидеть просадку по цене в районе 3-4 км от центра, а затем снова рост. Это можно объяснить тем, что хоть район и находится недалеко от центра, в нём есть другие минусы, например там может не быть парков или магазинов в пешей доступности от дома. Такие районы хуже пригодны для жизни чем остальные.\n",
    "\n",
    "Также мы можем увидеть рост в районе 25 км от центра. Данный пик может быть связан с хорошим качеством застройки данного района."
   ]
  },
  {
   "cell_type": "markdown",
   "metadata": {},
   "source": [
    "### Общий вывод"
   ]
  },
  {
   "cell_type": "markdown",
   "metadata": {},
   "source": [
    "Стоит отметить, что данные полученные для проведения анализа подлежали предобработке. В контексте предобработки было произведено восстановление данных с учетом города каждого конкретного объявления, что позволило произвести более точный анализ рынка, поскольку между городами наблюдается принципиальная разница в поле критериев.\n",
    "\n",
    "***Конкретнее, были восстановлены следующие значения объявлений:***\n",
    "\n",
    "*1) Высота потолков*\n",
    "\n",
    "*2) Общая этажность зданий*\n",
    "\n",
    "*3) Общая площадь помещения - это возможно поскольку мы можем отталкиваться от жилой площади, от средней площади по нас. пункту.*\n",
    "\n",
    "*4) Площадь кухни - аналогично общей площади*\n",
    "\n",
    "Также, были удалены неявные дубликаты, исправлены типы данных и устранены аномальные значения.\n",
    "\n",
    "\n",
    "***Для более подробного анализа и работы с данными, были созданы дополнительные столбцы:***\n",
    "\n",
    "*1) Цена одного кв. метра*\n",
    "\n",
    "*2) День недели публикации обявлений*\n",
    "\n",
    "*3) Месяц публикации объявления*\n",
    "\n",
    "*4) Год публикации объявления*\n",
    "\n",
    "*5) Категория этажа квартиры*\n",
    "\n",
    "*6) Расстояние до центра города в км.*\n",
    "\n",
    "\n",
    "Подобная предобработка позволила нам определить взаимосвязи между критериями объявлений. Посмотрим на зависимость стоимости квартиры, и отметим подтверждённые в процессе работы гипотезы:\n",
    "\n",
    "1) ***Площадь недвижимости***\n",
    "Стоимость квартиры напрямую связано с общей, жилой и кухонной площадью. Чем больше площадь, тем дороже квартира.\n",
    "\n",
    "2) ***Количество комнат***\n",
    "Стоимость квартиры напрямую зависит от количества комнат. Чем больше комнат, тем больше площадь квартиры. Следовательно, и цена выше.\n",
    "\n",
    "3)  ***Категория этажа***\n",
    "На первом и последнем этаже меньше всего предложений, а также цена квартир на этих этажах занижена по отношению к остальному рынку. Общую часть рынка занимают предложения с остальными этажами.\n",
    "\n",
    "4) ***Удаленность от центра***\n",
    "Стоимость квартиры напрямую связана с удолённостью от центра города, чем ближе к центру тем дороже. Хорошая инфраструктура  увеличивает цену на недвижимость.\n",
    "\n",
    "5) ***Длительность размещения объявления***\n",
    "Квартиры чаще продаются в первое время после публикации. Квартиры которые продаются дольше 285 дней, теряют актуальность.\n",
    "\n",
    "6) ***День недели размещения объявдения***\n",
    "Объявления на квартиры чаще публикуются в будние дни. Пик публикации приходится на период с февраля по апрель. Меньше всего публикуют объявления в летнее время.\n",
    "\n",
    "7) ***Стоимость в зависимости от дня недели размещения объявления***\n",
    "В субботу квартиры продаются по максимальной цене в соотношении с остальными днями. Также хороший рост стоимости наблюдается в среду и четверг.\n",
    "\n",
    "8) ***Стоимость в зависимости от месяца размещения объявления***\n",
    "С декабря по январь стоимость рынка недвижимости растёт, затем наблюдается спад, и снова рост в апреле. Также высокие показатели стоимости квартир наблюдается в сентябре.\n",
    "\n",
    "9) ***Стоимость в зависимости от года размещения объявления***\n",
    "В 2014 году наблюдается пик высоких цен на недвижимость, затем вплоть до 2018 года на рынке равномерный спад стоимости. В 2019 снова происходит небольшой рост цен."
   ]
  },
  {
   "cell_type": "markdown",
   "metadata": {},
   "source": [
    "**Чек-лист готовности проекта**\n",
    "\n",
    "Поставьте 'x' в выполненных пунктах. Далее нажмите Shift+Enter."
   ]
  },
  {
   "cell_type": "markdown",
   "metadata": {},
   "source": [
    "- [x]  открыт файл\n",
    "- [ ]  файлы изучены (выведены первые строки, метод `info()`, гистограммы и т.д.)\n",
    "- [ ]  определены пропущенные значения\n",
    "- [ ]  заполнены пропущенные значения там, где это возможно\n",
    "- [ ]  есть пояснение, какие пропущенные значения обнаружены\n",
    "- [ ]  изменены типы данных\n",
    "- [ ]  есть пояснение, в каких столбцах изменены типы и почему\n",
    "- [ ]  устранены неявные дубликаты в названиях населённых пунктов\n",
    "- [ ]  устранены редкие и выбивающиеся значения (аномалии) во всех столбцах\n",
    "- [ ]  посчитано и добавлено в таблицу: цена одного квадратного метра\n",
    "- [ ]  посчитано и добавлено в таблицу: день публикации объявления (0 - понедельник, 1 - вторник и т.д.)\n",
    "- [ ]  посчитано и добавлено в таблицу: месяц публикации объявления\n",
    "- [ ]  посчитано и добавлено в таблицу: год публикации объявления\n",
    "- [ ]  посчитано и добавлено в таблицу: тип этажа квартиры (значения — «первый», «последний», «другой»)\n",
    "- [ ]  посчитано и добавлено в таблицу: расстояние в км до центра города\n",
    "- [ ]  изучены и описаны следующие параметры:\n",
    "        - общая площадь;\n",
    "        - жилая площадь;\n",
    "        - площадь кухни;\n",
    "        - цена объекта;\n",
    "        - количество комнат;\n",
    "        - высота потолков;\n",
    "        - этаж квартиры;\n",
    "        - тип этажа квартиры («первый», «последний», «другой»);\n",
    "        - общее количество этажей в доме;\n",
    "        - расстояние до центра города в метрах;\n",
    "        - расстояние до ближайшего аэропорта;\n",
    "        - расстояние до ближайшего парка;\n",
    "        - день и месяц публикации объявления\n",
    "- [ ]  построены гистограммы для каждого параметра\n",
    "- [ ]  выполнено задание: \"Изучите, как быстро продавались квартиры (столбец days_exposition). Этот параметр показывает, сколько дней «висело» каждое объявление.\n",
    "    - Постройте гистограмму.\n",
    "    - Посчитайте среднее и медиану.\n",
    "    - В ячейке типа markdown опишите, сколько обычно занимает продажа. Какие продажи можно считать быстрыми, а какие — необычно долгими?\"\n",
    "- [ ]  выполнено задание: \"Какие факторы больше всего влияют на общую (полную) стоимость объекта? Постройте графики, которые покажут зависимость цены от указанных ниже параметров. Для подготовки данных перед визуализацией вы можете использовать сводные таблицы.\"\n",
    "        - общей площади;\n",
    "        - жилой площади;\n",
    "        - площади кухни;\n",
    "        - количество комнат;\n",
    "        - типа этажа, на котором расположена квартира (первый, последний, другой);\n",
    "        - даты размещения (день недели, месяц, год);\n",
    "- [ ]  выполнено задание: \"Посчитайте среднюю цену одного квадратного метра в 10 населённых пунктах с наибольшим числом объявлений. Выделите населённые пункты с самой высокой и низкой стоимостью квадратного метра. Эти данные можно найти по имени в столбце `locality_name`.\"\n",
    "- [ ]  выполнено задание: \"Ранее вы посчитали расстояние до центра в километрах. Теперь выделите квартиры в Санкт-Петербурге с помощью столбца `locality_name` и вычислите среднюю цену каждого километра. Опишите, как стоимость объектов зависит от расстояния до центра города.\"\n",
    "- [ ]  в каждом этапе есть промежуточные выводы\n",
    "- [ ]  есть общий вывод"
   ]
  }
 ],
 "metadata": {
  "ExecuteTimeLog": [
   {
    "duration": 544,
    "start_time": "2022-12-14T09:55:48.633Z"
   },
   {
    "duration": 663,
    "start_time": "2022-12-14T09:55:55.083Z"
   },
   {
    "duration": 51,
    "start_time": "2022-12-14T09:56:57.182Z"
   },
   {
    "duration": 53,
    "start_time": "2022-12-14T09:57:27.856Z"
   },
   {
    "duration": 138,
    "start_time": "2022-12-14T09:58:45.508Z"
   },
   {
    "duration": 135,
    "start_time": "2022-12-14T09:59:24.872Z"
   },
   {
    "duration": 103,
    "start_time": "2022-12-14T09:59:44.973Z"
   },
   {
    "duration": 78,
    "start_time": "2022-12-14T09:59:47.945Z"
   },
   {
    "duration": 121,
    "start_time": "2022-12-14T09:59:52.352Z"
   },
   {
    "duration": 98,
    "start_time": "2022-12-14T10:00:32.907Z"
   },
   {
    "duration": 98,
    "start_time": "2022-12-14T10:01:08.002Z"
   },
   {
    "duration": 95,
    "start_time": "2022-12-14T10:01:26.976Z"
   },
   {
    "duration": 103,
    "start_time": "2022-12-14T10:02:13.553Z"
   },
   {
    "duration": 96,
    "start_time": "2022-12-14T10:02:35.342Z"
   },
   {
    "duration": 99,
    "start_time": "2022-12-14T10:02:51.538Z"
   },
   {
    "duration": 57,
    "start_time": "2022-12-14T10:03:00.178Z"
   },
   {
    "duration": 64,
    "start_time": "2022-12-14T10:03:04.361Z"
   },
   {
    "duration": 92,
    "start_time": "2022-12-14T10:03:07.731Z"
   },
   {
    "duration": 951,
    "start_time": "2022-12-14T10:03:56.439Z"
   },
   {
    "duration": 98,
    "start_time": "2022-12-14T10:04:01.547Z"
   },
   {
    "duration": 154,
    "start_time": "2022-12-14T10:04:15.235Z"
   },
   {
    "duration": 50,
    "start_time": "2022-12-14T10:04:32.274Z"
   },
   {
    "duration": 100,
    "start_time": "2022-12-14T10:04:34.840Z"
   },
   {
    "duration": 205,
    "start_time": "2022-12-14T10:04:44.595Z"
   },
   {
    "duration": 17,
    "start_time": "2022-12-14T10:11:38.895Z"
   },
   {
    "duration": 2626,
    "start_time": "2022-12-14T10:13:05.472Z"
   },
   {
    "duration": 19,
    "start_time": "2022-12-14T10:16:37.443Z"
   },
   {
    "duration": 10,
    "start_time": "2022-12-14T10:16:55.354Z"
   },
   {
    "duration": 606,
    "start_time": "2022-12-14T10:17:02.425Z"
   },
   {
    "duration": 29,
    "start_time": "2022-12-14T10:17:03.033Z"
   },
   {
    "duration": 3111,
    "start_time": "2022-12-14T10:17:03.064Z"
   },
   {
    "duration": 12,
    "start_time": "2022-12-14T10:17:06.178Z"
   },
   {
    "duration": 8,
    "start_time": "2022-12-14T10:18:12.881Z"
   },
   {
    "duration": 5,
    "start_time": "2022-12-14T10:18:23.872Z"
   },
   {
    "duration": 59,
    "start_time": "2022-12-14T10:18:49.774Z"
   },
   {
    "duration": 52,
    "start_time": "2022-12-14T10:18:54.695Z"
   },
   {
    "duration": 21,
    "start_time": "2022-12-14T10:21:03.848Z"
   },
   {
    "duration": 17,
    "start_time": "2022-12-14T10:21:09.810Z"
   },
   {
    "duration": 5,
    "start_time": "2022-12-14T10:25:20.799Z"
   },
   {
    "duration": 15,
    "start_time": "2022-12-14T10:25:22.761Z"
   },
   {
    "duration": 18,
    "start_time": "2022-12-14T10:25:43.385Z"
   },
   {
    "duration": 8,
    "start_time": "2022-12-14T10:27:35.610Z"
   },
   {
    "duration": 273,
    "start_time": "2022-12-14T10:28:35.595Z"
   },
   {
    "duration": 7,
    "start_time": "2022-12-14T10:28:37.481Z"
   },
   {
    "duration": 919,
    "start_time": "2022-12-14T10:31:16.396Z"
   },
   {
    "duration": 18,
    "start_time": "2022-12-14T10:31:22.780Z"
   },
   {
    "duration": 17,
    "start_time": "2022-12-14T10:31:31.085Z"
   },
   {
    "duration": 9,
    "start_time": "2022-12-14T10:31:32.959Z"
   },
   {
    "duration": 17,
    "start_time": "2022-12-14T10:31:35.087Z"
   },
   {
    "duration": 28,
    "start_time": "2022-12-14T10:31:56.650Z"
   },
   {
    "duration": 24,
    "start_time": "2022-12-14T10:32:24.447Z"
   },
   {
    "duration": 649,
    "start_time": "2022-12-14T10:32:30.629Z"
   },
   {
    "duration": 17,
    "start_time": "2022-12-14T10:32:31.283Z"
   },
   {
    "duration": 2848,
    "start_time": "2022-12-14T10:32:31.302Z"
   },
   {
    "duration": 8,
    "start_time": "2022-12-14T10:32:34.153Z"
   },
   {
    "duration": 19,
    "start_time": "2022-12-14T10:32:34.163Z"
   },
   {
    "duration": 12,
    "start_time": "2022-12-14T10:32:34.186Z"
   },
   {
    "duration": 103,
    "start_time": "2022-12-14T10:32:34.199Z"
   },
   {
    "duration": 1678,
    "start_time": "2022-12-14T10:33:54.017Z"
   },
   {
    "duration": 1619,
    "start_time": "2022-12-14T10:35:48.348Z"
   },
   {
    "duration": 1553,
    "start_time": "2022-12-14T10:39:23.939Z"
   },
   {
    "duration": 7,
    "start_time": "2022-12-14T10:40:50.695Z"
   },
   {
    "duration": 10,
    "start_time": "2022-12-14T10:41:46.923Z"
   },
   {
    "duration": 7,
    "start_time": "2022-12-14T10:42:41.342Z"
   },
   {
    "duration": 11,
    "start_time": "2022-12-14T10:42:48.218Z"
   },
   {
    "duration": 1555,
    "start_time": "2022-12-14T10:43:16.661Z"
   },
   {
    "duration": 7,
    "start_time": "2022-12-14T10:43:23.568Z"
   },
   {
    "duration": 10,
    "start_time": "2022-12-14T10:44:24.967Z"
   },
   {
    "duration": 11,
    "start_time": "2022-12-14T10:44:30.502Z"
   },
   {
    "duration": 7,
    "start_time": "2022-12-14T10:44:53.922Z"
   },
   {
    "duration": 9,
    "start_time": "2022-12-14T10:45:11.205Z"
   },
   {
    "duration": 8,
    "start_time": "2022-12-14T10:45:15.502Z"
   },
   {
    "duration": 10,
    "start_time": "2022-12-14T10:46:23.829Z"
   },
   {
    "duration": 7,
    "start_time": "2022-12-14T10:46:28.403Z"
   },
   {
    "duration": 9,
    "start_time": "2022-12-14T10:46:31.137Z"
   },
   {
    "duration": 11,
    "start_time": "2022-12-14T10:47:38.522Z"
   },
   {
    "duration": 9,
    "start_time": "2022-12-14T10:48:00.539Z"
   },
   {
    "duration": 8,
    "start_time": "2022-12-14T10:49:18.686Z"
   },
   {
    "duration": 13,
    "start_time": "2022-12-14T10:50:52.500Z"
   },
   {
    "duration": 11,
    "start_time": "2022-12-14T10:50:57.429Z"
   },
   {
    "duration": 19,
    "start_time": "2022-12-14T10:51:07.847Z"
   },
   {
    "duration": 619,
    "start_time": "2022-12-14T10:51:13.658Z"
   },
   {
    "duration": 17,
    "start_time": "2022-12-14T10:51:14.280Z"
   },
   {
    "duration": 2564,
    "start_time": "2022-12-14T10:51:14.298Z"
   },
   {
    "duration": 7,
    "start_time": "2022-12-14T10:51:16.870Z"
   },
   {
    "duration": 15,
    "start_time": "2022-12-14T10:51:16.879Z"
   },
   {
    "duration": 10,
    "start_time": "2022-12-14T10:51:16.896Z"
   },
   {
    "duration": 17,
    "start_time": "2022-12-14T10:51:16.908Z"
   },
   {
    "duration": 1612,
    "start_time": "2022-12-14T10:51:16.927Z"
   },
   {
    "duration": 5,
    "start_time": "2022-12-14T10:51:22.538Z"
   },
   {
    "duration": 13,
    "start_time": "2022-12-14T10:51:28.649Z"
   },
   {
    "duration": 1648,
    "start_time": "2022-12-14T10:51:36.366Z"
   },
   {
    "duration": 11,
    "start_time": "2022-12-14T10:52:46.197Z"
   },
   {
    "duration": 6,
    "start_time": "2022-12-14T10:53:36.083Z"
   },
   {
    "duration": 93,
    "start_time": "2022-12-14T10:54:15.602Z"
   },
   {
    "duration": 8,
    "start_time": "2022-12-14T10:54:25.567Z"
   },
   {
    "duration": 8,
    "start_time": "2022-12-14T10:56:48.217Z"
   },
   {
    "duration": 6,
    "start_time": "2022-12-14T10:56:56.507Z"
   },
   {
    "duration": 10,
    "start_time": "2022-12-14T10:57:19.018Z"
   },
   {
    "duration": 7,
    "start_time": "2022-12-14T10:57:23.313Z"
   },
   {
    "duration": 30,
    "start_time": "2022-12-14T11:00:46.047Z"
   },
   {
    "duration": 4,
    "start_time": "2022-12-14T11:00:48.899Z"
   },
   {
    "duration": 11,
    "start_time": "2022-12-14T11:00:55.328Z"
   },
   {
    "duration": 10,
    "start_time": "2022-12-14T11:01:05.475Z"
   },
   {
    "duration": 6,
    "start_time": "2022-12-14T11:01:11.908Z"
   },
   {
    "duration": 7,
    "start_time": "2022-12-14T11:01:17.590Z"
   },
   {
    "duration": 9,
    "start_time": "2022-12-14T11:01:19.820Z"
   },
   {
    "duration": 13,
    "start_time": "2022-12-14T11:01:25.556Z"
   },
   {
    "duration": 9,
    "start_time": "2022-12-14T11:01:29.221Z"
   },
   {
    "duration": 640,
    "start_time": "2022-12-14T11:01:41.197Z"
   },
   {
    "duration": 22,
    "start_time": "2022-12-14T11:01:41.839Z"
   },
   {
    "duration": 2660,
    "start_time": "2022-12-14T11:01:41.866Z"
   },
   {
    "duration": 8,
    "start_time": "2022-12-14T11:01:44.529Z"
   },
   {
    "duration": 20,
    "start_time": "2022-12-14T11:01:44.539Z"
   },
   {
    "duration": 21,
    "start_time": "2022-12-14T11:01:44.560Z"
   },
   {
    "duration": 12,
    "start_time": "2022-12-14T11:01:44.583Z"
   },
   {
    "duration": 1736,
    "start_time": "2022-12-14T11:01:44.597Z"
   },
   {
    "duration": 57,
    "start_time": "2022-12-14T11:02:20.985Z"
   },
   {
    "duration": 53,
    "start_time": "2022-12-14T11:02:36.893Z"
   },
   {
    "duration": 85,
    "start_time": "2022-12-14T11:02:51.849Z"
   },
   {
    "duration": 11,
    "start_time": "2022-12-14T11:02:56.967Z"
   },
   {
    "duration": 41,
    "start_time": "2022-12-14T11:03:07.790Z"
   },
   {
    "duration": 2275,
    "start_time": "2022-12-14T11:03:10.048Z"
   },
   {
    "duration": 12,
    "start_time": "2022-12-14T11:03:12.622Z"
   },
   {
    "duration": 5,
    "start_time": "2022-12-14T11:03:23.031Z"
   },
   {
    "duration": 70,
    "start_time": "2022-12-14T11:03:32.422Z"
   },
   {
    "duration": 2329,
    "start_time": "2022-12-14T11:03:34.943Z"
   },
   {
    "duration": 11,
    "start_time": "2022-12-14T11:03:40.211Z"
   },
   {
    "duration": 21,
    "start_time": "2022-12-14T11:04:19.925Z"
   },
   {
    "duration": 635,
    "start_time": "2022-12-14T11:04:28.234Z"
   },
   {
    "duration": 18,
    "start_time": "2022-12-14T11:04:28.871Z"
   },
   {
    "duration": 2524,
    "start_time": "2022-12-14T11:04:28.891Z"
   },
   {
    "duration": 7,
    "start_time": "2022-12-14T11:04:31.417Z"
   },
   {
    "duration": 57,
    "start_time": "2022-12-14T11:04:31.426Z"
   },
   {
    "duration": 18,
    "start_time": "2022-12-14T11:04:31.485Z"
   },
   {
    "duration": 40,
    "start_time": "2022-12-14T11:04:31.505Z"
   },
   {
    "duration": 1702,
    "start_time": "2022-12-14T11:04:31.547Z"
   },
   {
    "duration": 1660,
    "start_time": "2022-12-14T11:04:39.770Z"
   },
   {
    "duration": 6,
    "start_time": "2022-12-14T11:04:43.022Z"
   },
   {
    "duration": 8,
    "start_time": "2022-12-14T11:04:48.197Z"
   },
   {
    "duration": 12,
    "start_time": "2022-12-14T11:04:51.004Z"
   },
   {
    "duration": 57,
    "start_time": "2022-12-14T11:07:59.668Z"
   },
   {
    "duration": 90,
    "start_time": "2022-12-14T11:08:07.134Z"
   },
   {
    "duration": 16,
    "start_time": "2022-12-14T11:09:12.070Z"
   },
   {
    "duration": 195,
    "start_time": "2022-12-14T11:09:52.312Z"
   },
   {
    "duration": 52,
    "start_time": "2022-12-14T11:09:54.297Z"
   },
   {
    "duration": 7,
    "start_time": "2022-12-14T11:09:56.853Z"
   },
   {
    "duration": 1596,
    "start_time": "2022-12-14T11:10:00.810Z"
   },
   {
    "duration": 13,
    "start_time": "2022-12-14T11:11:37.757Z"
   },
   {
    "duration": 16,
    "start_time": "2022-12-14T11:11:48.030Z"
   },
   {
    "duration": 20,
    "start_time": "2022-12-14T11:12:42.126Z"
   },
   {
    "duration": 16,
    "start_time": "2022-12-14T11:13:15.803Z"
   },
   {
    "duration": 16,
    "start_time": "2022-12-14T11:13:24.822Z"
   },
   {
    "duration": 8,
    "start_time": "2022-12-14T11:14:37.994Z"
   },
   {
    "duration": 1621,
    "start_time": "2022-12-14T11:15:06.671Z"
   },
   {
    "duration": 2136,
    "start_time": "2022-12-14T11:15:42.238Z"
   },
   {
    "duration": 205,
    "start_time": "2022-12-14T11:16:39.634Z"
   },
   {
    "duration": 207,
    "start_time": "2022-12-14T11:16:50.408Z"
   },
   {
    "duration": 216,
    "start_time": "2022-12-14T11:16:53.518Z"
   },
   {
    "duration": 219,
    "start_time": "2022-12-14T11:17:06.067Z"
   },
   {
    "duration": 52,
    "start_time": "2022-12-14T11:18:26.788Z"
   },
   {
    "duration": 7,
    "start_time": "2022-12-14T11:18:40.367Z"
   },
   {
    "duration": 588,
    "start_time": "2022-12-14T11:18:45.790Z"
   },
   {
    "duration": 5,
    "start_time": "2022-12-14T11:18:51.269Z"
   },
   {
    "duration": 11,
    "start_time": "2022-12-14T11:18:53.815Z"
   },
   {
    "duration": 6,
    "start_time": "2022-12-14T11:18:57.252Z"
   },
   {
    "duration": 262,
    "start_time": "2022-12-14T11:19:43.690Z"
   },
   {
    "duration": 410,
    "start_time": "2022-12-14T11:20:22.515Z"
   },
   {
    "duration": 1671,
    "start_time": "2022-12-14T11:20:59.773Z"
   },
   {
    "duration": 2287,
    "start_time": "2022-12-14T11:21:35.034Z"
   },
   {
    "duration": 2489,
    "start_time": "2022-12-14T11:21:50.081Z"
   },
   {
    "duration": 2353,
    "start_time": "2022-12-14T11:22:03.077Z"
   },
   {
    "duration": 2226,
    "start_time": "2022-12-14T11:23:55.448Z"
   },
   {
    "duration": 17,
    "start_time": "2022-12-14T11:24:10.493Z"
   },
   {
    "duration": 2378,
    "start_time": "2022-12-14T11:24:27.221Z"
   },
   {
    "duration": 2136,
    "start_time": "2022-12-14T11:24:34.758Z"
   },
   {
    "duration": 214,
    "start_time": "2022-12-14T11:26:27.419Z"
   },
   {
    "duration": 240,
    "start_time": "2022-12-14T11:27:54.372Z"
   },
   {
    "duration": 2261,
    "start_time": "2022-12-14T11:28:34.050Z"
   },
   {
    "duration": 2198,
    "start_time": "2022-12-14T11:28:53.345Z"
   },
   {
    "duration": 604,
    "start_time": "2022-12-14T11:29:04.493Z"
   },
   {
    "duration": 16,
    "start_time": "2022-12-14T11:29:05.099Z"
   },
   {
    "duration": 2531,
    "start_time": "2022-12-14T11:29:05.116Z"
   },
   {
    "duration": 8,
    "start_time": "2022-12-14T11:29:07.649Z"
   },
   {
    "duration": 24,
    "start_time": "2022-12-14T11:29:07.659Z"
   },
   {
    "duration": 6,
    "start_time": "2022-12-14T11:29:07.685Z"
   },
   {
    "duration": 11,
    "start_time": "2022-12-14T11:29:07.692Z"
   },
   {
    "duration": 1601,
    "start_time": "2022-12-14T11:29:07.705Z"
   },
   {
    "duration": 1558,
    "start_time": "2022-12-14T11:29:21.780Z"
   },
   {
    "duration": 7,
    "start_time": "2022-12-14T11:29:28.305Z"
   },
   {
    "duration": 12,
    "start_time": "2022-12-14T11:29:30.562Z"
   },
   {
    "duration": 8,
    "start_time": "2022-12-14T11:29:38.503Z"
   },
   {
    "duration": 1545,
    "start_time": "2022-12-14T11:29:56.389Z"
   },
   {
    "duration": 305,
    "start_time": "2022-12-14T11:33:25.900Z"
   },
   {
    "duration": 89,
    "start_time": "2022-12-14T11:33:32.623Z"
   },
   {
    "duration": 10,
    "start_time": "2022-12-14T11:33:42.870Z"
   },
   {
    "duration": 14,
    "start_time": "2022-12-14T11:33:45.510Z"
   },
   {
    "duration": 626,
    "start_time": "2022-12-14T11:34:02.650Z"
   },
   {
    "duration": 19,
    "start_time": "2022-12-14T11:34:03.279Z"
   },
   {
    "duration": 2815,
    "start_time": "2022-12-14T11:34:03.300Z"
   },
   {
    "duration": 11,
    "start_time": "2022-12-14T11:34:06.117Z"
   },
   {
    "duration": 66,
    "start_time": "2022-12-14T11:34:06.130Z"
   },
   {
    "duration": 35,
    "start_time": "2022-12-14T11:34:06.198Z"
   },
   {
    "duration": 30,
    "start_time": "2022-12-14T11:34:06.236Z"
   },
   {
    "duration": 364,
    "start_time": "2022-12-14T11:34:06.270Z"
   },
   {
    "duration": 18,
    "start_time": "2022-12-14T11:34:12.843Z"
   },
   {
    "duration": 5,
    "start_time": "2022-12-14T11:34:15.646Z"
   },
   {
    "duration": 8,
    "start_time": "2022-12-14T11:34:49.677Z"
   },
   {
    "duration": 11,
    "start_time": "2022-12-14T11:34:55.703Z"
   },
   {
    "duration": 7,
    "start_time": "2022-12-14T11:35:01.539Z"
   },
   {
    "duration": 10,
    "start_time": "2022-12-14T11:35:10.333Z"
   },
   {
    "duration": 283,
    "start_time": "2022-12-14T11:36:25.792Z"
   },
   {
    "duration": 222,
    "start_time": "2022-12-14T11:36:29.092Z"
   },
   {
    "duration": 44,
    "start_time": "2022-12-14T11:36:44.821Z"
   },
   {
    "duration": 260,
    "start_time": "2022-12-14T11:36:56.808Z"
   },
   {
    "duration": 220,
    "start_time": "2022-12-14T11:37:01.171Z"
   },
   {
    "duration": 235,
    "start_time": "2022-12-14T11:42:54.598Z"
   },
   {
    "duration": 238,
    "start_time": "2022-12-14T11:43:31.231Z"
   },
   {
    "duration": 210,
    "start_time": "2022-12-14T11:44:36.675Z"
   },
   {
    "duration": 217,
    "start_time": "2022-12-14T11:44:45.352Z"
   },
   {
    "duration": 192,
    "start_time": "2022-12-14T11:44:58.932Z"
   },
   {
    "duration": 222,
    "start_time": "2022-12-14T11:45:04.908Z"
   },
   {
    "duration": 242,
    "start_time": "2022-12-14T11:45:07.449Z"
   },
   {
    "duration": 554,
    "start_time": "2022-12-14T11:45:11.902Z"
   },
   {
    "duration": 20,
    "start_time": "2022-12-14T11:45:12.465Z"
   },
   {
    "duration": 2731,
    "start_time": "2022-12-14T11:45:12.487Z"
   },
   {
    "duration": 7,
    "start_time": "2022-12-14T11:45:15.220Z"
   },
   {
    "duration": 11,
    "start_time": "2022-12-14T11:45:15.229Z"
   },
   {
    "duration": 6,
    "start_time": "2022-12-14T11:45:15.242Z"
   },
   {
    "duration": 390,
    "start_time": "2022-12-14T11:45:15.249Z"
   },
   {
    "duration": 227,
    "start_time": "2022-12-14T11:45:20.399Z"
   },
   {
    "duration": 188,
    "start_time": "2022-12-14T11:45:29.779Z"
   },
   {
    "duration": 129,
    "start_time": "2022-12-14T11:46:12.168Z"
   },
   {
    "duration": 10,
    "start_time": "2022-12-14T11:46:21.733Z"
   },
   {
    "duration": 10,
    "start_time": "2022-12-14T11:46:30.475Z"
   },
   {
    "duration": 631,
    "start_time": "2022-12-14T11:46:39.417Z"
   },
   {
    "duration": 24,
    "start_time": "2022-12-14T11:46:40.050Z"
   },
   {
    "duration": 2519,
    "start_time": "2022-12-14T11:46:40.076Z"
   },
   {
    "duration": 8,
    "start_time": "2022-12-14T11:46:42.597Z"
   },
   {
    "duration": 11,
    "start_time": "2022-12-14T11:46:42.608Z"
   },
   {
    "duration": 5,
    "start_time": "2022-12-14T11:46:42.621Z"
   },
   {
    "duration": 16,
    "start_time": "2022-12-14T11:46:42.628Z"
   },
   {
    "duration": 135,
    "start_time": "2022-12-14T11:46:52.446Z"
   },
   {
    "duration": 13,
    "start_time": "2022-12-14T11:46:57.579Z"
   },
   {
    "duration": 12,
    "start_time": "2022-12-14T11:47:05.998Z"
   },
   {
    "duration": 168,
    "start_time": "2022-12-14T11:47:08.468Z"
   },
   {
    "duration": 14,
    "start_time": "2022-12-14T11:47:58.075Z"
   },
   {
    "duration": 582,
    "start_time": "2022-12-14T11:48:04.095Z"
   },
   {
    "duration": 19,
    "start_time": "2022-12-14T11:48:04.680Z"
   },
   {
    "duration": 2449,
    "start_time": "2022-12-14T11:48:04.701Z"
   },
   {
    "duration": 16,
    "start_time": "2022-12-14T11:48:07.152Z"
   },
   {
    "duration": 15,
    "start_time": "2022-12-14T11:48:07.171Z"
   },
   {
    "duration": 6,
    "start_time": "2022-12-14T11:48:07.188Z"
   },
   {
    "duration": 13,
    "start_time": "2022-12-14T11:48:07.196Z"
   },
   {
    "duration": 11,
    "start_time": "2022-12-14T11:48:17.972Z"
   },
   {
    "duration": 81,
    "start_time": "2022-12-14T11:48:52.637Z"
   },
   {
    "duration": 125,
    "start_time": "2022-12-14T11:49:14.823Z"
   },
   {
    "duration": 20,
    "start_time": "2022-12-14T11:49:32.726Z"
   },
   {
    "duration": 56,
    "start_time": "2022-12-14T11:49:56.659Z"
   },
   {
    "duration": 74,
    "start_time": "2022-12-14T11:50:04.397Z"
   },
   {
    "duration": 65,
    "start_time": "2022-12-14T11:50:07.041Z"
   },
   {
    "duration": 34,
    "start_time": "2022-12-14T11:52:12.871Z"
   },
   {
    "duration": 636,
    "start_time": "2022-12-14T11:52:19.626Z"
   },
   {
    "duration": 22,
    "start_time": "2022-12-14T11:52:20.267Z"
   },
   {
    "duration": 2577,
    "start_time": "2022-12-14T11:52:20.292Z"
   },
   {
    "duration": 6,
    "start_time": "2022-12-14T11:52:22.872Z"
   },
   {
    "duration": 28,
    "start_time": "2022-12-14T11:52:22.880Z"
   },
   {
    "duration": 7,
    "start_time": "2022-12-14T11:52:22.910Z"
   },
   {
    "duration": 62,
    "start_time": "2022-12-14T11:52:22.919Z"
   },
   {
    "duration": 75,
    "start_time": "2022-12-14T11:53:30.721Z"
   },
   {
    "duration": 64,
    "start_time": "2022-12-14T11:53:48.548Z"
   },
   {
    "duration": 45,
    "start_time": "2022-12-14T11:53:55.494Z"
   },
   {
    "duration": 57,
    "start_time": "2022-12-14T11:54:00.571Z"
   },
   {
    "duration": 56,
    "start_time": "2022-12-14T11:54:05.338Z"
   },
   {
    "duration": 101,
    "start_time": "2022-12-14T11:54:09.668Z"
   },
   {
    "duration": 457,
    "start_time": "2022-12-14T11:54:14.118Z"
   },
   {
    "duration": 19,
    "start_time": "2022-12-14T11:54:24.488Z"
   },
   {
    "duration": 9,
    "start_time": "2022-12-14T11:54:39.092Z"
   },
   {
    "duration": 11,
    "start_time": "2022-12-14T11:54:43.229Z"
   },
   {
    "duration": 13,
    "start_time": "2022-12-14T11:54:55.355Z"
   },
   {
    "duration": 15,
    "start_time": "2022-12-14T11:55:00.017Z"
   },
   {
    "duration": 14,
    "start_time": "2022-12-14T11:55:03.406Z"
   },
   {
    "duration": 24,
    "start_time": "2022-12-14T11:55:16.587Z"
   },
   {
    "duration": 27,
    "start_time": "2022-12-14T11:58:31.848Z"
   },
   {
    "duration": 11,
    "start_time": "2022-12-14T11:58:36.572Z"
   },
   {
    "duration": 20,
    "start_time": "2022-12-14T11:58:39.785Z"
   },
   {
    "duration": 665,
    "start_time": "2022-12-14T11:58:47.235Z"
   },
   {
    "duration": 16,
    "start_time": "2022-12-14T11:58:47.902Z"
   },
   {
    "duration": 2536,
    "start_time": "2022-12-14T11:58:47.920Z"
   },
   {
    "duration": 7,
    "start_time": "2022-12-14T11:58:50.460Z"
   },
   {
    "duration": 24,
    "start_time": "2022-12-14T11:58:50.470Z"
   },
   {
    "duration": 5,
    "start_time": "2022-12-14T11:58:50.496Z"
   },
   {
    "duration": 28,
    "start_time": "2022-12-14T11:58:50.503Z"
   },
   {
    "duration": 2408,
    "start_time": "2022-12-14T12:01:32.607Z"
   },
   {
    "duration": 13,
    "start_time": "2022-12-14T12:01:40.981Z"
   },
   {
    "duration": 2383,
    "start_time": "2022-12-14T12:01:59.377Z"
   },
   {
    "duration": 2560,
    "start_time": "2022-12-14T12:04:14.365Z"
   },
   {
    "duration": 96,
    "start_time": "2022-12-14T12:04:20.832Z"
   },
   {
    "duration": 24,
    "start_time": "2022-12-14T12:04:30.145Z"
   },
   {
    "duration": 16,
    "start_time": "2022-12-14T12:05:36.744Z"
   },
   {
    "duration": 1652,
    "start_time": "2022-12-14T12:05:41.794Z"
   },
   {
    "duration": 2436,
    "start_time": "2022-12-14T12:05:47.970Z"
   },
   {
    "duration": 2513,
    "start_time": "2022-12-14T12:07:14.757Z"
   },
   {
    "duration": 2411,
    "start_time": "2022-12-14T12:07:25.111Z"
   },
   {
    "duration": 73,
    "start_time": "2022-12-14T12:07:30.845Z"
   },
   {
    "duration": 2213,
    "start_time": "2022-12-14T12:07:37.572Z"
   },
   {
    "duration": 253,
    "start_time": "2022-12-14T12:07:54.745Z"
   },
   {
    "duration": 220,
    "start_time": "2022-12-14T12:08:16.796Z"
   },
   {
    "duration": 31,
    "start_time": "2022-12-14T12:08:22.370Z"
   },
   {
    "duration": 211,
    "start_time": "2022-12-14T12:08:44.503Z"
   },
   {
    "duration": 220,
    "start_time": "2022-12-14T12:10:39.488Z"
   },
   {
    "duration": 584,
    "start_time": "2022-12-14T12:10:46.713Z"
   },
   {
    "duration": 18,
    "start_time": "2022-12-14T12:10:47.299Z"
   },
   {
    "duration": 2649,
    "start_time": "2022-12-14T12:10:47.319Z"
   },
   {
    "duration": 7,
    "start_time": "2022-12-14T12:10:49.972Z"
   },
   {
    "duration": 16,
    "start_time": "2022-12-14T12:10:49.980Z"
   },
   {
    "duration": 6,
    "start_time": "2022-12-14T12:10:49.999Z"
   },
   {
    "duration": 305,
    "start_time": "2022-12-14T12:10:50.007Z"
   },
   {
    "duration": 15,
    "start_time": "2022-12-14T12:10:56.469Z"
   },
   {
    "duration": 13,
    "start_time": "2022-12-14T12:45:11.992Z"
   },
   {
    "duration": 563,
    "start_time": "2022-12-14T12:45:17.216Z"
   },
   {
    "duration": 17,
    "start_time": "2022-12-14T12:45:17.782Z"
   },
   {
    "duration": 2605,
    "start_time": "2022-12-14T12:45:17.801Z"
   },
   {
    "duration": 6,
    "start_time": "2022-12-14T12:45:20.409Z"
   },
   {
    "duration": 14,
    "start_time": "2022-12-14T12:45:20.417Z"
   },
   {
    "duration": 5,
    "start_time": "2022-12-14T12:45:20.433Z"
   },
   {
    "duration": 13,
    "start_time": "2022-12-14T12:45:20.440Z"
   },
   {
    "duration": 10,
    "start_time": "2022-12-14T12:45:44.768Z"
   },
   {
    "duration": 7,
    "start_time": "2022-12-14T12:45:47.478Z"
   },
   {
    "duration": 8,
    "start_time": "2022-12-14T12:45:53.466Z"
   },
   {
    "duration": 644,
    "start_time": "2022-12-14T12:46:05.469Z"
   },
   {
    "duration": 16,
    "start_time": "2022-12-14T12:46:06.115Z"
   },
   {
    "duration": 2758,
    "start_time": "2022-12-14T12:46:06.133Z"
   },
   {
    "duration": 7,
    "start_time": "2022-12-14T12:46:08.893Z"
   },
   {
    "duration": 16,
    "start_time": "2022-12-14T12:46:08.902Z"
   },
   {
    "duration": 6,
    "start_time": "2022-12-14T12:46:08.920Z"
   },
   {
    "duration": 23,
    "start_time": "2022-12-14T12:46:08.947Z"
   },
   {
    "duration": 94,
    "start_time": "2022-12-14T12:46:33.039Z"
   },
   {
    "duration": 19,
    "start_time": "2022-12-14T12:46:35.101Z"
   },
   {
    "duration": 619,
    "start_time": "2022-12-14T12:46:42.368Z"
   },
   {
    "duration": 19,
    "start_time": "2022-12-14T12:46:42.990Z"
   },
   {
    "duration": 2712,
    "start_time": "2022-12-14T12:46:43.011Z"
   },
   {
    "duration": 7,
    "start_time": "2022-12-14T12:46:45.725Z"
   },
   {
    "duration": 19,
    "start_time": "2022-12-14T12:46:45.733Z"
   },
   {
    "duration": 6,
    "start_time": "2022-12-14T12:46:45.754Z"
   },
   {
    "duration": 12,
    "start_time": "2022-12-14T12:46:45.762Z"
   },
   {
    "duration": 10,
    "start_time": "2022-12-14T12:46:48.630Z"
   },
   {
    "duration": 23,
    "start_time": "2022-12-14T12:48:08.893Z"
   },
   {
    "duration": 2136,
    "start_time": "2022-12-14T12:48:28.036Z"
   },
   {
    "duration": 2210,
    "start_time": "2022-12-14T12:48:52.383Z"
   },
   {
    "duration": 2202,
    "start_time": "2022-12-14T12:48:54.878Z"
   },
   {
    "duration": 12,
    "start_time": "2022-12-14T12:49:10.109Z"
   },
   {
    "duration": 2010,
    "start_time": "2022-12-14T12:49:47.839Z"
   },
   {
    "duration": 2376,
    "start_time": "2022-12-14T12:50:27.070Z"
   },
   {
    "duration": 2462,
    "start_time": "2022-12-14T12:50:30.485Z"
   },
   {
    "duration": 2404,
    "start_time": "2022-12-14T12:50:39.487Z"
   },
   {
    "duration": 2104,
    "start_time": "2022-12-14T12:50:46.201Z"
   },
   {
    "duration": 2084,
    "start_time": "2022-12-14T12:51:10.145Z"
   },
   {
    "duration": 230,
    "start_time": "2022-12-14T12:51:53.619Z"
   },
   {
    "duration": 2143,
    "start_time": "2022-12-14T12:52:20.673Z"
   },
   {
    "duration": 2263,
    "start_time": "2022-12-14T12:52:44.179Z"
   },
   {
    "duration": 619,
    "start_time": "2022-12-14T12:52:55.369Z"
   },
   {
    "duration": 16,
    "start_time": "2022-12-14T12:52:55.990Z"
   },
   {
    "duration": 2658,
    "start_time": "2022-12-14T12:52:56.008Z"
   },
   {
    "duration": 7,
    "start_time": "2022-12-14T12:52:58.670Z"
   },
   {
    "duration": 18,
    "start_time": "2022-12-14T12:52:58.679Z"
   },
   {
    "duration": 7,
    "start_time": "2022-12-14T12:52:58.699Z"
   },
   {
    "duration": 2187,
    "start_time": "2022-12-14T12:53:07.633Z"
   },
   {
    "duration": 5,
    "start_time": "2022-12-14T12:53:14.077Z"
   },
   {
    "duration": 2059,
    "start_time": "2022-12-14T12:53:15.576Z"
   },
   {
    "duration": 48,
    "start_time": "2022-12-14T12:53:26.467Z"
   },
   {
    "duration": 8,
    "start_time": "2022-12-14T12:53:39.404Z"
   },
   {
    "duration": 2242,
    "start_time": "2022-12-14T12:53:53.536Z"
   },
   {
    "duration": 13,
    "start_time": "2022-12-14T12:53:56.937Z"
   },
   {
    "duration": 6,
    "start_time": "2022-12-14T12:54:07.268Z"
   },
   {
    "duration": 2350,
    "start_time": "2022-12-14T12:54:12.947Z"
   },
   {
    "duration": 2220,
    "start_time": "2022-12-14T12:54:30.753Z"
   },
   {
    "duration": 6,
    "start_time": "2022-12-14T12:54:33.987Z"
   },
   {
    "duration": 56,
    "start_time": "2022-12-14T12:56:16.674Z"
   },
   {
    "duration": 51,
    "start_time": "2022-12-14T12:58:49.315Z"
   },
   {
    "duration": 1813,
    "start_time": "2022-12-14T12:58:52.826Z"
   },
   {
    "duration": 8,
    "start_time": "2022-12-14T12:58:56.771Z"
   },
   {
    "duration": 2606,
    "start_time": "2022-12-14T12:59:03.305Z"
   },
   {
    "duration": 6,
    "start_time": "2022-12-14T12:59:05.970Z"
   },
   {
    "duration": 603,
    "start_time": "2022-12-14T12:59:14.894Z"
   },
   {
    "duration": 17,
    "start_time": "2022-12-14T12:59:15.499Z"
   },
   {
    "duration": 2633,
    "start_time": "2022-12-14T12:59:15.518Z"
   },
   {
    "duration": 18,
    "start_time": "2022-12-14T12:59:18.154Z"
   },
   {
    "duration": 33,
    "start_time": "2022-12-14T12:59:18.176Z"
   },
   {
    "duration": 7,
    "start_time": "2022-12-14T12:59:18.211Z"
   },
   {
    "duration": 2343,
    "start_time": "2022-12-14T12:59:18.220Z"
   },
   {
    "duration": 9,
    "start_time": "2022-12-14T12:59:20.568Z"
   },
   {
    "duration": 2090,
    "start_time": "2022-12-14T12:59:25.879Z"
   },
   {
    "duration": 11,
    "start_time": "2022-12-14T13:00:11.570Z"
   },
   {
    "duration": 7,
    "start_time": "2022-12-14T13:00:13.368Z"
   },
   {
    "duration": 19,
    "start_time": "2022-12-14T13:00:15.647Z"
   },
   {
    "duration": 7,
    "start_time": "2022-12-14T13:00:17.285Z"
   },
   {
    "duration": 9,
    "start_time": "2022-12-14T13:00:32.140Z"
   },
   {
    "duration": 7,
    "start_time": "2022-12-14T13:00:33.871Z"
   },
   {
    "duration": 7,
    "start_time": "2022-12-14T13:00:37.742Z"
   },
   {
    "duration": 12,
    "start_time": "2022-12-14T13:00:44.217Z"
   },
   {
    "duration": 13,
    "start_time": "2022-12-14T13:00:46.005Z"
   },
   {
    "duration": 9,
    "start_time": "2022-12-14T13:00:47.916Z"
   },
   {
    "duration": 294,
    "start_time": "2022-12-14T13:03:15.285Z"
   },
   {
    "duration": 11,
    "start_time": "2022-12-14T13:03:18.303Z"
   },
   {
    "duration": 22,
    "start_time": "2022-12-14T13:03:27.541Z"
   },
   {
    "duration": 6,
    "start_time": "2022-12-14T13:03:29.367Z"
   },
   {
    "duration": 17,
    "start_time": "2022-12-14T13:03:31.699Z"
   },
   {
    "duration": 18,
    "start_time": "2022-12-14T13:03:35.369Z"
   },
   {
    "duration": 264,
    "start_time": "2022-12-14T13:03:39.522Z"
   },
   {
    "duration": 238,
    "start_time": "2022-12-14T13:03:41.758Z"
   },
   {
    "duration": 584,
    "start_time": "2022-12-14T13:03:51.973Z"
   },
   {
    "duration": 22,
    "start_time": "2022-12-14T13:03:52.560Z"
   },
   {
    "duration": 2724,
    "start_time": "2022-12-14T13:03:52.584Z"
   },
   {
    "duration": 7,
    "start_time": "2022-12-14T13:03:55.310Z"
   },
   {
    "duration": 15,
    "start_time": "2022-12-14T13:03:55.319Z"
   },
   {
    "duration": 5,
    "start_time": "2022-12-14T13:03:55.336Z"
   },
   {
    "duration": 287,
    "start_time": "2022-12-14T13:03:55.343Z"
   },
   {
    "duration": 0,
    "start_time": "2022-12-14T13:03:55.632Z"
   },
   {
    "duration": 10,
    "start_time": "2022-12-14T13:04:05.642Z"
   },
   {
    "duration": 5,
    "start_time": "2022-12-14T13:04:07.705Z"
   },
   {
    "duration": 15,
    "start_time": "2022-12-14T13:07:04.071Z"
   },
   {
    "duration": 14,
    "start_time": "2022-12-14T13:07:06.199Z"
   },
   {
    "duration": 5,
    "start_time": "2022-12-14T13:07:12.440Z"
   },
   {
    "duration": 9,
    "start_time": "2022-12-14T13:07:14.568Z"
   },
   {
    "duration": 7,
    "start_time": "2022-12-14T13:07:17.471Z"
   },
   {
    "duration": 7,
    "start_time": "2022-12-14T13:07:20.592Z"
   },
   {
    "duration": 6,
    "start_time": "2022-12-14T13:07:25.595Z"
   },
   {
    "duration": 4,
    "start_time": "2022-12-14T13:07:26.918Z"
   },
   {
    "duration": 7,
    "start_time": "2022-12-14T13:07:28.353Z"
   },
   {
    "duration": 656,
    "start_time": "2022-12-14T13:07:36.731Z"
   },
   {
    "duration": 21,
    "start_time": "2022-12-14T13:07:37.389Z"
   },
   {
    "duration": 2622,
    "start_time": "2022-12-14T13:07:37.412Z"
   },
   {
    "duration": 7,
    "start_time": "2022-12-14T13:07:40.037Z"
   },
   {
    "duration": 29,
    "start_time": "2022-12-14T13:07:40.046Z"
   },
   {
    "duration": 24,
    "start_time": "2022-12-14T13:07:40.077Z"
   },
   {
    "duration": 20,
    "start_time": "2022-12-14T13:07:40.103Z"
   },
   {
    "duration": 18,
    "start_time": "2022-12-14T13:07:40.125Z"
   },
   {
    "duration": 7,
    "start_time": "2022-12-14T13:07:46.174Z"
   },
   {
    "duration": 6,
    "start_time": "2022-12-14T13:07:48.247Z"
   },
   {
    "duration": 7,
    "start_time": "2022-12-14T13:07:49.609Z"
   },
   {
    "duration": 5,
    "start_time": "2022-12-14T13:07:52.333Z"
   },
   {
    "duration": 7,
    "start_time": "2022-12-14T13:07:53.996Z"
   },
   {
    "duration": 8,
    "start_time": "2022-12-14T13:08:10.350Z"
   },
   {
    "duration": 7,
    "start_time": "2022-12-14T13:08:12.616Z"
   },
   {
    "duration": 7,
    "start_time": "2022-12-14T13:08:15.099Z"
   },
   {
    "duration": 8,
    "start_time": "2022-12-14T13:08:16.467Z"
   },
   {
    "duration": 37,
    "start_time": "2022-12-14T13:08:19.954Z"
   },
   {
    "duration": 18,
    "start_time": "2022-12-14T13:08:23.711Z"
   },
   {
    "duration": 20,
    "start_time": "2022-12-14T13:08:26.152Z"
   },
   {
    "duration": 12,
    "start_time": "2022-12-14T13:08:28.118Z"
   },
   {
    "duration": 7,
    "start_time": "2022-12-14T13:08:30.102Z"
   },
   {
    "duration": 534,
    "start_time": "2022-12-14T13:09:00.442Z"
   },
   {
    "duration": 23,
    "start_time": "2022-12-14T13:09:04.807Z"
   },
   {
    "duration": 7,
    "start_time": "2022-12-14T13:09:07.011Z"
   },
   {
    "duration": 245,
    "start_time": "2022-12-14T13:09:12.585Z"
   },
   {
    "duration": 21,
    "start_time": "2022-12-14T13:09:15.673Z"
   },
   {
    "duration": 32,
    "start_time": "2022-12-14T13:09:57.541Z"
   },
   {
    "duration": 8,
    "start_time": "2022-12-14T13:09:59.214Z"
   },
   {
    "duration": 33,
    "start_time": "2022-12-14T13:10:02.541Z"
   },
   {
    "duration": 9,
    "start_time": "2022-12-14T13:10:04.165Z"
   },
   {
    "duration": 95,
    "start_time": "2022-12-14T13:10:09.018Z"
   },
   {
    "duration": 17,
    "start_time": "2022-12-14T13:10:16.219Z"
   },
   {
    "duration": 6,
    "start_time": "2022-12-14T13:10:18.311Z"
   },
   {
    "duration": 36,
    "start_time": "2022-12-14T13:11:11.681Z"
   },
   {
    "duration": 7,
    "start_time": "2022-12-14T13:11:14.434Z"
   },
   {
    "duration": 34,
    "start_time": "2022-12-14T13:12:30.839Z"
   },
   {
    "duration": 18,
    "start_time": "2022-12-14T13:14:02.092Z"
   },
   {
    "duration": 28,
    "start_time": "2022-12-14T13:14:08.645Z"
   },
   {
    "duration": 27,
    "start_time": "2022-12-14T13:14:12.647Z"
   },
   {
    "duration": 25,
    "start_time": "2022-12-14T13:14:15.595Z"
   },
   {
    "duration": 6,
    "start_time": "2022-12-14T13:15:00.112Z"
   },
   {
    "duration": 599,
    "start_time": "2022-12-14T13:15:06.071Z"
   },
   {
    "duration": 18,
    "start_time": "2022-12-14T13:15:06.673Z"
   },
   {
    "duration": 2576,
    "start_time": "2022-12-14T13:15:06.694Z"
   },
   {
    "duration": 7,
    "start_time": "2022-12-14T13:15:09.273Z"
   },
   {
    "duration": 11,
    "start_time": "2022-12-14T13:15:09.282Z"
   },
   {
    "duration": 6,
    "start_time": "2022-12-14T13:15:09.294Z"
   },
   {
    "duration": 101,
    "start_time": "2022-12-14T13:15:09.302Z"
   },
   {
    "duration": 7,
    "start_time": "2022-12-14T13:15:09.405Z"
   },
   {
    "duration": 64,
    "start_time": "2022-12-14T13:15:29.715Z"
   },
   {
    "duration": 73,
    "start_time": "2022-12-14T13:15:31.877Z"
   },
   {
    "duration": 7,
    "start_time": "2022-12-14T13:15:33.504Z"
   },
   {
    "duration": 56,
    "start_time": "2022-12-14T13:15:43.370Z"
   },
   {
    "duration": 7,
    "start_time": "2022-12-14T13:15:45.246Z"
   },
   {
    "duration": 612,
    "start_time": "2022-12-14T13:15:51.443Z"
   },
   {
    "duration": 19,
    "start_time": "2022-12-14T13:15:52.058Z"
   },
   {
    "duration": 2691,
    "start_time": "2022-12-14T13:15:52.079Z"
   },
   {
    "duration": 10,
    "start_time": "2022-12-14T13:15:54.773Z"
   },
   {
    "duration": 33,
    "start_time": "2022-12-14T13:15:54.786Z"
   },
   {
    "duration": 7,
    "start_time": "2022-12-14T13:15:54.822Z"
   },
   {
    "duration": 95,
    "start_time": "2022-12-14T13:15:54.831Z"
   },
   {
    "duration": 8,
    "start_time": "2022-12-14T13:15:54.928Z"
   },
   {
    "duration": 611,
    "start_time": "2022-12-14T13:16:50.079Z"
   },
   {
    "duration": 18,
    "start_time": "2022-12-14T13:16:50.693Z"
   },
   {
    "duration": 2594,
    "start_time": "2022-12-14T13:16:50.713Z"
   },
   {
    "duration": 7,
    "start_time": "2022-12-14T13:16:53.309Z"
   },
   {
    "duration": 30,
    "start_time": "2022-12-14T13:16:53.318Z"
   },
   {
    "duration": 18,
    "start_time": "2022-12-14T13:16:53.350Z"
   },
   {
    "duration": 115,
    "start_time": "2022-12-14T13:16:53.371Z"
   },
   {
    "duration": 0,
    "start_time": "2022-12-14T13:16:53.488Z"
   },
   {
    "duration": 30,
    "start_time": "2022-12-14T13:17:02.618Z"
   },
   {
    "duration": 42,
    "start_time": "2022-12-14T13:17:05.649Z"
   },
   {
    "duration": 8,
    "start_time": "2022-12-14T13:17:08.416Z"
   },
   {
    "duration": 22,
    "start_time": "2022-12-14T13:18:12.700Z"
   },
   {
    "duration": 36,
    "start_time": "2022-12-14T13:18:15.130Z"
   },
   {
    "duration": 24,
    "start_time": "2022-12-14T13:18:16.713Z"
   },
   {
    "duration": 6,
    "start_time": "2022-12-14T13:18:18.167Z"
   },
   {
    "duration": 33,
    "start_time": "2022-12-14T13:18:49.504Z"
   },
   {
    "duration": 10,
    "start_time": "2022-12-14T13:18:51.767Z"
   },
   {
    "duration": 9,
    "start_time": "2022-12-14T13:18:54.621Z"
   },
   {
    "duration": 10,
    "start_time": "2022-12-14T13:18:56.067Z"
   },
   {
    "duration": 11,
    "start_time": "2022-12-14T13:22:24.704Z"
   },
   {
    "duration": 8,
    "start_time": "2022-12-14T13:22:26.104Z"
   },
   {
    "duration": 11,
    "start_time": "2022-12-14T13:22:33.686Z"
   },
   {
    "duration": 9,
    "start_time": "2022-12-14T13:22:35.928Z"
   },
   {
    "duration": 599,
    "start_time": "2022-12-14T13:22:40.240Z"
   },
   {
    "duration": 28,
    "start_time": "2022-12-14T13:22:40.842Z"
   },
   {
    "duration": 2534,
    "start_time": "2022-12-14T13:22:40.872Z"
   },
   {
    "duration": 8,
    "start_time": "2022-12-14T13:22:43.410Z"
   },
   {
    "duration": 15,
    "start_time": "2022-12-14T13:22:43.419Z"
   },
   {
    "duration": 32,
    "start_time": "2022-12-14T13:22:43.436Z"
   },
   {
    "duration": 28,
    "start_time": "2022-12-14T13:22:43.469Z"
   },
   {
    "duration": 6,
    "start_time": "2022-12-14T13:22:43.499Z"
   },
   {
    "duration": 56,
    "start_time": "2022-12-14T13:23:27.734Z"
   },
   {
    "duration": 62,
    "start_time": "2022-12-14T13:23:52.238Z"
   },
   {
    "duration": 25,
    "start_time": "2022-12-14T13:24:20.996Z"
   },
   {
    "duration": 6,
    "start_time": "2022-12-14T13:24:23.278Z"
   },
   {
    "duration": 18,
    "start_time": "2022-12-14T13:24:37.310Z"
   },
   {
    "duration": 5,
    "start_time": "2022-12-14T13:24:38.930Z"
   },
   {
    "duration": 560,
    "start_time": "2022-12-14T13:24:43.664Z"
   },
   {
    "duration": 16,
    "start_time": "2022-12-14T13:24:44.226Z"
   },
   {
    "duration": 2424,
    "start_time": "2022-12-14T13:24:44.243Z"
   },
   {
    "duration": 7,
    "start_time": "2022-12-14T13:24:46.669Z"
   },
   {
    "duration": 12,
    "start_time": "2022-12-14T13:24:46.679Z"
   },
   {
    "duration": 6,
    "start_time": "2022-12-14T13:24:46.693Z"
   },
   {
    "duration": 30,
    "start_time": "2022-12-14T13:24:46.700Z"
   },
   {
    "duration": 25,
    "start_time": "2022-12-14T13:24:46.732Z"
   },
   {
    "duration": 24,
    "start_time": "2022-12-14T13:24:47.223Z"
   },
   {
    "duration": 6,
    "start_time": "2022-12-14T13:24:52.078Z"
   },
   {
    "duration": 32,
    "start_time": "2022-12-14T13:25:52.197Z"
   },
   {
    "duration": 9,
    "start_time": "2022-12-14T13:25:53.710Z"
   },
   {
    "duration": 40,
    "start_time": "2022-12-14T13:26:40.460Z"
   },
   {
    "duration": 104,
    "start_time": "2022-12-14T13:27:30.242Z"
   },
   {
    "duration": 42,
    "start_time": "2022-12-14T13:27:33.698Z"
   },
   {
    "duration": 39,
    "start_time": "2022-12-14T13:28:10.937Z"
   },
   {
    "duration": 35,
    "start_time": "2022-12-14T13:28:15.808Z"
   },
   {
    "duration": 34,
    "start_time": "2022-12-14T13:28:36.958Z"
   },
   {
    "duration": 4,
    "start_time": "2022-12-14T13:28:42.513Z"
   },
   {
    "duration": 24,
    "start_time": "2022-12-14T13:28:46.271Z"
   },
   {
    "duration": 7,
    "start_time": "2022-12-14T13:28:51.538Z"
   },
   {
    "duration": 24,
    "start_time": "2022-12-14T13:29:08.601Z"
   },
   {
    "duration": 23,
    "start_time": "2022-12-14T13:29:18.605Z"
   },
   {
    "duration": 7,
    "start_time": "2022-12-14T13:29:20.691Z"
   },
   {
    "duration": 24,
    "start_time": "2022-12-14T13:29:28.389Z"
   },
   {
    "duration": 44,
    "start_time": "2022-12-14T13:29:38.116Z"
   },
   {
    "duration": 579,
    "start_time": "2022-12-14T13:30:15.598Z"
   },
   {
    "duration": 17,
    "start_time": "2022-12-14T13:30:16.179Z"
   },
   {
    "duration": 2648,
    "start_time": "2022-12-14T13:30:16.198Z"
   },
   {
    "duration": 7,
    "start_time": "2022-12-14T13:30:18.849Z"
   },
   {
    "duration": 19,
    "start_time": "2022-12-14T13:30:18.857Z"
   },
   {
    "duration": 9,
    "start_time": "2022-12-14T13:30:18.878Z"
   },
   {
    "duration": 38,
    "start_time": "2022-12-14T13:30:18.889Z"
   },
   {
    "duration": 6,
    "start_time": "2022-12-14T13:30:18.928Z"
   },
   {
    "duration": 79,
    "start_time": "2022-12-14T13:30:18.936Z"
   },
   {
    "duration": 580,
    "start_time": "2022-12-14T13:31:23.976Z"
   },
   {
    "duration": 22,
    "start_time": "2022-12-14T13:31:24.559Z"
   },
   {
    "duration": 2452,
    "start_time": "2022-12-14T13:31:24.583Z"
   },
   {
    "duration": 7,
    "start_time": "2022-12-14T13:31:27.038Z"
   },
   {
    "duration": 13,
    "start_time": "2022-12-14T13:31:27.047Z"
   },
   {
    "duration": 6,
    "start_time": "2022-12-14T13:31:27.062Z"
   },
   {
    "duration": 28,
    "start_time": "2022-12-14T13:31:27.070Z"
   },
   {
    "duration": 8,
    "start_time": "2022-12-14T13:31:27.100Z"
   },
   {
    "duration": 78,
    "start_time": "2022-12-14T13:31:27.110Z"
   },
   {
    "duration": 44,
    "start_time": "2022-12-14T13:32:00.801Z"
   },
   {
    "duration": 8,
    "start_time": "2022-12-14T13:32:03.937Z"
   },
   {
    "duration": 593,
    "start_time": "2022-12-14T13:32:12.542Z"
   },
   {
    "duration": 18,
    "start_time": "2022-12-14T13:32:13.137Z"
   },
   {
    "duration": 2490,
    "start_time": "2022-12-14T13:32:13.156Z"
   },
   {
    "duration": 6,
    "start_time": "2022-12-14T13:32:15.649Z"
   },
   {
    "duration": 15,
    "start_time": "2022-12-14T13:32:15.657Z"
   },
   {
    "duration": 5,
    "start_time": "2022-12-14T13:32:15.674Z"
   },
   {
    "duration": 39,
    "start_time": "2022-12-14T13:32:15.681Z"
   },
   {
    "duration": 7,
    "start_time": "2022-12-14T13:32:15.721Z"
   },
   {
    "duration": 43,
    "start_time": "2022-12-14T13:32:15.755Z"
   },
   {
    "duration": 46,
    "start_time": "2022-12-15T10:14:50.864Z"
   },
   {
    "duration": 566,
    "start_time": "2022-12-15T10:14:57.212Z"
   },
   {
    "duration": 13,
    "start_time": "2022-12-15T10:14:57.780Z"
   },
   {
    "duration": 2107,
    "start_time": "2022-12-15T10:14:57.794Z"
   },
   {
    "duration": 6,
    "start_time": "2022-12-15T10:14:59.903Z"
   },
   {
    "duration": 11,
    "start_time": "2022-12-15T10:14:59.911Z"
   },
   {
    "duration": 6,
    "start_time": "2022-12-15T10:14:59.923Z"
   },
   {
    "duration": 9,
    "start_time": "2022-12-15T10:14:59.930Z"
   },
   {
    "duration": 8,
    "start_time": "2022-12-15T10:14:59.941Z"
   },
   {
    "duration": 59,
    "start_time": "2022-12-15T10:14:59.950Z"
   },
   {
    "duration": 530,
    "start_time": "2022-12-15T10:18:03.862Z"
   },
   {
    "duration": 13,
    "start_time": "2022-12-15T10:18:04.394Z"
   },
   {
    "duration": 2016,
    "start_time": "2022-12-15T10:18:04.409Z"
   },
   {
    "duration": 5,
    "start_time": "2022-12-15T10:18:06.428Z"
   },
   {
    "duration": 11,
    "start_time": "2022-12-15T10:18:06.435Z"
   },
   {
    "duration": 4,
    "start_time": "2022-12-15T10:18:06.448Z"
   },
   {
    "duration": 68,
    "start_time": "2022-12-15T10:18:06.453Z"
   },
   {
    "duration": 0,
    "start_time": "2022-12-15T10:18:06.522Z"
   },
   {
    "duration": 0,
    "start_time": "2022-12-15T10:18:06.523Z"
   },
   {
    "duration": 82,
    "start_time": "2022-12-15T10:18:22.108Z"
   },
   {
    "duration": 89,
    "start_time": "2022-12-15T10:18:47.600Z"
   },
   {
    "duration": 72,
    "start_time": "2022-12-15T10:20:31.598Z"
   },
   {
    "duration": 7,
    "start_time": "2022-12-15T10:20:46.192Z"
   },
   {
    "duration": 6,
    "start_time": "2022-12-15T10:20:49.852Z"
   },
   {
    "duration": 45,
    "start_time": "2022-12-15T10:21:00.733Z"
   },
   {
    "duration": 70,
    "start_time": "2022-12-15T10:21:11.378Z"
   },
   {
    "duration": 6,
    "start_time": "2022-12-15T10:21:24.203Z"
   },
   {
    "duration": 6,
    "start_time": "2022-12-15T10:21:25.886Z"
   },
   {
    "duration": 37,
    "start_time": "2022-12-15T10:21:27.816Z"
   },
   {
    "duration": 6,
    "start_time": "2022-12-15T10:22:03.811Z"
   },
   {
    "duration": 5,
    "start_time": "2022-12-15T10:22:06.398Z"
   },
   {
    "duration": 41,
    "start_time": "2022-12-15T10:22:09.128Z"
   },
   {
    "duration": 6,
    "start_time": "2022-12-15T10:22:12.237Z"
   },
   {
    "duration": 5,
    "start_time": "2022-12-15T10:22:13.837Z"
   },
   {
    "duration": 38,
    "start_time": "2022-12-15T10:22:15.474Z"
   },
   {
    "duration": 13,
    "start_time": "2022-12-15T11:34:52.979Z"
   },
   {
    "duration": 6,
    "start_time": "2022-12-15T11:35:52.869Z"
   },
   {
    "duration": 7,
    "start_time": "2022-12-15T11:36:26.695Z"
   },
   {
    "duration": 7,
    "start_time": "2022-12-15T11:36:29.595Z"
   },
   {
    "duration": 5,
    "start_time": "2022-12-15T11:36:35.912Z"
   },
   {
    "duration": 62,
    "start_time": "2022-12-15T11:36:43.143Z"
   },
   {
    "duration": 6,
    "start_time": "2022-12-15T11:38:11.843Z"
   },
   {
    "duration": 5,
    "start_time": "2022-12-15T11:38:14.807Z"
   },
   {
    "duration": 5,
    "start_time": "2022-12-15T11:38:17.000Z"
   },
   {
    "duration": 1274,
    "start_time": "2022-12-15T11:38:53.787Z"
   },
   {
    "duration": 1283,
    "start_time": "2022-12-15T11:38:59.600Z"
   },
   {
    "duration": 5,
    "start_time": "2022-12-15T11:39:10.354Z"
   },
   {
    "duration": 5,
    "start_time": "2022-12-15T11:40:25.325Z"
   },
   {
    "duration": 9,
    "start_time": "2022-12-15T11:40:33.021Z"
   },
   {
    "duration": 5,
    "start_time": "2022-12-15T11:40:50.081Z"
   },
   {
    "duration": 5,
    "start_time": "2022-12-15T11:41:03.082Z"
   },
   {
    "duration": 3202,
    "start_time": "2022-12-15T11:46:56.013Z"
   },
   {
    "duration": 39,
    "start_time": "2022-12-15T11:47:01.562Z"
   },
   {
    "duration": 11,
    "start_time": "2022-12-15T11:47:08.340Z"
   },
   {
    "duration": 9,
    "start_time": "2022-12-15T11:47:11.555Z"
   },
   {
    "duration": 2516,
    "start_time": "2022-12-15T11:47:27.767Z"
   },
   {
    "duration": 10,
    "start_time": "2022-12-15T11:47:41.310Z"
   },
   {
    "duration": 9,
    "start_time": "2022-12-15T11:47:45.901Z"
   },
   {
    "duration": 5,
    "start_time": "2022-12-15T11:47:48.443Z"
   },
   {
    "duration": 2542,
    "start_time": "2022-12-15T11:47:50.549Z"
   },
   {
    "duration": 43,
    "start_time": "2022-12-15T11:47:55.565Z"
   },
   {
    "duration": 9,
    "start_time": "2022-12-15T11:48:03.069Z"
   },
   {
    "duration": 3,
    "start_time": "2022-12-15T11:53:37.684Z"
   },
   {
    "duration": 9,
    "start_time": "2022-12-15T11:53:44.389Z"
   },
   {
    "duration": 512,
    "start_time": "2022-12-15T11:53:57.834Z"
   },
   {
    "duration": 15,
    "start_time": "2022-12-15T11:53:58.348Z"
   },
   {
    "duration": 2080,
    "start_time": "2022-12-15T11:53:58.366Z"
   },
   {
    "duration": 6,
    "start_time": "2022-12-15T11:54:00.448Z"
   },
   {
    "duration": 33,
    "start_time": "2022-12-15T11:54:00.456Z"
   },
   {
    "duration": 8,
    "start_time": "2022-12-15T11:54:00.490Z"
   },
   {
    "duration": 44,
    "start_time": "2022-12-15T11:54:00.500Z"
   },
   {
    "duration": 105,
    "start_time": "2022-12-15T11:54:00.545Z"
   },
   {
    "duration": 0,
    "start_time": "2022-12-15T11:54:00.652Z"
   },
   {
    "duration": 0,
    "start_time": "2022-12-15T11:54:00.653Z"
   },
   {
    "duration": 0,
    "start_time": "2022-12-15T11:54:00.654Z"
   },
   {
    "duration": 0,
    "start_time": "2022-12-15T11:54:00.655Z"
   },
   {
    "duration": 0,
    "start_time": "2022-12-15T11:54:00.656Z"
   },
   {
    "duration": 0,
    "start_time": "2022-12-15T11:54:00.657Z"
   },
   {
    "duration": 12,
    "start_time": "2022-12-15T11:54:14.916Z"
   },
   {
    "duration": 5,
    "start_time": "2022-12-15T11:54:43.238Z"
   },
   {
    "duration": 1218,
    "start_time": "2022-12-15T11:54:44.829Z"
   },
   {
    "duration": 4,
    "start_time": "2022-12-15T11:54:47.555Z"
   },
   {
    "duration": 5,
    "start_time": "2022-12-15T11:54:49.134Z"
   },
   {
    "duration": 10,
    "start_time": "2022-12-15T11:54:51.805Z"
   },
   {
    "duration": 12,
    "start_time": "2022-12-15T11:55:51.365Z"
   },
   {
    "duration": 7,
    "start_time": "2022-12-15T11:55:53.063Z"
   },
   {
    "duration": 4,
    "start_time": "2022-12-15T11:55:53.666Z"
   },
   {
    "duration": 13,
    "start_time": "2022-12-15T11:55:59.002Z"
   },
   {
    "duration": 1107,
    "start_time": "2022-12-15T11:56:03.248Z"
   },
   {
    "duration": 6,
    "start_time": "2022-12-15T11:56:16.706Z"
   },
   {
    "duration": 5,
    "start_time": "2022-12-15T11:56:20.405Z"
   },
   {
    "duration": 6,
    "start_time": "2022-12-15T11:56:55.489Z"
   },
   {
    "duration": 5,
    "start_time": "2022-12-15T11:57:13.021Z"
   },
   {
    "duration": 6,
    "start_time": "2022-12-15T11:57:41.137Z"
   },
   {
    "duration": 5,
    "start_time": "2022-12-15T11:57:43.908Z"
   },
   {
    "duration": 5,
    "start_time": "2022-12-15T11:58:04.600Z"
   },
   {
    "duration": 10,
    "start_time": "2022-12-15T11:58:07.427Z"
   },
   {
    "duration": 6,
    "start_time": "2022-12-15T12:01:59.568Z"
   },
   {
    "duration": 9,
    "start_time": "2022-12-15T12:02:02.407Z"
   },
   {
    "duration": 4,
    "start_time": "2022-12-15T12:02:07.887Z"
   },
   {
    "duration": 6,
    "start_time": "2022-12-15T12:03:46.342Z"
   },
   {
    "duration": 6,
    "start_time": "2022-12-15T12:04:11.160Z"
   },
   {
    "duration": 44,
    "start_time": "2022-12-15T12:04:18.092Z"
   },
   {
    "duration": 6,
    "start_time": "2022-12-15T12:05:16.307Z"
   },
   {
    "duration": 5,
    "start_time": "2022-12-15T12:07:56.487Z"
   },
   {
    "duration": 6,
    "start_time": "2022-12-15T12:08:07.456Z"
   },
   {
    "duration": 11,
    "start_time": "2022-12-15T12:08:17.084Z"
   },
   {
    "duration": 7,
    "start_time": "2022-12-15T12:08:21.820Z"
   },
   {
    "duration": 10,
    "start_time": "2022-12-15T12:08:26.486Z"
   },
   {
    "duration": 10,
    "start_time": "2022-12-15T12:08:47.010Z"
   },
   {
    "duration": 7,
    "start_time": "2022-12-15T12:09:21.670Z"
   },
   {
    "duration": 13,
    "start_time": "2022-12-15T12:09:26.231Z"
   },
   {
    "duration": 8,
    "start_time": "2022-12-15T12:09:38.608Z"
   },
   {
    "duration": 6,
    "start_time": "2022-12-15T12:09:40.658Z"
   },
   {
    "duration": 9,
    "start_time": "2022-12-15T12:09:44.493Z"
   },
   {
    "duration": 7,
    "start_time": "2022-12-15T12:12:28.306Z"
   },
   {
    "duration": 9,
    "start_time": "2022-12-15T12:12:31.920Z"
   },
   {
    "duration": 4,
    "start_time": "2022-12-15T12:13:08.691Z"
   },
   {
    "duration": 3,
    "start_time": "2022-12-15T12:13:52.260Z"
   },
   {
    "duration": 4,
    "start_time": "2022-12-15T12:13:53.789Z"
   },
   {
    "duration": 9,
    "start_time": "2022-12-15T12:13:59.044Z"
   },
   {
    "duration": 5,
    "start_time": "2022-12-15T12:14:44.713Z"
   },
   {
    "duration": 1389,
    "start_time": "2022-12-15T12:15:51.920Z"
   },
   {
    "duration": 1187,
    "start_time": "2022-12-15T12:16:01.572Z"
   },
   {
    "duration": 1346,
    "start_time": "2022-12-15T12:16:07.419Z"
   },
   {
    "duration": 1226,
    "start_time": "2022-12-15T12:16:18.157Z"
   },
   {
    "duration": 4,
    "start_time": "2022-12-15T12:16:23.135Z"
   },
   {
    "duration": 9,
    "start_time": "2022-12-15T12:16:26.393Z"
   },
   {
    "duration": 9,
    "start_time": "2022-12-15T12:16:36.042Z"
   },
   {
    "duration": 1163,
    "start_time": "2022-12-15T12:16:40.779Z"
   },
   {
    "duration": 5,
    "start_time": "2022-12-15T12:16:51.981Z"
   },
   {
    "duration": 1250,
    "start_time": "2022-12-15T12:16:53.375Z"
   },
   {
    "duration": 35,
    "start_time": "2022-12-15T12:17:02.127Z"
   },
   {
    "duration": 8,
    "start_time": "2022-12-15T12:17:05.454Z"
   },
   {
    "duration": 5,
    "start_time": "2022-12-15T12:17:35.004Z"
   },
   {
    "duration": 5,
    "start_time": "2022-12-15T12:17:36.490Z"
   },
   {
    "duration": 5,
    "start_time": "2022-12-15T12:17:37.786Z"
   },
   {
    "duration": 1207,
    "start_time": "2022-12-15T12:17:39.271Z"
   },
   {
    "duration": 10,
    "start_time": "2022-12-15T12:17:40.801Z"
   },
   {
    "duration": 12,
    "start_time": "2022-12-15T12:17:44.019Z"
   },
   {
    "duration": 1191,
    "start_time": "2022-12-15T12:17:57.048Z"
   },
   {
    "duration": 4,
    "start_time": "2022-12-15T12:17:59.987Z"
   },
   {
    "duration": 10,
    "start_time": "2022-12-15T12:18:17.054Z"
   },
   {
    "duration": 554,
    "start_time": "2022-12-15T12:18:47.177Z"
   },
   {
    "duration": 13,
    "start_time": "2022-12-15T12:18:47.733Z"
   },
   {
    "duration": 2022,
    "start_time": "2022-12-15T12:18:47.748Z"
   },
   {
    "duration": 6,
    "start_time": "2022-12-15T12:18:49.772Z"
   },
   {
    "duration": 15,
    "start_time": "2022-12-15T12:18:49.780Z"
   },
   {
    "duration": 5,
    "start_time": "2022-12-15T12:18:49.797Z"
   },
   {
    "duration": 7,
    "start_time": "2022-12-15T12:18:49.804Z"
   },
   {
    "duration": 9,
    "start_time": "2022-12-15T12:18:49.813Z"
   },
   {
    "duration": 4,
    "start_time": "2022-12-15T12:18:49.824Z"
   },
   {
    "duration": 1340,
    "start_time": "2022-12-15T12:18:49.831Z"
   },
   {
    "duration": 5,
    "start_time": "2022-12-15T12:18:51.173Z"
   },
   {
    "duration": 13,
    "start_time": "2022-12-15T12:18:51.180Z"
   },
   {
    "duration": 16,
    "start_time": "2022-12-15T12:18:51.194Z"
   },
   {
    "duration": 18,
    "start_time": "2022-12-15T12:18:51.211Z"
   },
   {
    "duration": 8,
    "start_time": "2022-12-15T12:18:51.231Z"
   },
   {
    "duration": 15,
    "start_time": "2022-12-15T12:18:51.241Z"
   },
   {
    "duration": 5,
    "start_time": "2022-12-15T12:18:51.257Z"
   },
   {
    "duration": 14,
    "start_time": "2022-12-15T12:18:51.264Z"
   },
   {
    "duration": 1216,
    "start_time": "2022-12-15T12:18:51.279Z"
   },
   {
    "duration": 7,
    "start_time": "2022-12-15T12:18:52.497Z"
   },
   {
    "duration": 5,
    "start_time": "2022-12-15T12:19:25.325Z"
   },
   {
    "duration": 1204,
    "start_time": "2022-12-15T12:19:26.643Z"
   },
   {
    "duration": 5,
    "start_time": "2022-12-15T12:20:20.563Z"
   },
   {
    "duration": 9,
    "start_time": "2022-12-15T12:20:22.926Z"
   },
   {
    "duration": 1221,
    "start_time": "2022-12-15T12:21:08.539Z"
   },
   {
    "duration": 9,
    "start_time": "2022-12-15T12:21:15.530Z"
   },
   {
    "duration": 547,
    "start_time": "2022-12-15T12:21:24.845Z"
   },
   {
    "duration": 14,
    "start_time": "2022-12-15T12:21:25.394Z"
   },
   {
    "duration": 2096,
    "start_time": "2022-12-15T12:21:25.409Z"
   },
   {
    "duration": 6,
    "start_time": "2022-12-15T12:21:27.508Z"
   },
   {
    "duration": 13,
    "start_time": "2022-12-15T12:21:27.516Z"
   },
   {
    "duration": 6,
    "start_time": "2022-12-15T12:21:27.531Z"
   },
   {
    "duration": 10,
    "start_time": "2022-12-15T12:21:27.538Z"
   },
   {
    "duration": 15,
    "start_time": "2022-12-15T12:21:27.549Z"
   },
   {
    "duration": 14,
    "start_time": "2022-12-15T12:21:27.565Z"
   },
   {
    "duration": 1195,
    "start_time": "2022-12-15T12:21:27.581Z"
   },
   {
    "duration": 4,
    "start_time": "2022-12-15T12:21:28.778Z"
   },
   {
    "duration": 13,
    "start_time": "2022-12-15T12:21:28.783Z"
   },
   {
    "duration": 10,
    "start_time": "2022-12-15T12:21:28.797Z"
   },
   {
    "duration": 14,
    "start_time": "2022-12-15T12:21:28.808Z"
   },
   {
    "duration": 6,
    "start_time": "2022-12-15T12:21:28.823Z"
   },
   {
    "duration": 7,
    "start_time": "2022-12-15T12:21:28.830Z"
   },
   {
    "duration": 5,
    "start_time": "2022-12-15T12:21:28.839Z"
   },
   {
    "duration": 7,
    "start_time": "2022-12-15T12:21:28.845Z"
   },
   {
    "duration": 1380,
    "start_time": "2022-12-15T12:21:28.853Z"
   },
   {
    "duration": 9,
    "start_time": "2022-12-15T12:21:30.235Z"
   },
   {
    "duration": 1181,
    "start_time": "2022-12-15T12:21:41.567Z"
   },
   {
    "duration": 9,
    "start_time": "2022-12-15T12:21:43.522Z"
   },
   {
    "duration": 2046,
    "start_time": "2022-12-15T12:25:19.667Z"
   },
   {
    "duration": 2051,
    "start_time": "2022-12-15T12:26:24.071Z"
   },
   {
    "duration": 1273,
    "start_time": "2022-12-15T12:26:32.459Z"
   },
   {
    "duration": 8,
    "start_time": "2022-12-15T12:26:37.825Z"
   },
   {
    "duration": 1491,
    "start_time": "2022-12-15T12:26:53.899Z"
   },
   {
    "duration": 67,
    "start_time": "2022-12-15T12:27:07.532Z"
   },
   {
    "duration": 67,
    "start_time": "2022-12-15T12:27:14.197Z"
   },
   {
    "duration": 68,
    "start_time": "2022-12-15T12:27:21.340Z"
   },
   {
    "duration": 1259,
    "start_time": "2022-12-15T12:27:43.510Z"
   },
   {
    "duration": 9,
    "start_time": "2022-12-15T12:27:47.727Z"
   },
   {
    "duration": 9,
    "start_time": "2022-12-15T12:27:50.992Z"
   },
   {
    "duration": 1302,
    "start_time": "2022-12-15T12:28:02.610Z"
   },
   {
    "duration": 10,
    "start_time": "2022-12-15T12:28:04.944Z"
   },
   {
    "duration": 1281,
    "start_time": "2022-12-15T12:28:12.338Z"
   },
   {
    "duration": 8,
    "start_time": "2022-12-15T12:28:15.469Z"
   },
   {
    "duration": 497,
    "start_time": "2022-12-15T12:28:21.712Z"
   },
   {
    "duration": 14,
    "start_time": "2022-12-15T12:28:22.211Z"
   },
   {
    "duration": 2102,
    "start_time": "2022-12-15T12:28:22.227Z"
   },
   {
    "duration": 7,
    "start_time": "2022-12-15T12:28:24.332Z"
   },
   {
    "duration": 22,
    "start_time": "2022-12-15T12:28:24.340Z"
   },
   {
    "duration": 6,
    "start_time": "2022-12-15T12:28:24.364Z"
   },
   {
    "duration": 4,
    "start_time": "2022-12-15T12:28:24.372Z"
   },
   {
    "duration": 18,
    "start_time": "2022-12-15T12:28:24.378Z"
   },
   {
    "duration": 10,
    "start_time": "2022-12-15T12:28:24.397Z"
   },
   {
    "duration": 1290,
    "start_time": "2022-12-15T12:28:24.409Z"
   },
   {
    "duration": 4,
    "start_time": "2022-12-15T12:28:25.701Z"
   },
   {
    "duration": 15,
    "start_time": "2022-12-15T12:28:25.706Z"
   },
   {
    "duration": 15,
    "start_time": "2022-12-15T12:28:25.722Z"
   },
   {
    "duration": 17,
    "start_time": "2022-12-15T12:28:25.738Z"
   },
   {
    "duration": 9,
    "start_time": "2022-12-15T12:28:25.756Z"
   },
   {
    "duration": 17,
    "start_time": "2022-12-15T12:28:25.767Z"
   },
   {
    "duration": 5,
    "start_time": "2022-12-15T12:28:25.785Z"
   },
   {
    "duration": 12,
    "start_time": "2022-12-15T12:28:25.791Z"
   },
   {
    "duration": 1314,
    "start_time": "2022-12-15T12:28:25.804Z"
   },
   {
    "duration": 9,
    "start_time": "2022-12-15T12:28:27.119Z"
   },
   {
    "duration": 1338,
    "start_time": "2022-12-15T12:29:33.949Z"
   },
   {
    "duration": 9,
    "start_time": "2022-12-15T12:29:36.713Z"
   },
   {
    "duration": 10,
    "start_time": "2022-12-15T12:29:38.692Z"
   },
   {
    "duration": 330,
    "start_time": "2022-12-15T12:31:42.569Z"
   },
   {
    "duration": 1248,
    "start_time": "2022-12-15T12:32:38.759Z"
   },
   {
    "duration": 8,
    "start_time": "2022-12-15T12:32:42.377Z"
   },
   {
    "duration": 1250,
    "start_time": "2022-12-15T12:32:54.449Z"
   },
   {
    "duration": 1228,
    "start_time": "2022-12-15T12:32:57.792Z"
   },
   {
    "duration": 1270,
    "start_time": "2022-12-15T12:33:44.690Z"
   },
   {
    "duration": 1215,
    "start_time": "2022-12-15T12:33:54.249Z"
   },
   {
    "duration": 1966,
    "start_time": "2022-12-15T12:34:10.566Z"
   },
   {
    "duration": 1254,
    "start_time": "2022-12-15T12:35:08.428Z"
   },
   {
    "duration": 1241,
    "start_time": "2022-12-15T12:35:39.342Z"
   },
   {
    "duration": 1421,
    "start_time": "2022-12-15T12:37:29.682Z"
   },
   {
    "duration": 1236,
    "start_time": "2022-12-15T12:37:33.780Z"
   },
   {
    "duration": 1177,
    "start_time": "2022-12-15T12:40:59.464Z"
   },
   {
    "duration": 13,
    "start_time": "2022-12-15T12:41:05.376Z"
   },
   {
    "duration": 5,
    "start_time": "2022-12-15T12:43:06.568Z"
   },
   {
    "duration": 1244,
    "start_time": "2022-12-15T12:43:19.320Z"
   },
   {
    "duration": 11,
    "start_time": "2022-12-15T12:43:35.573Z"
   },
   {
    "duration": 1230,
    "start_time": "2022-12-15T12:43:43.252Z"
   },
   {
    "duration": 10,
    "start_time": "2022-12-15T12:43:47.335Z"
   },
   {
    "duration": 1380,
    "start_time": "2022-12-15T12:44:13.363Z"
   },
   {
    "duration": 1160,
    "start_time": "2022-12-15T12:44:16.350Z"
   },
   {
    "duration": 1203,
    "start_time": "2022-12-15T12:44:18.212Z"
   },
   {
    "duration": 5,
    "start_time": "2022-12-15T12:44:56.234Z"
   },
   {
    "duration": 1214,
    "start_time": "2022-12-15T12:45:19.915Z"
   },
   {
    "duration": 10,
    "start_time": "2022-12-15T12:45:24.805Z"
   },
   {
    "duration": 9,
    "start_time": "2022-12-15T12:47:21.359Z"
   },
   {
    "duration": 7,
    "start_time": "2022-12-15T12:47:28.082Z"
   },
   {
    "duration": 8,
    "start_time": "2022-12-15T12:47:55.770Z"
   },
   {
    "duration": 4,
    "start_time": "2022-12-15T12:48:02.392Z"
   },
   {
    "duration": 5,
    "start_time": "2022-12-15T12:48:11.224Z"
   },
   {
    "duration": 7,
    "start_time": "2022-12-15T12:48:19.619Z"
   },
   {
    "duration": 8,
    "start_time": "2022-12-15T12:48:25.210Z"
   },
   {
    "duration": 4,
    "start_time": "2022-12-15T12:52:18.673Z"
   },
   {
    "duration": 1160,
    "start_time": "2022-12-15T12:52:27.606Z"
   },
   {
    "duration": 10,
    "start_time": "2022-12-15T12:59:00.219Z"
   },
   {
    "duration": 564,
    "start_time": "2022-12-15T12:59:07.051Z"
   },
   {
    "duration": 12,
    "start_time": "2022-12-15T12:59:07.617Z"
   },
   {
    "duration": 2034,
    "start_time": "2022-12-15T12:59:07.631Z"
   },
   {
    "duration": 7,
    "start_time": "2022-12-15T12:59:09.668Z"
   },
   {
    "duration": 17,
    "start_time": "2022-12-15T12:59:09.676Z"
   },
   {
    "duration": 5,
    "start_time": "2022-12-15T12:59:09.694Z"
   },
   {
    "duration": 5,
    "start_time": "2022-12-15T12:59:09.701Z"
   },
   {
    "duration": 11,
    "start_time": "2022-12-15T12:59:09.708Z"
   },
   {
    "duration": 77,
    "start_time": "2022-12-15T12:59:09.721Z"
   },
   {
    "duration": 0,
    "start_time": "2022-12-15T12:59:09.800Z"
   },
   {
    "duration": 0,
    "start_time": "2022-12-15T12:59:09.801Z"
   },
   {
    "duration": 0,
    "start_time": "2022-12-15T12:59:09.803Z"
   },
   {
    "duration": 0,
    "start_time": "2022-12-15T12:59:09.804Z"
   },
   {
    "duration": 0,
    "start_time": "2022-12-15T12:59:09.805Z"
   },
   {
    "duration": 0,
    "start_time": "2022-12-15T12:59:09.806Z"
   },
   {
    "duration": 0,
    "start_time": "2022-12-15T12:59:09.807Z"
   },
   {
    "duration": 0,
    "start_time": "2022-12-15T12:59:09.807Z"
   },
   {
    "duration": 0,
    "start_time": "2022-12-15T12:59:09.809Z"
   },
   {
    "duration": 0,
    "start_time": "2022-12-15T12:59:09.810Z"
   },
   {
    "duration": 0,
    "start_time": "2022-12-15T12:59:09.811Z"
   },
   {
    "duration": 5,
    "start_time": "2022-12-15T12:59:23.358Z"
   },
   {
    "duration": 1297,
    "start_time": "2022-12-15T12:59:24.908Z"
   },
   {
    "duration": 7,
    "start_time": "2022-12-15T12:59:26.692Z"
   },
   {
    "duration": 7,
    "start_time": "2022-12-15T12:59:28.938Z"
   },
   {
    "duration": 7,
    "start_time": "2022-12-15T12:59:30.216Z"
   },
   {
    "duration": 11,
    "start_time": "2022-12-15T12:59:30.833Z"
   },
   {
    "duration": 7,
    "start_time": "2022-12-15T12:59:32.494Z"
   },
   {
    "duration": 5,
    "start_time": "2022-12-15T12:59:33.131Z"
   },
   {
    "duration": 4,
    "start_time": "2022-12-15T12:59:34.118Z"
   },
   {
    "duration": 5,
    "start_time": "2022-12-15T12:59:34.713Z"
   },
   {
    "duration": 1161,
    "start_time": "2022-12-15T12:59:36.933Z"
   },
   {
    "duration": 9,
    "start_time": "2022-12-15T12:59:40.805Z"
   },
   {
    "duration": 10,
    "start_time": "2022-12-15T12:59:50.041Z"
   },
   {
    "duration": 1187,
    "start_time": "2022-12-15T13:00:08.650Z"
   },
   {
    "duration": 9,
    "start_time": "2022-12-15T13:00:12.298Z"
   },
   {
    "duration": 1225,
    "start_time": "2022-12-15T13:01:18.006Z"
   },
   {
    "duration": 1218,
    "start_time": "2022-12-15T13:01:20.299Z"
   },
   {
    "duration": 1308,
    "start_time": "2022-12-15T13:01:23.152Z"
   },
   {
    "duration": 1352,
    "start_time": "2022-12-15T13:01:29.225Z"
   },
   {
    "duration": 1240,
    "start_time": "2022-12-15T13:01:32.218Z"
   },
   {
    "duration": 8,
    "start_time": "2022-12-15T13:01:43.506Z"
   },
   {
    "duration": 1189,
    "start_time": "2022-12-15T13:02:10.381Z"
   },
   {
    "duration": 1145,
    "start_time": "2022-12-15T13:02:12.107Z"
   },
   {
    "duration": 1250,
    "start_time": "2022-12-15T13:02:30.182Z"
   },
   {
    "duration": 8,
    "start_time": "2022-12-15T13:02:31.894Z"
   },
   {
    "duration": 7,
    "start_time": "2022-12-15T13:03:22.589Z"
   },
   {
    "duration": 10,
    "start_time": "2022-12-15T13:03:32.775Z"
   },
   {
    "duration": 5,
    "start_time": "2022-12-15T13:05:06.369Z"
   },
   {
    "duration": 8,
    "start_time": "2022-12-15T13:05:08.309Z"
   },
   {
    "duration": 12,
    "start_time": "2022-12-15T13:06:40.839Z"
   },
   {
    "duration": 16,
    "start_time": "2022-12-15T13:06:55.226Z"
   },
   {
    "duration": 7,
    "start_time": "2022-12-15T13:07:11.144Z"
   },
   {
    "duration": 12,
    "start_time": "2022-12-15T13:07:18.299Z"
   },
   {
    "duration": 560,
    "start_time": "2022-12-15T13:07:24.815Z"
   },
   {
    "duration": 6,
    "start_time": "2022-12-15T13:07:34.804Z"
   },
   {
    "duration": 5,
    "start_time": "2022-12-15T13:07:52.757Z"
   },
   {
    "duration": 6,
    "start_time": "2022-12-15T13:08:06.446Z"
   },
   {
    "duration": 10,
    "start_time": "2022-12-15T13:08:09.083Z"
   },
   {
    "duration": 5,
    "start_time": "2022-12-15T13:09:02.522Z"
   },
   {
    "duration": 5,
    "start_time": "2022-12-15T13:09:09.666Z"
   },
   {
    "duration": 43,
    "start_time": "2022-12-15T13:09:27.164Z"
   },
   {
    "duration": 12,
    "start_time": "2022-12-15T13:09:34.391Z"
   },
   {
    "duration": 8,
    "start_time": "2022-12-15T13:11:12.325Z"
   },
   {
    "duration": 8,
    "start_time": "2022-12-15T13:15:24.879Z"
   },
   {
    "duration": 13,
    "start_time": "2022-12-15T13:15:29.145Z"
   },
   {
    "duration": 13,
    "start_time": "2022-12-15T13:17:18.848Z"
   },
   {
    "duration": 13,
    "start_time": "2022-12-15T13:17:20.546Z"
   },
   {
    "duration": 15,
    "start_time": "2022-12-15T13:18:42.358Z"
   },
   {
    "duration": 14,
    "start_time": "2022-12-15T13:20:19.238Z"
   },
   {
    "duration": 13,
    "start_time": "2022-12-15T13:20:21.372Z"
   },
   {
    "duration": 14,
    "start_time": "2022-12-15T13:20:29.104Z"
   },
   {
    "duration": 85,
    "start_time": "2022-12-15T13:20:38.865Z"
   },
   {
    "duration": 14,
    "start_time": "2022-12-15T13:20:53.250Z"
   },
   {
    "duration": 20,
    "start_time": "2022-12-15T13:21:49.040Z"
   },
   {
    "duration": 16,
    "start_time": "2022-12-15T13:22:13.409Z"
   },
   {
    "duration": 12,
    "start_time": "2022-12-15T13:22:15.078Z"
   },
   {
    "duration": 6,
    "start_time": "2022-12-15T13:22:51.787Z"
   },
   {
    "duration": 18,
    "start_time": "2022-12-15T13:23:00.159Z"
   },
   {
    "duration": 6,
    "start_time": "2022-12-15T13:23:01.955Z"
   },
   {
    "duration": 6,
    "start_time": "2022-12-15T13:23:03.731Z"
   },
   {
    "duration": 13,
    "start_time": "2022-12-15T13:23:05.449Z"
   },
   {
    "duration": 6,
    "start_time": "2022-12-15T13:23:07.235Z"
   },
   {
    "duration": 535,
    "start_time": "2022-12-15T13:23:12.440Z"
   },
   {
    "duration": 14,
    "start_time": "2022-12-15T13:23:12.977Z"
   },
   {
    "duration": 2224,
    "start_time": "2022-12-15T13:23:12.993Z"
   },
   {
    "duration": 6,
    "start_time": "2022-12-15T13:23:15.220Z"
   },
   {
    "duration": 13,
    "start_time": "2022-12-15T13:23:15.228Z"
   },
   {
    "duration": 6,
    "start_time": "2022-12-15T13:23:15.242Z"
   },
   {
    "duration": 12,
    "start_time": "2022-12-15T13:23:15.250Z"
   },
   {
    "duration": 16,
    "start_time": "2022-12-15T13:23:15.263Z"
   },
   {
    "duration": 4,
    "start_time": "2022-12-15T13:23:15.281Z"
   },
   {
    "duration": 1269,
    "start_time": "2022-12-15T13:23:15.289Z"
   },
   {
    "duration": 6,
    "start_time": "2022-12-15T13:23:16.559Z"
   },
   {
    "duration": 17,
    "start_time": "2022-12-15T13:23:16.567Z"
   },
   {
    "duration": 7,
    "start_time": "2022-12-15T13:23:16.586Z"
   },
   {
    "duration": 13,
    "start_time": "2022-12-15T13:23:16.594Z"
   },
   {
    "duration": 8,
    "start_time": "2022-12-15T13:23:16.608Z"
   },
   {
    "duration": 5,
    "start_time": "2022-12-15T13:23:16.617Z"
   },
   {
    "duration": 13,
    "start_time": "2022-12-15T13:23:16.624Z"
   },
   {
    "duration": 9,
    "start_time": "2022-12-15T13:23:16.638Z"
   },
   {
    "duration": 1265,
    "start_time": "2022-12-15T13:23:16.649Z"
   },
   {
    "duration": 1252,
    "start_time": "2022-12-15T13:23:17.916Z"
   },
   {
    "duration": 1263,
    "start_time": "2022-12-15T13:23:19.170Z"
   },
   {
    "duration": 1220,
    "start_time": "2022-12-15T13:23:20.435Z"
   },
   {
    "duration": 1186,
    "start_time": "2022-12-15T13:23:21.657Z"
   },
   {
    "duration": 1242,
    "start_time": "2022-12-15T13:23:22.845Z"
   },
   {
    "duration": 1393,
    "start_time": "2022-12-15T13:23:24.089Z"
   },
   {
    "duration": 0,
    "start_time": "2022-12-15T13:23:25.484Z"
   },
   {
    "duration": 0,
    "start_time": "2022-12-15T13:23:25.485Z"
   },
   {
    "duration": 0,
    "start_time": "2022-12-15T13:23:25.487Z"
   },
   {
    "duration": 0,
    "start_time": "2022-12-15T13:23:25.488Z"
   },
   {
    "duration": 0,
    "start_time": "2022-12-15T13:23:25.490Z"
   },
   {
    "duration": 13,
    "start_time": "2022-12-15T13:23:44.988Z"
   },
   {
    "duration": 1145,
    "start_time": "2022-12-15T13:24:00.287Z"
   },
   {
    "duration": 12,
    "start_time": "2022-12-15T13:24:17.382Z"
   },
   {
    "duration": 6,
    "start_time": "2022-12-15T13:24:21.549Z"
   },
   {
    "duration": 5,
    "start_time": "2022-12-15T13:24:25.226Z"
   },
   {
    "duration": 4,
    "start_time": "2022-12-15T13:24:26.439Z"
   },
   {
    "duration": 5,
    "start_time": "2022-12-15T13:24:27.156Z"
   },
   {
    "duration": 1227,
    "start_time": "2022-12-15T13:24:27.903Z"
   },
   {
    "duration": 1281,
    "start_time": "2022-12-15T13:24:29.132Z"
   },
   {
    "duration": 1258,
    "start_time": "2022-12-15T13:24:31.543Z"
   },
   {
    "duration": 1400,
    "start_time": "2022-12-15T13:24:32.804Z"
   },
   {
    "duration": 1208,
    "start_time": "2022-12-15T13:24:34.207Z"
   },
   {
    "duration": 1215,
    "start_time": "2022-12-15T13:24:35.416Z"
   },
   {
    "duration": 1201,
    "start_time": "2022-12-15T13:24:36.632Z"
   },
   {
    "duration": 0,
    "start_time": "2022-12-15T13:24:37.835Z"
   },
   {
    "duration": 0,
    "start_time": "2022-12-15T13:24:37.836Z"
   },
   {
    "duration": 5,
    "start_time": "2022-12-15T13:24:38.110Z"
   },
   {
    "duration": 1108,
    "start_time": "2022-12-15T13:24:39.407Z"
   },
   {
    "duration": 530,
    "start_time": "2022-12-15T13:24:44.280Z"
   },
   {
    "duration": 14,
    "start_time": "2022-12-15T13:24:44.811Z"
   },
   {
    "duration": 2026,
    "start_time": "2022-12-15T13:24:44.827Z"
   },
   {
    "duration": 6,
    "start_time": "2022-12-15T13:24:46.855Z"
   },
   {
    "duration": 9,
    "start_time": "2022-12-15T13:24:46.862Z"
   },
   {
    "duration": 6,
    "start_time": "2022-12-15T13:24:46.872Z"
   },
   {
    "duration": 9,
    "start_time": "2022-12-15T13:24:46.879Z"
   },
   {
    "duration": 14,
    "start_time": "2022-12-15T13:24:46.889Z"
   },
   {
    "duration": 4,
    "start_time": "2022-12-15T13:24:46.904Z"
   },
   {
    "duration": 1256,
    "start_time": "2022-12-15T13:24:46.910Z"
   },
   {
    "duration": 6,
    "start_time": "2022-12-15T13:24:48.168Z"
   },
   {
    "duration": 11,
    "start_time": "2022-12-15T13:24:48.177Z"
   },
   {
    "duration": 5,
    "start_time": "2022-12-15T13:24:48.190Z"
   },
   {
    "duration": 21,
    "start_time": "2022-12-15T13:24:48.196Z"
   },
   {
    "duration": 6,
    "start_time": "2022-12-15T13:24:48.219Z"
   },
   {
    "duration": 24,
    "start_time": "2022-12-15T13:24:48.226Z"
   },
   {
    "duration": 13,
    "start_time": "2022-12-15T13:24:48.252Z"
   },
   {
    "duration": 38,
    "start_time": "2022-12-15T13:24:48.267Z"
   },
   {
    "duration": 1232,
    "start_time": "2022-12-15T13:24:48.307Z"
   },
   {
    "duration": 1297,
    "start_time": "2022-12-15T13:24:49.541Z"
   },
   {
    "duration": 1262,
    "start_time": "2022-12-15T13:24:50.840Z"
   },
   {
    "duration": 1219,
    "start_time": "2022-12-15T13:24:52.104Z"
   },
   {
    "duration": 1287,
    "start_time": "2022-12-15T13:24:53.325Z"
   },
   {
    "duration": 1217,
    "start_time": "2022-12-15T13:24:54.614Z"
   },
   {
    "duration": 1120,
    "start_time": "2022-12-15T13:24:55.833Z"
   },
   {
    "duration": 0,
    "start_time": "2022-12-15T13:24:56.955Z"
   },
   {
    "duration": 0,
    "start_time": "2022-12-15T13:24:56.956Z"
   },
   {
    "duration": 0,
    "start_time": "2022-12-15T13:24:56.957Z"
   },
   {
    "duration": 0,
    "start_time": "2022-12-15T13:24:56.959Z"
   },
   {
    "duration": 0,
    "start_time": "2022-12-15T13:24:56.960Z"
   },
   {
    "duration": 73,
    "start_time": "2022-12-15T13:25:23.741Z"
   },
   {
    "duration": 555,
    "start_time": "2022-12-15T13:25:32.065Z"
   },
   {
    "duration": 17,
    "start_time": "2022-12-15T13:25:32.623Z"
   },
   {
    "duration": 2240,
    "start_time": "2022-12-15T13:25:32.642Z"
   },
   {
    "duration": 7,
    "start_time": "2022-12-15T13:25:34.885Z"
   },
   {
    "duration": 34,
    "start_time": "2022-12-15T13:25:34.894Z"
   },
   {
    "duration": 8,
    "start_time": "2022-12-15T13:25:34.930Z"
   },
   {
    "duration": 10,
    "start_time": "2022-12-15T13:25:34.940Z"
   },
   {
    "duration": 30,
    "start_time": "2022-12-15T13:25:34.952Z"
   },
   {
    "duration": 5,
    "start_time": "2022-12-15T13:25:34.983Z"
   },
   {
    "duration": 1362,
    "start_time": "2022-12-15T13:25:34.991Z"
   },
   {
    "duration": 7,
    "start_time": "2022-12-15T13:25:36.355Z"
   },
   {
    "duration": 17,
    "start_time": "2022-12-15T13:25:36.364Z"
   },
   {
    "duration": 16,
    "start_time": "2022-12-15T13:25:36.383Z"
   },
   {
    "duration": 18,
    "start_time": "2022-12-15T13:25:36.401Z"
   },
   {
    "duration": 10,
    "start_time": "2022-12-15T13:25:36.420Z"
   },
   {
    "duration": 17,
    "start_time": "2022-12-15T13:25:36.431Z"
   },
   {
    "duration": 22,
    "start_time": "2022-12-15T13:25:36.450Z"
   },
   {
    "duration": 24,
    "start_time": "2022-12-15T13:25:36.473Z"
   },
   {
    "duration": 1336,
    "start_time": "2022-12-15T13:25:36.499Z"
   },
   {
    "duration": 1306,
    "start_time": "2022-12-15T13:25:37.836Z"
   },
   {
    "duration": 1382,
    "start_time": "2022-12-15T13:25:39.144Z"
   },
   {
    "duration": 1304,
    "start_time": "2022-12-15T13:25:40.528Z"
   },
   {
    "duration": 1342,
    "start_time": "2022-12-15T13:25:41.833Z"
   },
   {
    "duration": 1303,
    "start_time": "2022-12-15T13:25:43.177Z"
   },
   {
    "duration": 4,
    "start_time": "2022-12-15T13:25:44.482Z"
   },
   {
    "duration": 25,
    "start_time": "2022-12-15T13:25:44.488Z"
   },
   {
    "duration": 31,
    "start_time": "2022-12-15T13:25:44.515Z"
   },
   {
    "duration": 8,
    "start_time": "2022-12-15T13:25:44.550Z"
   },
   {
    "duration": 25,
    "start_time": "2022-12-15T13:25:44.560Z"
   },
   {
    "duration": 22,
    "start_time": "2022-12-15T13:25:44.587Z"
   },
   {
    "duration": 68,
    "start_time": "2022-12-15T13:26:28.654Z"
   },
   {
    "duration": 9,
    "start_time": "2022-12-15T13:26:38.633Z"
   },
   {
    "duration": 11,
    "start_time": "2022-12-15T13:26:45.278Z"
   },
   {
    "duration": 8,
    "start_time": "2022-12-15T13:26:47.368Z"
   },
   {
    "duration": 13,
    "start_time": "2022-12-15T13:26:54.202Z"
   },
   {
    "duration": 11,
    "start_time": "2022-12-15T13:26:59.470Z"
   },
   {
    "duration": 9,
    "start_time": "2022-12-15T13:27:02.489Z"
   },
   {
    "duration": 558,
    "start_time": "2022-12-15T13:27:17.448Z"
   },
   {
    "duration": 14,
    "start_time": "2022-12-15T13:27:18.008Z"
   },
   {
    "duration": 2066,
    "start_time": "2022-12-15T13:27:18.024Z"
   },
   {
    "duration": 7,
    "start_time": "2022-12-15T13:27:20.092Z"
   },
   {
    "duration": 14,
    "start_time": "2022-12-15T13:27:20.101Z"
   },
   {
    "duration": 6,
    "start_time": "2022-12-15T13:27:20.116Z"
   },
   {
    "duration": 7,
    "start_time": "2022-12-15T13:27:20.124Z"
   },
   {
    "duration": 10,
    "start_time": "2022-12-15T13:27:20.132Z"
   },
   {
    "duration": 5,
    "start_time": "2022-12-15T13:27:20.144Z"
   },
   {
    "duration": 1296,
    "start_time": "2022-12-15T13:27:20.151Z"
   },
   {
    "duration": 6,
    "start_time": "2022-12-15T13:27:21.449Z"
   },
   {
    "duration": 10,
    "start_time": "2022-12-15T13:27:21.457Z"
   },
   {
    "duration": 25,
    "start_time": "2022-12-15T13:27:21.468Z"
   },
   {
    "duration": 32,
    "start_time": "2022-12-15T13:27:21.494Z"
   },
   {
    "duration": 19,
    "start_time": "2022-12-15T13:27:21.528Z"
   },
   {
    "duration": 9,
    "start_time": "2022-12-15T13:27:21.548Z"
   },
   {
    "duration": 19,
    "start_time": "2022-12-15T13:27:21.559Z"
   },
   {
    "duration": 20,
    "start_time": "2022-12-15T13:27:21.580Z"
   },
   {
    "duration": 1227,
    "start_time": "2022-12-15T13:27:21.602Z"
   },
   {
    "duration": 1318,
    "start_time": "2022-12-15T13:27:22.831Z"
   },
   {
    "duration": 1377,
    "start_time": "2022-12-15T13:27:24.152Z"
   },
   {
    "duration": 1225,
    "start_time": "2022-12-15T13:27:25.531Z"
   },
   {
    "duration": 1232,
    "start_time": "2022-12-15T13:27:26.757Z"
   },
   {
    "duration": 1283,
    "start_time": "2022-12-15T13:27:27.991Z"
   },
   {
    "duration": 6,
    "start_time": "2022-12-15T13:27:29.276Z"
   },
   {
    "duration": 46,
    "start_time": "2022-12-15T13:27:29.284Z"
   },
   {
    "duration": 42,
    "start_time": "2022-12-15T13:27:29.332Z"
   },
   {
    "duration": 20,
    "start_time": "2022-12-15T13:27:29.378Z"
   },
   {
    "duration": 45,
    "start_time": "2022-12-15T13:27:29.400Z"
   },
   {
    "duration": 42,
    "start_time": "2022-12-15T13:27:29.447Z"
   },
   {
    "duration": 76,
    "start_time": "2022-12-15T13:27:40.518Z"
   },
   {
    "duration": 11,
    "start_time": "2022-12-15T13:27:43.973Z"
   },
   {
    "duration": 529,
    "start_time": "2022-12-15T13:28:18.446Z"
   },
   {
    "duration": 17,
    "start_time": "2022-12-15T13:28:18.977Z"
   },
   {
    "duration": 2150,
    "start_time": "2022-12-15T13:28:18.999Z"
   },
   {
    "duration": 6,
    "start_time": "2022-12-15T13:28:21.151Z"
   },
   {
    "duration": 24,
    "start_time": "2022-12-15T13:28:21.159Z"
   },
   {
    "duration": 6,
    "start_time": "2022-12-15T13:28:21.184Z"
   },
   {
    "duration": 16,
    "start_time": "2022-12-15T13:28:21.191Z"
   },
   {
    "duration": 21,
    "start_time": "2022-12-15T13:28:21.208Z"
   },
   {
    "duration": 22,
    "start_time": "2022-12-15T13:28:21.231Z"
   },
   {
    "duration": 1260,
    "start_time": "2022-12-15T13:28:21.255Z"
   },
   {
    "duration": 6,
    "start_time": "2022-12-15T13:28:22.516Z"
   },
   {
    "duration": 8,
    "start_time": "2022-12-15T13:28:22.524Z"
   },
   {
    "duration": 10,
    "start_time": "2022-12-15T13:28:22.533Z"
   },
   {
    "duration": 20,
    "start_time": "2022-12-15T13:28:22.544Z"
   },
   {
    "duration": 12,
    "start_time": "2022-12-15T13:28:22.565Z"
   },
   {
    "duration": 23,
    "start_time": "2022-12-15T13:28:22.579Z"
   },
   {
    "duration": 14,
    "start_time": "2022-12-15T13:28:22.604Z"
   },
   {
    "duration": 6,
    "start_time": "2022-12-15T13:28:22.619Z"
   },
   {
    "duration": 1219,
    "start_time": "2022-12-15T13:28:22.627Z"
   },
   {
    "duration": 1287,
    "start_time": "2022-12-15T13:28:23.848Z"
   },
   {
    "duration": 1211,
    "start_time": "2022-12-15T13:28:25.137Z"
   },
   {
    "duration": 1261,
    "start_time": "2022-12-15T13:28:26.349Z"
   },
   {
    "duration": 1161,
    "start_time": "2022-12-15T13:28:27.612Z"
   },
   {
    "duration": 1185,
    "start_time": "2022-12-15T13:28:28.774Z"
   },
   {
    "duration": 4,
    "start_time": "2022-12-15T13:28:29.961Z"
   },
   {
    "duration": 11,
    "start_time": "2022-12-15T13:28:29.966Z"
   },
   {
    "duration": 9,
    "start_time": "2022-12-15T13:28:29.980Z"
   },
   {
    "duration": 9,
    "start_time": "2022-12-15T13:28:29.990Z"
   },
   {
    "duration": 30,
    "start_time": "2022-12-15T13:28:30.001Z"
   },
   {
    "duration": 53,
    "start_time": "2022-12-15T13:28:30.033Z"
   },
   {
    "duration": 8,
    "start_time": "2022-12-15T13:29:32.881Z"
   },
   {
    "duration": 7,
    "start_time": "2022-12-15T13:29:35.393Z"
   },
   {
    "duration": 7,
    "start_time": "2022-12-15T13:29:41.762Z"
   },
   {
    "duration": 8,
    "start_time": "2022-12-15T13:29:49.772Z"
   },
   {
    "duration": 6,
    "start_time": "2022-12-15T13:29:51.280Z"
   },
   {
    "duration": 6,
    "start_time": "2022-12-15T13:30:00.693Z"
   },
   {
    "duration": 6,
    "start_time": "2022-12-15T13:30:02.641Z"
   },
   {
    "duration": 6,
    "start_time": "2022-12-15T13:30:12.602Z"
   },
   {
    "duration": 66,
    "start_time": "2022-12-15T13:30:15.417Z"
   },
   {
    "duration": 5,
    "start_time": "2022-12-15T13:30:19.718Z"
   },
   {
    "duration": 5,
    "start_time": "2022-12-15T13:30:22.354Z"
   },
   {
    "duration": 5,
    "start_time": "2022-12-15T13:30:27.921Z"
   },
   {
    "duration": 7,
    "start_time": "2022-12-15T13:30:31.009Z"
   },
   {
    "duration": 6,
    "start_time": "2022-12-15T13:30:32.015Z"
   },
   {
    "duration": 493,
    "start_time": "2022-12-15T13:30:37.839Z"
   },
   {
    "duration": 14,
    "start_time": "2022-12-15T13:30:38.334Z"
   },
   {
    "duration": 1960,
    "start_time": "2022-12-15T13:30:38.349Z"
   },
   {
    "duration": 6,
    "start_time": "2022-12-15T13:30:40.311Z"
   },
   {
    "duration": 15,
    "start_time": "2022-12-15T13:30:40.318Z"
   },
   {
    "duration": 6,
    "start_time": "2022-12-15T13:30:40.334Z"
   },
   {
    "duration": 4,
    "start_time": "2022-12-15T13:30:40.341Z"
   },
   {
    "duration": 19,
    "start_time": "2022-12-15T13:30:40.347Z"
   },
   {
    "duration": 5,
    "start_time": "2022-12-15T13:30:40.367Z"
   },
   {
    "duration": 1238,
    "start_time": "2022-12-15T13:30:40.373Z"
   },
   {
    "duration": 8,
    "start_time": "2022-12-15T13:30:41.613Z"
   },
   {
    "duration": 11,
    "start_time": "2022-12-15T13:30:41.622Z"
   },
   {
    "duration": 11,
    "start_time": "2022-12-15T13:30:41.634Z"
   },
   {
    "duration": 11,
    "start_time": "2022-12-15T13:30:41.648Z"
   },
   {
    "duration": 17,
    "start_time": "2022-12-15T13:30:41.661Z"
   },
   {
    "duration": 4,
    "start_time": "2022-12-15T13:30:41.679Z"
   },
   {
    "duration": 4,
    "start_time": "2022-12-15T13:30:41.685Z"
   },
   {
    "duration": 7,
    "start_time": "2022-12-15T13:30:41.690Z"
   },
   {
    "duration": 1259,
    "start_time": "2022-12-15T13:30:41.698Z"
   },
   {
    "duration": 1271,
    "start_time": "2022-12-15T13:30:42.958Z"
   },
   {
    "duration": 1171,
    "start_time": "2022-12-15T13:30:44.230Z"
   },
   {
    "duration": 1167,
    "start_time": "2022-12-15T13:30:45.402Z"
   },
   {
    "duration": 1196,
    "start_time": "2022-12-15T13:30:46.570Z"
   },
   {
    "duration": 1164,
    "start_time": "2022-12-15T13:30:47.768Z"
   },
   {
    "duration": 5,
    "start_time": "2022-12-15T13:30:48.933Z"
   },
   {
    "duration": 14,
    "start_time": "2022-12-15T13:30:48.940Z"
   },
   {
    "duration": 18,
    "start_time": "2022-12-15T13:30:48.956Z"
   },
   {
    "duration": 9,
    "start_time": "2022-12-15T13:30:48.977Z"
   },
   {
    "duration": 25,
    "start_time": "2022-12-15T13:30:48.988Z"
   },
   {
    "duration": 14,
    "start_time": "2022-12-15T13:30:49.015Z"
   },
   {
    "duration": 9,
    "start_time": "2022-12-15T13:31:08.943Z"
   },
   {
    "duration": 8,
    "start_time": "2022-12-15T13:31:14.696Z"
   },
   {
    "duration": 9,
    "start_time": "2022-12-15T13:31:17.707Z"
   },
   {
    "duration": 11,
    "start_time": "2022-12-15T13:31:26.354Z"
   },
   {
    "duration": 10,
    "start_time": "2022-12-15T13:31:29.882Z"
   },
   {
    "duration": 1127,
    "start_time": "2022-12-15T13:31:37.632Z"
   },
   {
    "duration": 10,
    "start_time": "2022-12-15T13:31:41.942Z"
   },
   {
    "duration": 523,
    "start_time": "2022-12-15T13:31:47.640Z"
   },
   {
    "duration": 15,
    "start_time": "2022-12-15T13:31:48.165Z"
   },
   {
    "duration": 2199,
    "start_time": "2022-12-15T13:31:48.182Z"
   },
   {
    "duration": 6,
    "start_time": "2022-12-15T13:31:50.383Z"
   },
   {
    "duration": 12,
    "start_time": "2022-12-15T13:31:50.392Z"
   },
   {
    "duration": 6,
    "start_time": "2022-12-15T13:31:50.406Z"
   },
   {
    "duration": 9,
    "start_time": "2022-12-15T13:31:50.414Z"
   },
   {
    "duration": 13,
    "start_time": "2022-12-15T13:31:50.424Z"
   },
   {
    "duration": 5,
    "start_time": "2022-12-15T13:31:50.439Z"
   },
   {
    "duration": 1321,
    "start_time": "2022-12-15T13:31:50.445Z"
   },
   {
    "duration": 12,
    "start_time": "2022-12-15T13:31:51.768Z"
   },
   {
    "duration": 21,
    "start_time": "2022-12-15T13:31:51.781Z"
   },
   {
    "duration": 19,
    "start_time": "2022-12-15T13:31:51.804Z"
   },
   {
    "duration": 25,
    "start_time": "2022-12-15T13:31:51.826Z"
   },
   {
    "duration": 9,
    "start_time": "2022-12-15T13:31:51.853Z"
   },
   {
    "duration": 10,
    "start_time": "2022-12-15T13:31:51.864Z"
   },
   {
    "duration": 7,
    "start_time": "2022-12-15T13:31:51.876Z"
   },
   {
    "duration": 8,
    "start_time": "2022-12-15T13:31:51.885Z"
   },
   {
    "duration": 1236,
    "start_time": "2022-12-15T13:31:51.895Z"
   },
   {
    "duration": 1272,
    "start_time": "2022-12-15T13:31:53.132Z"
   },
   {
    "duration": 1217,
    "start_time": "2022-12-15T13:31:54.405Z"
   },
   {
    "duration": 1181,
    "start_time": "2022-12-15T13:31:55.624Z"
   },
   {
    "duration": 1188,
    "start_time": "2022-12-15T13:31:56.807Z"
   },
   {
    "duration": 1175,
    "start_time": "2022-12-15T13:31:57.997Z"
   },
   {
    "duration": 5,
    "start_time": "2022-12-15T13:31:59.174Z"
   },
   {
    "duration": 7,
    "start_time": "2022-12-15T13:31:59.181Z"
   },
   {
    "duration": 15,
    "start_time": "2022-12-15T13:31:59.189Z"
   },
   {
    "duration": 6,
    "start_time": "2022-12-15T13:31:59.205Z"
   },
   {
    "duration": 15,
    "start_time": "2022-12-15T13:31:59.212Z"
   },
   {
    "duration": 19,
    "start_time": "2022-12-15T13:31:59.229Z"
   },
   {
    "duration": 71,
    "start_time": "2022-12-15T13:36:58.114Z"
   },
   {
    "duration": 6,
    "start_time": "2022-12-15T13:38:35.956Z"
   },
   {
    "duration": 13,
    "start_time": "2022-12-15T13:42:30.417Z"
   },
   {
    "duration": 3,
    "start_time": "2022-12-15T13:43:23.372Z"
   },
   {
    "duration": 5,
    "start_time": "2022-12-15T13:43:26.450Z"
   },
   {
    "duration": 6,
    "start_time": "2022-12-15T13:44:00.424Z"
   },
   {
    "duration": 7,
    "start_time": "2022-12-15T13:44:11.449Z"
   },
   {
    "duration": 71,
    "start_time": "2022-12-15T13:53:01.120Z"
   },
   {
    "duration": 24,
    "start_time": "2022-12-15T13:53:31.470Z"
   },
   {
    "duration": 6,
    "start_time": "2022-12-15T13:53:38.289Z"
   },
   {
    "duration": 21,
    "start_time": "2022-12-15T13:53:41.494Z"
   },
   {
    "duration": 7,
    "start_time": "2022-12-15T13:53:44.304Z"
   },
   {
    "duration": 1189,
    "start_time": "2022-12-15T13:54:02.291Z"
   },
   {
    "duration": 1193,
    "start_time": "2022-12-15T13:54:04.297Z"
   },
   {
    "duration": 1206,
    "start_time": "2022-12-15T13:54:06.174Z"
   },
   {
    "duration": 1141,
    "start_time": "2022-12-15T13:54:08.056Z"
   },
   {
    "duration": 1176,
    "start_time": "2022-12-15T13:54:09.878Z"
   },
   {
    "duration": 1214,
    "start_time": "2022-12-15T13:54:12.596Z"
   },
   {
    "duration": 9,
    "start_time": "2022-12-15T13:54:15.794Z"
   },
   {
    "duration": 14,
    "start_time": "2022-12-15T13:54:16.952Z"
   },
   {
    "duration": 11,
    "start_time": "2022-12-15T13:54:19.824Z"
   },
   {
    "duration": 12,
    "start_time": "2022-12-15T13:54:22.362Z"
   },
   {
    "duration": 6,
    "start_time": "2022-12-15T13:54:23.953Z"
   },
   {
    "duration": 15,
    "start_time": "2022-12-15T13:54:25.048Z"
   },
   {
    "duration": 5,
    "start_time": "2022-12-15T13:54:27.414Z"
   },
   {
    "duration": 8,
    "start_time": "2022-12-15T13:54:42.599Z"
   },
   {
    "duration": 16,
    "start_time": "2022-12-15T13:54:54.287Z"
   },
   {
    "duration": 12,
    "start_time": "2022-12-15T13:54:59.866Z"
   },
   {
    "duration": 9,
    "start_time": "2022-12-15T13:55:02.353Z"
   },
   {
    "duration": 7,
    "start_time": "2022-12-15T13:55:04.776Z"
   },
   {
    "duration": 7,
    "start_time": "2022-12-15T13:55:06.995Z"
   },
   {
    "duration": 1196,
    "start_time": "2022-12-15T13:55:11.629Z"
   },
   {
    "duration": 1283,
    "start_time": "2022-12-15T13:55:13.559Z"
   },
   {
    "duration": 1214,
    "start_time": "2022-12-15T13:55:15.498Z"
   },
   {
    "duration": 1260,
    "start_time": "2022-12-15T13:55:17.352Z"
   },
   {
    "duration": 1302,
    "start_time": "2022-12-15T13:55:19.270Z"
   },
   {
    "duration": 1270,
    "start_time": "2022-12-15T13:55:21.319Z"
   },
   {
    "duration": 12,
    "start_time": "2022-12-15T13:55:24.901Z"
   },
   {
    "duration": 7,
    "start_time": "2022-12-15T14:00:43.203Z"
   },
   {
    "duration": 6,
    "start_time": "2022-12-15T14:00:45.865Z"
   },
   {
    "duration": 81,
    "start_time": "2022-12-15T14:00:54.061Z"
   },
   {
    "duration": 6,
    "start_time": "2022-12-15T14:00:57.285Z"
   },
   {
    "duration": 15,
    "start_time": "2022-12-15T14:01:00.558Z"
   },
   {
    "duration": 9,
    "start_time": "2022-12-15T14:01:02.441Z"
   },
   {
    "duration": 20,
    "start_time": "2022-12-15T14:01:21.273Z"
   },
   {
    "duration": 20,
    "start_time": "2022-12-15T14:02:40.102Z"
   },
   {
    "duration": 13,
    "start_time": "2022-12-15T14:05:57.091Z"
   },
   {
    "duration": 9,
    "start_time": "2022-12-15T14:06:01.858Z"
   },
   {
    "duration": 19,
    "start_time": "2022-12-15T14:06:07.449Z"
   },
   {
    "duration": 8,
    "start_time": "2022-12-15T14:06:26.385Z"
   },
   {
    "duration": 18,
    "start_time": "2022-12-15T14:06:28.390Z"
   },
   {
    "duration": 10,
    "start_time": "2022-12-15T14:06:31.107Z"
   },
   {
    "duration": 1204,
    "start_time": "2022-12-15T14:06:42.228Z"
   },
   {
    "duration": 1193,
    "start_time": "2022-12-15T14:06:43.434Z"
   },
   {
    "duration": 1178,
    "start_time": "2022-12-15T14:06:44.629Z"
   },
   {
    "duration": 1139,
    "start_time": "2022-12-15T14:06:45.809Z"
   },
   {
    "duration": 1140,
    "start_time": "2022-12-15T14:06:46.951Z"
   },
   {
    "duration": 1142,
    "start_time": "2022-12-15T14:06:48.093Z"
   },
   {
    "duration": 10,
    "start_time": "2022-12-15T14:06:49.237Z"
   },
   {
    "duration": 11,
    "start_time": "2022-12-15T14:06:51.978Z"
   },
   {
    "duration": 1213,
    "start_time": "2022-12-15T14:07:00.922Z"
   },
   {
    "duration": 13,
    "start_time": "2022-12-15T14:07:08.316Z"
   },
   {
    "duration": 6,
    "start_time": "2022-12-15T14:07:10.036Z"
   },
   {
    "duration": 23,
    "start_time": "2022-12-15T14:07:11.592Z"
   },
   {
    "duration": 20,
    "start_time": "2022-12-15T14:07:27.947Z"
   },
   {
    "duration": 28,
    "start_time": "2022-12-15T14:09:29.562Z"
   },
   {
    "duration": 33,
    "start_time": "2022-12-15T14:10:00.581Z"
   },
   {
    "duration": 7,
    "start_time": "2022-12-15T14:10:07.207Z"
   },
   {
    "duration": 4,
    "start_time": "2022-12-15T14:13:08.609Z"
   },
   {
    "duration": 40,
    "start_time": "2022-12-15T14:15:27.338Z"
   },
   {
    "duration": 7,
    "start_time": "2022-12-15T14:15:37.566Z"
   },
   {
    "duration": 10,
    "start_time": "2022-12-15T14:15:40.165Z"
   },
   {
    "duration": 1242,
    "start_time": "2022-12-15T14:15:43.186Z"
   },
   {
    "duration": 1161,
    "start_time": "2022-12-15T14:15:44.430Z"
   },
   {
    "duration": 1172,
    "start_time": "2022-12-15T14:15:45.593Z"
   },
   {
    "duration": 1268,
    "start_time": "2022-12-15T14:15:46.766Z"
   },
   {
    "duration": 1330,
    "start_time": "2022-12-15T14:15:48.037Z"
   },
   {
    "duration": 1405,
    "start_time": "2022-12-15T14:15:49.369Z"
   },
   {
    "duration": 11,
    "start_time": "2022-12-15T14:15:51.704Z"
   },
   {
    "duration": 17,
    "start_time": "2022-12-15T14:15:53.479Z"
   },
   {
    "duration": 11,
    "start_time": "2022-12-15T14:15:59.252Z"
   },
   {
    "duration": 10,
    "start_time": "2022-12-15T14:16:00.675Z"
   },
   {
    "duration": 60,
    "start_time": "2022-12-15T14:16:01.286Z"
   },
   {
    "duration": 397,
    "start_time": "2022-12-15T14:35:09.595Z"
   },
   {
    "duration": 500,
    "start_time": "2022-12-15T14:35:12.654Z"
   },
   {
    "duration": 75,
    "start_time": "2022-12-15T14:35:33.621Z"
   },
   {
    "duration": 4,
    "start_time": "2022-12-15T14:35:40.164Z"
   },
   {
    "duration": 5,
    "start_time": "2022-12-15T14:35:46.191Z"
   },
   {
    "duration": 12,
    "start_time": "2022-12-15T14:36:00.255Z"
   },
   {
    "duration": 7,
    "start_time": "2022-12-15T14:36:23.594Z"
   },
   {
    "duration": 5,
    "start_time": "2022-12-15T14:36:28.448Z"
   },
   {
    "duration": 6,
    "start_time": "2022-12-15T14:37:44.101Z"
   },
   {
    "duration": 5,
    "start_time": "2022-12-15T14:38:10.154Z"
   },
   {
    "duration": 5,
    "start_time": "2022-12-15T14:38:12.034Z"
   },
   {
    "duration": 4,
    "start_time": "2022-12-15T14:38:25.173Z"
   },
   {
    "duration": 6,
    "start_time": "2022-12-15T14:38:28.053Z"
   },
   {
    "duration": 5,
    "start_time": "2022-12-15T14:38:29.854Z"
   },
   {
    "duration": 6,
    "start_time": "2022-12-15T14:38:31.813Z"
   },
   {
    "duration": 6,
    "start_time": "2022-12-15T14:38:41.902Z"
   },
   {
    "duration": 5,
    "start_time": "2022-12-15T14:38:44.740Z"
   },
   {
    "duration": 5,
    "start_time": "2022-12-15T14:38:46.072Z"
   },
   {
    "duration": 5,
    "start_time": "2022-12-15T14:38:51.252Z"
   },
   {
    "duration": 5,
    "start_time": "2022-12-15T14:38:52.903Z"
   },
   {
    "duration": 46,
    "start_time": "2022-12-16T11:24:18.072Z"
   },
   {
    "duration": 1224,
    "start_time": "2022-12-16T11:24:24.322Z"
   },
   {
    "duration": 18,
    "start_time": "2022-12-16T11:24:25.548Z"
   },
   {
    "duration": 2519,
    "start_time": "2022-12-16T11:24:25.568Z"
   },
   {
    "duration": 7,
    "start_time": "2022-12-16T11:24:28.089Z"
   },
   {
    "duration": 17,
    "start_time": "2022-12-16T11:24:28.098Z"
   },
   {
    "duration": 5,
    "start_time": "2022-12-16T11:24:28.117Z"
   },
   {
    "duration": 7,
    "start_time": "2022-12-16T11:24:28.123Z"
   },
   {
    "duration": 1389,
    "start_time": "2022-12-16T11:24:28.131Z"
   },
   {
    "duration": 8,
    "start_time": "2022-12-16T11:24:29.522Z"
   },
   {
    "duration": 6,
    "start_time": "2022-12-16T11:24:29.533Z"
   },
   {
    "duration": 21,
    "start_time": "2022-12-16T11:24:29.541Z"
   },
   {
    "duration": 5,
    "start_time": "2022-12-16T11:24:29.564Z"
   },
   {
    "duration": 1447,
    "start_time": "2022-12-16T11:24:29.571Z"
   },
   {
    "duration": 1283,
    "start_time": "2022-12-16T11:24:31.020Z"
   },
   {
    "duration": 1306,
    "start_time": "2022-12-16T11:24:32.304Z"
   },
   {
    "duration": 1361,
    "start_time": "2022-12-16T11:24:33.612Z"
   },
   {
    "duration": 1345,
    "start_time": "2022-12-16T11:24:34.975Z"
   },
   {
    "duration": 1402,
    "start_time": "2022-12-16T11:24:36.321Z"
   },
   {
    "duration": 5,
    "start_time": "2022-12-16T11:24:37.724Z"
   },
   {
    "duration": 27,
    "start_time": "2022-12-16T11:24:37.731Z"
   },
   {
    "duration": 17,
    "start_time": "2022-12-16T11:24:37.760Z"
   },
   {
    "duration": 13,
    "start_time": "2022-12-16T11:24:37.779Z"
   },
   {
    "duration": 62,
    "start_time": "2022-12-16T11:24:37.794Z"
   },
   {
    "duration": 7,
    "start_time": "2022-12-16T11:24:37.858Z"
   },
   {
    "duration": 12,
    "start_time": "2022-12-16T11:24:37.866Z"
   },
   {
    "duration": 16,
    "start_time": "2022-12-16T11:24:37.880Z"
   },
   {
    "duration": 8,
    "start_time": "2022-12-16T11:25:05.759Z"
   },
   {
    "duration": 7,
    "start_time": "2022-12-16T11:25:11.698Z"
   },
   {
    "duration": 17,
    "start_time": "2022-12-16T11:25:23.293Z"
   },
   {
    "duration": 61,
    "start_time": "2022-12-18T13:34:18.053Z"
   },
   {
    "duration": 765,
    "start_time": "2022-12-18T13:34:23.270Z"
   },
   {
    "duration": 18,
    "start_time": "2022-12-18T13:34:24.038Z"
   },
   {
    "duration": 2615,
    "start_time": "2022-12-18T13:34:24.058Z"
   },
   {
    "duration": 8,
    "start_time": "2022-12-18T13:34:26.677Z"
   },
   {
    "duration": 59,
    "start_time": "2022-12-18T13:34:26.687Z"
   },
   {
    "duration": 42,
    "start_time": "2022-12-18T13:34:26.748Z"
   },
   {
    "duration": 23,
    "start_time": "2022-12-18T13:34:26.793Z"
   },
   {
    "duration": 1539,
    "start_time": "2022-12-18T13:34:26.818Z"
   },
   {
    "duration": 10,
    "start_time": "2022-12-18T13:34:28.358Z"
   },
   {
    "duration": 40,
    "start_time": "2022-12-18T13:34:28.371Z"
   },
   {
    "duration": 23,
    "start_time": "2022-12-18T13:34:28.413Z"
   },
   {
    "duration": 25,
    "start_time": "2022-12-18T13:34:28.437Z"
   },
   {
    "duration": 1415,
    "start_time": "2022-12-18T13:34:28.464Z"
   },
   {
    "duration": 1407,
    "start_time": "2022-12-18T13:34:29.881Z"
   },
   {
    "duration": 1453,
    "start_time": "2022-12-18T13:34:31.290Z"
   },
   {
    "duration": 1360,
    "start_time": "2022-12-18T13:34:32.746Z"
   },
   {
    "duration": 1373,
    "start_time": "2022-12-18T13:34:34.108Z"
   },
   {
    "duration": 1434,
    "start_time": "2022-12-18T13:34:35.483Z"
   },
   {
    "duration": 16,
    "start_time": "2022-12-18T13:34:36.919Z"
   },
   {
    "duration": 24,
    "start_time": "2022-12-18T13:34:36.937Z"
   },
   {
    "duration": 18,
    "start_time": "2022-12-18T13:34:36.962Z"
   },
   {
    "duration": 24,
    "start_time": "2022-12-18T13:34:36.982Z"
   },
   {
    "duration": 73,
    "start_time": "2022-12-18T13:34:37.009Z"
   },
   {
    "duration": 10,
    "start_time": "2022-12-18T13:34:37.084Z"
   },
   {
    "duration": 10,
    "start_time": "2022-12-18T13:34:37.096Z"
   },
   {
    "duration": 12,
    "start_time": "2022-12-18T13:34:37.108Z"
   },
   {
    "duration": 16,
    "start_time": "2022-12-18T13:34:37.136Z"
   },
   {
    "duration": 12,
    "start_time": "2022-12-18T13:35:16.450Z"
   },
   {
    "duration": 3,
    "start_time": "2022-12-18T13:35:33.084Z"
   },
   {
    "duration": 5,
    "start_time": "2022-12-18T13:35:38.551Z"
   },
   {
    "duration": 6,
    "start_time": "2022-12-18T13:35:51.477Z"
   },
   {
    "duration": 770,
    "start_time": "2022-12-18T13:36:03.640Z"
   },
   {
    "duration": 6,
    "start_time": "2022-12-18T13:36:08.644Z"
   },
   {
    "duration": 7,
    "start_time": "2022-12-18T13:36:21.920Z"
   },
   {
    "duration": 27,
    "start_time": "2022-12-18T13:38:42.286Z"
   },
   {
    "duration": 39,
    "start_time": "2022-12-18T13:38:52.647Z"
   },
   {
    "duration": 60,
    "start_time": "2022-12-18T13:39:02.986Z"
   },
   {
    "duration": 648,
    "start_time": "2022-12-18T13:39:11.301Z"
   },
   {
    "duration": 18,
    "start_time": "2022-12-18T13:39:11.951Z"
   },
   {
    "duration": 2698,
    "start_time": "2022-12-18T13:39:11.971Z"
   },
   {
    "duration": 6,
    "start_time": "2022-12-18T13:39:14.672Z"
   },
   {
    "duration": 18,
    "start_time": "2022-12-18T13:39:14.680Z"
   },
   {
    "duration": 6,
    "start_time": "2022-12-18T13:39:14.700Z"
   },
   {
    "duration": 31,
    "start_time": "2022-12-18T13:39:14.708Z"
   },
   {
    "duration": 1521,
    "start_time": "2022-12-18T13:39:14.741Z"
   },
   {
    "duration": 10,
    "start_time": "2022-12-18T13:39:16.265Z"
   },
   {
    "duration": 19,
    "start_time": "2022-12-18T13:39:16.277Z"
   },
   {
    "duration": 16,
    "start_time": "2022-12-18T13:39:16.299Z"
   },
   {
    "duration": 6,
    "start_time": "2022-12-18T13:39:16.317Z"
   },
   {
    "duration": 1449,
    "start_time": "2022-12-18T13:39:16.325Z"
   },
   {
    "duration": 1436,
    "start_time": "2022-12-18T13:39:17.777Z"
   },
   {
    "duration": 1430,
    "start_time": "2022-12-18T13:39:19.214Z"
   },
   {
    "duration": 1482,
    "start_time": "2022-12-18T13:39:20.646Z"
   },
   {
    "duration": 1461,
    "start_time": "2022-12-18T13:39:22.130Z"
   },
   {
    "duration": 1395,
    "start_time": "2022-12-18T13:39:23.593Z"
   },
   {
    "duration": 6,
    "start_time": "2022-12-18T13:39:24.989Z"
   },
   {
    "duration": 17,
    "start_time": "2022-12-18T13:39:24.996Z"
   },
   {
    "duration": 31,
    "start_time": "2022-12-18T13:39:25.014Z"
   },
   {
    "duration": 5,
    "start_time": "2022-12-18T13:39:25.047Z"
   },
   {
    "duration": 57,
    "start_time": "2022-12-18T13:39:25.054Z"
   },
   {
    "duration": 8,
    "start_time": "2022-12-18T13:39:25.113Z"
   },
   {
    "duration": 25,
    "start_time": "2022-12-18T13:39:25.123Z"
   },
   {
    "duration": 114,
    "start_time": "2022-12-18T13:39:25.149Z"
   },
   {
    "duration": 0,
    "start_time": "2022-12-18T13:39:25.265Z"
   },
   {
    "duration": 6,
    "start_time": "2022-12-18T13:39:51.972Z"
   },
   {
    "duration": 12,
    "start_time": "2022-12-18T13:40:11.187Z"
   },
   {
    "duration": 7,
    "start_time": "2022-12-18T13:41:39.900Z"
   },
   {
    "duration": 4,
    "start_time": "2022-12-18T13:41:50.663Z"
   },
   {
    "duration": 5,
    "start_time": "2022-12-18T13:42:00.388Z"
   },
   {
    "duration": 6,
    "start_time": "2022-12-18T13:42:34.558Z"
   },
   {
    "duration": 6,
    "start_time": "2022-12-18T13:42:57.007Z"
   },
   {
    "duration": 6,
    "start_time": "2022-12-18T13:43:01.657Z"
   },
   {
    "duration": 5,
    "start_time": "2022-12-18T13:43:10.811Z"
   },
   {
    "duration": 5,
    "start_time": "2022-12-18T13:43:16.301Z"
   },
   {
    "duration": 13,
    "start_time": "2022-12-18T13:46:56.550Z"
   },
   {
    "duration": 10,
    "start_time": "2022-12-18T13:47:05.337Z"
   },
   {
    "duration": 182,
    "start_time": "2022-12-18T13:47:11.277Z"
   },
   {
    "duration": 53,
    "start_time": "2022-12-18T13:47:17.693Z"
   },
   {
    "duration": 13,
    "start_time": "2022-12-18T13:47:51.430Z"
   },
   {
    "duration": 15,
    "start_time": "2022-12-18T13:48:12.877Z"
   },
   {
    "duration": 7,
    "start_time": "2022-12-18T13:48:16.858Z"
   },
   {
    "duration": 6,
    "start_time": "2022-12-18T13:48:28.841Z"
   },
   {
    "duration": 12,
    "start_time": "2022-12-18T13:48:37.847Z"
   },
   {
    "duration": 7,
    "start_time": "2022-12-18T13:48:40.533Z"
   },
   {
    "duration": 9,
    "start_time": "2022-12-18T13:48:54.446Z"
   },
   {
    "duration": 8,
    "start_time": "2022-12-18T13:48:57.647Z"
   },
   {
    "duration": 10,
    "start_time": "2022-12-18T13:49:13.076Z"
   },
   {
    "duration": 10,
    "start_time": "2022-12-18T13:49:14.309Z"
   },
   {
    "duration": 9,
    "start_time": "2022-12-18T13:49:14.743Z"
   },
   {
    "duration": 8,
    "start_time": "2022-12-18T13:49:20.088Z"
   },
   {
    "duration": 9,
    "start_time": "2022-12-18T13:49:45.269Z"
   },
   {
    "duration": 9,
    "start_time": "2022-12-18T13:50:14.914Z"
   },
   {
    "duration": 11,
    "start_time": "2022-12-18T13:50:17.090Z"
   },
   {
    "duration": 625,
    "start_time": "2022-12-18T13:50:21.721Z"
   },
   {
    "duration": 18,
    "start_time": "2022-12-18T13:50:22.348Z"
   },
   {
    "duration": 2702,
    "start_time": "2022-12-18T13:50:22.368Z"
   },
   {
    "duration": 8,
    "start_time": "2022-12-18T13:50:25.072Z"
   },
   {
    "duration": 25,
    "start_time": "2022-12-18T13:50:25.082Z"
   },
   {
    "duration": 7,
    "start_time": "2022-12-18T13:50:25.109Z"
   },
   {
    "duration": 8,
    "start_time": "2022-12-18T13:50:25.118Z"
   },
   {
    "duration": 1480,
    "start_time": "2022-12-18T13:50:25.128Z"
   },
   {
    "duration": 10,
    "start_time": "2022-12-18T13:50:26.610Z"
   },
   {
    "duration": 18,
    "start_time": "2022-12-18T13:50:26.621Z"
   },
   {
    "duration": 10,
    "start_time": "2022-12-18T13:50:26.641Z"
   },
   {
    "duration": 9,
    "start_time": "2022-12-18T13:50:26.654Z"
   },
   {
    "duration": 1459,
    "start_time": "2022-12-18T13:50:26.665Z"
   },
   {
    "duration": 1449,
    "start_time": "2022-12-18T13:50:28.128Z"
   },
   {
    "duration": 1367,
    "start_time": "2022-12-18T13:50:29.579Z"
   },
   {
    "duration": 1366,
    "start_time": "2022-12-18T13:50:30.948Z"
   },
   {
    "duration": 1564,
    "start_time": "2022-12-18T13:50:32.316Z"
   },
   {
    "duration": 1438,
    "start_time": "2022-12-18T13:50:33.881Z"
   },
   {
    "duration": 8,
    "start_time": "2022-12-18T13:50:35.321Z"
   },
   {
    "duration": 36,
    "start_time": "2022-12-18T13:50:35.336Z"
   },
   {
    "duration": 32,
    "start_time": "2022-12-18T13:50:35.374Z"
   },
   {
    "duration": 29,
    "start_time": "2022-12-18T13:50:35.407Z"
   },
   {
    "duration": 89,
    "start_time": "2022-12-18T13:50:35.438Z"
   },
   {
    "duration": 9,
    "start_time": "2022-12-18T13:50:35.529Z"
   },
   {
    "duration": 34,
    "start_time": "2022-12-18T13:50:35.540Z"
   },
   {
    "duration": 18,
    "start_time": "2022-12-18T13:50:35.575Z"
   },
   {
    "duration": 26,
    "start_time": "2022-12-18T13:50:35.616Z"
   },
   {
    "duration": 9,
    "start_time": "2022-12-18T13:50:35.644Z"
   },
   {
    "duration": 9,
    "start_time": "2022-12-18T13:50:41.238Z"
   },
   {
    "duration": 8,
    "start_time": "2022-12-18T13:52:43.544Z"
   },
   {
    "duration": 52,
    "start_time": "2022-12-18T13:53:18.283Z"
   },
   {
    "duration": 9,
    "start_time": "2022-12-18T13:54:08.666Z"
   },
   {
    "duration": 10,
    "start_time": "2022-12-18T13:54:49.048Z"
   },
   {
    "duration": 663,
    "start_time": "2022-12-18T13:54:56.134Z"
   },
   {
    "duration": 48,
    "start_time": "2022-12-18T13:54:56.800Z"
   },
   {
    "duration": 2434,
    "start_time": "2022-12-18T13:54:56.851Z"
   },
   {
    "duration": 7,
    "start_time": "2022-12-18T13:54:59.288Z"
   },
   {
    "duration": 23,
    "start_time": "2022-12-18T13:54:59.298Z"
   },
   {
    "duration": 7,
    "start_time": "2022-12-18T13:54:59.324Z"
   },
   {
    "duration": 13,
    "start_time": "2022-12-18T13:54:59.332Z"
   },
   {
    "duration": 1408,
    "start_time": "2022-12-18T13:54:59.347Z"
   },
   {
    "duration": 10,
    "start_time": "2022-12-18T13:55:00.757Z"
   },
   {
    "duration": 37,
    "start_time": "2022-12-18T13:55:00.768Z"
   },
   {
    "duration": 66,
    "start_time": "2022-12-18T13:55:00.807Z"
   },
   {
    "duration": 46,
    "start_time": "2022-12-18T13:55:00.875Z"
   },
   {
    "duration": 1409,
    "start_time": "2022-12-18T13:55:00.923Z"
   },
   {
    "duration": 1458,
    "start_time": "2022-12-18T13:55:02.336Z"
   },
   {
    "duration": 1398,
    "start_time": "2022-12-18T13:55:03.796Z"
   },
   {
    "duration": 1420,
    "start_time": "2022-12-18T13:55:05.196Z"
   },
   {
    "duration": 1538,
    "start_time": "2022-12-18T13:55:06.618Z"
   },
   {
    "duration": 1456,
    "start_time": "2022-12-18T13:55:08.159Z"
   },
   {
    "duration": 6,
    "start_time": "2022-12-18T13:55:09.618Z"
   },
   {
    "duration": 17,
    "start_time": "2022-12-18T13:55:09.636Z"
   },
   {
    "duration": 14,
    "start_time": "2022-12-18T13:55:09.655Z"
   },
   {
    "duration": 16,
    "start_time": "2022-12-18T13:55:09.671Z"
   },
   {
    "duration": 91,
    "start_time": "2022-12-18T13:55:09.689Z"
   },
   {
    "duration": 8,
    "start_time": "2022-12-18T13:55:09.782Z"
   },
   {
    "duration": 18,
    "start_time": "2022-12-18T13:55:09.792Z"
   },
   {
    "duration": 23,
    "start_time": "2022-12-18T13:55:09.812Z"
   },
   {
    "duration": 22,
    "start_time": "2022-12-18T13:55:09.857Z"
   },
   {
    "duration": 12,
    "start_time": "2022-12-18T13:55:09.882Z"
   },
   {
    "duration": 9,
    "start_time": "2022-12-18T13:55:17.081Z"
   },
   {
    "duration": 10,
    "start_time": "2022-12-18T13:55:19.578Z"
   },
   {
    "duration": 12,
    "start_time": "2022-12-18T13:55:29.737Z"
   },
   {
    "duration": 12,
    "start_time": "2022-12-18T13:55:46.337Z"
   },
   {
    "duration": 10,
    "start_time": "2022-12-18T13:56:17.687Z"
   },
   {
    "duration": 12,
    "start_time": "2022-12-18T13:56:58.561Z"
   },
   {
    "duration": 9,
    "start_time": "2022-12-18T13:57:00.942Z"
   },
   {
    "duration": 13,
    "start_time": "2022-12-18T13:58:18.171Z"
   },
   {
    "duration": 11,
    "start_time": "2022-12-18T13:58:19.434Z"
   },
   {
    "duration": 11,
    "start_time": "2022-12-18T13:58:29.601Z"
   },
   {
    "duration": 10,
    "start_time": "2022-12-18T13:58:34.139Z"
   },
   {
    "duration": 11,
    "start_time": "2022-12-18T13:58:40.237Z"
   },
   {
    "duration": 5,
    "start_time": "2022-12-18T14:00:23.619Z"
   },
   {
    "duration": 7,
    "start_time": "2022-12-18T14:00:26.563Z"
   },
   {
    "duration": 6,
    "start_time": "2022-12-18T14:00:33.434Z"
   },
   {
    "duration": 7,
    "start_time": "2022-12-18T14:00:36.284Z"
   },
   {
    "duration": 7,
    "start_time": "2022-12-18T14:00:48.783Z"
   },
   {
    "duration": 6,
    "start_time": "2022-12-18T14:00:53.366Z"
   },
   {
    "duration": 5,
    "start_time": "2022-12-18T14:00:58.462Z"
   },
   {
    "duration": 5,
    "start_time": "2022-12-18T14:01:01.892Z"
   },
   {
    "duration": 7,
    "start_time": "2022-12-18T14:01:13.236Z"
   },
   {
    "duration": 6,
    "start_time": "2022-12-18T14:01:17.735Z"
   },
   {
    "duration": 6,
    "start_time": "2022-12-18T14:01:22.716Z"
   },
   {
    "duration": 5,
    "start_time": "2022-12-18T14:01:28.914Z"
   },
   {
    "duration": 1380,
    "start_time": "2022-12-18T14:02:49.592Z"
   },
   {
    "duration": 1312,
    "start_time": "2022-12-18T14:03:29.876Z"
   },
   {
    "duration": 6,
    "start_time": "2022-12-18T14:03:43.428Z"
   },
   {
    "duration": 6,
    "start_time": "2022-12-18T14:03:48.390Z"
   },
   {
    "duration": 1449,
    "start_time": "2022-12-18T14:05:59.986Z"
   },
   {
    "duration": 5,
    "start_time": "2022-12-18T14:06:06.861Z"
   },
   {
    "duration": 1407,
    "start_time": "2022-12-18T14:06:22.345Z"
   },
   {
    "duration": 5,
    "start_time": "2022-12-18T14:06:24.726Z"
   },
   {
    "duration": 7,
    "start_time": "2022-12-18T14:06:25.368Z"
   },
   {
    "duration": 5,
    "start_time": "2022-12-18T14:06:27.589Z"
   },
   {
    "duration": 135,
    "start_time": "2022-12-18T14:22:04.351Z"
   },
   {
    "duration": 88,
    "start_time": "2022-12-18T14:28:28.761Z"
   },
   {
    "duration": 95,
    "start_time": "2022-12-18T14:28:44.307Z"
   },
   {
    "duration": 54,
    "start_time": "2022-12-18T14:29:00.352Z"
   },
   {
    "duration": 91,
    "start_time": "2022-12-18T14:29:06.153Z"
   },
   {
    "duration": 87,
    "start_time": "2022-12-18T14:30:29.713Z"
   },
   {
    "duration": 81,
    "start_time": "2022-12-18T14:32:03.220Z"
   },
   {
    "duration": 10612,
    "start_time": "2022-12-18T14:32:24.065Z"
   },
   {
    "duration": 9888,
    "start_time": "2022-12-18T14:33:35.525Z"
   },
   {
    "duration": 10024,
    "start_time": "2022-12-18T14:33:57.602Z"
   },
   {
    "duration": 13591,
    "start_time": "2022-12-18T14:34:30.440Z"
   },
   {
    "duration": 44,
    "start_time": "2022-12-18T14:35:17.235Z"
   },
   {
    "duration": 16642,
    "start_time": "2022-12-18T14:35:22.694Z"
   },
   {
    "duration": 15530,
    "start_time": "2022-12-18T14:36:53.498Z"
   },
   {
    "duration": 90,
    "start_time": "2022-12-18T14:40:56.933Z"
   },
   {
    "duration": 88,
    "start_time": "2022-12-18T14:41:08.237Z"
   },
   {
    "duration": 92,
    "start_time": "2022-12-18T14:41:27.746Z"
   },
   {
    "duration": 45,
    "start_time": "2022-12-18T14:41:58.664Z"
   },
   {
    "duration": 130,
    "start_time": "2022-12-18T14:42:01.642Z"
   },
   {
    "duration": 602,
    "start_time": "2022-12-18T14:42:18.601Z"
   },
   {
    "duration": 30,
    "start_time": "2022-12-18T14:42:19.205Z"
   },
   {
    "duration": 2459,
    "start_time": "2022-12-18T14:42:19.238Z"
   },
   {
    "duration": 7,
    "start_time": "2022-12-18T14:42:21.700Z"
   },
   {
    "duration": 17,
    "start_time": "2022-12-18T14:42:21.709Z"
   },
   {
    "duration": 20,
    "start_time": "2022-12-18T14:42:21.728Z"
   },
   {
    "duration": 29,
    "start_time": "2022-12-18T14:42:21.750Z"
   },
   {
    "duration": 1635,
    "start_time": "2022-12-18T14:42:21.781Z"
   },
   {
    "duration": 23,
    "start_time": "2022-12-18T14:42:23.418Z"
   },
   {
    "duration": 9,
    "start_time": "2022-12-18T14:42:23.445Z"
   },
   {
    "duration": 22,
    "start_time": "2022-12-18T14:42:23.457Z"
   },
   {
    "duration": 38,
    "start_time": "2022-12-18T14:42:23.481Z"
   },
   {
    "duration": 1449,
    "start_time": "2022-12-18T14:42:23.521Z"
   },
   {
    "duration": 1401,
    "start_time": "2022-12-18T14:42:24.972Z"
   },
   {
    "duration": 1437,
    "start_time": "2022-12-18T14:42:26.375Z"
   },
   {
    "duration": 1434,
    "start_time": "2022-12-18T14:42:27.814Z"
   },
   {
    "duration": 1375,
    "start_time": "2022-12-18T14:42:29.250Z"
   },
   {
    "duration": 1393,
    "start_time": "2022-12-18T14:42:30.626Z"
   },
   {
    "duration": 5,
    "start_time": "2022-12-18T14:42:32.022Z"
   },
   {
    "duration": 21,
    "start_time": "2022-12-18T14:42:32.034Z"
   },
   {
    "duration": 13,
    "start_time": "2022-12-18T14:42:32.056Z"
   },
   {
    "duration": 17,
    "start_time": "2022-12-18T14:42:32.071Z"
   },
   {
    "duration": 111,
    "start_time": "2022-12-18T14:42:32.090Z"
   },
   {
    "duration": 8,
    "start_time": "2022-12-18T14:42:32.202Z"
   },
   {
    "duration": 23,
    "start_time": "2022-12-18T14:42:32.212Z"
   },
   {
    "duration": 21,
    "start_time": "2022-12-18T14:42:32.237Z"
   },
   {
    "duration": 1541,
    "start_time": "2022-12-18T14:42:32.260Z"
   },
   {
    "duration": 5,
    "start_time": "2022-12-18T14:42:33.805Z"
   },
   {
    "duration": 35,
    "start_time": "2022-12-18T14:42:33.812Z"
   },
   {
    "duration": 35,
    "start_time": "2022-12-18T14:43:48.496Z"
   },
   {
    "duration": 32,
    "start_time": "2022-12-18T14:44:08.269Z"
   },
   {
    "duration": 130,
    "start_time": "2022-12-18T14:44:20.745Z"
   },
   {
    "duration": 18,
    "start_time": "2022-12-18T14:44:24.538Z"
   },
   {
    "duration": 32,
    "start_time": "2022-12-18T14:44:32.473Z"
   },
   {
    "duration": 21,
    "start_time": "2022-12-18T14:44:49.958Z"
   },
   {
    "duration": 53,
    "start_time": "2022-12-18T14:45:13.573Z"
   },
   {
    "duration": 605,
    "start_time": "2022-12-18T14:45:15.313Z"
   },
   {
    "duration": 20,
    "start_time": "2022-12-18T14:45:18.808Z"
   },
   {
    "duration": 184,
    "start_time": "2022-12-18T14:45:28.468Z"
   },
   {
    "duration": 21,
    "start_time": "2022-12-18T14:45:28.654Z"
   },
   {
    "duration": 2675,
    "start_time": "2022-12-18T14:45:28.678Z"
   },
   {
    "duration": 12,
    "start_time": "2022-12-18T14:45:31.361Z"
   },
   {
    "duration": 37,
    "start_time": "2022-12-18T14:45:31.379Z"
   },
   {
    "duration": 24,
    "start_time": "2022-12-18T14:45:31.419Z"
   },
   {
    "duration": 21,
    "start_time": "2022-12-18T14:45:31.445Z"
   },
   {
    "duration": 1650,
    "start_time": "2022-12-18T14:45:31.468Z"
   },
   {
    "duration": 17,
    "start_time": "2022-12-18T14:45:33.120Z"
   },
   {
    "duration": 8,
    "start_time": "2022-12-18T14:45:33.139Z"
   },
   {
    "duration": 16,
    "start_time": "2022-12-18T14:45:33.149Z"
   },
   {
    "duration": 9,
    "start_time": "2022-12-18T14:45:33.167Z"
   },
   {
    "duration": 1535,
    "start_time": "2022-12-18T14:45:33.179Z"
   },
   {
    "duration": 1544,
    "start_time": "2022-12-18T14:45:34.718Z"
   },
   {
    "duration": 1432,
    "start_time": "2022-12-18T14:45:36.263Z"
   },
   {
    "duration": 1457,
    "start_time": "2022-12-18T14:45:37.697Z"
   },
   {
    "duration": 1426,
    "start_time": "2022-12-18T14:45:39.156Z"
   },
   {
    "duration": 1666,
    "start_time": "2022-12-18T14:45:40.584Z"
   },
   {
    "duration": 6,
    "start_time": "2022-12-18T14:45:42.252Z"
   },
   {
    "duration": 18,
    "start_time": "2022-12-18T14:45:42.260Z"
   },
   {
    "duration": 17,
    "start_time": "2022-12-18T14:45:42.280Z"
   },
   {
    "duration": 19,
    "start_time": "2022-12-18T14:45:42.299Z"
   },
   {
    "duration": 164,
    "start_time": "2022-12-18T14:45:42.320Z"
   },
   {
    "duration": 9,
    "start_time": "2022-12-18T14:45:42.487Z"
   },
   {
    "duration": 28,
    "start_time": "2022-12-18T14:45:42.498Z"
   },
   {
    "duration": 25,
    "start_time": "2022-12-18T14:45:42.528Z"
   },
   {
    "duration": 1488,
    "start_time": "2022-12-18T14:45:42.555Z"
   },
   {
    "duration": 6,
    "start_time": "2022-12-18T14:45:44.045Z"
   },
   {
    "duration": 32,
    "start_time": "2022-12-18T14:45:44.053Z"
   },
   {
    "duration": 5,
    "start_time": "2022-12-18T14:46:19.277Z"
   },
   {
    "duration": 6,
    "start_time": "2022-12-18T14:46:22.416Z"
   },
   {
    "duration": 12,
    "start_time": "2022-12-18T14:46:29.677Z"
   },
   {
    "duration": 1520,
    "start_time": "2022-12-18T14:46:49.053Z"
   },
   {
    "duration": 1243,
    "start_time": "2022-12-18T14:54:10.306Z"
   },
   {
    "duration": 1372,
    "start_time": "2022-12-18T14:54:21.926Z"
   },
   {
    "duration": 1446,
    "start_time": "2022-12-18T14:58:06.561Z"
   },
   {
    "duration": 1422,
    "start_time": "2022-12-18T14:58:15.318Z"
   },
   {
    "duration": 1446,
    "start_time": "2022-12-18T14:58:30.008Z"
   },
   {
    "duration": 642,
    "start_time": "2022-12-18T14:59:15.365Z"
   },
   {
    "duration": 41,
    "start_time": "2022-12-18T14:59:16.010Z"
   },
   {
    "duration": 2504,
    "start_time": "2022-12-18T14:59:16.054Z"
   },
   {
    "duration": 8,
    "start_time": "2022-12-18T14:59:18.561Z"
   },
   {
    "duration": 18,
    "start_time": "2022-12-18T14:59:18.571Z"
   },
   {
    "duration": 7,
    "start_time": "2022-12-18T14:59:18.591Z"
   },
   {
    "duration": 10,
    "start_time": "2022-12-18T14:59:18.600Z"
   },
   {
    "duration": 1514,
    "start_time": "2022-12-18T14:59:18.612Z"
   },
   {
    "duration": 12,
    "start_time": "2022-12-18T14:59:20.128Z"
   },
   {
    "duration": 14,
    "start_time": "2022-12-18T14:59:20.144Z"
   },
   {
    "duration": 13,
    "start_time": "2022-12-18T14:59:20.160Z"
   },
   {
    "duration": 25,
    "start_time": "2022-12-18T14:59:20.176Z"
   },
   {
    "duration": 1403,
    "start_time": "2022-12-18T14:59:20.204Z"
   },
   {
    "duration": 1532,
    "start_time": "2022-12-18T14:59:21.609Z"
   },
   {
    "duration": 1385,
    "start_time": "2022-12-18T14:59:23.143Z"
   },
   {
    "duration": 1496,
    "start_time": "2022-12-18T14:59:24.530Z"
   },
   {
    "duration": 1489,
    "start_time": "2022-12-18T14:59:26.029Z"
   },
   {
    "duration": 1429,
    "start_time": "2022-12-18T14:59:27.519Z"
   },
   {
    "duration": 6,
    "start_time": "2022-12-18T14:59:28.950Z"
   },
   {
    "duration": 24,
    "start_time": "2022-12-18T14:59:28.958Z"
   },
   {
    "duration": 16,
    "start_time": "2022-12-18T14:59:28.984Z"
   },
   {
    "duration": 7,
    "start_time": "2022-12-18T14:59:29.002Z"
   },
   {
    "duration": 136,
    "start_time": "2022-12-18T14:59:29.011Z"
   },
   {
    "duration": 6,
    "start_time": "2022-12-18T14:59:29.149Z"
   },
   {
    "duration": 20,
    "start_time": "2022-12-18T14:59:29.157Z"
   },
   {
    "duration": 33,
    "start_time": "2022-12-18T14:59:29.178Z"
   },
   {
    "duration": 1458,
    "start_time": "2022-12-18T14:59:29.213Z"
   },
   {
    "duration": 1502,
    "start_time": "2022-12-18T14:59:30.674Z"
   },
   {
    "duration": 20,
    "start_time": "2022-12-18T14:59:32.178Z"
   },
   {
    "duration": 1244,
    "start_time": "2022-12-18T15:01:05.339Z"
   },
   {
    "duration": 1108,
    "start_time": "2022-12-18T15:01:13.155Z"
   },
   {
    "duration": 1361,
    "start_time": "2022-12-18T15:01:28.289Z"
   },
   {
    "duration": 653,
    "start_time": "2022-12-18T15:02:12.262Z"
   },
   {
    "duration": 27,
    "start_time": "2022-12-18T15:02:12.917Z"
   },
   {
    "duration": 2579,
    "start_time": "2022-12-18T15:02:12.946Z"
   },
   {
    "duration": 6,
    "start_time": "2022-12-18T15:02:15.528Z"
   },
   {
    "duration": 15,
    "start_time": "2022-12-18T15:02:15.536Z"
   },
   {
    "duration": 6,
    "start_time": "2022-12-18T15:02:15.553Z"
   },
   {
    "duration": 8,
    "start_time": "2022-12-18T15:02:15.561Z"
   },
   {
    "duration": 1461,
    "start_time": "2022-12-18T15:02:15.571Z"
   },
   {
    "duration": 8,
    "start_time": "2022-12-18T15:02:17.034Z"
   },
   {
    "duration": 12,
    "start_time": "2022-12-18T15:02:17.045Z"
   },
   {
    "duration": 13,
    "start_time": "2022-12-18T15:02:17.059Z"
   },
   {
    "duration": 12,
    "start_time": "2022-12-18T15:02:17.075Z"
   },
   {
    "duration": 1337,
    "start_time": "2022-12-18T15:02:17.089Z"
   },
   {
    "duration": 1444,
    "start_time": "2022-12-18T15:02:18.428Z"
   },
   {
    "duration": 1367,
    "start_time": "2022-12-18T15:02:19.874Z"
   },
   {
    "duration": 1408,
    "start_time": "2022-12-18T15:02:21.243Z"
   },
   {
    "duration": 1342,
    "start_time": "2022-12-18T15:02:22.653Z"
   },
   {
    "duration": 1366,
    "start_time": "2022-12-18T15:02:23.997Z"
   },
   {
    "duration": 6,
    "start_time": "2022-12-18T15:02:25.365Z"
   },
   {
    "duration": 34,
    "start_time": "2022-12-18T15:02:25.373Z"
   },
   {
    "duration": 20,
    "start_time": "2022-12-18T15:02:25.410Z"
   },
   {
    "duration": 15,
    "start_time": "2022-12-18T15:02:25.431Z"
   },
   {
    "duration": 111,
    "start_time": "2022-12-18T15:02:25.448Z"
   },
   {
    "duration": 7,
    "start_time": "2022-12-18T15:02:25.561Z"
   },
   {
    "duration": 16,
    "start_time": "2022-12-18T15:02:25.570Z"
   },
   {
    "duration": 16,
    "start_time": "2022-12-18T15:02:25.587Z"
   },
   {
    "duration": 1525,
    "start_time": "2022-12-18T15:02:25.605Z"
   },
   {
    "duration": 1409,
    "start_time": "2022-12-18T15:02:27.136Z"
   },
   {
    "duration": 14,
    "start_time": "2022-12-18T15:02:28.547Z"
   },
   {
    "duration": 516,
    "start_time": "2022-12-18T15:02:59.274Z"
   },
   {
    "duration": 17,
    "start_time": "2022-12-18T15:02:59.792Z"
   },
   {
    "duration": 2379,
    "start_time": "2022-12-18T15:02:59.810Z"
   },
   {
    "duration": 8,
    "start_time": "2022-12-18T15:03:02.192Z"
   },
   {
    "duration": 32,
    "start_time": "2022-12-18T15:03:02.203Z"
   },
   {
    "duration": 6,
    "start_time": "2022-12-18T15:03:02.236Z"
   },
   {
    "duration": 10,
    "start_time": "2022-12-18T15:03:02.244Z"
   },
   {
    "duration": 1427,
    "start_time": "2022-12-18T15:03:02.256Z"
   },
   {
    "duration": 8,
    "start_time": "2022-12-18T15:03:03.685Z"
   },
   {
    "duration": 23,
    "start_time": "2022-12-18T15:03:03.694Z"
   },
   {
    "duration": 24,
    "start_time": "2022-12-18T15:03:03.719Z"
   },
   {
    "duration": 29,
    "start_time": "2022-12-18T15:03:03.745Z"
   },
   {
    "duration": 1323,
    "start_time": "2022-12-18T15:03:03.776Z"
   },
   {
    "duration": 1314,
    "start_time": "2022-12-18T15:03:05.102Z"
   },
   {
    "duration": 1314,
    "start_time": "2022-12-18T15:03:06.417Z"
   },
   {
    "duration": 1303,
    "start_time": "2022-12-18T15:03:07.736Z"
   },
   {
    "duration": 1283,
    "start_time": "2022-12-18T15:03:09.041Z"
   },
   {
    "duration": 1297,
    "start_time": "2022-12-18T15:03:10.326Z"
   },
   {
    "duration": 6,
    "start_time": "2022-12-18T15:03:11.625Z"
   },
   {
    "duration": 17,
    "start_time": "2022-12-18T15:03:11.636Z"
   },
   {
    "duration": 25,
    "start_time": "2022-12-18T15:03:11.655Z"
   },
   {
    "duration": 14,
    "start_time": "2022-12-18T15:03:11.682Z"
   },
   {
    "duration": 104,
    "start_time": "2022-12-18T15:03:11.699Z"
   },
   {
    "duration": 8,
    "start_time": "2022-12-18T15:03:11.806Z"
   },
   {
    "duration": 22,
    "start_time": "2022-12-18T15:03:11.816Z"
   },
   {
    "duration": 13,
    "start_time": "2022-12-18T15:03:11.840Z"
   },
   {
    "duration": 1441,
    "start_time": "2022-12-18T15:03:11.855Z"
   },
   {
    "duration": 1348,
    "start_time": "2022-12-18T15:03:13.298Z"
   },
   {
    "duration": 20,
    "start_time": "2022-12-18T15:03:14.648Z"
   },
   {
    "duration": 577,
    "start_time": "2022-12-18T15:06:38.867Z"
   },
   {
    "duration": 19,
    "start_time": "2022-12-18T15:06:39.447Z"
   },
   {
    "duration": 2462,
    "start_time": "2022-12-18T15:06:39.468Z"
   },
   {
    "duration": 7,
    "start_time": "2022-12-18T15:06:41.932Z"
   },
   {
    "duration": 23,
    "start_time": "2022-12-18T15:06:41.940Z"
   },
   {
    "duration": 28,
    "start_time": "2022-12-18T15:06:41.965Z"
   },
   {
    "duration": 24,
    "start_time": "2022-12-18T15:06:41.995Z"
   },
   {
    "duration": 1616,
    "start_time": "2022-12-18T15:06:42.021Z"
   },
   {
    "duration": 9,
    "start_time": "2022-12-18T15:06:43.639Z"
   },
   {
    "duration": 13,
    "start_time": "2022-12-18T15:06:43.651Z"
   },
   {
    "duration": 22,
    "start_time": "2022-12-18T15:06:43.665Z"
   },
   {
    "duration": 5,
    "start_time": "2022-12-18T15:06:43.690Z"
   },
   {
    "duration": 1392,
    "start_time": "2022-12-18T15:06:43.696Z"
   },
   {
    "duration": 1483,
    "start_time": "2022-12-18T15:06:45.090Z"
   },
   {
    "duration": 1384,
    "start_time": "2022-12-18T15:06:46.575Z"
   },
   {
    "duration": 1436,
    "start_time": "2022-12-18T15:06:47.961Z"
   },
   {
    "duration": 1424,
    "start_time": "2022-12-18T15:06:49.400Z"
   },
   {
    "duration": 1453,
    "start_time": "2022-12-18T15:06:50.826Z"
   },
   {
    "duration": 4,
    "start_time": "2022-12-18T15:06:52.282Z"
   },
   {
    "duration": 40,
    "start_time": "2022-12-18T15:06:52.288Z"
   },
   {
    "duration": 20,
    "start_time": "2022-12-18T15:06:52.330Z"
   },
   {
    "duration": 15,
    "start_time": "2022-12-18T15:06:52.352Z"
   },
   {
    "duration": 148,
    "start_time": "2022-12-18T15:06:52.368Z"
   },
   {
    "duration": 9,
    "start_time": "2022-12-18T15:06:52.518Z"
   },
   {
    "duration": 42,
    "start_time": "2022-12-18T15:06:52.536Z"
   },
   {
    "duration": 33,
    "start_time": "2022-12-18T15:06:52.582Z"
   },
   {
    "duration": 1429,
    "start_time": "2022-12-18T15:06:52.617Z"
   },
   {
    "duration": 1402,
    "start_time": "2022-12-18T15:06:54.050Z"
   },
   {
    "duration": 16,
    "start_time": "2022-12-18T15:06:55.454Z"
   },
   {
    "duration": 556,
    "start_time": "2022-12-18T15:07:34.474Z"
   },
   {
    "duration": 21,
    "start_time": "2022-12-18T15:07:35.032Z"
   },
   {
    "duration": 2507,
    "start_time": "2022-12-18T15:07:35.056Z"
   },
   {
    "duration": 8,
    "start_time": "2022-12-18T15:07:37.567Z"
   },
   {
    "duration": 27,
    "start_time": "2022-12-18T15:07:37.577Z"
   },
   {
    "duration": 8,
    "start_time": "2022-12-18T15:07:37.606Z"
   },
   {
    "duration": 18,
    "start_time": "2022-12-18T15:07:37.616Z"
   },
   {
    "duration": 1466,
    "start_time": "2022-12-18T15:07:37.637Z"
   },
   {
    "duration": 8,
    "start_time": "2022-12-18T15:07:39.105Z"
   },
   {
    "duration": 19,
    "start_time": "2022-12-18T15:07:39.116Z"
   },
   {
    "duration": 41,
    "start_time": "2022-12-18T15:07:39.137Z"
   },
   {
    "duration": 87,
    "start_time": "2022-12-18T15:07:39.180Z"
   },
   {
    "duration": 1419,
    "start_time": "2022-12-18T15:07:39.269Z"
   },
   {
    "duration": 1637,
    "start_time": "2022-12-18T15:07:40.690Z"
   },
   {
    "duration": 1562,
    "start_time": "2022-12-18T15:07:42.330Z"
   },
   {
    "duration": 1400,
    "start_time": "2022-12-18T15:07:43.894Z"
   },
   {
    "duration": 1506,
    "start_time": "2022-12-18T15:07:45.296Z"
   },
   {
    "duration": 1431,
    "start_time": "2022-12-18T15:07:46.804Z"
   },
   {
    "duration": 6,
    "start_time": "2022-12-18T15:07:48.237Z"
   },
   {
    "duration": 30,
    "start_time": "2022-12-18T15:07:48.245Z"
   },
   {
    "duration": 28,
    "start_time": "2022-12-18T15:07:48.277Z"
   },
   {
    "duration": 10,
    "start_time": "2022-12-18T15:07:48.308Z"
   },
   {
    "duration": 138,
    "start_time": "2022-12-18T15:07:48.321Z"
   },
   {
    "duration": 8,
    "start_time": "2022-12-18T15:07:48.460Z"
   },
   {
    "duration": 12,
    "start_time": "2022-12-18T15:07:48.470Z"
   },
   {
    "duration": 16,
    "start_time": "2022-12-18T15:07:48.484Z"
   },
   {
    "duration": 1612,
    "start_time": "2022-12-18T15:07:48.502Z"
   },
   {
    "duration": 1443,
    "start_time": "2022-12-18T15:07:50.117Z"
   },
   {
    "duration": 18,
    "start_time": "2022-12-18T15:07:51.561Z"
   },
   {
    "duration": 615,
    "start_time": "2022-12-18T15:08:50.446Z"
   },
   {
    "duration": 28,
    "start_time": "2022-12-18T15:08:51.064Z"
   },
   {
    "duration": 2635,
    "start_time": "2022-12-18T15:08:51.098Z"
   },
   {
    "duration": 7,
    "start_time": "2022-12-18T15:08:53.735Z"
   },
   {
    "duration": 15,
    "start_time": "2022-12-18T15:08:53.744Z"
   },
   {
    "duration": 8,
    "start_time": "2022-12-18T15:08:53.761Z"
   },
   {
    "duration": 16,
    "start_time": "2022-12-18T15:08:53.771Z"
   },
   {
    "duration": 1487,
    "start_time": "2022-12-18T15:08:53.789Z"
   },
   {
    "duration": 13,
    "start_time": "2022-12-18T15:08:55.280Z"
   },
   {
    "duration": 36,
    "start_time": "2022-12-18T15:08:55.295Z"
   },
   {
    "duration": 21,
    "start_time": "2022-12-18T15:08:55.333Z"
   },
   {
    "duration": 19,
    "start_time": "2022-12-18T15:08:55.356Z"
   },
   {
    "duration": 1467,
    "start_time": "2022-12-18T15:08:55.377Z"
   },
   {
    "duration": 1421,
    "start_time": "2022-12-18T15:08:56.846Z"
   },
   {
    "duration": 1395,
    "start_time": "2022-12-18T15:08:58.269Z"
   },
   {
    "duration": 1349,
    "start_time": "2022-12-18T15:08:59.667Z"
   },
   {
    "duration": 1350,
    "start_time": "2022-12-18T15:09:01.018Z"
   },
   {
    "duration": 1388,
    "start_time": "2022-12-18T15:09:02.370Z"
   },
   {
    "duration": 6,
    "start_time": "2022-12-18T15:09:03.761Z"
   },
   {
    "duration": 22,
    "start_time": "2022-12-18T15:09:03.769Z"
   },
   {
    "duration": 32,
    "start_time": "2022-12-18T15:09:03.793Z"
   },
   {
    "duration": 8,
    "start_time": "2022-12-18T15:09:03.827Z"
   },
   {
    "duration": 128,
    "start_time": "2022-12-18T15:09:03.837Z"
   },
   {
    "duration": 7,
    "start_time": "2022-12-18T15:09:03.971Z"
   },
   {
    "duration": 21,
    "start_time": "2022-12-18T15:09:03.980Z"
   },
   {
    "duration": 10,
    "start_time": "2022-12-18T15:09:04.004Z"
   },
   {
    "duration": 1523,
    "start_time": "2022-12-18T15:09:04.018Z"
   },
   {
    "duration": 2016,
    "start_time": "2022-12-18T15:09:05.543Z"
   },
   {
    "duration": 19,
    "start_time": "2022-12-18T15:09:07.560Z"
   },
   {
    "duration": 1998,
    "start_time": "2022-12-18T15:11:57.716Z"
   },
   {
    "duration": 2864,
    "start_time": "2022-12-18T15:12:58.792Z"
   },
   {
    "duration": 515,
    "start_time": "2022-12-18T15:13:07.787Z"
   },
   {
    "duration": 15,
    "start_time": "2022-12-18T15:13:08.304Z"
   },
   {
    "duration": 2316,
    "start_time": "2022-12-18T15:13:08.321Z"
   },
   {
    "duration": 7,
    "start_time": "2022-12-18T15:13:10.639Z"
   },
   {
    "duration": 17,
    "start_time": "2022-12-18T15:13:10.649Z"
   },
   {
    "duration": 10,
    "start_time": "2022-12-18T15:13:10.668Z"
   },
   {
    "duration": 18,
    "start_time": "2022-12-18T15:13:10.680Z"
   },
   {
    "duration": 1443,
    "start_time": "2022-12-18T15:13:10.702Z"
   },
   {
    "duration": 9,
    "start_time": "2022-12-18T15:13:12.146Z"
   },
   {
    "duration": 8,
    "start_time": "2022-12-18T15:13:12.157Z"
   },
   {
    "duration": 14,
    "start_time": "2022-12-18T15:13:12.167Z"
   },
   {
    "duration": 5,
    "start_time": "2022-12-18T15:13:12.183Z"
   },
   {
    "duration": 1412,
    "start_time": "2022-12-18T15:13:12.189Z"
   },
   {
    "duration": 1391,
    "start_time": "2022-12-18T15:13:13.605Z"
   },
   {
    "duration": 1401,
    "start_time": "2022-12-18T15:13:14.998Z"
   },
   {
    "duration": 1454,
    "start_time": "2022-12-18T15:13:16.401Z"
   },
   {
    "duration": 1320,
    "start_time": "2022-12-18T15:13:17.857Z"
   },
   {
    "duration": 1432,
    "start_time": "2022-12-18T15:13:19.180Z"
   },
   {
    "duration": 4,
    "start_time": "2022-12-18T15:13:20.614Z"
   },
   {
    "duration": 31,
    "start_time": "2022-12-18T15:13:20.620Z"
   },
   {
    "duration": 16,
    "start_time": "2022-12-18T15:13:20.653Z"
   },
   {
    "duration": 7,
    "start_time": "2022-12-18T15:13:20.671Z"
   },
   {
    "duration": 161,
    "start_time": "2022-12-18T15:13:20.680Z"
   },
   {
    "duration": 8,
    "start_time": "2022-12-18T15:13:20.843Z"
   },
   {
    "duration": 13,
    "start_time": "2022-12-18T15:13:20.853Z"
   },
   {
    "duration": 11,
    "start_time": "2022-12-18T15:13:20.868Z"
   },
   {
    "duration": 1550,
    "start_time": "2022-12-18T15:13:20.881Z"
   },
   {
    "duration": 3155,
    "start_time": "2022-12-18T15:13:22.434Z"
   },
   {
    "duration": 16,
    "start_time": "2022-12-18T15:13:25.592Z"
   },
   {
    "duration": 638,
    "start_time": "2022-12-18T15:15:03.486Z"
   },
   {
    "duration": 23,
    "start_time": "2022-12-18T15:15:04.127Z"
   },
   {
    "duration": 2406,
    "start_time": "2022-12-18T15:15:04.151Z"
   },
   {
    "duration": 7,
    "start_time": "2022-12-18T15:15:06.559Z"
   },
   {
    "duration": 15,
    "start_time": "2022-12-18T15:15:06.568Z"
   },
   {
    "duration": 17,
    "start_time": "2022-12-18T15:15:06.585Z"
   },
   {
    "duration": 7,
    "start_time": "2022-12-18T15:15:06.604Z"
   },
   {
    "duration": 1548,
    "start_time": "2022-12-18T15:15:06.613Z"
   },
   {
    "duration": 10,
    "start_time": "2022-12-18T15:15:08.164Z"
   },
   {
    "duration": 15,
    "start_time": "2022-12-18T15:15:08.176Z"
   },
   {
    "duration": 16,
    "start_time": "2022-12-18T15:15:08.194Z"
   },
   {
    "duration": 7,
    "start_time": "2022-12-18T15:15:08.211Z"
   },
   {
    "duration": 1374,
    "start_time": "2022-12-18T15:15:08.220Z"
   },
   {
    "duration": 1422,
    "start_time": "2022-12-18T15:15:09.598Z"
   },
   {
    "duration": 1352,
    "start_time": "2022-12-18T15:15:11.022Z"
   },
   {
    "duration": 1449,
    "start_time": "2022-12-18T15:15:12.376Z"
   },
   {
    "duration": 1409,
    "start_time": "2022-12-18T15:15:13.828Z"
   },
   {
    "duration": 1406,
    "start_time": "2022-12-18T15:15:15.239Z"
   },
   {
    "duration": 5,
    "start_time": "2022-12-18T15:15:16.647Z"
   },
   {
    "duration": 28,
    "start_time": "2022-12-18T15:15:16.654Z"
   },
   {
    "duration": 22,
    "start_time": "2022-12-18T15:15:16.685Z"
   },
   {
    "duration": 29,
    "start_time": "2022-12-18T15:15:16.709Z"
   },
   {
    "duration": 116,
    "start_time": "2022-12-18T15:15:16.740Z"
   },
   {
    "duration": 7,
    "start_time": "2022-12-18T15:15:16.858Z"
   },
   {
    "duration": 13,
    "start_time": "2022-12-18T15:15:16.867Z"
   },
   {
    "duration": 17,
    "start_time": "2022-12-18T15:15:16.882Z"
   },
   {
    "duration": 1388,
    "start_time": "2022-12-18T15:15:16.901Z"
   },
   {
    "duration": 1972,
    "start_time": "2022-12-18T15:15:18.292Z"
   },
   {
    "duration": 15,
    "start_time": "2022-12-18T15:15:20.266Z"
   },
   {
    "duration": 1963,
    "start_time": "2022-12-18T15:15:45.196Z"
   },
   {
    "duration": 2053,
    "start_time": "2022-12-18T15:15:52.842Z"
   },
   {
    "duration": 581,
    "start_time": "2022-12-18T15:16:17.644Z"
   },
   {
    "duration": 23,
    "start_time": "2022-12-18T15:16:18.227Z"
   },
   {
    "duration": 2438,
    "start_time": "2022-12-18T15:16:18.252Z"
   },
   {
    "duration": 6,
    "start_time": "2022-12-18T15:16:20.692Z"
   },
   {
    "duration": 10,
    "start_time": "2022-12-18T15:16:20.701Z"
   },
   {
    "duration": 5,
    "start_time": "2022-12-18T15:16:20.713Z"
   },
   {
    "duration": 14,
    "start_time": "2022-12-18T15:16:20.720Z"
   },
   {
    "duration": 1422,
    "start_time": "2022-12-18T15:16:20.736Z"
   },
   {
    "duration": 9,
    "start_time": "2022-12-18T15:16:22.160Z"
   },
   {
    "duration": 9,
    "start_time": "2022-12-18T15:16:22.171Z"
   },
   {
    "duration": 11,
    "start_time": "2022-12-18T15:16:22.182Z"
   },
   {
    "duration": 5,
    "start_time": "2022-12-18T15:16:22.196Z"
   },
   {
    "duration": 1556,
    "start_time": "2022-12-18T15:16:22.204Z"
   },
   {
    "duration": 1409,
    "start_time": "2022-12-18T15:16:23.763Z"
   },
   {
    "duration": 1406,
    "start_time": "2022-12-18T15:16:25.174Z"
   },
   {
    "duration": 1452,
    "start_time": "2022-12-18T15:16:26.583Z"
   },
   {
    "duration": 1398,
    "start_time": "2022-12-18T15:16:28.037Z"
   },
   {
    "duration": 1437,
    "start_time": "2022-12-18T15:16:29.437Z"
   },
   {
    "duration": 5,
    "start_time": "2022-12-18T15:16:30.877Z"
   },
   {
    "duration": 36,
    "start_time": "2022-12-18T15:16:30.884Z"
   },
   {
    "duration": 41,
    "start_time": "2022-12-18T15:16:30.922Z"
   },
   {
    "duration": 57,
    "start_time": "2022-12-18T15:16:30.965Z"
   },
   {
    "duration": 134,
    "start_time": "2022-12-18T15:16:31.024Z"
   },
   {
    "duration": 7,
    "start_time": "2022-12-18T15:16:31.161Z"
   },
   {
    "duration": 33,
    "start_time": "2022-12-18T15:16:31.170Z"
   },
   {
    "duration": 30,
    "start_time": "2022-12-18T15:16:31.206Z"
   },
   {
    "duration": 1548,
    "start_time": "2022-12-18T15:16:31.238Z"
   },
   {
    "duration": 2059,
    "start_time": "2022-12-18T15:16:32.788Z"
   },
   {
    "duration": 20,
    "start_time": "2022-12-18T15:16:34.849Z"
   },
   {
    "duration": 6,
    "start_time": "2022-12-18T15:18:48.898Z"
   },
   {
    "duration": 6,
    "start_time": "2022-12-18T15:18:52.835Z"
   },
   {
    "duration": 6,
    "start_time": "2022-12-18T15:18:59.462Z"
   },
   {
    "duration": 1418,
    "start_time": "2022-12-18T15:19:09.514Z"
   },
   {
    "duration": 6,
    "start_time": "2022-12-18T15:19:17.008Z"
   },
   {
    "duration": 1303,
    "start_time": "2022-12-18T15:19:22.946Z"
   },
   {
    "duration": 5,
    "start_time": "2022-12-18T15:22:45.916Z"
   },
   {
    "duration": 5,
    "start_time": "2022-12-18T15:26:27.226Z"
   },
   {
    "duration": 8,
    "start_time": "2022-12-18T15:26:35.245Z"
   },
   {
    "duration": 9,
    "start_time": "2022-12-18T15:30:34.439Z"
   },
   {
    "duration": 6,
    "start_time": "2022-12-18T15:32:49.233Z"
   },
   {
    "duration": 9,
    "start_time": "2022-12-18T15:32:55.704Z"
   },
   {
    "duration": 10,
    "start_time": "2022-12-18T15:33:20.345Z"
   },
   {
    "duration": 11,
    "start_time": "2022-12-18T15:33:21.992Z"
   },
   {
    "duration": 11,
    "start_time": "2022-12-18T15:33:27.831Z"
   },
   {
    "duration": 10,
    "start_time": "2022-12-18T15:33:29.359Z"
   },
   {
    "duration": 11,
    "start_time": "2022-12-18T15:34:20.368Z"
   },
   {
    "duration": 8,
    "start_time": "2022-12-18T15:36:43.258Z"
   },
   {
    "duration": 7,
    "start_time": "2022-12-18T15:37:08.801Z"
   },
   {
    "duration": 8,
    "start_time": "2022-12-18T15:37:35.877Z"
   },
   {
    "duration": 12,
    "start_time": "2022-12-18T15:37:40.866Z"
   },
   {
    "duration": 18,
    "start_time": "2022-12-18T15:37:52.469Z"
   },
   {
    "duration": 11,
    "start_time": "2022-12-18T15:38:07.082Z"
   },
   {
    "duration": 11,
    "start_time": "2022-12-18T15:41:01.986Z"
   },
   {
    "duration": 85,
    "start_time": "2022-12-18T16:35:57.735Z"
   },
   {
    "duration": 11,
    "start_time": "2022-12-18T16:36:00.794Z"
   },
   {
    "duration": 9,
    "start_time": "2022-12-18T16:36:03.044Z"
   },
   {
    "duration": 9,
    "start_time": "2022-12-18T16:36:11.023Z"
   },
   {
    "duration": 10,
    "start_time": "2022-12-18T16:36:13.179Z"
   },
   {
    "duration": 39,
    "start_time": "2022-12-18T16:37:12.685Z"
   },
   {
    "duration": 31,
    "start_time": "2022-12-18T16:37:34.741Z"
   },
   {
    "duration": 19,
    "start_time": "2022-12-18T16:38:10.823Z"
   },
   {
    "duration": 18,
    "start_time": "2022-12-18T16:38:31.647Z"
   },
   {
    "duration": 201,
    "start_time": "2022-12-18T16:39:57.361Z"
   },
   {
    "duration": 206,
    "start_time": "2022-12-18T16:41:58.387Z"
   },
   {
    "duration": 259,
    "start_time": "2022-12-18T16:43:11.179Z"
   },
   {
    "duration": 42,
    "start_time": "2022-12-18T16:43:54.661Z"
   },
   {
    "duration": 24,
    "start_time": "2022-12-18T16:43:57.703Z"
   },
   {
    "duration": 203,
    "start_time": "2022-12-18T16:44:00.621Z"
   },
   {
    "duration": 1394,
    "start_time": "2022-12-18T16:44:19.171Z"
   },
   {
    "duration": 1268,
    "start_time": "2022-12-18T16:45:34.062Z"
   },
   {
    "duration": 217,
    "start_time": "2022-12-18T16:45:41.164Z"
   },
   {
    "duration": 5,
    "start_time": "2022-12-18T16:46:25.409Z"
   },
   {
    "duration": 5,
    "start_time": "2022-12-18T16:47:54.688Z"
   },
   {
    "duration": 7,
    "start_time": "2022-12-18T16:47:57.999Z"
   },
   {
    "duration": 7,
    "start_time": "2022-12-18T16:48:05.689Z"
   },
   {
    "duration": 15,
    "start_time": "2022-12-18T16:48:25.615Z"
   },
   {
    "duration": 25,
    "start_time": "2022-12-18T16:48:42.377Z"
   },
   {
    "duration": 14,
    "start_time": "2022-12-18T16:49:03.541Z"
   },
   {
    "duration": 9,
    "start_time": "2022-12-18T16:49:06.621Z"
   },
   {
    "duration": 9,
    "start_time": "2022-12-18T16:49:18.407Z"
   },
   {
    "duration": 16,
    "start_time": "2022-12-18T16:49:20.387Z"
   },
   {
    "duration": 50,
    "start_time": "2022-12-18T16:49:51.378Z"
   },
   {
    "duration": 47,
    "start_time": "2022-12-18T16:49:52.193Z"
   },
   {
    "duration": 2839,
    "start_time": "2022-12-18T16:50:13.654Z"
   },
   {
    "duration": 2832,
    "start_time": "2022-12-18T16:50:21.772Z"
   },
   {
    "duration": 548,
    "start_time": "2022-12-18T16:50:31.152Z"
   },
   {
    "duration": 17,
    "start_time": "2022-12-18T16:50:31.702Z"
   },
   {
    "duration": 2360,
    "start_time": "2022-12-18T16:50:31.721Z"
   },
   {
    "duration": 7,
    "start_time": "2022-12-18T16:50:34.084Z"
   },
   {
    "duration": 13,
    "start_time": "2022-12-18T16:50:34.094Z"
   },
   {
    "duration": 6,
    "start_time": "2022-12-18T16:50:34.109Z"
   },
   {
    "duration": 21,
    "start_time": "2022-12-18T16:50:34.119Z"
   },
   {
    "duration": 1366,
    "start_time": "2022-12-18T16:50:34.142Z"
   },
   {
    "duration": 9,
    "start_time": "2022-12-18T16:50:35.510Z"
   },
   {
    "duration": 18,
    "start_time": "2022-12-18T16:50:35.520Z"
   },
   {
    "duration": 9,
    "start_time": "2022-12-18T16:50:35.540Z"
   },
   {
    "duration": 20,
    "start_time": "2022-12-18T16:50:35.551Z"
   },
   {
    "duration": 1386,
    "start_time": "2022-12-18T16:50:35.573Z"
   },
   {
    "duration": 1352,
    "start_time": "2022-12-18T16:50:36.962Z"
   },
   {
    "duration": 1350,
    "start_time": "2022-12-18T16:50:38.316Z"
   },
   {
    "duration": 1382,
    "start_time": "2022-12-18T16:50:39.668Z"
   },
   {
    "duration": 1332,
    "start_time": "2022-12-18T16:50:41.052Z"
   },
   {
    "duration": 1374,
    "start_time": "2022-12-18T16:50:42.387Z"
   },
   {
    "duration": 4,
    "start_time": "2022-12-18T16:50:43.763Z"
   },
   {
    "duration": 36,
    "start_time": "2022-12-18T16:50:43.769Z"
   },
   {
    "duration": 21,
    "start_time": "2022-12-18T16:50:43.807Z"
   },
   {
    "duration": 18,
    "start_time": "2022-12-18T16:50:43.829Z"
   },
   {
    "duration": 105,
    "start_time": "2022-12-18T16:50:43.848Z"
   },
   {
    "duration": 7,
    "start_time": "2022-12-18T16:50:43.955Z"
   },
   {
    "duration": 14,
    "start_time": "2022-12-18T16:50:43.963Z"
   },
   {
    "duration": 24,
    "start_time": "2022-12-18T16:50:43.979Z"
   },
   {
    "duration": 1352,
    "start_time": "2022-12-18T16:50:44.006Z"
   },
   {
    "duration": 1971,
    "start_time": "2022-12-18T16:50:45.360Z"
   },
   {
    "duration": 4,
    "start_time": "2022-12-18T16:50:47.335Z"
   },
   {
    "duration": 1305,
    "start_time": "2022-12-18T16:50:47.341Z"
   },
   {
    "duration": 1355,
    "start_time": "2022-12-18T16:50:48.648Z"
   },
   {
    "duration": 8,
    "start_time": "2022-12-18T16:50:50.005Z"
   },
   {
    "duration": 28,
    "start_time": "2022-12-18T16:50:50.015Z"
   },
   {
    "duration": 15,
    "start_time": "2022-12-18T16:50:50.045Z"
   },
   {
    "duration": 16,
    "start_time": "2022-12-18T16:50:50.062Z"
   },
   {
    "duration": 16,
    "start_time": "2022-12-18T16:50:50.080Z"
   },
   {
    "duration": 19,
    "start_time": "2022-12-18T16:50:50.098Z"
   },
   {
    "duration": 226,
    "start_time": "2022-12-18T16:50:50.119Z"
   },
   {
    "duration": 1308,
    "start_time": "2022-12-18T16:50:56.376Z"
   },
   {
    "duration": 1290,
    "start_time": "2022-12-18T16:51:07.459Z"
   },
   {
    "duration": 1310,
    "start_time": "2022-12-18T16:51:26.654Z"
   },
   {
    "duration": 201,
    "start_time": "2022-12-18T16:51:32.854Z"
   },
   {
    "duration": 1241,
    "start_time": "2022-12-18T16:51:45.618Z"
   },
   {
    "duration": 1177,
    "start_time": "2022-12-18T16:51:47.091Z"
   },
   {
    "duration": 54,
    "start_time": "2022-12-18T16:52:02.520Z"
   },
   {
    "duration": 259,
    "start_time": "2022-12-18T16:52:07.113Z"
   },
   {
    "duration": 230,
    "start_time": "2022-12-18T16:52:31.028Z"
   },
   {
    "duration": 263,
    "start_time": "2022-12-18T16:52:38.551Z"
   },
   {
    "duration": 387,
    "start_time": "2022-12-18T16:52:42.362Z"
   },
   {
    "duration": 253,
    "start_time": "2022-12-18T16:52:53.094Z"
   },
   {
    "duration": 257,
    "start_time": "2022-12-18T16:52:57.688Z"
   },
   {
    "duration": 3,
    "start_time": "2022-12-18T16:54:15.746Z"
   },
   {
    "duration": 563,
    "start_time": "2022-12-18T16:54:22.741Z"
   },
   {
    "duration": 19,
    "start_time": "2022-12-18T16:54:23.306Z"
   },
   {
    "duration": 2304,
    "start_time": "2022-12-18T16:54:23.326Z"
   },
   {
    "duration": 8,
    "start_time": "2022-12-18T16:54:25.632Z"
   },
   {
    "duration": 18,
    "start_time": "2022-12-18T16:54:25.643Z"
   },
   {
    "duration": 8,
    "start_time": "2022-12-18T16:54:25.663Z"
   },
   {
    "duration": 17,
    "start_time": "2022-12-18T16:54:25.673Z"
   },
   {
    "duration": 1440,
    "start_time": "2022-12-18T16:54:25.692Z"
   },
   {
    "duration": 9,
    "start_time": "2022-12-18T16:54:27.134Z"
   },
   {
    "duration": 9,
    "start_time": "2022-12-18T16:54:27.145Z"
   },
   {
    "duration": 16,
    "start_time": "2022-12-18T16:54:27.156Z"
   },
   {
    "duration": 22,
    "start_time": "2022-12-18T16:54:27.173Z"
   },
   {
    "duration": 1422,
    "start_time": "2022-12-18T16:54:27.197Z"
   },
   {
    "duration": 1334,
    "start_time": "2022-12-18T16:54:28.624Z"
   },
   {
    "duration": 1338,
    "start_time": "2022-12-18T16:54:29.960Z"
   },
   {
    "duration": 1380,
    "start_time": "2022-12-18T16:54:31.300Z"
   },
   {
    "duration": 1322,
    "start_time": "2022-12-18T16:54:32.682Z"
   },
   {
    "duration": 1329,
    "start_time": "2022-12-18T16:54:34.006Z"
   },
   {
    "duration": 4,
    "start_time": "2022-12-18T16:54:35.337Z"
   },
   {
    "duration": 29,
    "start_time": "2022-12-18T16:54:35.343Z"
   },
   {
    "duration": 16,
    "start_time": "2022-12-18T16:54:35.374Z"
   },
   {
    "duration": 14,
    "start_time": "2022-12-18T16:54:35.392Z"
   },
   {
    "duration": 135,
    "start_time": "2022-12-18T16:54:35.408Z"
   },
   {
    "duration": 8,
    "start_time": "2022-12-18T16:54:35.545Z"
   },
   {
    "duration": 16,
    "start_time": "2022-12-18T16:54:35.555Z"
   },
   {
    "duration": 28,
    "start_time": "2022-12-18T16:54:35.573Z"
   },
   {
    "duration": 1390,
    "start_time": "2022-12-18T16:54:35.603Z"
   },
   {
    "duration": 1943,
    "start_time": "2022-12-18T16:54:36.995Z"
   },
   {
    "duration": 1268,
    "start_time": "2022-12-18T16:54:38.939Z"
   },
   {
    "duration": 3,
    "start_time": "2022-12-18T16:54:40.209Z"
   },
   {
    "duration": 15,
    "start_time": "2022-12-18T16:54:40.214Z"
   },
   {
    "duration": 10,
    "start_time": "2022-12-18T16:54:40.235Z"
   },
   {
    "duration": 20,
    "start_time": "2022-12-18T16:54:40.247Z"
   },
   {
    "duration": 20,
    "start_time": "2022-12-18T16:54:40.269Z"
   },
   {
    "duration": 28,
    "start_time": "2022-12-18T16:54:40.291Z"
   },
   {
    "duration": 13,
    "start_time": "2022-12-18T16:54:40.321Z"
   },
   {
    "duration": 267,
    "start_time": "2022-12-18T16:54:40.336Z"
   },
   {
    "duration": 39,
    "start_time": "2022-12-18T16:55:00.368Z"
   },
   {
    "duration": 256,
    "start_time": "2022-12-18T16:55:04.933Z"
   },
   {
    "duration": 218,
    "start_time": "2022-12-18T16:55:29.675Z"
   },
   {
    "duration": 108,
    "start_time": "2022-12-18T16:55:55.123Z"
   },
   {
    "duration": 312,
    "start_time": "2022-12-18T16:55:57.323Z"
   },
   {
    "duration": 204,
    "start_time": "2022-12-18T16:56:12.821Z"
   },
   {
    "duration": 30276,
    "start_time": "2022-12-18T16:57:10.592Z"
   },
   {
    "duration": 8,
    "start_time": "2022-12-18T16:59:38.213Z"
   },
   {
    "duration": 8,
    "start_time": "2022-12-18T16:59:43.618Z"
   },
   {
    "duration": 759,
    "start_time": "2022-12-18T17:00:10.161Z"
   },
   {
    "duration": 4,
    "start_time": "2022-12-18T17:00:18.908Z"
   },
   {
    "duration": 7,
    "start_time": "2022-12-18T17:04:25.284Z"
   },
   {
    "duration": 17025,
    "start_time": "2022-12-18T17:04:38.299Z"
   },
   {
    "duration": 18712,
    "start_time": "2022-12-18T17:05:18.717Z"
   },
   {
    "duration": 75,
    "start_time": "2022-12-18T17:06:50.159Z"
   },
   {
    "duration": 48,
    "start_time": "2022-12-18T17:11:05.046Z"
   },
   {
    "duration": 51,
    "start_time": "2022-12-18T17:11:40.690Z"
   },
   {
    "duration": 48,
    "start_time": "2022-12-18T17:11:54.147Z"
   },
   {
    "duration": 52,
    "start_time": "2022-12-18T17:13:41.270Z"
   },
   {
    "duration": 51,
    "start_time": "2022-12-18T17:13:44.710Z"
   },
   {
    "duration": 47,
    "start_time": "2022-12-18T17:13:53.159Z"
   },
   {
    "duration": 53,
    "start_time": "2022-12-18T17:14:52.050Z"
   },
   {
    "duration": 48,
    "start_time": "2022-12-18T17:15:33.171Z"
   },
   {
    "duration": 260,
    "start_time": "2022-12-18T17:15:53.177Z"
   },
   {
    "duration": 47,
    "start_time": "2022-12-18T17:16:35.886Z"
   },
   {
    "duration": 54,
    "start_time": "2022-12-18T17:16:42.823Z"
   },
   {
    "duration": 52,
    "start_time": "2022-12-18T17:16:56.111Z"
   },
   {
    "duration": 53,
    "start_time": "2022-12-18T17:17:05.955Z"
   },
   {
    "duration": 44,
    "start_time": "2022-12-18T17:18:17.623Z"
   },
   {
    "duration": 56,
    "start_time": "2022-12-18T17:18:21.948Z"
   },
   {
    "duration": 49,
    "start_time": "2022-12-18T17:18:31.736Z"
   },
   {
    "duration": 46,
    "start_time": "2022-12-18T17:18:40.548Z"
   },
   {
    "duration": 58,
    "start_time": "2022-12-18T17:18:55.961Z"
   },
   {
    "duration": 46,
    "start_time": "2022-12-18T17:19:02.929Z"
   },
   {
    "duration": 599,
    "start_time": "2022-12-18T17:19:24.725Z"
   },
   {
    "duration": 17,
    "start_time": "2022-12-18T17:19:25.326Z"
   },
   {
    "duration": 2388,
    "start_time": "2022-12-18T17:19:25.345Z"
   },
   {
    "duration": 6,
    "start_time": "2022-12-18T17:19:27.736Z"
   },
   {
    "duration": 22,
    "start_time": "2022-12-18T17:19:27.744Z"
   },
   {
    "duration": 7,
    "start_time": "2022-12-18T17:19:27.768Z"
   },
   {
    "duration": 20,
    "start_time": "2022-12-18T17:19:27.777Z"
   },
   {
    "duration": 1380,
    "start_time": "2022-12-18T17:19:27.800Z"
   },
   {
    "duration": 8,
    "start_time": "2022-12-18T17:19:29.182Z"
   },
   {
    "duration": 20,
    "start_time": "2022-12-18T17:19:29.193Z"
   },
   {
    "duration": 15,
    "start_time": "2022-12-18T17:19:29.214Z"
   },
   {
    "duration": 9,
    "start_time": "2022-12-18T17:19:29.231Z"
   },
   {
    "duration": 1322,
    "start_time": "2022-12-18T17:19:29.242Z"
   },
   {
    "duration": 1323,
    "start_time": "2022-12-18T17:19:30.566Z"
   },
   {
    "duration": 1417,
    "start_time": "2022-12-18T17:19:31.891Z"
   },
   {
    "duration": 1298,
    "start_time": "2022-12-18T17:19:33.310Z"
   },
   {
    "duration": 1308,
    "start_time": "2022-12-18T17:19:34.610Z"
   },
   {
    "duration": 1329,
    "start_time": "2022-12-18T17:19:35.920Z"
   },
   {
    "duration": 6,
    "start_time": "2022-12-18T17:19:37.250Z"
   },
   {
    "duration": 19,
    "start_time": "2022-12-18T17:19:37.258Z"
   },
   {
    "duration": 13,
    "start_time": "2022-12-18T17:19:37.279Z"
   },
   {
    "duration": 23,
    "start_time": "2022-12-18T17:19:37.294Z"
   },
   {
    "duration": 117,
    "start_time": "2022-12-18T17:19:37.319Z"
   },
   {
    "duration": 7,
    "start_time": "2022-12-18T17:19:37.438Z"
   },
   {
    "duration": 16,
    "start_time": "2022-12-18T17:19:37.447Z"
   },
   {
    "duration": 18,
    "start_time": "2022-12-18T17:19:37.465Z"
   },
   {
    "duration": 1365,
    "start_time": "2022-12-18T17:19:37.485Z"
   },
   {
    "duration": 1907,
    "start_time": "2022-12-18T17:19:38.853Z"
   },
   {
    "duration": 1342,
    "start_time": "2022-12-18T17:19:40.762Z"
   },
   {
    "duration": 2,
    "start_time": "2022-12-18T17:19:42.106Z"
   },
   {
    "duration": 46,
    "start_time": "2022-12-18T17:19:42.109Z"
   },
   {
    "duration": 23,
    "start_time": "2022-12-18T17:19:42.157Z"
   },
   {
    "duration": 15,
    "start_time": "2022-12-18T17:19:42.182Z"
   },
   {
    "duration": 32,
    "start_time": "2022-12-18T17:19:42.199Z"
   },
   {
    "duration": 10,
    "start_time": "2022-12-18T17:19:42.233Z"
   },
   {
    "duration": 8,
    "start_time": "2022-12-18T17:19:42.244Z"
   },
   {
    "duration": 18329,
    "start_time": "2022-12-18T17:19:42.253Z"
   },
   {
    "duration": 67,
    "start_time": "2022-12-18T17:20:00.584Z"
   },
   {
    "duration": 48,
    "start_time": "2022-12-18T17:20:09.749Z"
   },
   {
    "duration": 752,
    "start_time": "2022-12-18T17:21:07.665Z"
   },
   {
    "duration": 53,
    "start_time": "2022-12-18T17:21:29.538Z"
   },
   {
    "duration": 49,
    "start_time": "2022-12-18T17:21:38.919Z"
   },
   {
    "duration": 42,
    "start_time": "2022-12-18T17:22:48.252Z"
   },
   {
    "duration": 3,
    "start_time": "2022-12-18T17:22:59.315Z"
   },
   {
    "duration": 70,
    "start_time": "2022-12-18T17:23:09.276Z"
   },
   {
    "duration": 32,
    "start_time": "2022-12-18T17:23:40.495Z"
   },
   {
    "duration": 23,
    "start_time": "2022-12-18T17:23:57.072Z"
   },
   {
    "duration": 16,
    "start_time": "2022-12-18T17:24:00.759Z"
   },
   {
    "duration": 21,
    "start_time": "2022-12-18T17:24:04.659Z"
   },
   {
    "duration": 36,
    "start_time": "2022-12-18T17:24:21.982Z"
   },
   {
    "duration": 35,
    "start_time": "2022-12-18T17:24:31.859Z"
   },
   {
    "duration": 21,
    "start_time": "2022-12-18T17:25:00.611Z"
   },
   {
    "duration": 18,
    "start_time": "2022-12-18T17:25:09.313Z"
   },
   {
    "duration": 24,
    "start_time": "2022-12-18T17:25:15.017Z"
   },
   {
    "duration": 19,
    "start_time": "2022-12-18T17:25:17.410Z"
   },
   {
    "duration": 20,
    "start_time": "2022-12-18T17:25:19.854Z"
   },
   {
    "duration": 21,
    "start_time": "2022-12-18T17:25:28.474Z"
   },
   {
    "duration": 23,
    "start_time": "2022-12-18T17:25:44.699Z"
   },
   {
    "duration": 20,
    "start_time": "2022-12-18T17:25:47.502Z"
   },
   {
    "duration": 31,
    "start_time": "2022-12-18T17:28:40.876Z"
   },
   {
    "duration": 31,
    "start_time": "2022-12-18T17:29:01.681Z"
   },
   {
    "duration": 35,
    "start_time": "2022-12-18T17:32:13.749Z"
   },
   {
    "duration": 2,
    "start_time": "2022-12-18T17:33:04.558Z"
   },
   {
    "duration": 219,
    "start_time": "2022-12-18T17:34:47.245Z"
   },
   {
    "duration": 153,
    "start_time": "2022-12-18T17:35:10.966Z"
   },
   {
    "duration": 141,
    "start_time": "2022-12-18T17:35:47.837Z"
   },
   {
    "duration": 201,
    "start_time": "2022-12-18T17:38:08.546Z"
   },
   {
    "duration": 368,
    "start_time": "2022-12-18T17:38:27.067Z"
   },
   {
    "duration": 48,
    "start_time": "2022-12-18T17:39:12.910Z"
   },
   {
    "duration": 432,
    "start_time": "2022-12-18T17:39:22.625Z"
   },
   {
    "duration": 411,
    "start_time": "2022-12-18T17:41:01.334Z"
   },
   {
    "duration": 1151,
    "start_time": "2022-12-18T17:41:05.638Z"
   },
   {
    "duration": 42,
    "start_time": "2022-12-18T17:42:46.751Z"
   },
   {
    "duration": 38,
    "start_time": "2022-12-18T17:43:57.992Z"
   },
   {
    "duration": 25,
    "start_time": "2022-12-18T17:47:30.669Z"
   },
   {
    "duration": 30,
    "start_time": "2022-12-18T17:48:37.799Z"
   },
   {
    "duration": 34,
    "start_time": "2022-12-18T17:48:57.932Z"
   },
   {
    "duration": 25,
    "start_time": "2022-12-18T17:49:34.471Z"
   },
   {
    "duration": 24,
    "start_time": "2022-12-18T17:49:45.423Z"
   },
   {
    "duration": 40,
    "start_time": "2022-12-18T17:50:00.465Z"
   },
   {
    "duration": 37,
    "start_time": "2022-12-18T17:50:22.854Z"
   },
   {
    "duration": 743,
    "start_time": "2022-12-18T17:51:05.949Z"
   },
   {
    "duration": 35,
    "start_time": "2022-12-18T17:51:20.255Z"
   },
   {
    "duration": 65,
    "start_time": "2022-12-19T09:32:40.614Z"
   },
   {
    "duration": 1212,
    "start_time": "2022-12-19T09:32:49.316Z"
   },
   {
    "duration": 19,
    "start_time": "2022-12-19T09:32:50.531Z"
   },
   {
    "duration": 2772,
    "start_time": "2022-12-19T09:32:50.551Z"
   },
   {
    "duration": 7,
    "start_time": "2022-12-19T09:32:53.325Z"
   },
   {
    "duration": 13,
    "start_time": "2022-12-19T09:32:53.334Z"
   },
   {
    "duration": 8,
    "start_time": "2022-12-19T09:32:53.348Z"
   },
   {
    "duration": 16,
    "start_time": "2022-12-19T09:32:53.363Z"
   },
   {
    "duration": 1683,
    "start_time": "2022-12-19T09:32:53.381Z"
   },
   {
    "duration": 12,
    "start_time": "2022-12-19T09:32:55.066Z"
   },
   {
    "duration": 20,
    "start_time": "2022-12-19T09:32:55.081Z"
   },
   {
    "duration": 16,
    "start_time": "2022-12-19T09:32:55.103Z"
   },
   {
    "duration": 8,
    "start_time": "2022-12-19T09:32:55.121Z"
   },
   {
    "duration": 1483,
    "start_time": "2022-12-19T09:32:55.130Z"
   },
   {
    "duration": 1496,
    "start_time": "2022-12-19T09:32:56.616Z"
   },
   {
    "duration": 1608,
    "start_time": "2022-12-19T09:32:58.114Z"
   },
   {
    "duration": 1555,
    "start_time": "2022-12-19T09:32:59.724Z"
   },
   {
    "duration": 1537,
    "start_time": "2022-12-19T09:33:01.281Z"
   },
   {
    "duration": 1506,
    "start_time": "2022-12-19T09:33:02.820Z"
   },
   {
    "duration": 5,
    "start_time": "2022-12-19T09:33:04.328Z"
   },
   {
    "duration": 35,
    "start_time": "2022-12-19T09:33:04.335Z"
   },
   {
    "duration": 31,
    "start_time": "2022-12-19T09:33:04.372Z"
   },
   {
    "duration": 18,
    "start_time": "2022-12-19T09:33:04.405Z"
   },
   {
    "duration": 137,
    "start_time": "2022-12-19T09:33:04.426Z"
   },
   {
    "duration": 9,
    "start_time": "2022-12-19T09:33:04.573Z"
   },
   {
    "duration": 10,
    "start_time": "2022-12-19T09:33:04.584Z"
   },
   {
    "duration": 15,
    "start_time": "2022-12-19T09:33:04.596Z"
   },
   {
    "duration": 1598,
    "start_time": "2022-12-19T09:33:04.614Z"
   },
   {
    "duration": 2108,
    "start_time": "2022-12-19T09:33:06.214Z"
   },
   {
    "duration": 1420,
    "start_time": "2022-12-19T09:33:08.323Z"
   },
   {
    "duration": 3,
    "start_time": "2022-12-19T09:33:09.745Z"
   },
   {
    "duration": 24,
    "start_time": "2022-12-19T09:33:09.755Z"
   },
   {
    "duration": 12,
    "start_time": "2022-12-19T09:33:09.781Z"
   },
   {
    "duration": 8,
    "start_time": "2022-12-19T09:33:09.794Z"
   },
   {
    "duration": 12,
    "start_time": "2022-12-19T09:33:09.804Z"
   },
   {
    "duration": 11,
    "start_time": "2022-12-19T09:33:09.818Z"
   },
   {
    "duration": 29,
    "start_time": "2022-12-19T09:33:09.831Z"
   },
   {
    "duration": 52,
    "start_time": "2022-12-19T09:33:09.864Z"
   },
   {
    "duration": 422,
    "start_time": "2022-12-19T09:33:09.918Z"
   },
   {
    "duration": 95,
    "start_time": "2022-12-19T09:38:04.592Z"
   },
   {
    "duration": 3,
    "start_time": "2022-12-19T09:38:11.628Z"
   },
   {
    "duration": 25,
    "start_time": "2022-12-19T09:38:13.852Z"
   },
   {
    "duration": 3,
    "start_time": "2022-12-19T09:38:46.304Z"
   },
   {
    "duration": 13,
    "start_time": "2022-12-19T09:38:49.537Z"
   },
   {
    "duration": 9,
    "start_time": "2022-12-19T09:38:51.441Z"
   },
   {
    "duration": 5,
    "start_time": "2022-12-19T09:39:02.376Z"
   },
   {
    "duration": 6912,
    "start_time": "2022-12-19T09:39:04.827Z"
   },
   {
    "duration": 1501,
    "start_time": "2022-12-19T10:04:45.125Z"
   },
   {
    "duration": 2152,
    "start_time": "2022-12-19T10:05:05.444Z"
   },
   {
    "duration": 1720,
    "start_time": "2022-12-19T10:05:24.451Z"
   },
   {
    "duration": 846,
    "start_time": "2022-12-19T10:07:38.079Z"
   },
   {
    "duration": 834,
    "start_time": "2022-12-19T10:07:44.901Z"
   },
   {
    "duration": 54,
    "start_time": "2022-12-19T10:09:53.780Z"
   },
   {
    "duration": 177,
    "start_time": "2022-12-19T10:10:03.719Z"
   },
   {
    "duration": 282,
    "start_time": "2022-12-19T10:10:19.762Z"
   },
   {
    "duration": 297,
    "start_time": "2022-12-19T10:12:07.991Z"
   },
   {
    "duration": 414,
    "start_time": "2022-12-19T10:14:23.971Z"
   },
   {
    "duration": 450,
    "start_time": "2022-12-19T10:14:48.544Z"
   },
   {
    "duration": 443,
    "start_time": "2022-12-19T10:14:55.653Z"
   },
   {
    "duration": 661,
    "start_time": "2022-12-19T10:15:01.826Z"
   },
   {
    "duration": 381,
    "start_time": "2022-12-19T10:17:43.344Z"
   },
   {
    "duration": 402,
    "start_time": "2022-12-19T10:17:47.042Z"
   },
   {
    "duration": 340,
    "start_time": "2022-12-19T10:17:47.948Z"
   },
   {
    "duration": 575,
    "start_time": "2022-12-19T10:18:47.962Z"
   },
   {
    "duration": 600,
    "start_time": "2022-12-19T10:18:58.114Z"
   },
   {
    "duration": 553,
    "start_time": "2022-12-19T10:19:16.044Z"
   },
   {
    "duration": 676,
    "start_time": "2022-12-19T10:19:22.242Z"
   },
   {
    "duration": 538,
    "start_time": "2022-12-19T10:19:26.687Z"
   },
   {
    "duration": 634,
    "start_time": "2022-12-19T10:19:41.748Z"
   },
   {
    "duration": 549,
    "start_time": "2022-12-19T10:19:49.044Z"
   },
   {
    "duration": 531,
    "start_time": "2022-12-19T10:19:56.870Z"
   },
   {
    "duration": 545,
    "start_time": "2022-12-19T10:20:01.876Z"
   },
   {
    "duration": 894,
    "start_time": "2022-12-19T10:21:16.257Z"
   },
   {
    "duration": 541,
    "start_time": "2022-12-19T10:21:31.864Z"
   },
   {
    "duration": 607,
    "start_time": "2022-12-19T10:21:43.916Z"
   },
   {
    "duration": 668,
    "start_time": "2022-12-19T10:21:56.678Z"
   },
   {
    "duration": 611,
    "start_time": "2022-12-19T10:22:07.905Z"
   },
   {
    "duration": 743,
    "start_time": "2022-12-19T10:22:26.008Z"
   },
   {
    "duration": 684,
    "start_time": "2022-12-19T10:22:39.089Z"
   },
   {
    "duration": 311,
    "start_time": "2022-12-19T10:22:46.575Z"
   },
   {
    "duration": 328,
    "start_time": "2022-12-19T10:22:52.752Z"
   },
   {
    "duration": 396,
    "start_time": "2022-12-19T10:23:16.115Z"
   },
   {
    "duration": 1601,
    "start_time": "2022-12-19T10:23:54.845Z"
   },
   {
    "duration": 702,
    "start_time": "2022-12-19T10:23:59.192Z"
   },
   {
    "duration": 844,
    "start_time": "2022-12-19T10:24:34.144Z"
   },
   {
    "duration": 692,
    "start_time": "2022-12-19T10:24:48.212Z"
   },
   {
    "duration": 313,
    "start_time": "2022-12-19T10:25:05.802Z"
   },
   {
    "duration": 533,
    "start_time": "2022-12-19T10:25:26.786Z"
   },
   {
    "duration": 578,
    "start_time": "2022-12-19T10:25:54.254Z"
   },
   {
    "duration": 1019,
    "start_time": "2022-12-19T10:26:03.385Z"
   },
   {
    "duration": 499,
    "start_time": "2022-12-19T10:26:13.944Z"
   },
   {
    "duration": 521,
    "start_time": "2022-12-19T10:26:19.713Z"
   },
   {
    "duration": 546,
    "start_time": "2022-12-19T10:26:27.302Z"
   },
   {
    "duration": 261,
    "start_time": "2022-12-19T10:26:35.718Z"
   },
   {
    "duration": 174,
    "start_time": "2022-12-19T10:26:41.605Z"
   },
   {
    "duration": 492,
    "start_time": "2022-12-19T10:27:07.644Z"
   },
   {
    "duration": 1452,
    "start_time": "2022-12-19T10:27:44.774Z"
   },
   {
    "duration": 347,
    "start_time": "2022-12-19T10:28:00.769Z"
   },
   {
    "duration": 613,
    "start_time": "2022-12-19T10:28:13.291Z"
   },
   {
    "duration": 308,
    "start_time": "2022-12-19T10:28:19.415Z"
   },
   {
    "duration": 433,
    "start_time": "2022-12-19T10:28:31.289Z"
   },
   {
    "duration": 617,
    "start_time": "2022-12-19T10:30:40.107Z"
   },
   {
    "duration": 69,
    "start_time": "2022-12-19T10:30:52.003Z"
   },
   {
    "duration": 600,
    "start_time": "2022-12-19T10:30:55.026Z"
   },
   {
    "duration": 378,
    "start_time": "2022-12-19T10:31:35.601Z"
   },
   {
    "duration": 225,
    "start_time": "2022-12-19T10:31:44.946Z"
   },
   {
    "duration": 224,
    "start_time": "2022-12-19T10:31:54.250Z"
   },
   {
    "duration": 231,
    "start_time": "2022-12-19T10:31:59.549Z"
   },
   {
    "duration": 218,
    "start_time": "2022-12-19T10:32:21.501Z"
   },
   {
    "duration": 219,
    "start_time": "2022-12-19T10:32:43.642Z"
   },
   {
    "duration": 10,
    "start_time": "2022-12-19T10:32:49.834Z"
   },
   {
    "duration": 64,
    "start_time": "2022-12-19T10:32:53.415Z"
   },
   {
    "duration": 196,
    "start_time": "2022-12-19T10:32:57.071Z"
   },
   {
    "duration": 9,
    "start_time": "2022-12-19T10:33:08.571Z"
   },
   {
    "duration": 10,
    "start_time": "2022-12-19T10:33:37.914Z"
   },
   {
    "duration": 13,
    "start_time": "2022-12-19T10:34:33.704Z"
   },
   {
    "duration": 47,
    "start_time": "2022-12-19T10:34:37.599Z"
   },
   {
    "duration": 61,
    "start_time": "2022-12-19T10:34:42.208Z"
   },
   {
    "duration": 665,
    "start_time": "2022-12-19T10:36:33.279Z"
   },
   {
    "duration": 597,
    "start_time": "2022-12-19T10:36:58.838Z"
   },
   {
    "duration": 12,
    "start_time": "2022-12-19T10:37:31.313Z"
   },
   {
    "duration": 525,
    "start_time": "2022-12-19T10:37:35.415Z"
   },
   {
    "duration": 138,
    "start_time": "2022-12-19T10:38:48.962Z"
   },
   {
    "duration": 165,
    "start_time": "2022-12-19T10:38:50.912Z"
   },
   {
    "duration": 164,
    "start_time": "2022-12-19T10:38:56.474Z"
   },
   {
    "duration": 1332,
    "start_time": "2022-12-19T10:38:59.105Z"
   },
   {
    "duration": 1412,
    "start_time": "2022-12-19T10:39:05.884Z"
   },
   {
    "duration": 2281,
    "start_time": "2022-12-19T10:39:12.501Z"
   },
   {
    "duration": 1390,
    "start_time": "2022-12-19T10:39:23.302Z"
   },
   {
    "duration": 20,
    "start_time": "2022-12-19T10:40:48.196Z"
   },
   {
    "duration": 346,
    "start_time": "2022-12-19T10:40:54.806Z"
   },
   {
    "duration": 838,
    "start_time": "2022-12-19T10:41:22.651Z"
   },
   {
    "duration": 327,
    "start_time": "2022-12-19T10:44:42.299Z"
   },
   {
    "duration": 420,
    "start_time": "2022-12-19T10:44:52.875Z"
   },
   {
    "duration": 908,
    "start_time": "2022-12-19T10:44:56.471Z"
   },
   {
    "duration": 611,
    "start_time": "2022-12-19T10:47:45.165Z"
   },
   {
    "duration": 20,
    "start_time": "2022-12-19T10:47:45.778Z"
   },
   {
    "duration": 2474,
    "start_time": "2022-12-19T10:47:45.799Z"
   },
   {
    "duration": 8,
    "start_time": "2022-12-19T10:47:48.275Z"
   },
   {
    "duration": 15,
    "start_time": "2022-12-19T10:47:48.285Z"
   },
   {
    "duration": 6,
    "start_time": "2022-12-19T10:47:48.302Z"
   },
   {
    "duration": 10,
    "start_time": "2022-12-19T10:47:48.310Z"
   },
   {
    "duration": 1577,
    "start_time": "2022-12-19T10:47:48.322Z"
   },
   {
    "duration": 10,
    "start_time": "2022-12-19T10:47:49.901Z"
   },
   {
    "duration": 10,
    "start_time": "2022-12-19T10:47:49.913Z"
   },
   {
    "duration": 10,
    "start_time": "2022-12-19T10:47:49.924Z"
   },
   {
    "duration": 4,
    "start_time": "2022-12-19T10:47:49.936Z"
   },
   {
    "duration": 1471,
    "start_time": "2022-12-19T10:47:49.962Z"
   },
   {
    "duration": 1508,
    "start_time": "2022-12-19T10:47:51.436Z"
   },
   {
    "duration": 1605,
    "start_time": "2022-12-19T10:47:52.946Z"
   },
   {
    "duration": 1698,
    "start_time": "2022-12-19T10:47:54.553Z"
   },
   {
    "duration": 1560,
    "start_time": "2022-12-19T10:47:56.253Z"
   },
   {
    "duration": 1507,
    "start_time": "2022-12-19T10:47:57.815Z"
   },
   {
    "duration": 5,
    "start_time": "2022-12-19T10:47:59.324Z"
   },
   {
    "duration": 40,
    "start_time": "2022-12-19T10:47:59.331Z"
   },
   {
    "duration": 17,
    "start_time": "2022-12-19T10:47:59.373Z"
   },
   {
    "duration": 16,
    "start_time": "2022-12-19T10:47:59.392Z"
   },
   {
    "duration": 114,
    "start_time": "2022-12-19T10:47:59.410Z"
   },
   {
    "duration": 8,
    "start_time": "2022-12-19T10:47:59.526Z"
   },
   {
    "duration": 36,
    "start_time": "2022-12-19T10:47:59.536Z"
   },
   {
    "duration": 13,
    "start_time": "2022-12-19T10:47:59.574Z"
   },
   {
    "duration": 1614,
    "start_time": "2022-12-19T10:47:59.589Z"
   },
   {
    "duration": 2238,
    "start_time": "2022-12-19T10:48:01.205Z"
   },
   {
    "duration": 1602,
    "start_time": "2022-12-19T10:48:03.445Z"
   },
   {
    "duration": 3,
    "start_time": "2022-12-19T10:48:05.049Z"
   },
   {
    "duration": 38,
    "start_time": "2022-12-19T10:48:05.059Z"
   },
   {
    "duration": 19,
    "start_time": "2022-12-19T10:48:05.099Z"
   },
   {
    "duration": 20,
    "start_time": "2022-12-19T10:48:05.119Z"
   },
   {
    "duration": 18,
    "start_time": "2022-12-19T10:48:05.141Z"
   },
   {
    "duration": 28,
    "start_time": "2022-12-19T10:48:05.161Z"
   },
   {
    "duration": 9,
    "start_time": "2022-12-19T10:48:05.191Z"
   },
   {
    "duration": 85,
    "start_time": "2022-12-19T10:48:05.202Z"
   },
   {
    "duration": 0,
    "start_time": "2022-12-19T10:48:05.289Z"
   },
   {
    "duration": 0,
    "start_time": "2022-12-19T10:48:05.290Z"
   },
   {
    "duration": 0,
    "start_time": "2022-12-19T10:48:05.291Z"
   },
   {
    "duration": 0,
    "start_time": "2022-12-19T10:48:05.293Z"
   },
   {
    "duration": 0,
    "start_time": "2022-12-19T10:48:05.295Z"
   },
   {
    "duration": 0,
    "start_time": "2022-12-19T10:48:05.296Z"
   },
   {
    "duration": 0,
    "start_time": "2022-12-19T10:48:05.297Z"
   },
   {
    "duration": 0,
    "start_time": "2022-12-19T10:48:05.298Z"
   },
   {
    "duration": 0,
    "start_time": "2022-12-19T10:48:05.299Z"
   },
   {
    "duration": 555,
    "start_time": "2022-12-19T10:51:21.091Z"
   },
   {
    "duration": 34,
    "start_time": "2022-12-19T10:51:21.649Z"
   },
   {
    "duration": 2588,
    "start_time": "2022-12-19T10:51:21.685Z"
   },
   {
    "duration": 8,
    "start_time": "2022-12-19T10:51:24.275Z"
   },
   {
    "duration": 12,
    "start_time": "2022-12-19T10:51:24.286Z"
   },
   {
    "duration": 5,
    "start_time": "2022-12-19T10:51:24.300Z"
   },
   {
    "duration": 11,
    "start_time": "2022-12-19T10:51:24.307Z"
   },
   {
    "duration": 1784,
    "start_time": "2022-12-19T10:51:24.320Z"
   },
   {
    "duration": 10,
    "start_time": "2022-12-19T10:51:26.106Z"
   },
   {
    "duration": 10,
    "start_time": "2022-12-19T10:51:26.119Z"
   },
   {
    "duration": 28,
    "start_time": "2022-12-19T10:51:26.131Z"
   },
   {
    "duration": 19,
    "start_time": "2022-12-19T10:51:26.163Z"
   },
   {
    "duration": 1687,
    "start_time": "2022-12-19T10:51:26.184Z"
   },
   {
    "duration": 1995,
    "start_time": "2022-12-19T10:51:27.881Z"
   },
   {
    "duration": 1761,
    "start_time": "2022-12-19T10:51:29.878Z"
   },
   {
    "duration": 1603,
    "start_time": "2022-12-19T10:51:31.641Z"
   },
   {
    "duration": 1726,
    "start_time": "2022-12-19T10:51:33.246Z"
   },
   {
    "duration": 1621,
    "start_time": "2022-12-19T10:51:34.975Z"
   },
   {
    "duration": 6,
    "start_time": "2022-12-19T10:51:36.598Z"
   },
   {
    "duration": 17,
    "start_time": "2022-12-19T10:51:36.606Z"
   },
   {
    "duration": 31,
    "start_time": "2022-12-19T10:51:36.625Z"
   },
   {
    "duration": 7,
    "start_time": "2022-12-19T10:51:36.660Z"
   },
   {
    "duration": 120,
    "start_time": "2022-12-19T10:51:36.671Z"
   },
   {
    "duration": 9,
    "start_time": "2022-12-19T10:51:36.793Z"
   },
   {
    "duration": 11,
    "start_time": "2022-12-19T10:51:36.804Z"
   },
   {
    "duration": 14,
    "start_time": "2022-12-19T10:51:36.817Z"
   },
   {
    "duration": 1695,
    "start_time": "2022-12-19T10:51:36.832Z"
   },
   {
    "duration": 2288,
    "start_time": "2022-12-19T10:51:38.529Z"
   },
   {
    "duration": 1531,
    "start_time": "2022-12-19T10:51:40.819Z"
   },
   {
    "duration": 9,
    "start_time": "2022-12-19T10:51:42.352Z"
   },
   {
    "duration": 23,
    "start_time": "2022-12-19T10:51:42.367Z"
   },
   {
    "duration": 12,
    "start_time": "2022-12-19T10:51:42.393Z"
   },
   {
    "duration": 11,
    "start_time": "2022-12-19T10:51:42.407Z"
   },
   {
    "duration": 11,
    "start_time": "2022-12-19T10:51:42.421Z"
   },
   {
    "duration": 23,
    "start_time": "2022-12-19T10:51:42.456Z"
   },
   {
    "duration": 15,
    "start_time": "2022-12-19T10:51:42.482Z"
   },
   {
    "duration": 5,
    "start_time": "2022-12-19T10:51:42.500Z"
   },
   {
    "duration": 698,
    "start_time": "2022-12-19T10:51:42.508Z"
   },
   {
    "duration": 530,
    "start_time": "2022-12-19T10:51:43.208Z"
   },
   {
    "duration": 649,
    "start_time": "2022-12-19T10:51:43.740Z"
   },
   {
    "duration": 589,
    "start_time": "2022-12-19T10:51:44.394Z"
   },
   {
    "duration": 240,
    "start_time": "2022-12-19T10:51:44.985Z"
   },
   {
    "duration": 58,
    "start_time": "2022-12-19T10:51:45.227Z"
   },
   {
    "duration": 0,
    "start_time": "2022-12-19T10:51:45.288Z"
   },
   {
    "duration": 0,
    "start_time": "2022-12-19T10:51:45.290Z"
   },
   {
    "duration": 0,
    "start_time": "2022-12-19T10:51:45.292Z"
   },
   {
    "duration": 795,
    "start_time": "2022-12-19T10:55:11.863Z"
   },
   {
    "duration": 833,
    "start_time": "2022-12-19T11:01:24.429Z"
   },
   {
    "duration": 357,
    "start_time": "2022-12-19T11:01:49.820Z"
   },
   {
    "duration": 47,
    "start_time": "2022-12-19T11:02:34.185Z"
   },
   {
    "duration": 366,
    "start_time": "2022-12-19T11:02:44.434Z"
   },
   {
    "duration": 489,
    "start_time": "2022-12-19T11:02:54.497Z"
   },
   {
    "duration": 309,
    "start_time": "2022-12-19T11:02:57.719Z"
   },
   {
    "duration": 767,
    "start_time": "2022-12-19T11:04:33.057Z"
   },
   {
    "duration": 63,
    "start_time": "2022-12-19T11:05:04.332Z"
   },
   {
    "duration": 174,
    "start_time": "2022-12-19T11:05:08.573Z"
   },
   {
    "duration": 221,
    "start_time": "2022-12-19T11:05:41.268Z"
   },
   {
    "duration": 637,
    "start_time": "2022-12-19T11:06:41.937Z"
   },
   {
    "duration": 420,
    "start_time": "2022-12-19T11:07:00.306Z"
   },
   {
    "duration": 434,
    "start_time": "2022-12-19T11:07:07.751Z"
   },
   {
    "duration": 423,
    "start_time": "2022-12-19T11:07:12.476Z"
   },
   {
    "duration": 707,
    "start_time": "2022-12-19T11:07:28.951Z"
   },
   {
    "duration": 517,
    "start_time": "2022-12-19T11:07:44.473Z"
   },
   {
    "duration": 438,
    "start_time": "2022-12-19T11:07:48.245Z"
   },
   {
    "duration": 441,
    "start_time": "2022-12-19T11:07:58.990Z"
   },
   {
    "duration": 604,
    "start_time": "2022-12-19T11:08:08.322Z"
   },
   {
    "duration": 457,
    "start_time": "2022-12-19T11:08:10.870Z"
   },
   {
    "duration": 472,
    "start_time": "2022-12-19T11:08:14.923Z"
   },
   {
    "duration": 508,
    "start_time": "2022-12-19T11:08:27.990Z"
   },
   {
    "duration": 252,
    "start_time": "2022-12-19T11:09:14.530Z"
   },
   {
    "duration": 250,
    "start_time": "2022-12-19T11:09:21.823Z"
   },
   {
    "duration": 533,
    "start_time": "2022-12-19T11:09:34.838Z"
   },
   {
    "duration": 518,
    "start_time": "2022-12-19T11:11:03.887Z"
   },
   {
    "duration": 322,
    "start_time": "2022-12-19T11:11:19.802Z"
   },
   {
    "duration": 189,
    "start_time": "2022-12-19T11:11:23.698Z"
   },
   {
    "duration": 176,
    "start_time": "2022-12-19T11:11:27.970Z"
   },
   {
    "duration": 209,
    "start_time": "2022-12-19T11:11:43.127Z"
   },
   {
    "duration": 434,
    "start_time": "2022-12-19T11:13:59.843Z"
   },
   {
    "duration": 819,
    "start_time": "2022-12-19T11:21:38.098Z"
   },
   {
    "duration": 780,
    "start_time": "2022-12-19T11:21:53.371Z"
   },
   {
    "duration": 147,
    "start_time": "2022-12-19T11:22:15.521Z"
   },
   {
    "duration": 151,
    "start_time": "2022-12-19T11:22:27.376Z"
   },
   {
    "duration": 199,
    "start_time": "2022-12-19T11:22:38.873Z"
   },
   {
    "duration": 176,
    "start_time": "2022-12-19T11:23:25.195Z"
   },
   {
    "duration": 633,
    "start_time": "2022-12-19T11:24:02.282Z"
   },
   {
    "duration": 482,
    "start_time": "2022-12-19T11:24:10.520Z"
   },
   {
    "duration": 189,
    "start_time": "2022-12-19T11:24:21.469Z"
   },
   {
    "duration": 21,
    "start_time": "2022-12-19T11:24:21.671Z"
   },
   {
    "duration": 2193,
    "start_time": "2022-12-19T11:24:21.694Z"
   },
   {
    "duration": 7,
    "start_time": "2022-12-19T11:24:23.889Z"
   },
   {
    "duration": 16,
    "start_time": "2022-12-19T11:24:23.899Z"
   },
   {
    "duration": 7,
    "start_time": "2022-12-19T11:24:23.916Z"
   },
   {
    "duration": 7,
    "start_time": "2022-12-19T11:24:23.925Z"
   },
   {
    "duration": 1618,
    "start_time": "2022-12-19T11:24:23.934Z"
   },
   {
    "duration": 20,
    "start_time": "2022-12-19T11:24:25.556Z"
   },
   {
    "duration": 19,
    "start_time": "2022-12-19T11:24:25.578Z"
   },
   {
    "duration": 12,
    "start_time": "2022-12-19T11:24:25.599Z"
   },
   {
    "duration": 7,
    "start_time": "2022-12-19T11:24:25.613Z"
   },
   {
    "duration": 1544,
    "start_time": "2022-12-19T11:24:25.623Z"
   },
   {
    "duration": 1501,
    "start_time": "2022-12-19T11:24:27.171Z"
   },
   {
    "duration": 1504,
    "start_time": "2022-12-19T11:24:28.676Z"
   },
   {
    "duration": 1456,
    "start_time": "2022-12-19T11:24:30.182Z"
   },
   {
    "duration": 1412,
    "start_time": "2022-12-19T11:24:31.640Z"
   },
   {
    "duration": 1423,
    "start_time": "2022-12-19T11:24:33.053Z"
   },
   {
    "duration": 5,
    "start_time": "2022-12-19T11:24:34.478Z"
   },
   {
    "duration": 38,
    "start_time": "2022-12-19T11:24:34.485Z"
   },
   {
    "duration": 15,
    "start_time": "2022-12-19T11:24:34.525Z"
   },
   {
    "duration": 7,
    "start_time": "2022-12-19T11:24:34.542Z"
   },
   {
    "duration": 187,
    "start_time": "2022-12-19T11:24:34.561Z"
   },
   {
    "duration": 18,
    "start_time": "2022-12-19T11:24:34.750Z"
   },
   {
    "duration": 40,
    "start_time": "2022-12-19T11:24:34.769Z"
   },
   {
    "duration": 21,
    "start_time": "2022-12-19T11:24:34.811Z"
   },
   {
    "duration": 1462,
    "start_time": "2022-12-19T11:24:34.835Z"
   },
   {
    "duration": 2040,
    "start_time": "2022-12-19T11:24:36.299Z"
   },
   {
    "duration": 1337,
    "start_time": "2022-12-19T11:24:38.341Z"
   },
   {
    "duration": 3,
    "start_time": "2022-12-19T11:24:39.680Z"
   },
   {
    "duration": 10,
    "start_time": "2022-12-19T11:24:39.685Z"
   },
   {
    "duration": 14,
    "start_time": "2022-12-19T11:24:39.697Z"
   },
   {
    "duration": 10,
    "start_time": "2022-12-19T11:24:39.713Z"
   },
   {
    "duration": 37,
    "start_time": "2022-12-19T11:24:39.725Z"
   },
   {
    "duration": 13,
    "start_time": "2022-12-19T11:24:39.764Z"
   },
   {
    "duration": 17,
    "start_time": "2022-12-19T11:24:39.779Z"
   },
   {
    "duration": 715,
    "start_time": "2022-12-19T11:24:39.798Z"
   },
   {
    "duration": 277,
    "start_time": "2022-12-19T11:24:40.515Z"
   },
   {
    "duration": 196,
    "start_time": "2022-12-19T11:24:40.795Z"
   },
   {
    "duration": 188,
    "start_time": "2022-12-19T11:24:40.994Z"
   },
   {
    "duration": 268,
    "start_time": "2022-12-19T11:24:41.187Z"
   },
   {
    "duration": 178,
    "start_time": "2022-12-19T11:24:41.461Z"
   },
   {
    "duration": 275,
    "start_time": "2022-12-19T11:24:41.642Z"
   },
   {
    "duration": 204,
    "start_time": "2022-12-19T11:24:41.919Z"
   },
   {
    "duration": 3,
    "start_time": "2022-12-19T11:24:42.125Z"
   },
   {
    "duration": 10,
    "start_time": "2022-12-19T11:24:42.130Z"
   },
   {
    "duration": 25,
    "start_time": "2022-12-19T11:24:42.141Z"
   },
   {
    "duration": 511,
    "start_time": "2022-12-19T11:24:58.250Z"
   },
   {
    "duration": 821,
    "start_time": "2022-12-19T11:25:10.980Z"
   },
   {
    "duration": 556,
    "start_time": "2022-12-19T11:25:29.451Z"
   },
   {
    "duration": 722,
    "start_time": "2022-12-19T11:25:33.655Z"
   },
   {
    "duration": 542,
    "start_time": "2022-12-19T11:27:19.234Z"
   },
   {
    "duration": 582,
    "start_time": "2022-12-19T11:27:34.610Z"
   },
   {
    "duration": 202,
    "start_time": "2022-12-19T11:27:42.214Z"
   },
   {
    "duration": 2349,
    "start_time": "2022-12-19T11:27:49.971Z"
   },
   {
    "duration": 246,
    "start_time": "2022-12-19T11:27:53.571Z"
   },
   {
    "duration": 226,
    "start_time": "2022-12-19T11:28:02.049Z"
   },
   {
    "duration": 191,
    "start_time": "2022-12-19T11:28:13.241Z"
   },
   {
    "duration": 221,
    "start_time": "2022-12-19T11:28:46.070Z"
   },
   {
    "duration": 354,
    "start_time": "2022-12-19T11:28:58.027Z"
   },
   {
    "duration": 515,
    "start_time": "2022-12-19T11:29:25.868Z"
   },
   {
    "duration": 349,
    "start_time": "2022-12-19T11:31:13.031Z"
   },
   {
    "duration": 331,
    "start_time": "2022-12-19T11:31:22.170Z"
   },
   {
    "duration": 332,
    "start_time": "2022-12-19T11:31:29.339Z"
   },
   {
    "duration": 335,
    "start_time": "2022-12-19T11:31:49.780Z"
   },
   {
    "duration": 255,
    "start_time": "2022-12-19T11:34:18.873Z"
   },
   {
    "duration": 19,
    "start_time": "2022-12-19T11:37:17.857Z"
   },
   {
    "duration": 299,
    "start_time": "2022-12-19T11:37:46.082Z"
   },
   {
    "duration": 150,
    "start_time": "2022-12-19T11:38:04.154Z"
   },
   {
    "duration": 200,
    "start_time": "2022-12-19T11:39:12.019Z"
   },
   {
    "duration": 775,
    "start_time": "2022-12-19T11:39:22.411Z"
   },
   {
    "duration": 19,
    "start_time": "2022-12-19T11:39:23.188Z"
   },
   {
    "duration": 2242,
    "start_time": "2022-12-19T11:39:23.208Z"
   },
   {
    "duration": 13,
    "start_time": "2022-12-19T11:39:25.452Z"
   },
   {
    "duration": 16,
    "start_time": "2022-12-19T11:39:25.471Z"
   },
   {
    "duration": 6,
    "start_time": "2022-12-19T11:39:25.490Z"
   },
   {
    "duration": 15,
    "start_time": "2022-12-19T11:39:25.498Z"
   },
   {
    "duration": 1500,
    "start_time": "2022-12-19T11:39:25.514Z"
   },
   {
    "duration": 8,
    "start_time": "2022-12-19T11:39:27.016Z"
   },
   {
    "duration": 6,
    "start_time": "2022-12-19T11:39:27.027Z"
   },
   {
    "duration": 33,
    "start_time": "2022-12-19T11:39:27.035Z"
   },
   {
    "duration": 9,
    "start_time": "2022-12-19T11:39:27.071Z"
   },
   {
    "duration": 1390,
    "start_time": "2022-12-19T11:39:27.081Z"
   },
   {
    "duration": 1454,
    "start_time": "2022-12-19T11:39:28.472Z"
   },
   {
    "duration": 1413,
    "start_time": "2022-12-19T11:39:29.928Z"
   },
   {
    "duration": 1371,
    "start_time": "2022-12-19T11:39:31.345Z"
   },
   {
    "duration": 1386,
    "start_time": "2022-12-19T11:39:32.718Z"
   },
   {
    "duration": 1483,
    "start_time": "2022-12-19T11:39:34.105Z"
   },
   {
    "duration": 5,
    "start_time": "2022-12-19T11:39:35.589Z"
   },
   {
    "duration": 15,
    "start_time": "2022-12-19T11:39:35.596Z"
   },
   {
    "duration": 12,
    "start_time": "2022-12-19T11:39:35.612Z"
   },
   {
    "duration": 5,
    "start_time": "2022-12-19T11:39:35.626Z"
   },
   {
    "duration": 115,
    "start_time": "2022-12-19T11:39:35.633Z"
   },
   {
    "duration": 15,
    "start_time": "2022-12-19T11:39:35.749Z"
   },
   {
    "duration": 17,
    "start_time": "2022-12-19T11:39:35.766Z"
   },
   {
    "duration": 11,
    "start_time": "2022-12-19T11:39:35.785Z"
   },
   {
    "duration": 1384,
    "start_time": "2022-12-19T11:39:35.799Z"
   },
   {
    "duration": 1904,
    "start_time": "2022-12-19T11:39:37.186Z"
   },
   {
    "duration": 1342,
    "start_time": "2022-12-19T11:39:39.092Z"
   },
   {
    "duration": 3,
    "start_time": "2022-12-19T11:39:40.436Z"
   },
   {
    "duration": 24,
    "start_time": "2022-12-19T11:39:40.440Z"
   },
   {
    "duration": 14,
    "start_time": "2022-12-19T11:39:40.470Z"
   },
   {
    "duration": 8,
    "start_time": "2022-12-19T11:39:40.486Z"
   },
   {
    "duration": 11,
    "start_time": "2022-12-19T11:39:40.496Z"
   },
   {
    "duration": 11,
    "start_time": "2022-12-19T11:39:40.509Z"
   },
   {
    "duration": 7,
    "start_time": "2022-12-19T11:39:40.522Z"
   },
   {
    "duration": 708,
    "start_time": "2022-12-19T11:39:40.530Z"
   },
   {
    "duration": 742,
    "start_time": "2022-12-19T11:39:41.241Z"
   },
   {
    "duration": 189,
    "start_time": "2022-12-19T11:39:41.985Z"
   },
   {
    "duration": 174,
    "start_time": "2022-12-19T11:39:42.175Z"
   },
   {
    "duration": 198,
    "start_time": "2022-12-19T11:39:42.350Z"
   },
   {
    "duration": 177,
    "start_time": "2022-12-19T11:39:42.549Z"
   },
   {
    "duration": 242,
    "start_time": "2022-12-19T11:39:42.728Z"
   },
   {
    "duration": 316,
    "start_time": "2022-12-19T11:39:42.972Z"
   },
   {
    "duration": 2,
    "start_time": "2022-12-19T11:39:43.290Z"
   },
   {
    "duration": 11,
    "start_time": "2022-12-19T11:39:43.294Z"
   },
   {
    "duration": 11,
    "start_time": "2022-12-19T11:39:43.307Z"
   },
   {
    "duration": 817,
    "start_time": "2022-12-19T11:40:48.963Z"
   },
   {
    "duration": 684,
    "start_time": "2022-12-19T11:41:20.448Z"
   },
   {
    "duration": 819,
    "start_time": "2022-12-19T11:41:38.307Z"
   },
   {
    "duration": 1041,
    "start_time": "2022-12-19T11:42:04.777Z"
   },
   {
    "duration": 287,
    "start_time": "2022-12-19T11:42:23.811Z"
   },
   {
    "duration": 78,
    "start_time": "2022-12-19T11:42:48.295Z"
   },
   {
    "duration": 136,
    "start_time": "2022-12-19T11:42:51.888Z"
   },
   {
    "duration": 58,
    "start_time": "2022-12-19T11:43:15.267Z"
   },
   {
    "duration": 335,
    "start_time": "2022-12-19T11:43:18.917Z"
   },
   {
    "duration": 306,
    "start_time": "2022-12-19T11:43:26.889Z"
   },
   {
    "duration": 201,
    "start_time": "2022-12-19T11:43:47.171Z"
   },
   {
    "duration": 49,
    "start_time": "2022-12-19T11:44:18.103Z"
   },
   {
    "duration": 55,
    "start_time": "2022-12-19T11:44:24.130Z"
   },
   {
    "duration": 343,
    "start_time": "2022-12-19T11:44:31.150Z"
   },
   {
    "duration": 274,
    "start_time": "2022-12-19T11:44:41.217Z"
   },
   {
    "duration": 382,
    "start_time": "2022-12-19T11:44:56.580Z"
   },
   {
    "duration": 520,
    "start_time": "2022-12-19T11:46:06.930Z"
   },
   {
    "duration": 60,
    "start_time": "2022-12-19T11:46:39.726Z"
   },
   {
    "duration": 653,
    "start_time": "2022-12-19T11:46:56.253Z"
   },
   {
    "duration": 443,
    "start_time": "2022-12-19T11:47:42.884Z"
   },
   {
    "duration": 663,
    "start_time": "2022-12-19T11:47:54.467Z"
   },
   {
    "duration": 212,
    "start_time": "2022-12-19T11:48:06.057Z"
   },
   {
    "duration": 369,
    "start_time": "2022-12-19T11:48:27.575Z"
   },
   {
    "duration": 358,
    "start_time": "2022-12-19T11:48:49.950Z"
   },
   {
    "duration": 456,
    "start_time": "2022-12-19T11:48:58.736Z"
   },
   {
    "duration": 583,
    "start_time": "2022-12-19T11:49:18.470Z"
   },
   {
    "duration": 398,
    "start_time": "2022-12-19T11:49:27.233Z"
   },
   {
    "duration": 407,
    "start_time": "2022-12-19T11:50:43.087Z"
   },
   {
    "duration": 16,
    "start_time": "2022-12-19T11:50:53.943Z"
   },
   {
    "duration": 994,
    "start_time": "2022-12-19T11:51:28.491Z"
   },
   {
    "duration": 26,
    "start_time": "2022-12-19T11:51:29.488Z"
   },
   {
    "duration": 2299,
    "start_time": "2022-12-19T11:51:29.516Z"
   },
   {
    "duration": 6,
    "start_time": "2022-12-19T11:51:31.817Z"
   },
   {
    "duration": 11,
    "start_time": "2022-12-19T11:51:31.825Z"
   },
   {
    "duration": 5,
    "start_time": "2022-12-19T11:51:31.838Z"
   },
   {
    "duration": 36,
    "start_time": "2022-12-19T11:51:31.856Z"
   },
   {
    "duration": 1590,
    "start_time": "2022-12-19T11:51:31.894Z"
   },
   {
    "duration": 9,
    "start_time": "2022-12-19T11:51:33.486Z"
   },
   {
    "duration": 6,
    "start_time": "2022-12-19T11:51:33.498Z"
   },
   {
    "duration": 12,
    "start_time": "2022-12-19T11:51:33.506Z"
   },
   {
    "duration": 4,
    "start_time": "2022-12-19T11:51:33.520Z"
   },
   {
    "duration": 1627,
    "start_time": "2022-12-19T11:51:33.526Z"
   },
   {
    "duration": 1478,
    "start_time": "2022-12-19T11:51:35.154Z"
   },
   {
    "duration": 1504,
    "start_time": "2022-12-19T11:51:36.634Z"
   },
   {
    "duration": 1573,
    "start_time": "2022-12-19T11:51:38.140Z"
   },
   {
    "duration": 1602,
    "start_time": "2022-12-19T11:51:39.715Z"
   },
   {
    "duration": 1564,
    "start_time": "2022-12-19T11:51:41.319Z"
   },
   {
    "duration": 5,
    "start_time": "2022-12-19T11:51:42.888Z"
   },
   {
    "duration": 16,
    "start_time": "2022-12-19T11:51:42.895Z"
   },
   {
    "duration": 14,
    "start_time": "2022-12-19T11:51:42.913Z"
   },
   {
    "duration": 5,
    "start_time": "2022-12-19T11:51:42.929Z"
   },
   {
    "duration": 151,
    "start_time": "2022-12-19T11:51:42.936Z"
   },
   {
    "duration": 7,
    "start_time": "2022-12-19T11:51:43.089Z"
   },
   {
    "duration": 12,
    "start_time": "2022-12-19T11:51:43.097Z"
   },
   {
    "duration": 12,
    "start_time": "2022-12-19T11:51:43.111Z"
   },
   {
    "duration": 1602,
    "start_time": "2022-12-19T11:51:43.124Z"
   },
   {
    "duration": 2352,
    "start_time": "2022-12-19T11:51:44.730Z"
   },
   {
    "duration": 1437,
    "start_time": "2022-12-19T11:51:47.086Z"
   },
   {
    "duration": 3,
    "start_time": "2022-12-19T11:51:48.525Z"
   },
   {
    "duration": 9,
    "start_time": "2022-12-19T11:51:48.530Z"
   },
   {
    "duration": 21,
    "start_time": "2022-12-19T11:51:48.541Z"
   },
   {
    "duration": 19,
    "start_time": "2022-12-19T11:51:48.564Z"
   },
   {
    "duration": 14,
    "start_time": "2022-12-19T11:51:48.588Z"
   },
   {
    "duration": 11,
    "start_time": "2022-12-19T11:51:48.604Z"
   },
   {
    "duration": 7,
    "start_time": "2022-12-19T11:51:48.617Z"
   },
   {
    "duration": 811,
    "start_time": "2022-12-19T11:51:48.626Z"
   },
   {
    "duration": 798,
    "start_time": "2022-12-19T11:51:49.439Z"
   },
   {
    "duration": 184,
    "start_time": "2022-12-19T11:51:50.238Z"
   },
   {
    "duration": 194,
    "start_time": "2022-12-19T11:51:50.424Z"
   },
   {
    "duration": 509,
    "start_time": "2022-12-19T11:51:50.620Z"
   },
   {
    "duration": 0,
    "start_time": "2022-12-19T11:51:51.130Z"
   },
   {
    "duration": 1,
    "start_time": "2022-12-19T11:51:51.131Z"
   },
   {
    "duration": 0,
    "start_time": "2022-12-19T11:51:51.133Z"
   },
   {
    "duration": 0,
    "start_time": "2022-12-19T11:51:51.134Z"
   },
   {
    "duration": 0,
    "start_time": "2022-12-19T11:51:51.135Z"
   },
   {
    "duration": 0,
    "start_time": "2022-12-19T11:51:51.137Z"
   },
   {
    "duration": 183,
    "start_time": "2022-12-19T11:52:33.840Z"
   },
   {
    "duration": 193,
    "start_time": "2022-12-19T11:52:40.280Z"
   },
   {
    "duration": 168,
    "start_time": "2022-12-19T11:52:47.982Z"
   },
   {
    "duration": 532,
    "start_time": "2022-12-19T11:53:14.143Z"
   },
   {
    "duration": 380,
    "start_time": "2022-12-19T11:53:22.472Z"
   },
   {
    "duration": 334,
    "start_time": "2022-12-19T11:53:35.012Z"
   },
   {
    "duration": 421,
    "start_time": "2022-12-19T11:53:49.334Z"
   },
   {
    "duration": 334,
    "start_time": "2022-12-19T11:54:02.677Z"
   },
   {
    "duration": 180,
    "start_time": "2022-12-19T11:54:49.960Z"
   },
   {
    "duration": 357,
    "start_time": "2022-12-19T11:55:04.480Z"
   },
   {
    "duration": 182,
    "start_time": "2022-12-19T11:55:24.997Z"
   },
   {
    "duration": 26,
    "start_time": "2022-12-19T11:55:41.372Z"
   },
   {
    "duration": 39,
    "start_time": "2022-12-19T11:55:48.044Z"
   },
   {
    "duration": 1384,
    "start_time": "2022-12-19T11:55:50.689Z"
   },
   {
    "duration": 432,
    "start_time": "2022-12-19T11:55:54.432Z"
   },
   {
    "duration": 17,
    "start_time": "2022-12-19T11:56:18.509Z"
   },
   {
    "duration": 14,
    "start_time": "2022-12-19T11:56:28.340Z"
   },
   {
    "duration": 16,
    "start_time": "2022-12-19T11:56:33.618Z"
   },
   {
    "duration": 9,
    "start_time": "2022-12-19T11:56:53.304Z"
   },
   {
    "duration": 195,
    "start_time": "2022-12-19T11:57:00.185Z"
   },
   {
    "duration": 14,
    "start_time": "2022-12-19T11:57:10.694Z"
   },
   {
    "duration": 442,
    "start_time": "2022-12-19T11:57:19.182Z"
   },
   {
    "duration": 13,
    "start_time": "2022-12-19T11:57:34.589Z"
   },
   {
    "duration": 143,
    "start_time": "2022-12-19T11:57:37.963Z"
   },
   {
    "duration": 353,
    "start_time": "2022-12-19T11:57:46.472Z"
   },
   {
    "duration": 348,
    "start_time": "2022-12-19T11:57:53.585Z"
   },
   {
    "duration": 493,
    "start_time": "2022-12-19T11:58:24.781Z"
   },
   {
    "duration": 15,
    "start_time": "2022-12-19T11:58:37.137Z"
   },
   {
    "duration": 74,
    "start_time": "2022-12-19T11:58:41.003Z"
   },
   {
    "duration": 332,
    "start_time": "2022-12-19T11:58:47.079Z"
   },
   {
    "duration": 358,
    "start_time": "2022-12-19T11:58:50.382Z"
   },
   {
    "duration": 1337,
    "start_time": "2022-12-19T11:58:54.192Z"
   },
   {
    "duration": 306,
    "start_time": "2022-12-19T11:59:01.036Z"
   },
   {
    "duration": 148,
    "start_time": "2022-12-19T11:59:38.842Z"
   },
   {
    "duration": 297,
    "start_time": "2022-12-19T12:00:20.708Z"
   },
   {
    "duration": 208,
    "start_time": "2022-12-19T12:00:47.680Z"
   },
   {
    "duration": 193,
    "start_time": "2022-12-19T12:00:53.052Z"
   },
   {
    "duration": 4,
    "start_time": "2022-12-19T12:01:40.019Z"
   },
   {
    "duration": 6,
    "start_time": "2022-12-19T12:01:54.339Z"
   },
   {
    "duration": 8,
    "start_time": "2022-12-19T12:02:02.524Z"
   },
   {
    "duration": 4,
    "start_time": "2022-12-19T12:02:14.611Z"
   },
   {
    "duration": 11,
    "start_time": "2022-12-19T12:02:18.311Z"
   },
   {
    "duration": 7,
    "start_time": "2022-12-19T12:02:26.897Z"
   },
   {
    "duration": 56,
    "start_time": "2022-12-19T12:08:44.325Z"
   },
   {
    "duration": 872,
    "start_time": "2022-12-19T12:08:59.867Z"
   },
   {
    "duration": 29,
    "start_time": "2022-12-19T12:09:00.742Z"
   },
   {
    "duration": 2242,
    "start_time": "2022-12-19T12:09:00.773Z"
   },
   {
    "duration": 6,
    "start_time": "2022-12-19T12:09:03.017Z"
   },
   {
    "duration": 15,
    "start_time": "2022-12-19T12:09:03.025Z"
   },
   {
    "duration": 8,
    "start_time": "2022-12-19T12:09:03.042Z"
   },
   {
    "duration": 25,
    "start_time": "2022-12-19T12:09:03.052Z"
   },
   {
    "duration": 1675,
    "start_time": "2022-12-19T12:09:03.079Z"
   },
   {
    "duration": 14,
    "start_time": "2022-12-19T12:09:04.757Z"
   },
   {
    "duration": 44,
    "start_time": "2022-12-19T12:09:04.776Z"
   },
   {
    "duration": 64,
    "start_time": "2022-12-19T12:09:04.822Z"
   },
   {
    "duration": 33,
    "start_time": "2022-12-19T12:09:04.888Z"
   },
   {
    "duration": 1514,
    "start_time": "2022-12-19T12:09:04.924Z"
   },
   {
    "duration": 1457,
    "start_time": "2022-12-19T12:09:06.440Z"
   },
   {
    "duration": 1423,
    "start_time": "2022-12-19T12:09:07.899Z"
   },
   {
    "duration": 1435,
    "start_time": "2022-12-19T12:09:09.324Z"
   },
   {
    "duration": 1438,
    "start_time": "2022-12-19T12:09:10.761Z"
   },
   {
    "duration": 1442,
    "start_time": "2022-12-19T12:09:12.200Z"
   },
   {
    "duration": 15,
    "start_time": "2022-12-19T12:09:13.645Z"
   },
   {
    "duration": 23,
    "start_time": "2022-12-19T12:09:13.665Z"
   },
   {
    "duration": 18,
    "start_time": "2022-12-19T12:09:13.689Z"
   },
   {
    "duration": 23,
    "start_time": "2022-12-19T12:09:13.708Z"
   },
   {
    "duration": 121,
    "start_time": "2022-12-19T12:09:13.733Z"
   },
   {
    "duration": 10,
    "start_time": "2022-12-19T12:09:13.862Z"
   },
   {
    "duration": 8,
    "start_time": "2022-12-19T12:09:13.874Z"
   },
   {
    "duration": 26,
    "start_time": "2022-12-19T12:09:13.884Z"
   },
   {
    "duration": 1655,
    "start_time": "2022-12-19T12:09:13.912Z"
   },
   {
    "duration": 2057,
    "start_time": "2022-12-19T12:09:15.571Z"
   },
   {
    "duration": 1380,
    "start_time": "2022-12-19T12:09:17.630Z"
   },
   {
    "duration": 3,
    "start_time": "2022-12-19T12:09:19.012Z"
   },
   {
    "duration": 11,
    "start_time": "2022-12-19T12:09:19.017Z"
   },
   {
    "duration": 39,
    "start_time": "2022-12-19T12:09:19.030Z"
   },
   {
    "duration": 9,
    "start_time": "2022-12-19T12:09:19.071Z"
   },
   {
    "duration": 16,
    "start_time": "2022-12-19T12:09:19.082Z"
   },
   {
    "duration": 11,
    "start_time": "2022-12-19T12:09:19.099Z"
   },
   {
    "duration": 9,
    "start_time": "2022-12-19T12:09:19.112Z"
   },
   {
    "duration": 753,
    "start_time": "2022-12-19T12:09:19.122Z"
   },
   {
    "duration": 766,
    "start_time": "2022-12-19T12:09:19.877Z"
   },
   {
    "duration": 188,
    "start_time": "2022-12-19T12:09:20.644Z"
   },
   {
    "duration": 208,
    "start_time": "2022-12-19T12:09:20.833Z"
   },
   {
    "duration": 333,
    "start_time": "2022-12-19T12:09:21.043Z"
   },
   {
    "duration": 146,
    "start_time": "2022-12-19T12:09:21.378Z"
   },
   {
    "duration": 1167,
    "start_time": "2022-12-19T12:09:21.526Z"
   },
   {
    "duration": 333,
    "start_time": "2022-12-19T12:09:22.695Z"
   },
   {
    "duration": 3,
    "start_time": "2022-12-19T12:09:23.029Z"
   },
   {
    "duration": 12,
    "start_time": "2022-12-19T12:09:23.034Z"
   },
   {
    "duration": 223,
    "start_time": "2022-12-19T12:09:23.047Z"
   },
   {
    "duration": 6,
    "start_time": "2022-12-19T12:09:23.272Z"
   },
   {
    "duration": 76,
    "start_time": "2022-12-19T12:12:08.746Z"
   },
   {
    "duration": 130,
    "start_time": "2022-12-19T12:13:14.069Z"
   },
   {
    "duration": 139,
    "start_time": "2022-12-19T12:14:06.279Z"
   },
   {
    "duration": 145,
    "start_time": "2022-12-19T12:14:12.667Z"
   },
   {
    "duration": 266,
    "start_time": "2022-12-19T12:14:19.367Z"
   },
   {
    "duration": 144,
    "start_time": "2022-12-19T12:16:15.817Z"
   },
   {
    "duration": 573,
    "start_time": "2022-12-19T12:22:48.981Z"
   },
   {
    "duration": 183,
    "start_time": "2022-12-19T12:22:52.570Z"
   },
   {
    "duration": 171,
    "start_time": "2022-12-19T12:24:20.337Z"
   },
   {
    "duration": 132,
    "start_time": "2022-12-19T12:24:25.058Z"
   },
   {
    "duration": 6,
    "start_time": "2022-12-19T12:24:39.870Z"
   },
   {
    "duration": 60,
    "start_time": "2022-12-19T12:25:00.452Z"
   },
   {
    "duration": 637,
    "start_time": "2022-12-19T12:25:03.611Z"
   },
   {
    "duration": 180,
    "start_time": "2022-12-19T12:25:07.438Z"
   },
   {
    "duration": 11,
    "start_time": "2022-12-19T12:28:42.228Z"
   },
   {
    "duration": 2621,
    "start_time": "2022-12-19T12:29:39.173Z"
   },
   {
    "duration": 166,
    "start_time": "2022-12-19T12:29:57.123Z"
   },
   {
    "duration": 179,
    "start_time": "2022-12-19T12:30:17.906Z"
   },
   {
    "duration": 121,
    "start_time": "2022-12-19T12:30:25.807Z"
   },
   {
    "duration": 134,
    "start_time": "2022-12-19T12:31:28.834Z"
   },
   {
    "duration": 167,
    "start_time": "2022-12-19T12:31:38.395Z"
   },
   {
    "duration": 180,
    "start_time": "2022-12-19T12:31:55.680Z"
   },
   {
    "duration": 127,
    "start_time": "2022-12-19T12:31:58.561Z"
   },
   {
    "duration": 133,
    "start_time": "2022-12-19T12:32:07.788Z"
   },
   {
    "duration": 172,
    "start_time": "2022-12-19T12:32:14.894Z"
   },
   {
    "duration": 8,
    "start_time": "2022-12-19T12:34:48.519Z"
   },
   {
    "duration": 720,
    "start_time": "2022-12-19T12:34:55.907Z"
   },
   {
    "duration": 19,
    "start_time": "2022-12-19T12:34:56.629Z"
   },
   {
    "duration": 1927,
    "start_time": "2022-12-19T12:34:56.655Z"
   },
   {
    "duration": 6,
    "start_time": "2022-12-19T12:34:58.585Z"
   },
   {
    "duration": 28,
    "start_time": "2022-12-19T12:34:58.593Z"
   },
   {
    "duration": 10,
    "start_time": "2022-12-19T12:34:58.622Z"
   },
   {
    "duration": 18,
    "start_time": "2022-12-19T12:34:58.634Z"
   },
   {
    "duration": 1346,
    "start_time": "2022-12-19T12:34:58.654Z"
   },
   {
    "duration": 8,
    "start_time": "2022-12-19T12:35:00.002Z"
   },
   {
    "duration": 8,
    "start_time": "2022-12-19T12:35:00.013Z"
   },
   {
    "duration": 13,
    "start_time": "2022-12-19T12:35:00.023Z"
   },
   {
    "duration": 17,
    "start_time": "2022-12-19T12:35:00.038Z"
   },
   {
    "duration": 1298,
    "start_time": "2022-12-19T12:35:00.057Z"
   },
   {
    "duration": 1255,
    "start_time": "2022-12-19T12:35:01.357Z"
   },
   {
    "duration": 1281,
    "start_time": "2022-12-19T12:35:02.614Z"
   },
   {
    "duration": 1288,
    "start_time": "2022-12-19T12:35:03.897Z"
   },
   {
    "duration": 1217,
    "start_time": "2022-12-19T12:35:05.186Z"
   },
   {
    "duration": 1240,
    "start_time": "2022-12-19T12:35:06.404Z"
   },
   {
    "duration": 10,
    "start_time": "2022-12-19T12:35:07.646Z"
   },
   {
    "duration": 12,
    "start_time": "2022-12-19T12:35:07.658Z"
   },
   {
    "duration": 38,
    "start_time": "2022-12-19T12:35:07.672Z"
   },
   {
    "duration": 24,
    "start_time": "2022-12-19T12:35:07.712Z"
   },
   {
    "duration": 123,
    "start_time": "2022-12-19T12:35:07.738Z"
   },
   {
    "duration": 7,
    "start_time": "2022-12-19T12:35:07.863Z"
   },
   {
    "duration": 12,
    "start_time": "2022-12-19T12:35:07.871Z"
   },
   {
    "duration": 11,
    "start_time": "2022-12-19T12:35:07.885Z"
   },
   {
    "duration": 1396,
    "start_time": "2022-12-19T12:35:07.898Z"
   },
   {
    "duration": 1941,
    "start_time": "2022-12-19T12:35:09.299Z"
   },
   {
    "duration": 1277,
    "start_time": "2022-12-19T12:35:11.242Z"
   },
   {
    "duration": 2,
    "start_time": "2022-12-19T12:35:12.521Z"
   },
   {
    "duration": 14,
    "start_time": "2022-12-19T12:35:12.525Z"
   },
   {
    "duration": 14,
    "start_time": "2022-12-19T12:35:12.541Z"
   },
   {
    "duration": 9,
    "start_time": "2022-12-19T12:35:12.557Z"
   },
   {
    "duration": 10,
    "start_time": "2022-12-19T12:35:12.567Z"
   },
   {
    "duration": 11,
    "start_time": "2022-12-19T12:35:12.578Z"
   },
   {
    "duration": 9,
    "start_time": "2022-12-19T12:35:12.590Z"
   },
   {
    "duration": 660,
    "start_time": "2022-12-19T12:35:12.601Z"
   },
   {
    "duration": 727,
    "start_time": "2022-12-19T12:35:13.263Z"
   },
   {
    "duration": 173,
    "start_time": "2022-12-19T12:35:13.992Z"
   },
   {
    "duration": 178,
    "start_time": "2022-12-19T12:35:14.167Z"
   },
   {
    "duration": 368,
    "start_time": "2022-12-19T12:35:14.347Z"
   },
   {
    "duration": 154,
    "start_time": "2022-12-19T12:35:14.717Z"
   },
   {
    "duration": 1164,
    "start_time": "2022-12-19T12:35:14.873Z"
   },
   {
    "duration": 292,
    "start_time": "2022-12-19T12:35:16.038Z"
   },
   {
    "duration": 3,
    "start_time": "2022-12-19T12:35:16.331Z"
   },
   {
    "duration": 19,
    "start_time": "2022-12-19T12:35:16.336Z"
   },
   {
    "duration": 196,
    "start_time": "2022-12-19T12:35:16.357Z"
   },
   {
    "duration": 9,
    "start_time": "2022-12-19T12:35:16.555Z"
   },
   {
    "duration": 210,
    "start_time": "2022-12-19T12:35:16.565Z"
   },
   {
    "duration": 0,
    "start_time": "2022-12-19T12:35:16.777Z"
   },
   {
    "duration": 821,
    "start_time": "2022-12-19T12:36:14.257Z"
   },
   {
    "duration": 18,
    "start_time": "2022-12-19T12:36:15.080Z"
   },
   {
    "duration": 1978,
    "start_time": "2022-12-19T12:36:15.100Z"
   },
   {
    "duration": 6,
    "start_time": "2022-12-19T12:36:17.080Z"
   },
   {
    "duration": 11,
    "start_time": "2022-12-19T12:36:17.087Z"
   },
   {
    "duration": 5,
    "start_time": "2022-12-19T12:36:17.099Z"
   },
   {
    "duration": 8,
    "start_time": "2022-12-19T12:36:17.106Z"
   },
   {
    "duration": 1317,
    "start_time": "2022-12-19T12:36:17.115Z"
   },
   {
    "duration": 8,
    "start_time": "2022-12-19T12:36:18.433Z"
   },
   {
    "duration": 13,
    "start_time": "2022-12-19T12:36:18.443Z"
   },
   {
    "duration": 12,
    "start_time": "2022-12-19T12:36:18.457Z"
   },
   {
    "duration": 4,
    "start_time": "2022-12-19T12:36:18.470Z"
   },
   {
    "duration": 1288,
    "start_time": "2022-12-19T12:36:18.476Z"
   },
   {
    "duration": 1237,
    "start_time": "2022-12-19T12:36:19.766Z"
   },
   {
    "duration": 1255,
    "start_time": "2022-12-19T12:36:21.004Z"
   },
   {
    "duration": 1275,
    "start_time": "2022-12-19T12:36:22.261Z"
   },
   {
    "duration": 1242,
    "start_time": "2022-12-19T12:36:23.538Z"
   },
   {
    "duration": 1295,
    "start_time": "2022-12-19T12:36:24.783Z"
   },
   {
    "duration": 3,
    "start_time": "2022-12-19T12:36:26.079Z"
   },
   {
    "duration": 16,
    "start_time": "2022-12-19T12:36:26.083Z"
   },
   {
    "duration": 11,
    "start_time": "2022-12-19T12:36:26.100Z"
   },
   {
    "duration": 8,
    "start_time": "2022-12-19T12:36:26.113Z"
   },
   {
    "duration": 115,
    "start_time": "2022-12-19T12:36:26.122Z"
   },
   {
    "duration": 6,
    "start_time": "2022-12-19T12:36:26.239Z"
   },
   {
    "duration": 6,
    "start_time": "2022-12-19T12:36:26.254Z"
   },
   {
    "duration": 9,
    "start_time": "2022-12-19T12:36:26.262Z"
   },
   {
    "duration": 1288,
    "start_time": "2022-12-19T12:36:26.272Z"
   },
   {
    "duration": 1901,
    "start_time": "2022-12-19T12:36:27.564Z"
   },
   {
    "duration": 1245,
    "start_time": "2022-12-19T12:36:29.466Z"
   },
   {
    "duration": 3,
    "start_time": "2022-12-19T12:36:30.713Z"
   },
   {
    "duration": 40,
    "start_time": "2022-12-19T12:36:30.718Z"
   },
   {
    "duration": 27,
    "start_time": "2022-12-19T12:36:30.760Z"
   },
   {
    "duration": 45,
    "start_time": "2022-12-19T12:36:30.789Z"
   },
   {
    "duration": 34,
    "start_time": "2022-12-19T12:36:30.836Z"
   },
   {
    "duration": 34,
    "start_time": "2022-12-19T12:36:30.871Z"
   },
   {
    "duration": 16,
    "start_time": "2022-12-19T12:36:30.907Z"
   },
   {
    "duration": 661,
    "start_time": "2022-12-19T12:36:30.925Z"
   },
   {
    "duration": 758,
    "start_time": "2022-12-19T12:36:31.588Z"
   },
   {
    "duration": 178,
    "start_time": "2022-12-19T12:36:32.348Z"
   },
   {
    "duration": 162,
    "start_time": "2022-12-19T12:36:32.528Z"
   },
   {
    "duration": 309,
    "start_time": "2022-12-19T12:36:32.692Z"
   },
   {
    "duration": 131,
    "start_time": "2022-12-19T12:36:33.003Z"
   },
   {
    "duration": 1074,
    "start_time": "2022-12-19T12:36:33.136Z"
   },
   {
    "duration": 287,
    "start_time": "2022-12-19T12:36:34.212Z"
   },
   {
    "duration": 2,
    "start_time": "2022-12-19T12:36:34.501Z"
   },
   {
    "duration": 12,
    "start_time": "2022-12-19T12:36:34.505Z"
   },
   {
    "duration": 260,
    "start_time": "2022-12-19T12:36:34.518Z"
   },
   {
    "duration": 12,
    "start_time": "2022-12-19T12:36:34.780Z"
   },
   {
    "duration": 202,
    "start_time": "2022-12-19T12:36:34.794Z"
   },
   {
    "duration": 0,
    "start_time": "2022-12-19T12:36:34.997Z"
   },
   {
    "duration": 15,
    "start_time": "2022-12-19T12:44:33.755Z"
   },
   {
    "duration": 2,
    "start_time": "2022-12-19T12:45:37.510Z"
   },
   {
    "duration": 130,
    "start_time": "2022-12-19T12:45:51.440Z"
   },
   {
    "duration": 14,
    "start_time": "2022-12-19T12:45:53.262Z"
   },
   {
    "duration": 215,
    "start_time": "2022-12-19T12:45:56.181Z"
   },
   {
    "duration": 299,
    "start_time": "2022-12-19T12:46:11.030Z"
   },
   {
    "duration": 849,
    "start_time": "2022-12-19T12:46:19.546Z"
   },
   {
    "duration": 19,
    "start_time": "2022-12-19T12:46:20.397Z"
   },
   {
    "duration": 2046,
    "start_time": "2022-12-19T12:46:20.417Z"
   },
   {
    "duration": 6,
    "start_time": "2022-12-19T12:46:22.466Z"
   },
   {
    "duration": 28,
    "start_time": "2022-12-19T12:46:22.474Z"
   },
   {
    "duration": 9,
    "start_time": "2022-12-19T12:46:22.504Z"
   },
   {
    "duration": 23,
    "start_time": "2022-12-19T12:46:22.515Z"
   },
   {
    "duration": 1436,
    "start_time": "2022-12-19T12:46:22.540Z"
   },
   {
    "duration": 8,
    "start_time": "2022-12-19T12:46:23.979Z"
   },
   {
    "duration": 12,
    "start_time": "2022-12-19T12:46:23.991Z"
   },
   {
    "duration": 11,
    "start_time": "2022-12-19T12:46:24.005Z"
   },
   {
    "duration": 4,
    "start_time": "2022-12-19T12:46:24.018Z"
   },
   {
    "duration": 1462,
    "start_time": "2022-12-19T12:46:24.024Z"
   },
   {
    "duration": 1336,
    "start_time": "2022-12-19T12:46:25.488Z"
   },
   {
    "duration": 1380,
    "start_time": "2022-12-19T12:46:26.826Z"
   },
   {
    "duration": 1347,
    "start_time": "2022-12-19T12:46:28.208Z"
   },
   {
    "duration": 1278,
    "start_time": "2022-12-19T12:46:29.558Z"
   },
   {
    "duration": 1266,
    "start_time": "2022-12-19T12:46:30.838Z"
   },
   {
    "duration": 3,
    "start_time": "2022-12-19T12:46:32.106Z"
   },
   {
    "duration": 16,
    "start_time": "2022-12-19T12:46:32.110Z"
   },
   {
    "duration": 14,
    "start_time": "2022-12-19T12:46:32.127Z"
   },
   {
    "duration": 17,
    "start_time": "2022-12-19T12:46:32.143Z"
   },
   {
    "duration": 132,
    "start_time": "2022-12-19T12:46:32.162Z"
   },
   {
    "duration": 8,
    "start_time": "2022-12-19T12:46:32.296Z"
   },
   {
    "duration": 9,
    "start_time": "2022-12-19T12:46:32.305Z"
   },
   {
    "duration": 12,
    "start_time": "2022-12-19T12:46:32.316Z"
   },
   {
    "duration": 1468,
    "start_time": "2022-12-19T12:46:32.330Z"
   },
   {
    "duration": 1894,
    "start_time": "2022-12-19T12:46:33.801Z"
   },
   {
    "duration": 1187,
    "start_time": "2022-12-19T12:46:35.697Z"
   },
   {
    "duration": 3,
    "start_time": "2022-12-19T12:46:36.886Z"
   },
   {
    "duration": 10,
    "start_time": "2022-12-19T12:46:36.891Z"
   },
   {
    "duration": 10,
    "start_time": "2022-12-19T12:46:36.902Z"
   },
   {
    "duration": 8,
    "start_time": "2022-12-19T12:46:36.914Z"
   },
   {
    "duration": 42,
    "start_time": "2022-12-19T12:46:36.924Z"
   },
   {
    "duration": 14,
    "start_time": "2022-12-19T12:46:36.968Z"
   },
   {
    "duration": 10,
    "start_time": "2022-12-19T12:46:36.984Z"
   },
   {
    "duration": 673,
    "start_time": "2022-12-19T12:46:36.996Z"
   },
   {
    "duration": 718,
    "start_time": "2022-12-19T12:46:37.672Z"
   },
   {
    "duration": 206,
    "start_time": "2022-12-19T12:46:38.392Z"
   },
   {
    "duration": 166,
    "start_time": "2022-12-19T12:46:38.600Z"
   },
   {
    "duration": 319,
    "start_time": "2022-12-19T12:46:38.768Z"
   },
   {
    "duration": 141,
    "start_time": "2022-12-19T12:46:39.088Z"
   },
   {
    "duration": 1065,
    "start_time": "2022-12-19T12:46:39.231Z"
   },
   {
    "duration": 298,
    "start_time": "2022-12-19T12:46:40.298Z"
   },
   {
    "duration": 3,
    "start_time": "2022-12-19T12:46:40.597Z"
   },
   {
    "duration": 21,
    "start_time": "2022-12-19T12:46:40.602Z"
   },
   {
    "duration": 239,
    "start_time": "2022-12-19T12:46:40.625Z"
   },
   {
    "duration": 7,
    "start_time": "2022-12-19T12:46:40.866Z"
   },
   {
    "duration": 173,
    "start_time": "2022-12-19T12:46:40.875Z"
   },
   {
    "duration": 173,
    "start_time": "2022-12-19T12:46:41.054Z"
   },
   {
    "duration": 1348,
    "start_time": "2022-12-19T12:48:20.789Z"
   },
   {
    "duration": 1170,
    "start_time": "2022-12-19T12:48:25.112Z"
   },
   {
    "duration": 193,
    "start_time": "2022-12-19T12:48:35.548Z"
   },
   {
    "duration": 133,
    "start_time": "2022-12-19T12:48:53.079Z"
   },
   {
    "duration": 7,
    "start_time": "2022-12-19T12:49:50.650Z"
   },
   {
    "duration": 12,
    "start_time": "2022-12-19T12:50:16.966Z"
   },
   {
    "duration": 213,
    "start_time": "2022-12-19T12:50:24.978Z"
   },
   {
    "duration": 240,
    "start_time": "2022-12-19T12:50:34.903Z"
   },
   {
    "duration": 828,
    "start_time": "2022-12-19T12:51:59.910Z"
   },
   {
    "duration": 25,
    "start_time": "2022-12-19T12:52:00.740Z"
   },
   {
    "duration": 2076,
    "start_time": "2022-12-19T12:52:00.767Z"
   },
   {
    "duration": 5,
    "start_time": "2022-12-19T12:52:02.845Z"
   },
   {
    "duration": 24,
    "start_time": "2022-12-19T12:52:02.852Z"
   },
   {
    "duration": 6,
    "start_time": "2022-12-19T12:52:02.877Z"
   },
   {
    "duration": 12,
    "start_time": "2022-12-19T12:52:02.885Z"
   },
   {
    "duration": 1461,
    "start_time": "2022-12-19T12:52:02.899Z"
   },
   {
    "duration": 10,
    "start_time": "2022-12-19T12:52:04.362Z"
   },
   {
    "duration": 15,
    "start_time": "2022-12-19T12:52:04.376Z"
   },
   {
    "duration": 9,
    "start_time": "2022-12-19T12:52:04.393Z"
   },
   {
    "duration": 12,
    "start_time": "2022-12-19T12:52:04.404Z"
   },
   {
    "duration": 1475,
    "start_time": "2022-12-19T12:52:04.418Z"
   },
   {
    "duration": 1334,
    "start_time": "2022-12-19T12:52:05.895Z"
   },
   {
    "duration": 1260,
    "start_time": "2022-12-19T12:52:07.231Z"
   },
   {
    "duration": 1345,
    "start_time": "2022-12-19T12:52:08.492Z"
   },
   {
    "duration": 1286,
    "start_time": "2022-12-19T12:52:09.838Z"
   },
   {
    "duration": 1375,
    "start_time": "2022-12-19T12:52:11.126Z"
   },
   {
    "duration": 2118,
    "start_time": "2022-12-19T12:52:12.502Z"
   },
   {
    "duration": 11,
    "start_time": "2022-12-19T12:52:14.622Z"
   },
   {
    "duration": 32,
    "start_time": "2022-12-19T12:52:14.635Z"
   },
   {
    "duration": 23,
    "start_time": "2022-12-19T12:52:14.668Z"
   },
   {
    "duration": 117,
    "start_time": "2022-12-19T12:52:14.693Z"
   },
   {
    "duration": 6,
    "start_time": "2022-12-19T12:52:14.812Z"
   },
   {
    "duration": 13,
    "start_time": "2022-12-19T12:52:14.819Z"
   },
   {
    "duration": 27,
    "start_time": "2022-12-19T12:52:14.834Z"
   },
   {
    "duration": 1491,
    "start_time": "2022-12-19T12:52:14.863Z"
   },
   {
    "duration": 1802,
    "start_time": "2022-12-19T12:52:16.357Z"
   },
   {
    "duration": 1188,
    "start_time": "2022-12-19T12:52:18.162Z"
   },
   {
    "duration": 3,
    "start_time": "2022-12-19T12:52:19.352Z"
   },
   {
    "duration": 16,
    "start_time": "2022-12-19T12:52:19.357Z"
   },
   {
    "duration": 20,
    "start_time": "2022-12-19T12:52:19.375Z"
   },
   {
    "duration": 10,
    "start_time": "2022-12-19T12:52:19.397Z"
   },
   {
    "duration": 10,
    "start_time": "2022-12-19T12:52:19.409Z"
   },
   {
    "duration": 35,
    "start_time": "2022-12-19T12:52:19.421Z"
   },
   {
    "duration": 8,
    "start_time": "2022-12-19T12:52:19.458Z"
   },
   {
    "duration": 650,
    "start_time": "2022-12-19T12:52:19.468Z"
   },
   {
    "duration": 688,
    "start_time": "2022-12-19T12:52:20.120Z"
   },
   {
    "duration": 179,
    "start_time": "2022-12-19T12:52:20.810Z"
   },
   {
    "duration": 180,
    "start_time": "2022-12-19T12:52:20.990Z"
   },
   {
    "duration": 316,
    "start_time": "2022-12-19T12:52:21.172Z"
   },
   {
    "duration": 135,
    "start_time": "2022-12-19T12:52:21.491Z"
   },
   {
    "duration": 1095,
    "start_time": "2022-12-19T12:52:21.628Z"
   },
   {
    "duration": 302,
    "start_time": "2022-12-19T12:52:22.725Z"
   },
   {
    "duration": 3,
    "start_time": "2022-12-19T12:52:23.028Z"
   },
   {
    "duration": 34,
    "start_time": "2022-12-19T12:52:23.032Z"
   },
   {
    "duration": 188,
    "start_time": "2022-12-19T12:52:23.067Z"
   },
   {
    "duration": 6,
    "start_time": "2022-12-19T12:52:23.257Z"
   },
   {
    "duration": 153,
    "start_time": "2022-12-19T12:52:23.265Z"
   },
   {
    "duration": 185,
    "start_time": "2022-12-19T12:52:23.420Z"
   },
   {
    "duration": 283,
    "start_time": "2022-12-19T12:54:20.563Z"
   },
   {
    "duration": 129,
    "start_time": "2022-12-19T12:54:26.278Z"
   },
   {
    "duration": 173,
    "start_time": "2022-12-19T12:54:38.665Z"
   },
   {
    "duration": 161,
    "start_time": "2022-12-19T12:54:48.114Z"
   },
   {
    "duration": 149,
    "start_time": "2022-12-19T12:54:57.419Z"
   },
   {
    "duration": 149,
    "start_time": "2022-12-19T12:55:02.493Z"
   },
   {
    "duration": 135,
    "start_time": "2022-12-19T12:55:06.815Z"
   },
   {
    "duration": 173,
    "start_time": "2022-12-19T12:55:09.227Z"
   },
   {
    "duration": 127,
    "start_time": "2022-12-19T12:55:13.059Z"
   },
   {
    "duration": 126,
    "start_time": "2022-12-19T12:55:16.466Z"
   },
   {
    "duration": 125,
    "start_time": "2022-12-19T12:55:20.508Z"
   },
   {
    "duration": 160,
    "start_time": "2022-12-19T12:55:24.590Z"
   },
   {
    "duration": 172,
    "start_time": "2022-12-19T12:55:27.561Z"
   },
   {
    "duration": 183,
    "start_time": "2022-12-19T12:55:32.844Z"
   },
   {
    "duration": 44,
    "start_time": "2022-12-19T12:56:49.352Z"
   },
   {
    "duration": 251,
    "start_time": "2022-12-19T12:56:56.966Z"
   },
   {
    "duration": 268,
    "start_time": "2022-12-19T12:57:09.477Z"
   },
   {
    "duration": 449,
    "start_time": "2022-12-19T12:57:15.036Z"
   },
   {
    "duration": 275,
    "start_time": "2022-12-19T12:57:20.314Z"
   },
   {
    "duration": 64,
    "start_time": "2022-12-19T13:09:01.625Z"
   },
   {
    "duration": 7,
    "start_time": "2022-12-19T13:09:05.773Z"
   },
   {
    "duration": 5,
    "start_time": "2022-12-19T13:09:21.317Z"
   },
   {
    "duration": 269,
    "start_time": "2022-12-19T13:10:08.519Z"
   },
   {
    "duration": 17,
    "start_time": "2022-12-19T13:14:18.912Z"
   },
   {
    "duration": 38,
    "start_time": "2022-12-19T13:16:38.182Z"
   },
   {
    "duration": 83,
    "start_time": "2022-12-19T13:17:03.490Z"
   },
   {
    "duration": 36,
    "start_time": "2022-12-19T13:17:31.037Z"
   },
   {
    "duration": 37,
    "start_time": "2022-12-19T13:17:38.852Z"
   },
   {
    "duration": 39,
    "start_time": "2022-12-19T13:17:53.105Z"
   },
   {
    "duration": 83,
    "start_time": "2022-12-19T13:17:58.535Z"
   },
   {
    "duration": 50,
    "start_time": "2022-12-19T13:18:12.660Z"
   },
   {
    "duration": 39,
    "start_time": "2022-12-19T13:18:17.603Z"
   },
   {
    "duration": 23,
    "start_time": "2022-12-19T13:18:31.739Z"
   },
   {
    "duration": 27,
    "start_time": "2022-12-19T13:19:31.887Z"
   },
   {
    "duration": 39,
    "start_time": "2022-12-19T13:19:40.714Z"
   },
   {
    "duration": 25,
    "start_time": "2022-12-19T13:19:43.805Z"
   },
   {
    "duration": 1059,
    "start_time": "2022-12-19T13:20:02.098Z"
   },
   {
    "duration": 1241,
    "start_time": "2022-12-19T13:20:14.853Z"
   },
   {
    "duration": 1330,
    "start_time": "2022-12-19T13:20:25.009Z"
   },
   {
    "duration": 10351,
    "start_time": "2022-12-19T13:20:48.448Z"
   },
   {
    "duration": 6943,
    "start_time": "2022-12-19T13:21:01.823Z"
   },
   {
    "duration": 106,
    "start_time": "2022-12-19T13:22:22.086Z"
   },
   {
    "duration": 16,
    "start_time": "2022-12-19T13:22:27.400Z"
   },
   {
    "duration": 14,
    "start_time": "2022-12-19T13:23:15.614Z"
   },
   {
    "duration": 56,
    "start_time": "2022-12-19T13:23:19.131Z"
   },
   {
    "duration": 58,
    "start_time": "2022-12-19T13:24:45.750Z"
   },
   {
    "duration": 912,
    "start_time": "2022-12-19T13:25:37.570Z"
   },
   {
    "duration": 14,
    "start_time": "2022-12-19T13:25:57.449Z"
   },
   {
    "duration": 13,
    "start_time": "2022-12-19T13:25:59.946Z"
   },
   {
    "duration": 35,
    "start_time": "2022-12-19T13:26:12.220Z"
   },
   {
    "duration": 1252,
    "start_time": "2022-12-19T13:26:29.541Z"
   },
   {
    "duration": 61,
    "start_time": "2022-12-19T13:27:30.230Z"
   },
   {
    "duration": 6746,
    "start_time": "2022-12-19T13:27:37.792Z"
   },
   {
    "duration": 1053,
    "start_time": "2022-12-19T13:27:51.981Z"
   },
   {
    "duration": 18,
    "start_time": "2022-12-19T13:29:25.905Z"
   },
   {
    "duration": 751,
    "start_time": "2022-12-19T13:29:37.925Z"
   },
   {
    "duration": 24,
    "start_time": "2022-12-19T13:29:42.001Z"
   },
   {
    "duration": 16,
    "start_time": "2022-12-19T13:32:58.152Z"
   },
   {
    "duration": 17,
    "start_time": "2022-12-19T13:33:02.034Z"
   },
   {
    "duration": 18,
    "start_time": "2022-12-19T13:33:11.739Z"
   },
   {
    "duration": 18,
    "start_time": "2022-12-19T13:33:26.755Z"
   },
   {
    "duration": 5,
    "start_time": "2022-12-19T13:38:33.108Z"
   },
   {
    "duration": 9,
    "start_time": "2022-12-19T13:39:07.550Z"
   },
   {
    "duration": 19,
    "start_time": "2022-12-19T13:39:55.295Z"
   },
   {
    "duration": 30,
    "start_time": "2022-12-19T13:40:05.318Z"
   },
   {
    "duration": 20,
    "start_time": "2022-12-19T13:40:16.008Z"
   },
   {
    "duration": 4,
    "start_time": "2022-12-19T13:41:08.075Z"
   },
   {
    "duration": 20,
    "start_time": "2022-12-19T13:41:10.019Z"
   },
   {
    "duration": 5,
    "start_time": "2022-12-19T13:41:14.771Z"
   },
   {
    "duration": 29,
    "start_time": "2022-12-19T13:41:20.238Z"
   },
   {
    "duration": 61,
    "start_time": "2022-12-19T13:41:47.095Z"
   },
   {
    "duration": 27,
    "start_time": "2022-12-19T13:41:57.673Z"
   },
   {
    "duration": 20,
    "start_time": "2022-12-19T13:43:55.523Z"
   },
   {
    "duration": 17,
    "start_time": "2022-12-19T13:43:57.773Z"
   },
   {
    "duration": 19,
    "start_time": "2022-12-19T13:43:59.900Z"
   },
   {
    "duration": 20,
    "start_time": "2022-12-19T13:46:04.055Z"
   },
   {
    "duration": 20,
    "start_time": "2022-12-19T13:46:22.468Z"
   },
   {
    "duration": 19,
    "start_time": "2022-12-19T13:46:33.405Z"
   },
   {
    "duration": 20,
    "start_time": "2022-12-19T13:46:45.444Z"
   },
   {
    "duration": 4,
    "start_time": "2022-12-19T13:46:59.651Z"
   },
   {
    "duration": 12,
    "start_time": "2022-12-19T13:47:02.354Z"
   },
   {
    "duration": 4,
    "start_time": "2022-12-19T13:47:14.061Z"
   },
   {
    "duration": 8,
    "start_time": "2022-12-19T13:47:16.189Z"
   },
   {
    "duration": 28,
    "start_time": "2022-12-19T13:47:24.243Z"
   },
   {
    "duration": 769,
    "start_time": "2022-12-19T13:47:33.316Z"
   },
   {
    "duration": 21,
    "start_time": "2022-12-19T13:47:34.087Z"
   },
   {
    "duration": 2068,
    "start_time": "2022-12-19T13:47:34.110Z"
   },
   {
    "duration": 6,
    "start_time": "2022-12-19T13:47:36.182Z"
   },
   {
    "duration": 24,
    "start_time": "2022-12-19T13:47:36.190Z"
   },
   {
    "duration": 8,
    "start_time": "2022-12-19T13:47:36.216Z"
   },
   {
    "duration": 17,
    "start_time": "2022-12-19T13:47:36.226Z"
   },
   {
    "duration": 1317,
    "start_time": "2022-12-19T13:47:36.245Z"
   },
   {
    "duration": 8,
    "start_time": "2022-12-19T13:47:37.564Z"
   },
   {
    "duration": 26,
    "start_time": "2022-12-19T13:47:37.575Z"
   },
   {
    "duration": 20,
    "start_time": "2022-12-19T13:47:37.602Z"
   },
   {
    "duration": 15,
    "start_time": "2022-12-19T13:47:37.624Z"
   },
   {
    "duration": 1271,
    "start_time": "2022-12-19T13:47:37.641Z"
   },
   {
    "duration": 1311,
    "start_time": "2022-12-19T13:47:38.914Z"
   },
   {
    "duration": 1310,
    "start_time": "2022-12-19T13:47:40.227Z"
   },
   {
    "duration": 1311,
    "start_time": "2022-12-19T13:47:41.539Z"
   },
   {
    "duration": 1299,
    "start_time": "2022-12-19T13:47:42.852Z"
   },
   {
    "duration": 1345,
    "start_time": "2022-12-19T13:47:44.153Z"
   },
   {
    "duration": 1295,
    "start_time": "2022-12-19T13:47:45.500Z"
   },
   {
    "duration": 13,
    "start_time": "2022-12-19T13:47:46.797Z"
   },
   {
    "duration": 12,
    "start_time": "2022-12-19T13:47:46.812Z"
   },
   {
    "duration": 8,
    "start_time": "2022-12-19T13:47:46.825Z"
   },
   {
    "duration": 102,
    "start_time": "2022-12-19T13:47:46.855Z"
   },
   {
    "duration": 9,
    "start_time": "2022-12-19T13:47:46.959Z"
   },
   {
    "duration": 3,
    "start_time": "2022-12-19T13:47:46.970Z"
   },
   {
    "duration": 13,
    "start_time": "2022-12-19T13:47:46.974Z"
   },
   {
    "duration": 1310,
    "start_time": "2022-12-19T13:47:46.989Z"
   },
   {
    "duration": 1895,
    "start_time": "2022-12-19T13:47:48.303Z"
   },
   {
    "duration": 1194,
    "start_time": "2022-12-19T13:47:50.200Z"
   },
   {
    "duration": 3,
    "start_time": "2022-12-19T13:47:51.396Z"
   },
   {
    "duration": 17,
    "start_time": "2022-12-19T13:47:51.401Z"
   },
   {
    "duration": 12,
    "start_time": "2022-12-19T13:47:51.420Z"
   },
   {
    "duration": 22,
    "start_time": "2022-12-19T13:47:51.434Z"
   },
   {
    "duration": 11,
    "start_time": "2022-12-19T13:47:51.458Z"
   },
   {
    "duration": 13,
    "start_time": "2022-12-19T13:47:51.470Z"
   },
   {
    "duration": 9,
    "start_time": "2022-12-19T13:47:51.485Z"
   },
   {
    "duration": 649,
    "start_time": "2022-12-19T13:47:51.496Z"
   },
   {
    "duration": 679,
    "start_time": "2022-12-19T13:47:52.147Z"
   },
   {
    "duration": 174,
    "start_time": "2022-12-19T13:47:52.827Z"
   },
   {
    "duration": 184,
    "start_time": "2022-12-19T13:47:53.003Z"
   },
   {
    "duration": 380,
    "start_time": "2022-12-19T13:47:53.189Z"
   },
   {
    "duration": 154,
    "start_time": "2022-12-19T13:47:53.571Z"
   },
   {
    "duration": 1172,
    "start_time": "2022-12-19T13:47:53.727Z"
   },
   {
    "duration": 323,
    "start_time": "2022-12-19T13:47:54.901Z"
   },
   {
    "duration": 3,
    "start_time": "2022-12-19T13:47:55.225Z"
   },
   {
    "duration": 21,
    "start_time": "2022-12-19T13:47:55.230Z"
   },
   {
    "duration": 188,
    "start_time": "2022-12-19T13:47:55.254Z"
   },
   {
    "duration": 13,
    "start_time": "2022-12-19T13:47:55.444Z"
   },
   {
    "duration": 144,
    "start_time": "2022-12-19T13:47:55.459Z"
   },
   {
    "duration": 400,
    "start_time": "2022-12-19T13:47:55.604Z"
   },
   {
    "duration": 82,
    "start_time": "2022-12-19T13:47:56.006Z"
   },
   {
    "duration": 0,
    "start_time": "2022-12-19T13:47:56.090Z"
   },
   {
    "duration": 0,
    "start_time": "2022-12-19T13:47:56.091Z"
   },
   {
    "duration": 4,
    "start_time": "2022-12-19T13:48:14.618Z"
   },
   {
    "duration": 8,
    "start_time": "2022-12-19T13:48:16.752Z"
   },
   {
    "duration": 36,
    "start_time": "2022-12-19T13:48:18.882Z"
   },
   {
    "duration": 40,
    "start_time": "2022-12-19T13:48:49.023Z"
   },
   {
    "duration": 21,
    "start_time": "2022-12-19T13:49:07.951Z"
   },
   {
    "duration": 23,
    "start_time": "2022-12-19T13:49:13.418Z"
   },
   {
    "duration": 5,
    "start_time": "2022-12-19T13:49:53.684Z"
   },
   {
    "duration": 9,
    "start_time": "2022-12-19T13:49:55.340Z"
   },
   {
    "duration": 21,
    "start_time": "2022-12-19T13:49:57.134Z"
   },
   {
    "duration": 36,
    "start_time": "2022-12-19T13:52:34.078Z"
   },
   {
    "duration": 714,
    "start_time": "2022-12-19T13:57:18.574Z"
   },
   {
    "duration": 9,
    "start_time": "2022-12-19T13:59:00.401Z"
   },
   {
    "duration": 56,
    "start_time": "2022-12-19T13:59:08.152Z"
   },
   {
    "duration": 347,
    "start_time": "2022-12-19T14:02:48.652Z"
   },
   {
    "duration": 36,
    "start_time": "2022-12-19T14:03:23.985Z"
   },
   {
    "duration": 15,
    "start_time": "2022-12-19T14:04:31.822Z"
   },
   {
    "duration": 18,
    "start_time": "2022-12-19T14:05:18.048Z"
   },
   {
    "duration": 26,
    "start_time": "2022-12-19T14:06:05.023Z"
   },
   {
    "duration": 24,
    "start_time": "2022-12-19T14:06:25.427Z"
   },
   {
    "duration": 25,
    "start_time": "2022-12-19T14:06:27.544Z"
   },
   {
    "duration": 26,
    "start_time": "2022-12-19T14:07:20.105Z"
   },
   {
    "duration": 25,
    "start_time": "2022-12-19T14:07:33.889Z"
   },
   {
    "duration": 22,
    "start_time": "2022-12-19T14:07:48.026Z"
   },
   {
    "duration": 23,
    "start_time": "2022-12-19T14:07:59.363Z"
   },
   {
    "duration": 24,
    "start_time": "2022-12-19T14:08:10.658Z"
   },
   {
    "duration": 16,
    "start_time": "2022-12-19T14:08:39.303Z"
   },
   {
    "duration": 16,
    "start_time": "2022-12-19T14:09:19.873Z"
   },
   {
    "duration": 17,
    "start_time": "2022-12-19T14:09:22.243Z"
   },
   {
    "duration": 16,
    "start_time": "2022-12-19T14:10:01.253Z"
   },
   {
    "duration": 25,
    "start_time": "2022-12-19T14:10:21.280Z"
   },
   {
    "duration": 15,
    "start_time": "2022-12-19T14:10:37.133Z"
   },
   {
    "duration": 17,
    "start_time": "2022-12-19T14:11:16.798Z"
   },
   {
    "duration": 17,
    "start_time": "2022-12-19T14:11:52.773Z"
   },
   {
    "duration": 16,
    "start_time": "2022-12-19T14:12:07.422Z"
   },
   {
    "duration": 17,
    "start_time": "2022-12-19T14:13:33.183Z"
   },
   {
    "duration": 16,
    "start_time": "2022-12-19T14:16:02.058Z"
   },
   {
    "duration": 16,
    "start_time": "2022-12-19T14:18:24.760Z"
   },
   {
    "duration": 3760,
    "start_time": "2022-12-19T14:21:46.358Z"
   },
   {
    "duration": 15,
    "start_time": "2022-12-19T14:22:07.413Z"
   },
   {
    "duration": 8,
    "start_time": "2022-12-19T14:22:17.277Z"
   },
   {
    "duration": 3778,
    "start_time": "2022-12-19T14:23:08.702Z"
   },
   {
    "duration": 3816,
    "start_time": "2022-12-19T14:23:45.694Z"
   },
   {
    "duration": 742,
    "start_time": "2022-12-19T14:24:01.406Z"
   },
   {
    "duration": 23,
    "start_time": "2022-12-19T14:24:02.150Z"
   },
   {
    "duration": 2144,
    "start_time": "2022-12-19T14:24:02.174Z"
   },
   {
    "duration": 7,
    "start_time": "2022-12-19T14:24:04.320Z"
   },
   {
    "duration": 17,
    "start_time": "2022-12-19T14:24:04.329Z"
   },
   {
    "duration": 11,
    "start_time": "2022-12-19T14:24:04.349Z"
   },
   {
    "duration": 16,
    "start_time": "2022-12-19T14:24:04.362Z"
   },
   {
    "duration": 1476,
    "start_time": "2022-12-19T14:24:04.380Z"
   },
   {
    "duration": 9,
    "start_time": "2022-12-19T14:24:05.858Z"
   },
   {
    "duration": 14,
    "start_time": "2022-12-19T14:24:05.871Z"
   },
   {
    "duration": 16,
    "start_time": "2022-12-19T14:24:05.887Z"
   },
   {
    "duration": 5,
    "start_time": "2022-12-19T14:24:05.904Z"
   },
   {
    "duration": 1292,
    "start_time": "2022-12-19T14:24:05.911Z"
   },
   {
    "duration": 1274,
    "start_time": "2022-12-19T14:24:07.205Z"
   },
   {
    "duration": 1289,
    "start_time": "2022-12-19T14:24:08.481Z"
   },
   {
    "duration": 1261,
    "start_time": "2022-12-19T14:24:09.772Z"
   },
   {
    "duration": 1255,
    "start_time": "2022-12-19T14:24:11.035Z"
   },
   {
    "duration": 1239,
    "start_time": "2022-12-19T14:24:12.291Z"
   },
   {
    "duration": 1637,
    "start_time": "2022-12-19T14:24:13.531Z"
   },
   {
    "duration": 17,
    "start_time": "2022-12-19T14:24:15.170Z"
   },
   {
    "duration": 16,
    "start_time": "2022-12-19T14:24:15.189Z"
   },
   {
    "duration": 6,
    "start_time": "2022-12-19T14:24:15.207Z"
   },
   {
    "duration": 179,
    "start_time": "2022-12-19T14:24:15.215Z"
   },
   {
    "duration": 9,
    "start_time": "2022-12-19T14:24:15.396Z"
   },
   {
    "duration": 8,
    "start_time": "2022-12-19T14:24:15.406Z"
   },
   {
    "duration": 16,
    "start_time": "2022-12-19T14:24:15.416Z"
   },
   {
    "duration": 1369,
    "start_time": "2022-12-19T14:24:15.434Z"
   },
   {
    "duration": 1878,
    "start_time": "2022-12-19T14:24:16.807Z"
   },
   {
    "duration": 1284,
    "start_time": "2022-12-19T14:24:18.687Z"
   },
   {
    "duration": 2,
    "start_time": "2022-12-19T14:24:19.973Z"
   },
   {
    "duration": 38,
    "start_time": "2022-12-19T14:24:19.977Z"
   },
   {
    "duration": 12,
    "start_time": "2022-12-19T14:24:20.017Z"
   },
   {
    "duration": 13,
    "start_time": "2022-12-19T14:24:20.031Z"
   },
   {
    "duration": 10,
    "start_time": "2022-12-19T14:24:20.046Z"
   },
   {
    "duration": 24,
    "start_time": "2022-12-19T14:24:20.058Z"
   },
   {
    "duration": 19,
    "start_time": "2022-12-19T14:24:20.084Z"
   },
   {
    "duration": 647,
    "start_time": "2022-12-19T14:24:20.105Z"
   },
   {
    "duration": 710,
    "start_time": "2022-12-19T14:24:20.755Z"
   },
   {
    "duration": 175,
    "start_time": "2022-12-19T14:24:21.467Z"
   },
   {
    "duration": 166,
    "start_time": "2022-12-19T14:24:21.644Z"
   },
   {
    "duration": 307,
    "start_time": "2022-12-19T14:24:21.811Z"
   },
   {
    "duration": 138,
    "start_time": "2022-12-19T14:24:22.120Z"
   },
   {
    "duration": 1069,
    "start_time": "2022-12-19T14:24:22.260Z"
   },
   {
    "duration": 297,
    "start_time": "2022-12-19T14:24:23.330Z"
   },
   {
    "duration": 201,
    "start_time": "2022-12-19T14:24:23.629Z"
   },
   {
    "duration": 6,
    "start_time": "2022-12-19T14:24:23.832Z"
   },
   {
    "duration": 153,
    "start_time": "2022-12-19T14:24:23.840Z"
   },
   {
    "duration": 409,
    "start_time": "2022-12-19T14:24:23.994Z"
   },
   {
    "duration": 15,
    "start_time": "2022-12-19T14:24:24.404Z"
   },
   {
    "duration": 3022,
    "start_time": "2022-12-19T14:24:24.421Z"
   },
   {
    "duration": 11,
    "start_time": "2022-12-19T14:24:27.444Z"
   },
   {
    "duration": 74,
    "start_time": "2022-12-19T14:25:56.249Z"
   },
   {
    "duration": 1137,
    "start_time": "2022-12-19T14:26:01.719Z"
   },
   {
    "duration": 1013,
    "start_time": "2022-12-19T14:26:05.653Z"
   },
   {
    "duration": 198,
    "start_time": "2022-12-19T14:26:17.492Z"
   },
   {
    "duration": 8,
    "start_time": "2022-12-19T14:26:22.984Z"
   },
   {
    "duration": 141,
    "start_time": "2022-12-19T14:26:31.119Z"
   },
   {
    "duration": 176,
    "start_time": "2022-12-19T14:26:36.127Z"
   },
   {
    "duration": 1274,
    "start_time": "2022-12-19T14:29:16.769Z"
   },
   {
    "duration": 181,
    "start_time": "2022-12-19T14:29:35.563Z"
   },
   {
    "duration": 3133,
    "start_time": "2022-12-19T14:31:15.412Z"
   },
   {
    "duration": 199,
    "start_time": "2022-12-19T14:31:27.992Z"
   },
   {
    "duration": 44,
    "start_time": "2022-12-19T14:31:50.130Z"
   },
   {
    "duration": 210,
    "start_time": "2022-12-19T14:31:58.152Z"
   },
   {
    "duration": 777,
    "start_time": "2022-12-19T14:32:16.355Z"
   },
   {
    "duration": 27,
    "start_time": "2022-12-19T14:32:17.134Z"
   },
   {
    "duration": 1999,
    "start_time": "2022-12-19T14:32:17.163Z"
   },
   {
    "duration": 6,
    "start_time": "2022-12-19T14:32:19.165Z"
   },
   {
    "duration": 26,
    "start_time": "2022-12-19T14:32:19.172Z"
   },
   {
    "duration": 5,
    "start_time": "2022-12-19T14:32:19.199Z"
   },
   {
    "duration": 8,
    "start_time": "2022-12-19T14:32:19.205Z"
   },
   {
    "duration": 1291,
    "start_time": "2022-12-19T14:32:19.214Z"
   },
   {
    "duration": 9,
    "start_time": "2022-12-19T14:32:20.506Z"
   },
   {
    "duration": 5,
    "start_time": "2022-12-19T14:32:20.518Z"
   },
   {
    "duration": 9,
    "start_time": "2022-12-19T14:32:20.525Z"
   },
   {
    "duration": 20,
    "start_time": "2022-12-19T14:32:20.535Z"
   },
   {
    "duration": 1259,
    "start_time": "2022-12-19T14:32:20.557Z"
   },
   {
    "duration": 1286,
    "start_time": "2022-12-19T14:32:21.818Z"
   },
   {
    "duration": 1286,
    "start_time": "2022-12-19T14:32:23.106Z"
   },
   {
    "duration": 1314,
    "start_time": "2022-12-19T14:32:24.394Z"
   },
   {
    "duration": 1228,
    "start_time": "2022-12-19T14:32:25.710Z"
   },
   {
    "duration": 1274,
    "start_time": "2022-12-19T14:32:26.941Z"
   },
   {
    "duration": 1319,
    "start_time": "2022-12-19T14:32:28.217Z"
   },
   {
    "duration": 18,
    "start_time": "2022-12-19T14:32:29.537Z"
   },
   {
    "duration": 25,
    "start_time": "2022-12-19T14:32:29.558Z"
   },
   {
    "duration": 5,
    "start_time": "2022-12-19T14:32:29.585Z"
   },
   {
    "duration": 106,
    "start_time": "2022-12-19T14:32:29.592Z"
   },
   {
    "duration": 7,
    "start_time": "2022-12-19T14:32:29.699Z"
   },
   {
    "duration": 5,
    "start_time": "2022-12-19T14:32:29.708Z"
   },
   {
    "duration": 37,
    "start_time": "2022-12-19T14:32:29.714Z"
   },
   {
    "duration": 1315,
    "start_time": "2022-12-19T14:32:29.752Z"
   },
   {
    "duration": 1777,
    "start_time": "2022-12-19T14:32:31.071Z"
   },
   {
    "duration": 1196,
    "start_time": "2022-12-19T14:32:32.850Z"
   },
   {
    "duration": 3031,
    "start_time": "2022-12-19T14:32:34.048Z"
   },
   {
    "duration": 6,
    "start_time": "2022-12-19T14:32:37.081Z"
   },
   {
    "duration": 27,
    "start_time": "2022-12-19T14:32:37.088Z"
   },
   {
    "duration": 14,
    "start_time": "2022-12-19T14:32:37.116Z"
   },
   {
    "duration": 28,
    "start_time": "2022-12-19T14:32:37.132Z"
   },
   {
    "duration": 21,
    "start_time": "2022-12-19T14:32:37.162Z"
   },
   {
    "duration": 7,
    "start_time": "2022-12-19T14:32:37.184Z"
   },
   {
    "duration": 616,
    "start_time": "2022-12-19T14:32:37.193Z"
   },
   {
    "duration": 697,
    "start_time": "2022-12-19T14:32:37.810Z"
   },
   {
    "duration": 173,
    "start_time": "2022-12-19T14:32:38.509Z"
   },
   {
    "duration": 161,
    "start_time": "2022-12-19T14:32:38.683Z"
   },
   {
    "duration": 315,
    "start_time": "2022-12-19T14:32:38.846Z"
   },
   {
    "duration": 138,
    "start_time": "2022-12-19T14:32:39.163Z"
   },
   {
    "duration": 1026,
    "start_time": "2022-12-19T14:32:39.303Z"
   },
   {
    "duration": 282,
    "start_time": "2022-12-19T14:32:40.331Z"
   },
   {
    "duration": 177,
    "start_time": "2022-12-19T14:32:40.615Z"
   },
   {
    "duration": 6,
    "start_time": "2022-12-19T14:32:40.794Z"
   },
   {
    "duration": 147,
    "start_time": "2022-12-19T14:32:40.802Z"
   },
   {
    "duration": 386,
    "start_time": "2022-12-19T14:32:40.956Z"
   },
   {
    "duration": 22,
    "start_time": "2022-12-19T14:32:41.344Z"
   },
   {
    "duration": 214,
    "start_time": "2022-12-19T14:32:41.368Z"
   },
   {
    "duration": 3,
    "start_time": "2022-12-19T14:32:41.583Z"
   },
   {
    "duration": 1250,
    "start_time": "2022-12-19T14:33:35.856Z"
   },
   {
    "duration": 203,
    "start_time": "2022-12-19T14:33:54.146Z"
   },
   {
    "duration": 3109,
    "start_time": "2022-12-19T14:34:47.214Z"
   },
   {
    "duration": 791,
    "start_time": "2022-12-19T14:34:57.624Z"
   },
   {
    "duration": 18,
    "start_time": "2022-12-19T14:34:58.417Z"
   },
   {
    "duration": 1958,
    "start_time": "2022-12-19T14:34:58.437Z"
   },
   {
    "duration": 6,
    "start_time": "2022-12-19T14:35:00.398Z"
   },
   {
    "duration": 25,
    "start_time": "2022-12-19T14:35:00.406Z"
   },
   {
    "duration": 19,
    "start_time": "2022-12-19T14:35:00.433Z"
   },
   {
    "duration": 22,
    "start_time": "2022-12-19T14:35:00.454Z"
   },
   {
    "duration": 1361,
    "start_time": "2022-12-19T14:35:00.477Z"
   },
   {
    "duration": 7,
    "start_time": "2022-12-19T14:35:01.840Z"
   },
   {
    "duration": 15,
    "start_time": "2022-12-19T14:35:01.856Z"
   },
   {
    "duration": 21,
    "start_time": "2022-12-19T14:35:01.872Z"
   },
   {
    "duration": 17,
    "start_time": "2022-12-19T14:35:01.895Z"
   },
   {
    "duration": 1223,
    "start_time": "2022-12-19T14:35:01.913Z"
   },
   {
    "duration": 1257,
    "start_time": "2022-12-19T14:35:03.138Z"
   },
   {
    "duration": 1280,
    "start_time": "2022-12-19T14:35:04.397Z"
   },
   {
    "duration": 1270,
    "start_time": "2022-12-19T14:35:05.678Z"
   },
   {
    "duration": 1216,
    "start_time": "2022-12-19T14:35:06.950Z"
   },
   {
    "duration": 1258,
    "start_time": "2022-12-19T14:35:08.167Z"
   },
   {
    "duration": 1274,
    "start_time": "2022-12-19T14:35:09.427Z"
   },
   {
    "duration": 14,
    "start_time": "2022-12-19T14:35:10.703Z"
   },
   {
    "duration": 13,
    "start_time": "2022-12-19T14:35:10.719Z"
   },
   {
    "duration": 7,
    "start_time": "2022-12-19T14:35:10.754Z"
   },
   {
    "duration": 106,
    "start_time": "2022-12-19T14:35:10.762Z"
   },
   {
    "duration": 7,
    "start_time": "2022-12-19T14:35:10.870Z"
   },
   {
    "duration": 5,
    "start_time": "2022-12-19T14:35:10.878Z"
   },
   {
    "duration": 10,
    "start_time": "2022-12-19T14:35:10.885Z"
   },
   {
    "duration": 1267,
    "start_time": "2022-12-19T14:35:10.897Z"
   },
   {
    "duration": 1810,
    "start_time": "2022-12-19T14:35:12.167Z"
   },
   {
    "duration": 1231,
    "start_time": "2022-12-19T14:35:13.979Z"
   },
   {
    "duration": 3089,
    "start_time": "2022-12-19T14:35:15.212Z"
   },
   {
    "duration": 7,
    "start_time": "2022-12-19T14:35:18.302Z"
   },
   {
    "duration": 13,
    "start_time": "2022-12-19T14:35:18.311Z"
   },
   {
    "duration": 14,
    "start_time": "2022-12-19T14:35:18.327Z"
   },
   {
    "duration": 18,
    "start_time": "2022-12-19T14:35:18.343Z"
   },
   {
    "duration": 10,
    "start_time": "2022-12-19T14:35:18.363Z"
   },
   {
    "duration": 8,
    "start_time": "2022-12-19T14:35:18.374Z"
   },
   {
    "duration": 649,
    "start_time": "2022-12-19T14:35:18.384Z"
   },
   {
    "duration": 700,
    "start_time": "2022-12-19T14:35:19.035Z"
   },
   {
    "duration": 171,
    "start_time": "2022-12-19T14:35:19.737Z"
   },
   {
    "duration": 165,
    "start_time": "2022-12-19T14:35:19.910Z"
   },
   {
    "duration": 292,
    "start_time": "2022-12-19T14:35:20.077Z"
   },
   {
    "duration": 128,
    "start_time": "2022-12-19T14:35:20.371Z"
   },
   {
    "duration": 1089,
    "start_time": "2022-12-19T14:35:20.500Z"
   },
   {
    "duration": 286,
    "start_time": "2022-12-19T14:35:21.590Z"
   },
   {
    "duration": 192,
    "start_time": "2022-12-19T14:35:21.878Z"
   },
   {
    "duration": 6,
    "start_time": "2022-12-19T14:35:22.072Z"
   },
   {
    "duration": 149,
    "start_time": "2022-12-19T14:35:22.080Z"
   },
   {
    "duration": 413,
    "start_time": "2022-12-19T14:35:22.231Z"
   },
   {
    "duration": 22,
    "start_time": "2022-12-19T14:35:22.646Z"
   },
   {
    "duration": 230,
    "start_time": "2022-12-19T14:35:22.670Z"
   },
   {
    "duration": 81,
    "start_time": "2022-12-19T14:37:19.004Z"
   },
   {
    "duration": 17,
    "start_time": "2022-12-19T14:37:21.572Z"
   },
   {
    "duration": 15,
    "start_time": "2022-12-19T14:37:44.300Z"
   },
   {
    "duration": 26,
    "start_time": "2022-12-19T14:37:55.329Z"
   },
   {
    "duration": 84,
    "start_time": "2022-12-19T14:38:30.777Z"
   },
   {
    "duration": 20,
    "start_time": "2022-12-19T14:38:51.864Z"
   },
   {
    "duration": 19,
    "start_time": "2022-12-19T14:39:02.358Z"
   },
   {
    "duration": 23,
    "start_time": "2022-12-19T14:39:32.656Z"
   },
   {
    "duration": 42,
    "start_time": "2022-12-21T14:05:46.361Z"
   },
   {
    "duration": 929,
    "start_time": "2022-12-21T14:05:54.135Z"
   },
   {
    "duration": 16,
    "start_time": "2022-12-21T14:05:55.066Z"
   },
   {
    "duration": 1873,
    "start_time": "2022-12-21T14:05:55.084Z"
   },
   {
    "duration": 6,
    "start_time": "2022-12-21T14:05:56.959Z"
   },
   {
    "duration": 17,
    "start_time": "2022-12-21T14:05:56.967Z"
   },
   {
    "duration": 5,
    "start_time": "2022-12-21T14:05:56.986Z"
   },
   {
    "duration": 23,
    "start_time": "2022-12-21T14:05:56.993Z"
   },
   {
    "duration": 1114,
    "start_time": "2022-12-21T14:05:57.018Z"
   },
   {
    "duration": 7,
    "start_time": "2022-12-21T14:05:58.134Z"
   },
   {
    "duration": 11,
    "start_time": "2022-12-21T14:05:58.142Z"
   },
   {
    "duration": 11,
    "start_time": "2022-12-21T14:05:58.154Z"
   },
   {
    "duration": 5,
    "start_time": "2022-12-21T14:05:58.166Z"
   },
   {
    "duration": 1075,
    "start_time": "2022-12-21T14:05:58.172Z"
   },
   {
    "duration": 1109,
    "start_time": "2022-12-21T14:05:59.251Z"
   },
   {
    "duration": 1092,
    "start_time": "2022-12-21T14:06:00.361Z"
   },
   {
    "duration": 1123,
    "start_time": "2022-12-21T14:06:01.455Z"
   },
   {
    "duration": 1084,
    "start_time": "2022-12-21T14:06:02.579Z"
   },
   {
    "duration": 1233,
    "start_time": "2022-12-21T14:06:03.665Z"
   },
   {
    "duration": 1143,
    "start_time": "2022-12-21T14:06:04.900Z"
   },
   {
    "duration": 11,
    "start_time": "2022-12-21T14:06:06.045Z"
   },
   {
    "duration": 17,
    "start_time": "2022-12-21T14:06:06.058Z"
   },
   {
    "duration": 17,
    "start_time": "2022-12-21T14:06:06.077Z"
   },
   {
    "duration": 96,
    "start_time": "2022-12-21T14:06:06.095Z"
   },
   {
    "duration": 5,
    "start_time": "2022-12-21T14:06:06.193Z"
   },
   {
    "duration": 4,
    "start_time": "2022-12-21T14:06:06.200Z"
   },
   {
    "duration": 12,
    "start_time": "2022-12-21T14:06:06.206Z"
   },
   {
    "duration": 1124,
    "start_time": "2022-12-21T14:06:06.226Z"
   },
   {
    "duration": 1551,
    "start_time": "2022-12-21T14:06:07.351Z"
   },
   {
    "duration": 1083,
    "start_time": "2022-12-21T14:06:08.903Z"
   },
   {
    "duration": 2729,
    "start_time": "2022-12-21T14:06:09.988Z"
   },
   {
    "duration": 8,
    "start_time": "2022-12-21T14:06:12.719Z"
   },
   {
    "duration": 12,
    "start_time": "2022-12-21T14:06:12.729Z"
   },
   {
    "duration": 7,
    "start_time": "2022-12-21T14:06:12.742Z"
   },
   {
    "duration": 8,
    "start_time": "2022-12-21T14:06:12.750Z"
   },
   {
    "duration": 13,
    "start_time": "2022-12-21T14:06:12.760Z"
   },
   {
    "duration": 6,
    "start_time": "2022-12-21T14:06:12.774Z"
   },
   {
    "duration": 583,
    "start_time": "2022-12-21T14:06:12.781Z"
   },
   {
    "duration": 623,
    "start_time": "2022-12-21T14:06:13.365Z"
   },
   {
    "duration": 150,
    "start_time": "2022-12-21T14:06:13.989Z"
   },
   {
    "duration": 161,
    "start_time": "2022-12-21T14:06:14.141Z"
   },
   {
    "duration": 268,
    "start_time": "2022-12-21T14:06:14.305Z"
   },
   {
    "duration": 116,
    "start_time": "2022-12-21T14:06:14.574Z"
   },
   {
    "duration": 993,
    "start_time": "2022-12-21T14:06:14.691Z"
   },
   {
    "duration": 285,
    "start_time": "2022-12-21T14:06:15.686Z"
   },
   {
    "duration": 173,
    "start_time": "2022-12-21T14:06:15.972Z"
   },
   {
    "duration": 5,
    "start_time": "2022-12-21T14:06:16.147Z"
   },
   {
    "duration": 137,
    "start_time": "2022-12-21T14:06:16.154Z"
   },
   {
    "duration": 352,
    "start_time": "2022-12-21T14:06:16.292Z"
   },
   {
    "duration": 14,
    "start_time": "2022-12-21T14:06:16.645Z"
   },
   {
    "duration": 21,
    "start_time": "2022-12-21T14:06:16.660Z"
   },
   {
    "duration": 200,
    "start_time": "2022-12-21T14:06:16.683Z"
   },
   {
    "duration": 17,
    "start_time": "2022-12-21T14:07:29.351Z"
   },
   {
    "duration": 1168,
    "start_time": "2022-12-21T14:08:08.894Z"
   },
   {
    "duration": 8,
    "start_time": "2022-12-21T14:08:42.256Z"
   },
   {
    "duration": 211,
    "start_time": "2022-12-21T14:08:48.041Z"
   },
   {
    "duration": 193,
    "start_time": "2022-12-21T14:08:59.906Z"
   },
   {
    "duration": 225,
    "start_time": "2022-12-21T14:09:01.534Z"
   },
   {
    "duration": 208,
    "start_time": "2022-12-21T14:11:21.789Z"
   },
   {
    "duration": 187,
    "start_time": "2022-12-21T14:12:42.313Z"
   },
   {
    "duration": 195,
    "start_time": "2022-12-21T14:13:12.657Z"
   },
   {
    "duration": 185,
    "start_time": "2022-12-21T14:13:25.762Z"
   },
   {
    "duration": 9,
    "start_time": "2022-12-21T14:14:03.513Z"
   },
   {
    "duration": 9,
    "start_time": "2022-12-21T14:14:14.564Z"
   },
   {
    "duration": 8,
    "start_time": "2022-12-21T14:14:24.052Z"
   },
   {
    "duration": 52,
    "start_time": "2022-12-21T14:27:15.884Z"
   },
   {
    "duration": 7,
    "start_time": "2022-12-21T14:28:22.870Z"
   },
   {
    "duration": 715,
    "start_time": "2022-12-21T14:28:30.739Z"
   },
   {
    "duration": 15,
    "start_time": "2022-12-21T14:28:31.456Z"
   },
   {
    "duration": 1836,
    "start_time": "2022-12-21T14:28:31.473Z"
   },
   {
    "duration": 5,
    "start_time": "2022-12-21T14:28:33.311Z"
   },
   {
    "duration": 25,
    "start_time": "2022-12-21T14:28:33.318Z"
   },
   {
    "duration": 4,
    "start_time": "2022-12-21T14:28:33.344Z"
   },
   {
    "duration": 8,
    "start_time": "2022-12-21T14:28:33.350Z"
   },
   {
    "duration": 1134,
    "start_time": "2022-12-21T14:28:33.360Z"
   },
   {
    "duration": 7,
    "start_time": "2022-12-21T14:28:34.495Z"
   },
   {
    "duration": 8,
    "start_time": "2022-12-21T14:28:34.504Z"
   },
   {
    "duration": 12,
    "start_time": "2022-12-21T14:28:34.514Z"
   },
   {
    "duration": 14,
    "start_time": "2022-12-21T14:28:34.527Z"
   },
   {
    "duration": 1109,
    "start_time": "2022-12-21T14:28:34.543Z"
   },
   {
    "duration": 1140,
    "start_time": "2022-12-21T14:28:35.656Z"
   },
   {
    "duration": 1081,
    "start_time": "2022-12-21T14:28:36.798Z"
   },
   {
    "duration": 1071,
    "start_time": "2022-12-21T14:28:37.881Z"
   },
   {
    "duration": 1105,
    "start_time": "2022-12-21T14:28:38.954Z"
   },
   {
    "duration": 1083,
    "start_time": "2022-12-21T14:28:40.061Z"
   },
   {
    "duration": 1108,
    "start_time": "2022-12-21T14:28:41.146Z"
   },
   {
    "duration": 9,
    "start_time": "2022-12-21T14:28:42.256Z"
   },
   {
    "duration": 13,
    "start_time": "2022-12-21T14:28:42.267Z"
   },
   {
    "duration": 10,
    "start_time": "2022-12-21T14:28:42.282Z"
   },
   {
    "duration": 84,
    "start_time": "2022-12-21T14:28:42.294Z"
   },
   {
    "duration": 5,
    "start_time": "2022-12-21T14:28:42.379Z"
   },
   {
    "duration": 6,
    "start_time": "2022-12-21T14:28:42.386Z"
   },
   {
    "duration": 13,
    "start_time": "2022-12-21T14:28:42.393Z"
   },
   {
    "duration": 1108,
    "start_time": "2022-12-21T14:28:42.407Z"
   },
   {
    "duration": 1672,
    "start_time": "2022-12-21T14:28:43.517Z"
   },
   {
    "duration": 1119,
    "start_time": "2022-12-21T14:28:45.191Z"
   },
   {
    "duration": 2746,
    "start_time": "2022-12-21T14:28:46.311Z"
   },
   {
    "duration": 8,
    "start_time": "2022-12-21T14:28:49.058Z"
   },
   {
    "duration": 38,
    "start_time": "2022-12-21T14:28:49.067Z"
   },
   {
    "duration": 25,
    "start_time": "2022-12-21T14:28:49.107Z"
   },
   {
    "duration": 42,
    "start_time": "2022-12-21T14:28:49.133Z"
   },
   {
    "duration": 20,
    "start_time": "2022-12-21T14:28:49.177Z"
   },
   {
    "duration": 6,
    "start_time": "2022-12-21T14:28:49.199Z"
   },
   {
    "duration": 641,
    "start_time": "2022-12-21T14:28:49.207Z"
   },
   {
    "duration": 653,
    "start_time": "2022-12-21T14:28:49.850Z"
   },
   {
    "duration": 165,
    "start_time": "2022-12-21T14:28:50.505Z"
   },
   {
    "duration": 157,
    "start_time": "2022-12-21T14:28:50.672Z"
   },
   {
    "duration": 285,
    "start_time": "2022-12-21T14:28:50.833Z"
   },
   {
    "duration": 122,
    "start_time": "2022-12-21T14:28:51.126Z"
   },
   {
    "duration": 1045,
    "start_time": "2022-12-21T14:28:51.250Z"
   },
   {
    "duration": 273,
    "start_time": "2022-12-21T14:28:52.296Z"
   },
   {
    "duration": 187,
    "start_time": "2022-12-21T14:28:52.571Z"
   },
   {
    "duration": 5,
    "start_time": "2022-12-21T14:28:52.760Z"
   },
   {
    "duration": 162,
    "start_time": "2022-12-21T14:28:52.766Z"
   },
   {
    "duration": 376,
    "start_time": "2022-12-21T14:28:52.929Z"
   },
   {
    "duration": 22,
    "start_time": "2022-12-21T14:28:53.307Z"
   },
   {
    "duration": 237,
    "start_time": "2022-12-21T14:28:53.330Z"
   },
   {
    "duration": 222,
    "start_time": "2022-12-21T14:28:53.569Z"
   },
   {
    "duration": 701,
    "start_time": "2022-12-21T14:34:40.288Z"
   },
   {
    "duration": 17,
    "start_time": "2022-12-21T14:34:40.990Z"
   },
   {
    "duration": 1772,
    "start_time": "2022-12-21T14:34:41.009Z"
   },
   {
    "duration": 4,
    "start_time": "2022-12-21T14:34:42.783Z"
   },
   {
    "duration": 8,
    "start_time": "2022-12-21T14:34:42.789Z"
   },
   {
    "duration": 3,
    "start_time": "2022-12-21T14:34:42.799Z"
   },
   {
    "duration": 9,
    "start_time": "2022-12-21T14:34:42.804Z"
   },
   {
    "duration": 1129,
    "start_time": "2022-12-21T14:34:42.814Z"
   },
   {
    "duration": 7,
    "start_time": "2022-12-21T14:34:43.945Z"
   },
   {
    "duration": 5,
    "start_time": "2022-12-21T14:34:43.954Z"
   },
   {
    "duration": 12,
    "start_time": "2022-12-21T14:34:43.961Z"
   },
   {
    "duration": 5,
    "start_time": "2022-12-21T14:34:43.975Z"
   },
   {
    "duration": 1072,
    "start_time": "2022-12-21T14:34:43.981Z"
   },
   {
    "duration": 1182,
    "start_time": "2022-12-21T14:34:45.055Z"
   },
   {
    "duration": 1060,
    "start_time": "2022-12-21T14:34:46.238Z"
   },
   {
    "duration": 1070,
    "start_time": "2022-12-21T14:34:47.299Z"
   },
   {
    "duration": 1051,
    "start_time": "2022-12-21T14:34:48.371Z"
   },
   {
    "duration": 1089,
    "start_time": "2022-12-21T14:34:49.424Z"
   },
   {
    "duration": 1073,
    "start_time": "2022-12-21T14:34:50.515Z"
   },
   {
    "duration": 13,
    "start_time": "2022-12-21T14:34:51.590Z"
   },
   {
    "duration": 29,
    "start_time": "2022-12-21T14:34:51.605Z"
   },
   {
    "duration": 18,
    "start_time": "2022-12-21T14:34:51.635Z"
   },
   {
    "duration": 111,
    "start_time": "2022-12-21T14:34:51.654Z"
   },
   {
    "duration": 6,
    "start_time": "2022-12-21T14:34:51.767Z"
   },
   {
    "duration": 36,
    "start_time": "2022-12-21T14:34:51.774Z"
   },
   {
    "duration": 36,
    "start_time": "2022-12-21T14:34:51.812Z"
   },
   {
    "duration": 1138,
    "start_time": "2022-12-21T14:34:51.850Z"
   },
   {
    "duration": 1576,
    "start_time": "2022-12-21T14:34:52.992Z"
   },
   {
    "duration": 1059,
    "start_time": "2022-12-21T14:34:54.570Z"
   },
   {
    "duration": 2781,
    "start_time": "2022-12-21T14:34:55.631Z"
   },
   {
    "duration": 6,
    "start_time": "2022-12-21T14:34:58.413Z"
   },
   {
    "duration": 7,
    "start_time": "2022-12-21T14:34:58.426Z"
   },
   {
    "duration": 7,
    "start_time": "2022-12-21T14:34:58.434Z"
   },
   {
    "duration": 8,
    "start_time": "2022-12-21T14:34:58.442Z"
   },
   {
    "duration": 8,
    "start_time": "2022-12-21T14:34:58.451Z"
   },
   {
    "duration": 5,
    "start_time": "2022-12-21T14:34:58.461Z"
   },
   {
    "duration": 611,
    "start_time": "2022-12-21T14:34:58.468Z"
   },
   {
    "duration": 601,
    "start_time": "2022-12-21T14:34:59.080Z"
   },
   {
    "duration": 163,
    "start_time": "2022-12-21T14:34:59.683Z"
   },
   {
    "duration": 166,
    "start_time": "2022-12-21T14:34:59.848Z"
   },
   {
    "duration": 293,
    "start_time": "2022-12-21T14:35:00.016Z"
   },
   {
    "duration": 116,
    "start_time": "2022-12-21T14:35:00.311Z"
   },
   {
    "duration": 1008,
    "start_time": "2022-12-21T14:35:00.429Z"
   },
   {
    "duration": 302,
    "start_time": "2022-12-21T14:35:01.439Z"
   },
   {
    "duration": 178,
    "start_time": "2022-12-21T14:35:01.743Z"
   },
   {
    "duration": 7,
    "start_time": "2022-12-21T14:35:01.922Z"
   },
   {
    "duration": 135,
    "start_time": "2022-12-21T14:35:01.931Z"
   },
   {
    "duration": 356,
    "start_time": "2022-12-21T14:35:02.068Z"
   },
   {
    "duration": 15,
    "start_time": "2022-12-21T14:35:02.425Z"
   },
   {
    "duration": 205,
    "start_time": "2022-12-21T14:35:02.442Z"
   },
   {
    "duration": 208,
    "start_time": "2022-12-21T14:35:02.649Z"
   },
   {
    "duration": 214,
    "start_time": "2022-12-21T14:35:02.860Z"
   },
   {
    "duration": 667,
    "start_time": "2022-12-21T14:37:34.076Z"
   },
   {
    "duration": 17,
    "start_time": "2022-12-21T14:37:34.745Z"
   },
   {
    "duration": 1906,
    "start_time": "2022-12-21T14:37:34.763Z"
   },
   {
    "duration": 5,
    "start_time": "2022-12-21T14:37:36.671Z"
   },
   {
    "duration": 12,
    "start_time": "2022-12-21T14:37:36.679Z"
   },
   {
    "duration": 5,
    "start_time": "2022-12-21T14:37:36.693Z"
   },
   {
    "duration": 6,
    "start_time": "2022-12-21T14:37:36.699Z"
   },
   {
    "duration": 1115,
    "start_time": "2022-12-21T14:37:36.707Z"
   },
   {
    "duration": 8,
    "start_time": "2022-12-21T14:37:37.824Z"
   },
   {
    "duration": 5,
    "start_time": "2022-12-21T14:37:37.833Z"
   },
   {
    "duration": 7,
    "start_time": "2022-12-21T14:37:37.840Z"
   },
   {
    "duration": 5,
    "start_time": "2022-12-21T14:37:37.849Z"
   },
   {
    "duration": 1066,
    "start_time": "2022-12-21T14:37:37.856Z"
   },
   {
    "duration": 1085,
    "start_time": "2022-12-21T14:37:38.925Z"
   },
   {
    "duration": 1068,
    "start_time": "2022-12-21T14:37:40.012Z"
   },
   {
    "duration": 1073,
    "start_time": "2022-12-21T14:37:41.082Z"
   },
   {
    "duration": 1044,
    "start_time": "2022-12-21T14:37:42.156Z"
   },
   {
    "duration": 1040,
    "start_time": "2022-12-21T14:37:43.202Z"
   },
   {
    "duration": 1077,
    "start_time": "2022-12-21T14:37:44.244Z"
   },
   {
    "duration": 10,
    "start_time": "2022-12-21T14:37:45.323Z"
   },
   {
    "duration": 13,
    "start_time": "2022-12-21T14:37:45.335Z"
   },
   {
    "duration": 6,
    "start_time": "2022-12-21T14:37:45.350Z"
   },
   {
    "duration": 116,
    "start_time": "2022-12-21T14:37:45.358Z"
   },
   {
    "duration": 7,
    "start_time": "2022-12-21T14:37:45.476Z"
   },
   {
    "duration": 10,
    "start_time": "2022-12-21T14:37:45.485Z"
   },
   {
    "duration": 17,
    "start_time": "2022-12-21T14:37:45.496Z"
   },
   {
    "duration": 1185,
    "start_time": "2022-12-21T14:37:45.515Z"
   },
   {
    "duration": 1573,
    "start_time": "2022-12-21T14:37:46.701Z"
   },
   {
    "duration": 1002,
    "start_time": "2022-12-21T14:37:48.276Z"
   },
   {
    "duration": 2693,
    "start_time": "2022-12-21T14:37:49.279Z"
   },
   {
    "duration": 5,
    "start_time": "2022-12-21T14:37:51.974Z"
   },
   {
    "duration": 32,
    "start_time": "2022-12-21T14:37:51.981Z"
   },
   {
    "duration": 22,
    "start_time": "2022-12-21T14:37:52.014Z"
   },
   {
    "duration": 30,
    "start_time": "2022-12-21T14:37:52.037Z"
   },
   {
    "duration": 22,
    "start_time": "2022-12-21T14:37:52.069Z"
   },
   {
    "duration": 18,
    "start_time": "2022-12-21T14:37:52.093Z"
   },
   {
    "duration": 587,
    "start_time": "2022-12-21T14:37:52.113Z"
   },
   {
    "duration": 635,
    "start_time": "2022-12-21T14:37:52.702Z"
   },
   {
    "duration": 159,
    "start_time": "2022-12-21T14:37:53.339Z"
   },
   {
    "duration": 162,
    "start_time": "2022-12-21T14:37:53.500Z"
   },
   {
    "duration": 281,
    "start_time": "2022-12-21T14:37:53.666Z"
   },
   {
    "duration": 121,
    "start_time": "2022-12-21T14:37:53.949Z"
   },
   {
    "duration": 977,
    "start_time": "2022-12-21T14:37:54.072Z"
   },
   {
    "duration": 250,
    "start_time": "2022-12-21T14:37:55.051Z"
   },
   {
    "duration": 173,
    "start_time": "2022-12-21T14:37:55.302Z"
   },
   {
    "duration": 6,
    "start_time": "2022-12-21T14:37:55.476Z"
   },
   {
    "duration": 167,
    "start_time": "2022-12-21T14:37:55.484Z"
   },
   {
    "duration": 401,
    "start_time": "2022-12-21T14:37:55.653Z"
   },
   {
    "duration": 16,
    "start_time": "2022-12-21T14:37:56.056Z"
   },
   {
    "duration": 199,
    "start_time": "2022-12-21T14:37:56.073Z"
   },
   {
    "duration": 228,
    "start_time": "2022-12-21T14:37:56.273Z"
   },
   {
    "duration": 189,
    "start_time": "2022-12-21T14:37:56.502Z"
   },
   {
    "duration": 2,
    "start_time": "2022-12-21T14:37:56.692Z"
   },
   {
    "duration": 44,
    "start_time": "2022-12-21T14:38:47.959Z"
   },
   {
    "duration": 713,
    "start_time": "2022-12-21T14:38:55.917Z"
   },
   {
    "duration": 16,
    "start_time": "2022-12-21T14:38:56.632Z"
   },
   {
    "duration": 1820,
    "start_time": "2022-12-21T14:38:56.649Z"
   },
   {
    "duration": 5,
    "start_time": "2022-12-21T14:38:58.471Z"
   },
   {
    "duration": 15,
    "start_time": "2022-12-21T14:38:58.478Z"
   },
   {
    "duration": 8,
    "start_time": "2022-12-21T14:38:58.495Z"
   },
   {
    "duration": 17,
    "start_time": "2022-12-21T14:38:58.504Z"
   },
   {
    "duration": 1093,
    "start_time": "2022-12-21T14:38:58.523Z"
   },
   {
    "duration": 8,
    "start_time": "2022-12-21T14:38:59.618Z"
   },
   {
    "duration": 12,
    "start_time": "2022-12-21T14:38:59.628Z"
   },
   {
    "duration": 13,
    "start_time": "2022-12-21T14:38:59.641Z"
   },
   {
    "duration": 18,
    "start_time": "2022-12-21T14:38:59.656Z"
   },
   {
    "duration": 1083,
    "start_time": "2022-12-21T14:38:59.676Z"
   },
   {
    "duration": 1116,
    "start_time": "2022-12-21T14:39:00.761Z"
   },
   {
    "duration": 1081,
    "start_time": "2022-12-21T14:39:01.878Z"
   },
   {
    "duration": 1095,
    "start_time": "2022-12-21T14:39:02.961Z"
   },
   {
    "duration": 1094,
    "start_time": "2022-12-21T14:39:04.057Z"
   },
   {
    "duration": 1147,
    "start_time": "2022-12-21T14:39:05.153Z"
   },
   {
    "duration": 1111,
    "start_time": "2022-12-21T14:39:06.302Z"
   },
   {
    "duration": 14,
    "start_time": "2022-12-21T14:39:07.414Z"
   },
   {
    "duration": 10,
    "start_time": "2022-12-21T14:39:07.429Z"
   },
   {
    "duration": 7,
    "start_time": "2022-12-21T14:39:07.441Z"
   },
   {
    "duration": 101,
    "start_time": "2022-12-21T14:39:07.449Z"
   },
   {
    "duration": 6,
    "start_time": "2022-12-21T14:39:07.552Z"
   },
   {
    "duration": 12,
    "start_time": "2022-12-21T14:39:07.559Z"
   },
   {
    "duration": 19,
    "start_time": "2022-12-21T14:39:07.572Z"
   },
   {
    "duration": 1173,
    "start_time": "2022-12-21T14:39:07.593Z"
   },
   {
    "duration": 1579,
    "start_time": "2022-12-21T14:39:08.769Z"
   },
   {
    "duration": 1072,
    "start_time": "2022-12-21T14:39:10.349Z"
   },
   {
    "duration": 2882,
    "start_time": "2022-12-21T14:39:11.422Z"
   },
   {
    "duration": 6,
    "start_time": "2022-12-21T14:39:14.305Z"
   },
   {
    "duration": 16,
    "start_time": "2022-12-21T14:39:14.312Z"
   },
   {
    "duration": 7,
    "start_time": "2022-12-21T14:39:14.329Z"
   },
   {
    "duration": 7,
    "start_time": "2022-12-21T14:39:14.338Z"
   },
   {
    "duration": 10,
    "start_time": "2022-12-21T14:39:14.346Z"
   },
   {
    "duration": 6,
    "start_time": "2022-12-21T14:39:14.358Z"
   },
   {
    "duration": 645,
    "start_time": "2022-12-21T14:39:14.366Z"
   },
   {
    "duration": 750,
    "start_time": "2022-12-21T14:39:15.012Z"
   },
   {
    "duration": 175,
    "start_time": "2022-12-21T14:39:15.764Z"
   },
   {
    "duration": 159,
    "start_time": "2022-12-21T14:39:15.941Z"
   },
   {
    "duration": 284,
    "start_time": "2022-12-21T14:39:16.102Z"
   },
   {
    "duration": 117,
    "start_time": "2022-12-21T14:39:16.387Z"
   },
   {
    "duration": 962,
    "start_time": "2022-12-21T14:39:16.505Z"
   },
   {
    "duration": 280,
    "start_time": "2022-12-21T14:39:17.468Z"
   },
   {
    "duration": 171,
    "start_time": "2022-12-21T14:39:17.749Z"
   },
   {
    "duration": 5,
    "start_time": "2022-12-21T14:39:17.925Z"
   },
   {
    "duration": 130,
    "start_time": "2022-12-21T14:39:17.932Z"
   },
   {
    "duration": 352,
    "start_time": "2022-12-21T14:39:18.063Z"
   },
   {
    "duration": 20,
    "start_time": "2022-12-21T14:39:18.417Z"
   },
   {
    "duration": 221,
    "start_time": "2022-12-21T14:39:18.438Z"
   },
   {
    "duration": 204,
    "start_time": "2022-12-21T14:39:18.661Z"
   },
   {
    "duration": 200,
    "start_time": "2022-12-21T14:39:18.866Z"
   },
   {
    "duration": 2,
    "start_time": "2022-12-21T14:39:19.068Z"
   },
   {
    "duration": 41,
    "start_time": "2022-12-21T14:48:41.529Z"
   },
   {
    "duration": 9,
    "start_time": "2022-12-21T14:48:43.065Z"
   },
   {
    "duration": 8,
    "start_time": "2022-12-21T14:48:51.355Z"
   },
   {
    "duration": 9,
    "start_time": "2022-12-21T14:49:00.201Z"
   },
   {
    "duration": 8,
    "start_time": "2022-12-21T14:50:31.504Z"
   },
   {
    "duration": 6,
    "start_time": "2022-12-21T14:53:34.613Z"
   },
   {
    "duration": 8,
    "start_time": "2022-12-21T14:53:52.305Z"
   },
   {
    "duration": 12,
    "start_time": "2022-12-21T14:54:16.329Z"
   },
   {
    "duration": 12,
    "start_time": "2022-12-21T14:54:20.613Z"
   },
   {
    "duration": 12,
    "start_time": "2022-12-21T14:55:07.965Z"
   },
   {
    "duration": 1135,
    "start_time": "2022-12-21T14:56:10.286Z"
   },
   {
    "duration": 16,
    "start_time": "2022-12-21T14:56:32.468Z"
   },
   {
    "duration": 1117,
    "start_time": "2022-12-21T14:56:41.196Z"
   },
   {
    "duration": 259,
    "start_time": "2022-12-21T14:57:57.109Z"
   },
   {
    "duration": 1157,
    "start_time": "2022-12-21T14:58:19.854Z"
   },
   {
    "duration": 27,
    "start_time": "2022-12-21T14:58:26.163Z"
   },
   {
    "duration": 28,
    "start_time": "2022-12-21T14:58:35.751Z"
   },
   {
    "duration": 31,
    "start_time": "2022-12-21T14:58:54.220Z"
   },
   {
    "duration": 31,
    "start_time": "2022-12-21T14:58:58.021Z"
   },
   {
    "duration": 8,
    "start_time": "2022-12-21T15:00:00.376Z"
   },
   {
    "duration": 8,
    "start_time": "2022-12-21T15:04:02.157Z"
   },
   {
    "duration": 6,
    "start_time": "2022-12-21T15:04:15.118Z"
   },
   {
    "duration": 15,
    "start_time": "2022-12-21T15:10:01.166Z"
   },
   {
    "duration": 14,
    "start_time": "2022-12-21T15:10:29.404Z"
   },
   {
    "duration": 17,
    "start_time": "2022-12-21T15:10:41.712Z"
   },
   {
    "duration": 22,
    "start_time": "2022-12-21T15:10:51.413Z"
   },
   {
    "duration": 25,
    "start_time": "2022-12-21T15:11:09.613Z"
   },
   {
    "duration": 4,
    "start_time": "2022-12-21T15:11:33.274Z"
   },
   {
    "duration": 16,
    "start_time": "2022-12-21T15:11:36.407Z"
   },
   {
    "duration": 76,
    "start_time": "2022-12-21T15:11:57.044Z"
   },
   {
    "duration": 20,
    "start_time": "2022-12-21T15:12:02.626Z"
   },
   {
    "duration": 60,
    "start_time": "2022-12-21T15:12:18.923Z"
   },
   {
    "duration": 87,
    "start_time": "2022-12-21T15:13:03.208Z"
   },
   {
    "duration": 122,
    "start_time": "2022-12-21T15:13:18.845Z"
   },
   {
    "duration": 81,
    "start_time": "2022-12-21T15:16:14.921Z"
   },
   {
    "duration": 77,
    "start_time": "2022-12-21T15:16:22.388Z"
   },
   {
    "duration": 71,
    "start_time": "2022-12-21T15:17:08.563Z"
   },
   {
    "duration": 81,
    "start_time": "2022-12-21T15:19:00.114Z"
   },
   {
    "duration": 68,
    "start_time": "2022-12-21T15:19:15.544Z"
   },
   {
    "duration": 74,
    "start_time": "2022-12-21T15:19:58.217Z"
   },
   {
    "duration": 20,
    "start_time": "2022-12-21T15:20:10.402Z"
   },
   {
    "duration": 20,
    "start_time": "2022-12-21T15:20:27.401Z"
   },
   {
    "duration": 73,
    "start_time": "2022-12-21T15:20:39.355Z"
   },
   {
    "duration": 72,
    "start_time": "2022-12-21T15:21:03.349Z"
   },
   {
    "duration": 74,
    "start_time": "2022-12-21T15:23:11.855Z"
   },
   {
    "duration": 69,
    "start_time": "2022-12-21T15:23:26.438Z"
   },
   {
    "duration": 5,
    "start_time": "2022-12-21T15:24:29.750Z"
   },
   {
    "duration": 75,
    "start_time": "2022-12-21T15:24:38.604Z"
   },
   {
    "duration": 105,
    "start_time": "2022-12-21T15:25:31.478Z"
   },
   {
    "duration": 99,
    "start_time": "2022-12-21T15:25:45.499Z"
   },
   {
    "duration": 38,
    "start_time": "2022-12-21T15:26:39.931Z"
   },
   {
    "duration": 763,
    "start_time": "2022-12-21T15:28:25.841Z"
   },
   {
    "duration": 23,
    "start_time": "2022-12-21T15:28:26.607Z"
   },
   {
    "duration": 1849,
    "start_time": "2022-12-21T15:28:26.631Z"
   },
   {
    "duration": 7,
    "start_time": "2022-12-21T15:28:28.482Z"
   },
   {
    "duration": 13,
    "start_time": "2022-12-21T15:28:28.493Z"
   },
   {
    "duration": 6,
    "start_time": "2022-12-21T15:28:28.508Z"
   },
   {
    "duration": 13,
    "start_time": "2022-12-21T15:28:28.516Z"
   },
   {
    "duration": 1191,
    "start_time": "2022-12-21T15:28:28.531Z"
   },
   {
    "duration": 8,
    "start_time": "2022-12-21T15:28:29.725Z"
   },
   {
    "duration": 6,
    "start_time": "2022-12-21T15:28:29.734Z"
   },
   {
    "duration": 11,
    "start_time": "2022-12-21T15:28:29.741Z"
   },
   {
    "duration": 4,
    "start_time": "2022-12-21T15:28:29.753Z"
   },
   {
    "duration": 1169,
    "start_time": "2022-12-21T15:28:29.758Z"
   },
   {
    "duration": 1188,
    "start_time": "2022-12-21T15:28:30.931Z"
   },
   {
    "duration": 1119,
    "start_time": "2022-12-21T15:28:32.120Z"
   },
   {
    "duration": 1131,
    "start_time": "2022-12-21T15:28:33.241Z"
   },
   {
    "duration": 1131,
    "start_time": "2022-12-21T15:28:34.374Z"
   },
   {
    "duration": 1188,
    "start_time": "2022-12-21T15:28:35.507Z"
   },
   {
    "duration": 1160,
    "start_time": "2022-12-21T15:28:36.696Z"
   },
   {
    "duration": 12,
    "start_time": "2022-12-21T15:28:37.859Z"
   },
   {
    "duration": 11,
    "start_time": "2022-12-21T15:28:37.873Z"
   },
   {
    "duration": 7,
    "start_time": "2022-12-21T15:28:37.885Z"
   },
   {
    "duration": 112,
    "start_time": "2022-12-21T15:28:37.894Z"
   },
   {
    "duration": 6,
    "start_time": "2022-12-21T15:28:38.008Z"
   },
   {
    "duration": 12,
    "start_time": "2022-12-21T15:28:38.015Z"
   },
   {
    "duration": 12,
    "start_time": "2022-12-21T15:28:38.029Z"
   },
   {
    "duration": 1131,
    "start_time": "2022-12-21T15:28:38.043Z"
   },
   {
    "duration": 1655,
    "start_time": "2022-12-21T15:28:39.175Z"
   },
   {
    "duration": 1087,
    "start_time": "2022-12-21T15:28:40.832Z"
   },
   {
    "duration": 2762,
    "start_time": "2022-12-21T15:28:41.920Z"
   },
   {
    "duration": 6,
    "start_time": "2022-12-21T15:28:44.684Z"
   },
   {
    "duration": 13,
    "start_time": "2022-12-21T15:28:44.692Z"
   },
   {
    "duration": 20,
    "start_time": "2022-12-21T15:28:44.707Z"
   },
   {
    "duration": 8,
    "start_time": "2022-12-21T15:28:44.729Z"
   },
   {
    "duration": 11,
    "start_time": "2022-12-21T15:28:44.739Z"
   },
   {
    "duration": 7,
    "start_time": "2022-12-21T15:28:44.752Z"
   },
   {
    "duration": 645,
    "start_time": "2022-12-21T15:28:44.761Z"
   },
   {
    "duration": 760,
    "start_time": "2022-12-21T15:28:45.408Z"
   },
   {
    "duration": 167,
    "start_time": "2022-12-21T15:28:46.170Z"
   },
   {
    "duration": 156,
    "start_time": "2022-12-21T15:28:46.339Z"
   },
   {
    "duration": 294,
    "start_time": "2022-12-21T15:28:46.499Z"
   },
   {
    "duration": 121,
    "start_time": "2022-12-21T15:28:46.795Z"
   },
   {
    "duration": 1008,
    "start_time": "2022-12-21T15:28:46.926Z"
   },
   {
    "duration": 276,
    "start_time": "2022-12-21T15:28:47.935Z"
   },
   {
    "duration": 175,
    "start_time": "2022-12-21T15:28:48.213Z"
   },
   {
    "duration": 5,
    "start_time": "2022-12-21T15:28:48.390Z"
   },
   {
    "duration": 138,
    "start_time": "2022-12-21T15:28:48.396Z"
   },
   {
    "duration": 368,
    "start_time": "2022-12-21T15:28:48.536Z"
   },
   {
    "duration": 26,
    "start_time": "2022-12-21T15:28:48.906Z"
   },
   {
    "duration": 223,
    "start_time": "2022-12-21T15:28:48.934Z"
   },
   {
    "duration": 210,
    "start_time": "2022-12-21T15:28:49.159Z"
   },
   {
    "duration": 212,
    "start_time": "2022-12-21T15:28:49.370Z"
   },
   {
    "duration": 2,
    "start_time": "2022-12-21T15:28:49.584Z"
   },
   {
    "duration": 28,
    "start_time": "2022-12-21T15:28:49.587Z"
   },
   {
    "duration": 46,
    "start_time": "2022-12-21T15:28:49.616Z"
   },
   {
    "duration": 36,
    "start_time": "2022-12-21T15:28:49.663Z"
   },
   {
    "duration": 86,
    "start_time": "2022-12-21T15:28:49.701Z"
   },
   {
    "duration": 64,
    "start_time": "2022-12-21T15:29:26.755Z"
   },
   {
    "duration": 71,
    "start_time": "2022-12-21T15:29:56.140Z"
   },
   {
    "duration": 45,
    "start_time": "2022-12-21T15:33:11.893Z"
   },
   {
    "duration": 51,
    "start_time": "2022-12-21T15:33:57.255Z"
   },
   {
    "duration": 43,
    "start_time": "2022-12-21T15:34:35.363Z"
   },
   {
    "duration": 41,
    "start_time": "2022-12-21T15:34:47.865Z"
   },
   {
    "duration": 52,
    "start_time": "2022-12-21T15:35:48.745Z"
   },
   {
    "duration": 49,
    "start_time": "2022-12-21T15:36:57.969Z"
   },
   {
    "duration": 55,
    "start_time": "2022-12-21T15:37:24.369Z"
   },
   {
    "duration": 97,
    "start_time": "2022-12-21T15:37:36.811Z"
   },
   {
    "duration": 50,
    "start_time": "2022-12-21T15:37:40.718Z"
   },
   {
    "duration": 63,
    "start_time": "2022-12-21T15:38:16.126Z"
   },
   {
    "duration": 139,
    "start_time": "2022-12-21T15:39:59.314Z"
   },
   {
    "duration": 116,
    "start_time": "2022-12-21T15:40:19.144Z"
   },
   {
    "duration": 51,
    "start_time": "2022-12-21T15:41:24.373Z"
   },
   {
    "duration": 7,
    "start_time": "2022-12-21T15:44:28.643Z"
   },
   {
    "duration": 17,
    "start_time": "2022-12-21T15:44:46.140Z"
   },
   {
    "duration": 9,
    "start_time": "2022-12-21T15:45:22.201Z"
   },
   {
    "duration": 13,
    "start_time": "2022-12-21T15:45:50.217Z"
   },
   {
    "duration": 17,
    "start_time": "2022-12-21T15:47:23.533Z"
   },
   {
    "duration": 12,
    "start_time": "2022-12-21T15:47:31.145Z"
   },
   {
    "duration": 8,
    "start_time": "2022-12-21T15:48:21.475Z"
   },
   {
    "duration": 118,
    "start_time": "2022-12-21T15:48:37.291Z"
   },
   {
    "duration": 134,
    "start_time": "2022-12-21T15:49:03.641Z"
   },
   {
    "duration": 7,
    "start_time": "2022-12-21T15:51:01.406Z"
   },
   {
    "duration": 4,
    "start_time": "2022-12-21T15:51:07.753Z"
   },
   {
    "duration": 2,
    "start_time": "2022-12-21T15:51:50.114Z"
   },
   {
    "duration": 127,
    "start_time": "2022-12-21T15:51:57.186Z"
   },
   {
    "duration": 135,
    "start_time": "2022-12-21T15:52:02.359Z"
   },
   {
    "duration": 10,
    "start_time": "2022-12-21T15:52:04.778Z"
   },
   {
    "duration": 145,
    "start_time": "2022-12-21T15:52:15.733Z"
   },
   {
    "duration": 50,
    "start_time": "2022-12-22T10:49:07.253Z"
   },
   {
    "duration": 1444,
    "start_time": "2022-12-22T10:49:12.758Z"
   },
   {
    "duration": 2145,
    "start_time": "2022-12-22T10:49:16.844Z"
   },
   {
    "duration": 800,
    "start_time": "2022-12-22T10:49:39.071Z"
   },
   {
    "duration": 31,
    "start_time": "2022-12-22T10:49:39.874Z"
   },
   {
    "duration": 2087,
    "start_time": "2022-12-22T10:49:39.907Z"
   },
   {
    "duration": 6,
    "start_time": "2022-12-22T10:49:41.995Z"
   },
   {
    "duration": 12,
    "start_time": "2022-12-22T10:49:42.003Z"
   },
   {
    "duration": 6,
    "start_time": "2022-12-22T10:49:42.016Z"
   },
   {
    "duration": 7,
    "start_time": "2022-12-22T10:49:42.023Z"
   },
   {
    "duration": 1267,
    "start_time": "2022-12-22T10:49:42.032Z"
   },
   {
    "duration": 8,
    "start_time": "2022-12-22T10:49:43.301Z"
   },
   {
    "duration": 6,
    "start_time": "2022-12-22T10:49:43.311Z"
   },
   {
    "duration": 13,
    "start_time": "2022-12-22T10:49:43.319Z"
   },
   {
    "duration": 4,
    "start_time": "2022-12-22T10:49:43.334Z"
   },
   {
    "duration": 1238,
    "start_time": "2022-12-22T10:49:43.339Z"
   },
   {
    "duration": 1234,
    "start_time": "2022-12-22T10:49:44.580Z"
   },
   {
    "duration": 1334,
    "start_time": "2022-12-22T10:49:45.816Z"
   },
   {
    "duration": 1194,
    "start_time": "2022-12-22T10:49:47.151Z"
   },
   {
    "duration": 1255,
    "start_time": "2022-12-22T10:49:48.347Z"
   },
   {
    "duration": 1212,
    "start_time": "2022-12-22T10:49:49.604Z"
   },
   {
    "duration": 1225,
    "start_time": "2022-12-22T10:49:50.818Z"
   },
   {
    "duration": 12,
    "start_time": "2022-12-22T10:49:52.045Z"
   },
   {
    "duration": 46,
    "start_time": "2022-12-22T10:49:52.059Z"
   },
   {
    "duration": 25,
    "start_time": "2022-12-22T10:49:52.106Z"
   },
   {
    "duration": 107,
    "start_time": "2022-12-22T10:49:52.133Z"
   },
   {
    "duration": 6,
    "start_time": "2022-12-22T10:49:52.242Z"
   },
   {
    "duration": 8,
    "start_time": "2022-12-22T10:49:52.250Z"
   },
   {
    "duration": 19,
    "start_time": "2022-12-22T10:49:52.259Z"
   },
   {
    "duration": 1269,
    "start_time": "2022-12-22T10:49:52.279Z"
   },
   {
    "duration": 1748,
    "start_time": "2022-12-22T10:49:53.549Z"
   },
   {
    "duration": 1272,
    "start_time": "2022-12-22T10:49:55.299Z"
   },
   {
    "duration": 3151,
    "start_time": "2022-12-22T10:49:56.574Z"
   },
   {
    "duration": 7,
    "start_time": "2022-12-22T10:49:59.727Z"
   },
   {
    "duration": 12,
    "start_time": "2022-12-22T10:49:59.736Z"
   },
   {
    "duration": 12,
    "start_time": "2022-12-22T10:49:59.750Z"
   },
   {
    "duration": 33,
    "start_time": "2022-12-22T10:49:59.764Z"
   },
   {
    "duration": 10,
    "start_time": "2022-12-22T10:49:59.799Z"
   },
   {
    "duration": 21,
    "start_time": "2022-12-22T10:49:59.811Z"
   },
   {
    "duration": 733,
    "start_time": "2022-12-22T10:49:59.834Z"
   },
   {
    "duration": 782,
    "start_time": "2022-12-22T10:50:00.569Z"
   },
   {
    "duration": 211,
    "start_time": "2022-12-22T10:50:01.353Z"
   },
   {
    "duration": 196,
    "start_time": "2022-12-22T10:50:01.566Z"
   },
   {
    "duration": 356,
    "start_time": "2022-12-22T10:50:01.767Z"
   },
   {
    "duration": 148,
    "start_time": "2022-12-22T10:50:02.125Z"
   },
   {
    "duration": 1195,
    "start_time": "2022-12-22T10:50:02.275Z"
   },
   {
    "duration": 304,
    "start_time": "2022-12-22T10:50:03.472Z"
   },
   {
    "duration": 192,
    "start_time": "2022-12-22T10:50:03.778Z"
   },
   {
    "duration": 6,
    "start_time": "2022-12-22T10:50:03.972Z"
   },
   {
    "duration": 160,
    "start_time": "2022-12-22T10:50:03.980Z"
   },
   {
    "duration": 404,
    "start_time": "2022-12-22T10:50:04.141Z"
   },
   {
    "duration": 18,
    "start_time": "2022-12-22T10:50:04.547Z"
   },
   {
    "duration": 239,
    "start_time": "2022-12-22T10:50:04.567Z"
   },
   {
    "duration": 240,
    "start_time": "2022-12-22T10:50:04.808Z"
   },
   {
    "duration": 253,
    "start_time": "2022-12-22T10:50:05.050Z"
   },
   {
    "duration": 3,
    "start_time": "2022-12-22T10:50:05.306Z"
   },
   {
    "duration": 12,
    "start_time": "2022-12-22T10:50:05.311Z"
   },
   {
    "duration": 29,
    "start_time": "2022-12-22T10:50:05.325Z"
   },
   {
    "duration": 8,
    "start_time": "2022-12-22T10:50:05.355Z"
   },
   {
    "duration": 191,
    "start_time": "2022-12-22T10:50:05.365Z"
   },
   {
    "duration": 2,
    "start_time": "2022-12-22T10:50:05.558Z"
   },
   {
    "duration": 205,
    "start_time": "2022-12-22T10:50:16.681Z"
   },
   {
    "duration": 518,
    "start_time": "2022-12-22T10:50:38.842Z"
   },
   {
    "duration": 196,
    "start_time": "2022-12-22T10:50:49.149Z"
   },
   {
    "duration": 163,
    "start_time": "2022-12-22T10:50:58.039Z"
   },
   {
    "duration": 136,
    "start_time": "2022-12-22T10:51:08.166Z"
   },
   {
    "duration": 289,
    "start_time": "2022-12-22T10:51:17.510Z"
   },
   {
    "duration": 189,
    "start_time": "2022-12-22T10:51:20.821Z"
   },
   {
    "duration": 440,
    "start_time": "2022-12-22T10:51:32.058Z"
   },
   {
    "duration": 227,
    "start_time": "2022-12-22T10:51:45.074Z"
   },
   {
    "duration": 217,
    "start_time": "2022-12-22T10:51:48.335Z"
   },
   {
    "duration": 219,
    "start_time": "2022-12-22T10:51:52.141Z"
   },
   {
    "duration": 152,
    "start_time": "2022-12-22T10:52:02.683Z"
   },
   {
    "duration": 123,
    "start_time": "2022-12-22T10:54:37.677Z"
   },
   {
    "duration": 325,
    "start_time": "2022-12-22T10:54:48.708Z"
   },
   {
    "duration": 1340,
    "start_time": "2022-12-22T10:54:59.495Z"
   },
   {
    "duration": 942,
    "start_time": "2022-12-22T10:55:20.758Z"
   },
   {
    "duration": 133,
    "start_time": "2022-12-22T10:55:50.603Z"
   },
   {
    "duration": 15,
    "start_time": "2022-12-22T10:56:17.187Z"
   },
   {
    "duration": 5,
    "start_time": "2022-12-22T11:13:01.130Z"
   },
   {
    "duration": 10,
    "start_time": "2022-12-22T11:13:35.159Z"
   },
   {
    "duration": 12,
    "start_time": "2022-12-22T11:22:15.072Z"
   },
   {
    "duration": 1553,
    "start_time": "2022-12-22T11:26:14.743Z"
   },
   {
    "duration": 1382,
    "start_time": "2022-12-22T11:26:24.224Z"
   },
   {
    "duration": 1372,
    "start_time": "2022-12-22T11:27:30.987Z"
   },
   {
    "duration": 9,
    "start_time": "2022-12-22T11:28:23.311Z"
   },
   {
    "duration": 58,
    "start_time": "2022-12-22T11:31:53.719Z"
   },
   {
    "duration": 48,
    "start_time": "2022-12-22T11:32:54.014Z"
   },
   {
    "duration": 8,
    "start_time": "2022-12-22T11:41:08.819Z"
   },
   {
    "duration": 54,
    "start_time": "2022-12-22T11:41:34.648Z"
   },
   {
    "duration": 3820,
    "start_time": "2022-12-22T11:42:19.782Z"
   },
   {
    "duration": 11,
    "start_time": "2022-12-22T11:42:36.319Z"
   },
   {
    "duration": 9,
    "start_time": "2022-12-22T11:42:41.336Z"
   },
   {
    "duration": 593,
    "start_time": "2022-12-22T11:43:04.904Z"
   },
   {
    "duration": 19,
    "start_time": "2022-12-22T11:43:05.503Z"
   },
   {
    "duration": 2379,
    "start_time": "2022-12-22T11:43:05.523Z"
   },
   {
    "duration": 14,
    "start_time": "2022-12-22T11:43:07.905Z"
   },
   {
    "duration": 18,
    "start_time": "2022-12-22T11:43:07.922Z"
   },
   {
    "duration": 9,
    "start_time": "2022-12-22T11:43:07.942Z"
   },
   {
    "duration": 16,
    "start_time": "2022-12-22T11:43:07.953Z"
   },
   {
    "duration": 1304,
    "start_time": "2022-12-22T11:43:07.970Z"
   },
   {
    "duration": 6,
    "start_time": "2022-12-22T11:43:09.276Z"
   },
   {
    "duration": 16,
    "start_time": "2022-12-22T11:43:09.285Z"
   },
   {
    "duration": 16,
    "start_time": "2022-12-22T11:43:09.303Z"
   },
   {
    "duration": 5,
    "start_time": "2022-12-22T11:43:09.321Z"
   },
   {
    "duration": 1292,
    "start_time": "2022-12-22T11:43:09.328Z"
   },
   {
    "duration": 1223,
    "start_time": "2022-12-22T11:43:10.621Z"
   },
   {
    "duration": 1326,
    "start_time": "2022-12-22T11:43:11.846Z"
   },
   {
    "duration": 1271,
    "start_time": "2022-12-22T11:43:13.173Z"
   },
   {
    "duration": 1293,
    "start_time": "2022-12-22T11:43:14.446Z"
   },
   {
    "duration": 1348,
    "start_time": "2022-12-22T11:43:15.741Z"
   },
   {
    "duration": 60,
    "start_time": "2022-12-22T11:43:17.091Z"
   },
   {
    "duration": 3857,
    "start_time": "2022-12-22T11:43:17.153Z"
   },
   {
    "duration": 13,
    "start_time": "2022-12-22T11:43:21.012Z"
   },
   {
    "duration": 17,
    "start_time": "2022-12-22T11:43:21.027Z"
   },
   {
    "duration": 6,
    "start_time": "2022-12-22T11:43:21.047Z"
   },
   {
    "duration": 126,
    "start_time": "2022-12-22T11:43:21.055Z"
   },
   {
    "duration": 14,
    "start_time": "2022-12-22T11:43:21.183Z"
   },
   {
    "duration": 3,
    "start_time": "2022-12-22T11:43:21.199Z"
   },
   {
    "duration": 18,
    "start_time": "2022-12-22T11:43:21.205Z"
   },
   {
    "duration": 1368,
    "start_time": "2022-12-22T11:43:21.229Z"
   },
   {
    "duration": 1814,
    "start_time": "2022-12-22T11:43:22.599Z"
   },
   {
    "duration": 1185,
    "start_time": "2022-12-22T11:43:24.415Z"
   },
   {
    "duration": 3103,
    "start_time": "2022-12-22T11:43:25.602Z"
   },
   {
    "duration": 8,
    "start_time": "2022-12-22T11:43:28.706Z"
   },
   {
    "duration": 11,
    "start_time": "2022-12-22T11:43:28.716Z"
   },
   {
    "duration": 9,
    "start_time": "2022-12-22T11:43:28.730Z"
   },
   {
    "duration": 9,
    "start_time": "2022-12-22T11:43:28.740Z"
   },
   {
    "duration": 50,
    "start_time": "2022-12-22T11:43:28.751Z"
   },
   {
    "duration": 9,
    "start_time": "2022-12-22T11:43:28.803Z"
   },
   {
    "duration": 729,
    "start_time": "2022-12-22T11:43:28.814Z"
   },
   {
    "duration": 810,
    "start_time": "2022-12-22T11:43:29.545Z"
   },
   {
    "duration": 189,
    "start_time": "2022-12-22T11:43:30.357Z"
   },
   {
    "duration": 183,
    "start_time": "2022-12-22T11:43:30.548Z"
   },
   {
    "duration": 351,
    "start_time": "2022-12-22T11:43:30.733Z"
   },
   {
    "duration": 142,
    "start_time": "2022-12-22T11:43:31.087Z"
   },
   {
    "duration": 1185,
    "start_time": "2022-12-22T11:43:31.232Z"
   },
   {
    "duration": 79,
    "start_time": "2022-12-22T11:43:32.419Z"
   },
   {
    "duration": 0,
    "start_time": "2022-12-22T11:43:32.501Z"
   },
   {
    "duration": 0,
    "start_time": "2022-12-22T11:43:32.503Z"
   },
   {
    "duration": 0,
    "start_time": "2022-12-22T11:43:32.504Z"
   },
   {
    "duration": 0,
    "start_time": "2022-12-22T11:43:32.505Z"
   },
   {
    "duration": 0,
    "start_time": "2022-12-22T11:43:32.507Z"
   },
   {
    "duration": 0,
    "start_time": "2022-12-22T11:43:32.508Z"
   },
   {
    "duration": 0,
    "start_time": "2022-12-22T11:43:32.510Z"
   },
   {
    "duration": 0,
    "start_time": "2022-12-22T11:43:32.511Z"
   },
   {
    "duration": 0,
    "start_time": "2022-12-22T11:43:32.514Z"
   },
   {
    "duration": 0,
    "start_time": "2022-12-22T11:43:32.515Z"
   },
   {
    "duration": 0,
    "start_time": "2022-12-22T11:43:32.517Z"
   },
   {
    "duration": 0,
    "start_time": "2022-12-22T11:43:32.518Z"
   },
   {
    "duration": 0,
    "start_time": "2022-12-22T11:43:32.519Z"
   },
   {
    "duration": 0,
    "start_time": "2022-12-22T11:43:32.521Z"
   },
   {
    "duration": 3868,
    "start_time": "2022-12-22T11:43:47.761Z"
   },
   {
    "duration": 3930,
    "start_time": "2022-12-22T11:44:03.197Z"
   },
   {
    "duration": 3913,
    "start_time": "2022-12-22T11:44:14.006Z"
   },
   {
    "duration": 3945,
    "start_time": "2022-12-22T11:44:25.645Z"
   },
   {
    "duration": 3847,
    "start_time": "2022-12-22T11:44:41.438Z"
   },
   {
    "duration": 11,
    "start_time": "2022-12-22T11:44:47.419Z"
   },
   {
    "duration": 1124,
    "start_time": "2022-12-22T11:45:23.414Z"
   },
   {
    "duration": 13,
    "start_time": "2022-12-22T11:45:25.944Z"
   },
   {
    "duration": 9,
    "start_time": "2022-12-22T11:46:16.136Z"
   },
   {
    "duration": 14,
    "start_time": "2022-12-22T11:46:43.560Z"
   },
   {
    "duration": 10,
    "start_time": "2022-12-22T11:47:02.336Z"
   },
   {
    "duration": 1273,
    "start_time": "2022-12-22T11:50:22.841Z"
   },
   {
    "duration": 12,
    "start_time": "2022-12-22T11:50:26.380Z"
   },
   {
    "duration": 15,
    "start_time": "2022-12-22T11:52:30.047Z"
   },
   {
    "duration": 30,
    "start_time": "2022-12-22T11:52:39.156Z"
   },
   {
    "duration": 8,
    "start_time": "2022-12-22T11:54:59.369Z"
   },
   {
    "duration": 9,
    "start_time": "2022-12-22T11:55:08.374Z"
   },
   {
    "duration": 8,
    "start_time": "2022-12-22T11:55:21.313Z"
   },
   {
    "duration": 6,
    "start_time": "2022-12-22T11:55:33.321Z"
   },
   {
    "duration": 90,
    "start_time": "2022-12-22T11:59:12.496Z"
   },
   {
    "duration": 64,
    "start_time": "2022-12-24T11:01:30.018Z"
   },
   {
    "duration": 63,
    "start_time": "2022-12-24T11:01:32.303Z"
   },
   {
    "duration": 49,
    "start_time": "2022-12-24T11:03:47.328Z"
   },
   {
    "duration": 8,
    "start_time": "2022-12-24T11:04:54.675Z"
   },
   {
    "duration": 1054,
    "start_time": "2022-12-24T12:47:47.836Z"
   },
   {
    "duration": 14,
    "start_time": "2022-12-24T12:47:48.892Z"
   },
   {
    "duration": 2249,
    "start_time": "2022-12-24T12:47:48.907Z"
   },
   {
    "duration": 6,
    "start_time": "2022-12-24T12:47:51.158Z"
   },
   {
    "duration": 16,
    "start_time": "2022-12-24T12:47:51.165Z"
   },
   {
    "duration": 19,
    "start_time": "2022-12-24T12:47:51.183Z"
   },
   {
    "duration": 16,
    "start_time": "2022-12-24T12:47:51.203Z"
   },
   {
    "duration": 1232,
    "start_time": "2022-12-24T12:47:51.221Z"
   },
   {
    "duration": 6,
    "start_time": "2022-12-24T12:47:52.455Z"
   },
   {
    "duration": 20,
    "start_time": "2022-12-24T12:47:52.463Z"
   },
   {
    "duration": 10,
    "start_time": "2022-12-24T12:47:52.485Z"
   },
   {
    "duration": 11,
    "start_time": "2022-12-24T12:47:52.496Z"
   },
   {
    "duration": 5544,
    "start_time": "2022-12-24T12:47:52.509Z"
   },
   {
    "duration": 0,
    "start_time": "2022-12-24T12:47:58.055Z"
   },
   {
    "duration": 0,
    "start_time": "2022-12-24T12:47:58.056Z"
   },
   {
    "duration": 0,
    "start_time": "2022-12-24T12:47:58.058Z"
   },
   {
    "duration": 0,
    "start_time": "2022-12-24T12:47:58.059Z"
   },
   {
    "duration": 0,
    "start_time": "2022-12-24T12:47:58.060Z"
   },
   {
    "duration": 0,
    "start_time": "2022-12-24T12:47:58.062Z"
   },
   {
    "duration": 0,
    "start_time": "2022-12-24T12:47:58.063Z"
   },
   {
    "duration": 0,
    "start_time": "2022-12-24T12:47:58.064Z"
   },
   {
    "duration": 0,
    "start_time": "2022-12-24T12:47:58.065Z"
   },
   {
    "duration": 0,
    "start_time": "2022-12-24T12:47:58.067Z"
   },
   {
    "duration": 0,
    "start_time": "2022-12-24T12:47:58.067Z"
   },
   {
    "duration": 0,
    "start_time": "2022-12-24T12:47:58.068Z"
   },
   {
    "duration": 0,
    "start_time": "2022-12-24T12:47:58.070Z"
   },
   {
    "duration": 0,
    "start_time": "2022-12-24T12:47:58.071Z"
   },
   {
    "duration": 0,
    "start_time": "2022-12-24T12:47:58.072Z"
   },
   {
    "duration": 0,
    "start_time": "2022-12-24T12:47:58.074Z"
   },
   {
    "duration": 0,
    "start_time": "2022-12-24T12:47:58.075Z"
   },
   {
    "duration": 0,
    "start_time": "2022-12-24T12:47:58.076Z"
   },
   {
    "duration": 0,
    "start_time": "2022-12-24T12:47:58.077Z"
   },
   {
    "duration": 0,
    "start_time": "2022-12-24T12:47:58.078Z"
   },
   {
    "duration": 0,
    "start_time": "2022-12-24T12:47:58.079Z"
   },
   {
    "duration": 0,
    "start_time": "2022-12-24T12:47:58.080Z"
   },
   {
    "duration": 0,
    "start_time": "2022-12-24T12:47:58.081Z"
   },
   {
    "duration": 0,
    "start_time": "2022-12-24T12:47:58.081Z"
   },
   {
    "duration": 1,
    "start_time": "2022-12-24T12:47:58.082Z"
   },
   {
    "duration": 0,
    "start_time": "2022-12-24T12:47:58.084Z"
   },
   {
    "duration": 0,
    "start_time": "2022-12-24T12:47:58.085Z"
   },
   {
    "duration": 0,
    "start_time": "2022-12-24T12:47:58.086Z"
   },
   {
    "duration": 0,
    "start_time": "2022-12-24T12:47:58.087Z"
   },
   {
    "duration": 0,
    "start_time": "2022-12-24T12:47:58.088Z"
   },
   {
    "duration": 0,
    "start_time": "2022-12-24T12:47:58.089Z"
   },
   {
    "duration": 0,
    "start_time": "2022-12-24T12:47:58.090Z"
   },
   {
    "duration": 0,
    "start_time": "2022-12-24T12:47:58.091Z"
   },
   {
    "duration": 0,
    "start_time": "2022-12-24T12:47:58.121Z"
   },
   {
    "duration": 0,
    "start_time": "2022-12-24T12:47:58.123Z"
   },
   {
    "duration": 0,
    "start_time": "2022-12-24T12:47:58.123Z"
   },
   {
    "duration": 0,
    "start_time": "2022-12-24T12:47:58.125Z"
   },
   {
    "duration": 0,
    "start_time": "2022-12-24T12:47:58.125Z"
   },
   {
    "duration": 0,
    "start_time": "2022-12-24T12:47:58.127Z"
   },
   {
    "duration": 1222,
    "start_time": "2022-12-24T13:07:10.099Z"
   },
   {
    "duration": 1200,
    "start_time": "2022-12-24T13:08:09.316Z"
   },
   {
    "duration": 1217,
    "start_time": "2022-12-24T13:11:29.634Z"
   },
   {
    "duration": 1256,
    "start_time": "2022-12-24T13:12:16.039Z"
   },
   {
    "duration": 1207,
    "start_time": "2022-12-24T13:13:16.105Z"
   },
   {
    "duration": 1223,
    "start_time": "2022-12-24T13:13:31.870Z"
   },
   {
    "duration": 1455,
    "start_time": "2022-12-24T13:19:01.259Z"
   },
   {
    "duration": 1379,
    "start_time": "2022-12-24T13:20:12.979Z"
   },
   {
    "duration": 1499,
    "start_time": "2022-12-24T13:20:14.637Z"
   },
   {
    "duration": 5528,
    "start_time": "2022-12-24T13:23:24.826Z"
   },
   {
    "duration": 7729,
    "start_time": "2022-12-24T13:23:53.840Z"
   },
   {
    "duration": 10,
    "start_time": "2022-12-24T13:24:55.817Z"
   },
   {
    "duration": 1244,
    "start_time": "2022-12-24T13:26:32.779Z"
   },
   {
    "duration": 8,
    "start_time": "2022-12-24T13:26:35.913Z"
   },
   {
    "duration": 5,
    "start_time": "2022-12-24T13:29:02.130Z"
   },
   {
    "duration": 12,
    "start_time": "2022-12-24T13:29:38.414Z"
   },
   {
    "duration": 1765,
    "start_time": "2022-12-24T13:42:23.405Z"
   },
   {
    "duration": 530,
    "start_time": "2022-12-24T13:43:37.736Z"
   },
   {
    "duration": 17,
    "start_time": "2022-12-24T13:43:38.268Z"
   },
   {
    "duration": 2141,
    "start_time": "2022-12-24T13:43:38.287Z"
   },
   {
    "duration": 7,
    "start_time": "2022-12-24T13:43:40.430Z"
   },
   {
    "duration": 27,
    "start_time": "2022-12-24T13:43:40.438Z"
   },
   {
    "duration": 7,
    "start_time": "2022-12-24T13:43:40.467Z"
   },
   {
    "duration": 9,
    "start_time": "2022-12-24T13:43:40.475Z"
   },
   {
    "duration": 1311,
    "start_time": "2022-12-24T13:43:40.486Z"
   },
   {
    "duration": 6,
    "start_time": "2022-12-24T13:43:41.799Z"
   },
   {
    "duration": 1381,
    "start_time": "2022-12-24T13:43:41.808Z"
   },
   {
    "duration": 1335,
    "start_time": "2022-12-24T13:43:43.191Z"
   },
   {
    "duration": 3,
    "start_time": "2022-12-24T13:43:44.527Z"
   },
   {
    "duration": 7266,
    "start_time": "2022-12-24T13:43:44.532Z"
   },
   {
    "duration": 1182,
    "start_time": "2022-12-24T13:43:51.799Z"
   },
   {
    "duration": 9,
    "start_time": "2022-12-24T13:43:52.982Z"
   },
   {
    "duration": 5,
    "start_time": "2022-12-24T13:43:52.992Z"
   },
   {
    "duration": 27,
    "start_time": "2022-12-24T13:43:52.998Z"
   },
   {
    "duration": 81,
    "start_time": "2022-12-24T13:43:53.027Z"
   },
   {
    "duration": 14,
    "start_time": "2022-12-24T13:43:53.110Z"
   },
   {
    "duration": 1746,
    "start_time": "2022-12-24T13:43:53.125Z"
   },
   {
    "duration": 1277,
    "start_time": "2022-12-24T13:43:54.873Z"
   },
   {
    "duration": 1699,
    "start_time": "2022-12-24T13:43:56.151Z"
   },
   {
    "duration": 1233,
    "start_time": "2022-12-24T13:43:57.852Z"
   },
   {
    "duration": 2873,
    "start_time": "2022-12-24T13:43:59.087Z"
   },
   {
    "duration": 7,
    "start_time": "2022-12-24T13:44:01.962Z"
   },
   {
    "duration": 12,
    "start_time": "2022-12-24T13:44:01.970Z"
   },
   {
    "duration": 11,
    "start_time": "2022-12-24T13:44:01.984Z"
   },
   {
    "duration": 11,
    "start_time": "2022-12-24T13:44:02.020Z"
   },
   {
    "duration": 14,
    "start_time": "2022-12-24T13:44:02.033Z"
   },
   {
    "duration": 16,
    "start_time": "2022-12-24T13:44:02.049Z"
   },
   {
    "duration": 637,
    "start_time": "2022-12-24T13:44:02.067Z"
   },
   {
    "duration": 660,
    "start_time": "2022-12-24T13:44:02.706Z"
   },
   {
    "duration": 168,
    "start_time": "2022-12-24T13:44:03.368Z"
   },
   {
    "duration": 157,
    "start_time": "2022-12-24T13:44:03.537Z"
   },
   {
    "duration": 289,
    "start_time": "2022-12-24T13:44:03.696Z"
   },
   {
    "duration": 138,
    "start_time": "2022-12-24T13:44:03.987Z"
   },
   {
    "duration": 1060,
    "start_time": "2022-12-24T13:44:04.127Z"
   },
   {
    "duration": 93,
    "start_time": "2022-12-24T13:44:05.189Z"
   },
   {
    "duration": 0,
    "start_time": "2022-12-24T13:44:05.284Z"
   },
   {
    "duration": 0,
    "start_time": "2022-12-24T13:44:05.285Z"
   },
   {
    "duration": 0,
    "start_time": "2022-12-24T13:44:05.287Z"
   },
   {
    "duration": 0,
    "start_time": "2022-12-24T13:44:05.289Z"
   },
   {
    "duration": 0,
    "start_time": "2022-12-24T13:44:05.290Z"
   },
   {
    "duration": 0,
    "start_time": "2022-12-24T13:44:05.292Z"
   },
   {
    "duration": 0,
    "start_time": "2022-12-24T13:44:05.293Z"
   },
   {
    "duration": 0,
    "start_time": "2022-12-24T13:44:05.294Z"
   },
   {
    "duration": 0,
    "start_time": "2022-12-24T13:44:05.295Z"
   },
   {
    "duration": 0,
    "start_time": "2022-12-24T13:44:05.296Z"
   },
   {
    "duration": 1,
    "start_time": "2022-12-24T13:44:05.297Z"
   },
   {
    "duration": 0,
    "start_time": "2022-12-24T13:44:05.320Z"
   },
   {
    "duration": 0,
    "start_time": "2022-12-24T13:44:05.322Z"
   },
   {
    "duration": 0,
    "start_time": "2022-12-24T13:44:05.324Z"
   },
   {
    "duration": 1861,
    "start_time": "2022-12-24T13:44:09.572Z"
   },
   {
    "duration": 1816,
    "start_time": "2022-12-24T13:44:15.873Z"
   },
   {
    "duration": 489,
    "start_time": "2022-12-24T13:44:24.374Z"
   },
   {
    "duration": 29,
    "start_time": "2022-12-24T13:44:24.866Z"
   },
   {
    "duration": 2115,
    "start_time": "2022-12-24T13:44:24.897Z"
   },
   {
    "duration": 6,
    "start_time": "2022-12-24T13:44:27.015Z"
   },
   {
    "duration": 15,
    "start_time": "2022-12-24T13:44:27.022Z"
   },
   {
    "duration": 5,
    "start_time": "2022-12-24T13:44:27.038Z"
   },
   {
    "duration": 10,
    "start_time": "2022-12-24T13:44:27.044Z"
   },
   {
    "duration": 1212,
    "start_time": "2022-12-24T13:44:27.055Z"
   },
   {
    "duration": 5,
    "start_time": "2022-12-24T13:44:28.269Z"
   },
   {
    "duration": 1299,
    "start_time": "2022-12-24T13:44:28.276Z"
   },
   {
    "duration": 1358,
    "start_time": "2022-12-24T13:44:29.577Z"
   },
   {
    "duration": 4,
    "start_time": "2022-12-24T13:44:30.937Z"
   },
   {
    "duration": 7186,
    "start_time": "2022-12-24T13:44:30.943Z"
   },
   {
    "duration": 1206,
    "start_time": "2022-12-24T13:44:38.131Z"
   },
   {
    "duration": 10,
    "start_time": "2022-12-24T13:44:39.339Z"
   },
   {
    "duration": 31,
    "start_time": "2022-12-24T13:44:39.350Z"
   },
   {
    "duration": 14,
    "start_time": "2022-12-24T13:44:39.383Z"
   },
   {
    "duration": 87,
    "start_time": "2022-12-24T13:44:39.399Z"
   },
   {
    "duration": 7,
    "start_time": "2022-12-24T13:44:39.487Z"
   },
   {
    "duration": 1848,
    "start_time": "2022-12-24T13:44:39.495Z"
   },
   {
    "duration": 1241,
    "start_time": "2022-12-24T13:44:41.344Z"
   },
   {
    "duration": 1744,
    "start_time": "2022-12-24T13:44:42.587Z"
   },
   {
    "duration": 1239,
    "start_time": "2022-12-24T13:44:44.333Z"
   },
   {
    "duration": 2880,
    "start_time": "2022-12-24T13:44:45.573Z"
   },
   {
    "duration": 7,
    "start_time": "2022-12-24T13:44:48.454Z"
   },
   {
    "duration": 23,
    "start_time": "2022-12-24T13:44:48.463Z"
   },
   {
    "duration": 18,
    "start_time": "2022-12-24T13:44:48.487Z"
   },
   {
    "duration": 7,
    "start_time": "2022-12-24T13:44:48.509Z"
   },
   {
    "duration": 10,
    "start_time": "2022-12-24T13:44:48.518Z"
   },
   {
    "duration": 11,
    "start_time": "2022-12-24T13:44:48.530Z"
   },
   {
    "duration": 636,
    "start_time": "2022-12-24T13:44:48.542Z"
   },
   {
    "duration": 658,
    "start_time": "2022-12-24T13:44:49.180Z"
   },
   {
    "duration": 167,
    "start_time": "2022-12-24T13:44:49.840Z"
   },
   {
    "duration": 170,
    "start_time": "2022-12-24T13:44:50.009Z"
   },
   {
    "duration": 302,
    "start_time": "2022-12-24T13:44:50.181Z"
   },
   {
    "duration": 147,
    "start_time": "2022-12-24T13:44:50.485Z"
   },
   {
    "duration": 1054,
    "start_time": "2022-12-24T13:44:50.634Z"
   },
   {
    "duration": 74,
    "start_time": "2022-12-24T13:44:51.689Z"
   },
   {
    "duration": 0,
    "start_time": "2022-12-24T13:44:51.765Z"
   },
   {
    "duration": 0,
    "start_time": "2022-12-24T13:44:51.766Z"
   },
   {
    "duration": 0,
    "start_time": "2022-12-24T13:44:51.767Z"
   },
   {
    "duration": 0,
    "start_time": "2022-12-24T13:44:51.768Z"
   },
   {
    "duration": 0,
    "start_time": "2022-12-24T13:44:51.770Z"
   },
   {
    "duration": 0,
    "start_time": "2022-12-24T13:44:51.771Z"
   },
   {
    "duration": 0,
    "start_time": "2022-12-24T13:44:51.772Z"
   },
   {
    "duration": 0,
    "start_time": "2022-12-24T13:44:51.773Z"
   },
   {
    "duration": 0,
    "start_time": "2022-12-24T13:44:51.774Z"
   },
   {
    "duration": 0,
    "start_time": "2022-12-24T13:44:51.775Z"
   },
   {
    "duration": 0,
    "start_time": "2022-12-24T13:44:51.777Z"
   },
   {
    "duration": 0,
    "start_time": "2022-12-24T13:44:51.778Z"
   },
   {
    "duration": 0,
    "start_time": "2022-12-24T13:44:51.779Z"
   },
   {
    "duration": 0,
    "start_time": "2022-12-24T13:44:51.780Z"
   },
   {
    "duration": 558,
    "start_time": "2022-12-24T13:46:22.089Z"
   },
   {
    "duration": 14,
    "start_time": "2022-12-24T13:46:22.649Z"
   },
   {
    "duration": 2052,
    "start_time": "2022-12-24T13:46:22.664Z"
   },
   {
    "duration": 6,
    "start_time": "2022-12-24T13:46:24.717Z"
   },
   {
    "duration": 25,
    "start_time": "2022-12-24T13:46:24.725Z"
   },
   {
    "duration": 14,
    "start_time": "2022-12-24T13:46:24.751Z"
   },
   {
    "duration": 25,
    "start_time": "2022-12-24T13:46:24.766Z"
   },
   {
    "duration": 1309,
    "start_time": "2022-12-24T13:46:24.792Z"
   },
   {
    "duration": 6,
    "start_time": "2022-12-24T13:46:26.103Z"
   },
   {
    "duration": 1325,
    "start_time": "2022-12-24T13:46:26.112Z"
   },
   {
    "duration": 1311,
    "start_time": "2022-12-24T13:46:27.439Z"
   },
   {
    "duration": 3,
    "start_time": "2022-12-24T13:46:28.751Z"
   },
   {
    "duration": 7256,
    "start_time": "2022-12-24T13:46:28.756Z"
   },
   {
    "duration": 1191,
    "start_time": "2022-12-24T13:46:36.013Z"
   },
   {
    "duration": 17,
    "start_time": "2022-12-24T13:46:37.205Z"
   },
   {
    "duration": 5,
    "start_time": "2022-12-24T13:46:37.223Z"
   },
   {
    "duration": 14,
    "start_time": "2022-12-24T13:46:37.229Z"
   },
   {
    "duration": 103,
    "start_time": "2022-12-24T13:46:37.245Z"
   },
   {
    "duration": 6,
    "start_time": "2022-12-24T13:46:37.350Z"
   },
   {
    "duration": 89,
    "start_time": "2022-12-24T13:46:37.357Z"
   },
   {
    "duration": 0,
    "start_time": "2022-12-24T13:46:37.448Z"
   },
   {
    "duration": 0,
    "start_time": "2022-12-24T13:46:37.449Z"
   },
   {
    "duration": 0,
    "start_time": "2022-12-24T13:46:37.451Z"
   },
   {
    "duration": 0,
    "start_time": "2022-12-24T13:46:37.452Z"
   },
   {
    "duration": 0,
    "start_time": "2022-12-24T13:46:37.453Z"
   },
   {
    "duration": 0,
    "start_time": "2022-12-24T13:46:37.454Z"
   },
   {
    "duration": 0,
    "start_time": "2022-12-24T13:46:37.455Z"
   },
   {
    "duration": 0,
    "start_time": "2022-12-24T13:46:37.456Z"
   },
   {
    "duration": 0,
    "start_time": "2022-12-24T13:46:37.457Z"
   },
   {
    "duration": 0,
    "start_time": "2022-12-24T13:46:37.458Z"
   },
   {
    "duration": 0,
    "start_time": "2022-12-24T13:46:37.459Z"
   },
   {
    "duration": 0,
    "start_time": "2022-12-24T13:46:37.460Z"
   },
   {
    "duration": 0,
    "start_time": "2022-12-24T13:46:37.461Z"
   },
   {
    "duration": 0,
    "start_time": "2022-12-24T13:46:37.462Z"
   },
   {
    "duration": 0,
    "start_time": "2022-12-24T13:46:37.464Z"
   },
   {
    "duration": 0,
    "start_time": "2022-12-24T13:46:37.465Z"
   },
   {
    "duration": 0,
    "start_time": "2022-12-24T13:46:37.466Z"
   },
   {
    "duration": 0,
    "start_time": "2022-12-24T13:46:37.467Z"
   },
   {
    "duration": 0,
    "start_time": "2022-12-24T13:46:37.468Z"
   },
   {
    "duration": 0,
    "start_time": "2022-12-24T13:46:37.468Z"
   },
   {
    "duration": 0,
    "start_time": "2022-12-24T13:46:37.469Z"
   },
   {
    "duration": 0,
    "start_time": "2022-12-24T13:46:37.470Z"
   },
   {
    "duration": 0,
    "start_time": "2022-12-24T13:46:37.472Z"
   },
   {
    "duration": 0,
    "start_time": "2022-12-24T13:46:37.473Z"
   },
   {
    "duration": 0,
    "start_time": "2022-12-24T13:46:37.474Z"
   },
   {
    "duration": 0,
    "start_time": "2022-12-24T13:46:37.521Z"
   },
   {
    "duration": 0,
    "start_time": "2022-12-24T13:46:37.523Z"
   },
   {
    "duration": 0,
    "start_time": "2022-12-24T13:46:37.523Z"
   },
   {
    "duration": 0,
    "start_time": "2022-12-24T13:46:37.524Z"
   },
   {
    "duration": 0,
    "start_time": "2022-12-24T13:46:37.526Z"
   },
   {
    "duration": 0,
    "start_time": "2022-12-24T13:46:37.527Z"
   },
   {
    "duration": 0,
    "start_time": "2022-12-24T13:46:37.528Z"
   },
   {
    "duration": 8,
    "start_time": "2022-12-24T13:47:00.435Z"
   },
   {
    "duration": 533,
    "start_time": "2022-12-24T13:50:25.708Z"
   },
   {
    "duration": 16,
    "start_time": "2022-12-24T13:50:26.243Z"
   },
   {
    "duration": 2047,
    "start_time": "2022-12-24T13:50:26.261Z"
   },
   {
    "duration": 6,
    "start_time": "2022-12-24T13:50:28.310Z"
   },
   {
    "duration": 9,
    "start_time": "2022-12-24T13:50:28.318Z"
   },
   {
    "duration": 8,
    "start_time": "2022-12-24T13:50:28.328Z"
   },
   {
    "duration": 8,
    "start_time": "2022-12-24T13:50:28.338Z"
   },
   {
    "duration": 1253,
    "start_time": "2022-12-24T13:50:28.347Z"
   },
   {
    "duration": 5,
    "start_time": "2022-12-24T13:50:29.602Z"
   },
   {
    "duration": 1347,
    "start_time": "2022-12-24T13:50:29.609Z"
   },
   {
    "duration": 1334,
    "start_time": "2022-12-24T13:50:30.958Z"
   },
   {
    "duration": 3,
    "start_time": "2022-12-24T13:50:32.294Z"
   },
   {
    "duration": 7179,
    "start_time": "2022-12-24T13:50:32.299Z"
   },
   {
    "duration": 1214,
    "start_time": "2022-12-24T13:50:39.480Z"
   },
   {
    "duration": 10,
    "start_time": "2022-12-24T13:50:40.696Z"
   },
   {
    "duration": 17,
    "start_time": "2022-12-24T13:50:40.708Z"
   },
   {
    "duration": 18,
    "start_time": "2022-12-24T13:50:40.727Z"
   },
   {
    "duration": 116,
    "start_time": "2022-12-24T13:50:40.746Z"
   },
   {
    "duration": 8,
    "start_time": "2022-12-24T13:50:40.864Z"
   },
   {
    "duration": 1724,
    "start_time": "2022-12-24T13:50:40.874Z"
   },
   {
    "duration": 1248,
    "start_time": "2022-12-24T13:50:42.600Z"
   },
   {
    "duration": 1803,
    "start_time": "2022-12-24T13:50:43.850Z"
   },
   {
    "duration": 1212,
    "start_time": "2022-12-24T13:50:45.655Z"
   },
   {
    "duration": 2829,
    "start_time": "2022-12-24T13:50:46.869Z"
   },
   {
    "duration": 7,
    "start_time": "2022-12-24T13:50:49.699Z"
   },
   {
    "duration": 19,
    "start_time": "2022-12-24T13:50:49.707Z"
   },
   {
    "duration": 8,
    "start_time": "2022-12-24T13:50:49.727Z"
   },
   {
    "duration": 11,
    "start_time": "2022-12-24T13:50:49.738Z"
   },
   {
    "duration": 14,
    "start_time": "2022-12-24T13:50:49.751Z"
   },
   {
    "duration": 13,
    "start_time": "2022-12-24T13:50:49.766Z"
   },
   {
    "duration": 603,
    "start_time": "2022-12-24T13:50:49.781Z"
   },
   {
    "duration": 647,
    "start_time": "2022-12-24T13:50:50.386Z"
   },
   {
    "duration": 176,
    "start_time": "2022-12-24T13:50:51.035Z"
   },
   {
    "duration": 176,
    "start_time": "2022-12-24T13:50:51.213Z"
   },
   {
    "duration": 302,
    "start_time": "2022-12-24T13:50:51.391Z"
   },
   {
    "duration": 118,
    "start_time": "2022-12-24T13:50:51.695Z"
   },
   {
    "duration": 1051,
    "start_time": "2022-12-24T13:50:51.814Z"
   },
   {
    "duration": 75,
    "start_time": "2022-12-24T13:50:52.867Z"
   },
   {
    "duration": 0,
    "start_time": "2022-12-24T13:50:52.944Z"
   },
   {
    "duration": 0,
    "start_time": "2022-12-24T13:50:52.945Z"
   },
   {
    "duration": 0,
    "start_time": "2022-12-24T13:50:52.946Z"
   },
   {
    "duration": 0,
    "start_time": "2022-12-24T13:50:52.946Z"
   },
   {
    "duration": 0,
    "start_time": "2022-12-24T13:50:52.947Z"
   },
   {
    "duration": 0,
    "start_time": "2022-12-24T13:50:52.948Z"
   },
   {
    "duration": 0,
    "start_time": "2022-12-24T13:50:52.950Z"
   },
   {
    "duration": 0,
    "start_time": "2022-12-24T13:50:52.951Z"
   },
   {
    "duration": 0,
    "start_time": "2022-12-24T13:50:52.952Z"
   },
   {
    "duration": 0,
    "start_time": "2022-12-24T13:50:52.953Z"
   },
   {
    "duration": 0,
    "start_time": "2022-12-24T13:50:52.954Z"
   },
   {
    "duration": 0,
    "start_time": "2022-12-24T13:50:52.955Z"
   },
   {
    "duration": 0,
    "start_time": "2022-12-24T13:50:52.956Z"
   },
   {
    "duration": 0,
    "start_time": "2022-12-24T13:50:52.957Z"
   },
   {
    "duration": 604,
    "start_time": "2022-12-24T13:51:32.306Z"
   },
   {
    "duration": 15,
    "start_time": "2022-12-24T13:51:32.912Z"
   },
   {
    "duration": 2127,
    "start_time": "2022-12-24T13:51:32.929Z"
   },
   {
    "duration": 6,
    "start_time": "2022-12-24T13:51:35.057Z"
   },
   {
    "duration": 14,
    "start_time": "2022-12-24T13:51:35.065Z"
   },
   {
    "duration": 5,
    "start_time": "2022-12-24T13:51:35.081Z"
   },
   {
    "duration": 7,
    "start_time": "2022-12-24T13:51:35.087Z"
   },
   {
    "duration": 1309,
    "start_time": "2022-12-24T13:51:35.096Z"
   },
   {
    "duration": 6,
    "start_time": "2022-12-24T13:51:36.407Z"
   },
   {
    "duration": 1321,
    "start_time": "2022-12-24T13:51:36.420Z"
   },
   {
    "duration": 1314,
    "start_time": "2022-12-24T13:51:37.743Z"
   },
   {
    "duration": 3,
    "start_time": "2022-12-24T13:51:39.059Z"
   },
   {
    "duration": 7181,
    "start_time": "2022-12-24T13:51:39.063Z"
   },
   {
    "duration": 1180,
    "start_time": "2022-12-24T13:51:46.247Z"
   },
   {
    "duration": 9,
    "start_time": "2022-12-24T13:51:47.428Z"
   },
   {
    "duration": 11,
    "start_time": "2022-12-24T13:51:47.438Z"
   },
   {
    "duration": 16,
    "start_time": "2022-12-24T13:51:47.451Z"
   },
   {
    "duration": 96,
    "start_time": "2022-12-24T13:51:47.468Z"
   },
   {
    "duration": 7,
    "start_time": "2022-12-24T13:51:47.565Z"
   },
   {
    "duration": 1616,
    "start_time": "2022-12-24T13:51:47.574Z"
   },
   {
    "duration": 1180,
    "start_time": "2022-12-24T13:51:49.192Z"
   },
   {
    "duration": 1697,
    "start_time": "2022-12-24T13:51:50.374Z"
   },
   {
    "duration": 1143,
    "start_time": "2022-12-24T13:51:52.072Z"
   },
   {
    "duration": 2870,
    "start_time": "2022-12-24T13:51:53.217Z"
   },
   {
    "duration": 8,
    "start_time": "2022-12-24T13:51:56.088Z"
   },
   {
    "duration": 24,
    "start_time": "2022-12-24T13:51:56.098Z"
   },
   {
    "duration": 7,
    "start_time": "2022-12-24T13:51:56.124Z"
   },
   {
    "duration": 18,
    "start_time": "2022-12-24T13:51:56.133Z"
   },
   {
    "duration": 16,
    "start_time": "2022-12-24T13:51:56.153Z"
   },
   {
    "duration": 8,
    "start_time": "2022-12-24T13:51:56.171Z"
   },
   {
    "duration": 604,
    "start_time": "2022-12-24T13:51:56.181Z"
   },
   {
    "duration": 643,
    "start_time": "2022-12-24T13:51:56.787Z"
   },
   {
    "duration": 166,
    "start_time": "2022-12-24T13:51:57.432Z"
   },
   {
    "duration": 164,
    "start_time": "2022-12-24T13:51:57.600Z"
   },
   {
    "duration": 298,
    "start_time": "2022-12-24T13:51:57.765Z"
   },
   {
    "duration": 128,
    "start_time": "2022-12-24T13:51:58.065Z"
   },
   {
    "duration": 1261,
    "start_time": "2022-12-24T13:51:58.195Z"
   },
   {
    "duration": 79,
    "start_time": "2022-12-24T13:51:59.458Z"
   },
   {
    "duration": 0,
    "start_time": "2022-12-24T13:51:59.539Z"
   },
   {
    "duration": 0,
    "start_time": "2022-12-24T13:51:59.540Z"
   },
   {
    "duration": 0,
    "start_time": "2022-12-24T13:51:59.541Z"
   },
   {
    "duration": 0,
    "start_time": "2022-12-24T13:51:59.542Z"
   },
   {
    "duration": 0,
    "start_time": "2022-12-24T13:51:59.543Z"
   },
   {
    "duration": 0,
    "start_time": "2022-12-24T13:51:59.545Z"
   },
   {
    "duration": 0,
    "start_time": "2022-12-24T13:51:59.545Z"
   },
   {
    "duration": 0,
    "start_time": "2022-12-24T13:51:59.547Z"
   },
   {
    "duration": 0,
    "start_time": "2022-12-24T13:51:59.548Z"
   },
   {
    "duration": 0,
    "start_time": "2022-12-24T13:51:59.549Z"
   },
   {
    "duration": 0,
    "start_time": "2022-12-24T13:51:59.550Z"
   },
   {
    "duration": 0,
    "start_time": "2022-12-24T13:51:59.551Z"
   },
   {
    "duration": 0,
    "start_time": "2022-12-24T13:51:59.552Z"
   },
   {
    "duration": 0,
    "start_time": "2022-12-24T13:51:59.553Z"
   },
   {
    "duration": 8,
    "start_time": "2022-12-24T13:56:36.998Z"
   },
   {
    "duration": 124,
    "start_time": "2022-12-24T13:56:46.445Z"
   },
   {
    "duration": 175,
    "start_time": "2022-12-24T13:56:54.329Z"
   },
   {
    "duration": 752,
    "start_time": "2022-12-24T13:57:06.128Z"
   },
   {
    "duration": 20,
    "start_time": "2022-12-24T13:57:06.883Z"
   },
   {
    "duration": 1895,
    "start_time": "2022-12-24T13:57:06.905Z"
   },
   {
    "duration": 5,
    "start_time": "2022-12-24T13:57:08.802Z"
   },
   {
    "duration": 13,
    "start_time": "2022-12-24T13:57:08.808Z"
   },
   {
    "duration": 7,
    "start_time": "2022-12-24T13:57:08.823Z"
   },
   {
    "duration": 8,
    "start_time": "2022-12-24T13:57:08.832Z"
   },
   {
    "duration": 1280,
    "start_time": "2022-12-24T13:57:08.842Z"
   },
   {
    "duration": 5,
    "start_time": "2022-12-24T13:57:10.124Z"
   },
   {
    "duration": 1379,
    "start_time": "2022-12-24T13:57:10.132Z"
   },
   {
    "duration": 1418,
    "start_time": "2022-12-24T13:57:11.513Z"
   },
   {
    "duration": 4,
    "start_time": "2022-12-24T13:57:12.933Z"
   },
   {
    "duration": 7342,
    "start_time": "2022-12-24T13:57:12.938Z"
   },
   {
    "duration": 1229,
    "start_time": "2022-12-24T13:57:20.282Z"
   },
   {
    "duration": 14,
    "start_time": "2022-12-24T13:57:21.513Z"
   },
   {
    "duration": 6,
    "start_time": "2022-12-24T13:57:21.528Z"
   },
   {
    "duration": 14,
    "start_time": "2022-12-24T13:57:21.536Z"
   },
   {
    "duration": 115,
    "start_time": "2022-12-24T13:57:21.551Z"
   },
   {
    "duration": 7,
    "start_time": "2022-12-24T13:57:21.668Z"
   },
   {
    "duration": 1653,
    "start_time": "2022-12-24T13:57:21.676Z"
   },
   {
    "duration": 1161,
    "start_time": "2022-12-24T13:57:23.331Z"
   },
   {
    "duration": 1784,
    "start_time": "2022-12-24T13:57:24.493Z"
   },
   {
    "duration": 1108,
    "start_time": "2022-12-24T13:57:26.278Z"
   },
   {
    "duration": 7,
    "start_time": "2022-12-24T13:57:27.388Z"
   },
   {
    "duration": 11,
    "start_time": "2022-12-24T13:57:27.397Z"
   },
   {
    "duration": 18,
    "start_time": "2022-12-24T13:57:27.410Z"
   },
   {
    "duration": 13,
    "start_time": "2022-12-24T13:57:27.429Z"
   },
   {
    "duration": 10,
    "start_time": "2022-12-24T13:57:27.445Z"
   },
   {
    "duration": 7,
    "start_time": "2022-12-24T13:57:27.457Z"
   },
   {
    "duration": 624,
    "start_time": "2022-12-24T13:57:27.465Z"
   },
   {
    "duration": 679,
    "start_time": "2022-12-24T13:57:28.090Z"
   },
   {
    "duration": 162,
    "start_time": "2022-12-24T13:57:28.771Z"
   },
   {
    "duration": 156,
    "start_time": "2022-12-24T13:57:28.935Z"
   },
   {
    "duration": 278,
    "start_time": "2022-12-24T13:57:29.092Z"
   },
   {
    "duration": 121,
    "start_time": "2022-12-24T13:57:29.372Z"
   },
   {
    "duration": 997,
    "start_time": "2022-12-24T13:57:29.494Z"
   },
   {
    "duration": 291,
    "start_time": "2022-12-24T13:57:30.493Z"
   },
   {
    "duration": 171,
    "start_time": "2022-12-24T13:57:30.786Z"
   },
   {
    "duration": 6,
    "start_time": "2022-12-24T13:57:30.959Z"
   },
   {
    "duration": 160,
    "start_time": "2022-12-24T13:57:30.967Z"
   },
   {
    "duration": 393,
    "start_time": "2022-12-24T13:57:31.128Z"
   },
   {
    "duration": 19,
    "start_time": "2022-12-24T13:57:31.522Z"
   },
   {
    "duration": 212,
    "start_time": "2022-12-24T13:57:31.543Z"
   },
   {
    "duration": 203,
    "start_time": "2022-12-24T13:57:31.757Z"
   },
   {
    "duration": 210,
    "start_time": "2022-12-24T13:57:31.962Z"
   },
   {
    "duration": 3,
    "start_time": "2022-12-24T13:57:32.173Z"
   },
   {
    "duration": 23,
    "start_time": "2022-12-24T13:57:32.178Z"
   },
   {
    "duration": 31,
    "start_time": "2022-12-24T13:57:32.202Z"
   },
   {
    "duration": 8,
    "start_time": "2022-12-24T13:57:32.235Z"
   },
   {
    "duration": 147,
    "start_time": "2022-12-24T13:57:32.245Z"
   },
   {
    "duration": 2,
    "start_time": "2022-12-24T13:57:32.395Z"
   },
   {
    "duration": 709,
    "start_time": "2022-12-24T13:59:47.365Z"
   },
   {
    "duration": 14,
    "start_time": "2022-12-24T13:59:48.075Z"
   },
   {
    "duration": 1833,
    "start_time": "2022-12-24T13:59:48.091Z"
   },
   {
    "duration": 6,
    "start_time": "2022-12-24T13:59:49.927Z"
   },
   {
    "duration": 12,
    "start_time": "2022-12-24T13:59:49.934Z"
   },
   {
    "duration": 5,
    "start_time": "2022-12-24T13:59:49.948Z"
   },
   {
    "duration": 7,
    "start_time": "2022-12-24T13:59:49.954Z"
   },
   {
    "duration": 1237,
    "start_time": "2022-12-24T13:59:49.963Z"
   },
   {
    "duration": 6,
    "start_time": "2022-12-24T13:59:51.202Z"
   },
   {
    "duration": 1285,
    "start_time": "2022-12-24T13:59:51.210Z"
   },
   {
    "duration": 1298,
    "start_time": "2022-12-24T13:59:52.497Z"
   },
   {
    "duration": 3,
    "start_time": "2022-12-24T13:59:53.797Z"
   },
   {
    "duration": 7454,
    "start_time": "2022-12-24T13:59:53.802Z"
   },
   {
    "duration": 1284,
    "start_time": "2022-12-24T14:00:01.257Z"
   },
   {
    "duration": 8,
    "start_time": "2022-12-24T14:00:02.543Z"
   },
   {
    "duration": 26,
    "start_time": "2022-12-24T14:00:02.552Z"
   },
   {
    "duration": 22,
    "start_time": "2022-12-24T14:00:02.580Z"
   },
   {
    "duration": 107,
    "start_time": "2022-12-24T14:00:02.604Z"
   },
   {
    "duration": 7,
    "start_time": "2022-12-24T14:00:02.713Z"
   },
   {
    "duration": 1696,
    "start_time": "2022-12-24T14:00:02.721Z"
   },
   {
    "duration": 1289,
    "start_time": "2022-12-24T14:00:04.420Z"
   },
   {
    "duration": 1725,
    "start_time": "2022-12-24T14:00:05.711Z"
   },
   {
    "duration": 1157,
    "start_time": "2022-12-24T14:00:07.437Z"
   },
   {
    "duration": 6,
    "start_time": "2022-12-24T14:00:08.597Z"
   },
   {
    "duration": 30,
    "start_time": "2022-12-24T14:00:08.604Z"
   },
   {
    "duration": 8,
    "start_time": "2022-12-24T14:00:08.636Z"
   },
   {
    "duration": 15,
    "start_time": "2022-12-24T14:00:08.645Z"
   },
   {
    "duration": 9,
    "start_time": "2022-12-24T14:00:08.663Z"
   },
   {
    "duration": 9,
    "start_time": "2022-12-24T14:00:08.673Z"
   },
   {
    "duration": 617,
    "start_time": "2022-12-24T14:00:08.684Z"
   },
   {
    "duration": 637,
    "start_time": "2022-12-24T14:00:09.303Z"
   },
   {
    "duration": 166,
    "start_time": "2022-12-24T14:00:09.942Z"
   },
   {
    "duration": 157,
    "start_time": "2022-12-24T14:00:10.110Z"
   },
   {
    "duration": 291,
    "start_time": "2022-12-24T14:00:10.269Z"
   },
   {
    "duration": 137,
    "start_time": "2022-12-24T14:00:10.562Z"
   },
   {
    "duration": 1072,
    "start_time": "2022-12-24T14:00:10.702Z"
   },
   {
    "duration": 283,
    "start_time": "2022-12-24T14:00:11.776Z"
   },
   {
    "duration": 174,
    "start_time": "2022-12-24T14:00:12.061Z"
   },
   {
    "duration": 6,
    "start_time": "2022-12-24T14:00:12.237Z"
   },
   {
    "duration": 188,
    "start_time": "2022-12-24T14:00:12.244Z"
   },
   {
    "duration": 386,
    "start_time": "2022-12-24T14:00:12.433Z"
   },
   {
    "duration": 18,
    "start_time": "2022-12-24T14:00:12.820Z"
   },
   {
    "duration": 208,
    "start_time": "2022-12-24T14:00:12.840Z"
   },
   {
    "duration": 199,
    "start_time": "2022-12-24T14:00:13.049Z"
   },
   {
    "duration": 203,
    "start_time": "2022-12-24T14:00:13.250Z"
   },
   {
    "duration": 2,
    "start_time": "2022-12-24T14:00:13.455Z"
   },
   {
    "duration": 34,
    "start_time": "2022-12-24T14:00:13.459Z"
   },
   {
    "duration": 27,
    "start_time": "2022-12-24T14:00:13.495Z"
   },
   {
    "duration": 8,
    "start_time": "2022-12-24T14:00:13.524Z"
   },
   {
    "duration": 156,
    "start_time": "2022-12-24T14:00:13.534Z"
   },
   {
    "duration": 3,
    "start_time": "2022-12-24T14:00:13.692Z"
   },
   {
    "duration": 761,
    "start_time": "2022-12-24T14:03:26.433Z"
   },
   {
    "duration": 14,
    "start_time": "2022-12-24T14:03:27.196Z"
   },
   {
    "duration": 1839,
    "start_time": "2022-12-24T14:03:27.221Z"
   },
   {
    "duration": 5,
    "start_time": "2022-12-24T14:03:29.062Z"
   },
   {
    "duration": 12,
    "start_time": "2022-12-24T14:03:29.069Z"
   },
   {
    "duration": 10,
    "start_time": "2022-12-24T14:03:29.082Z"
   },
   {
    "duration": 7,
    "start_time": "2022-12-24T14:03:29.093Z"
   },
   {
    "duration": 1235,
    "start_time": "2022-12-24T14:03:29.102Z"
   },
   {
    "duration": 6,
    "start_time": "2022-12-24T14:03:30.338Z"
   },
   {
    "duration": 1255,
    "start_time": "2022-12-24T14:03:30.346Z"
   },
   {
    "duration": 6,
    "start_time": "2022-12-24T14:03:31.603Z"
   },
   {
    "duration": 21,
    "start_time": "2022-12-24T14:03:31.612Z"
   },
   {
    "duration": 7070,
    "start_time": "2022-12-24T14:03:31.635Z"
   },
   {
    "duration": 1187,
    "start_time": "2022-12-24T14:03:38.707Z"
   },
   {
    "duration": 9,
    "start_time": "2022-12-24T14:03:39.895Z"
   },
   {
    "duration": 16,
    "start_time": "2022-12-24T14:03:39.906Z"
   },
   {
    "duration": 14,
    "start_time": "2022-12-24T14:03:39.923Z"
   },
   {
    "duration": 99,
    "start_time": "2022-12-24T14:03:39.938Z"
   },
   {
    "duration": 7,
    "start_time": "2022-12-24T14:03:40.039Z"
   },
   {
    "duration": 1687,
    "start_time": "2022-12-24T14:03:40.048Z"
   },
   {
    "duration": 1182,
    "start_time": "2022-12-24T14:03:41.736Z"
   },
   {
    "duration": 1743,
    "start_time": "2022-12-24T14:03:42.920Z"
   },
   {
    "duration": 1177,
    "start_time": "2022-12-24T14:03:44.664Z"
   },
   {
    "duration": 6,
    "start_time": "2022-12-24T14:03:45.843Z"
   },
   {
    "duration": 22,
    "start_time": "2022-12-24T14:03:45.851Z"
   },
   {
    "duration": 16,
    "start_time": "2022-12-24T14:03:45.875Z"
   },
   {
    "duration": 8,
    "start_time": "2022-12-24T14:03:45.894Z"
   },
   {
    "duration": 11,
    "start_time": "2022-12-24T14:03:45.921Z"
   },
   {
    "duration": 14,
    "start_time": "2022-12-24T14:03:45.934Z"
   },
   {
    "duration": 640,
    "start_time": "2022-12-24T14:03:45.950Z"
   },
   {
    "duration": 686,
    "start_time": "2022-12-24T14:03:46.592Z"
   },
   {
    "duration": 167,
    "start_time": "2022-12-24T14:03:47.280Z"
   },
   {
    "duration": 161,
    "start_time": "2022-12-24T14:03:47.448Z"
   },
   {
    "duration": 286,
    "start_time": "2022-12-24T14:03:47.611Z"
   },
   {
    "duration": 128,
    "start_time": "2022-12-24T14:03:47.898Z"
   },
   {
    "duration": 1010,
    "start_time": "2022-12-24T14:03:48.027Z"
   },
   {
    "duration": 290,
    "start_time": "2022-12-24T14:03:49.039Z"
   },
   {
    "duration": 174,
    "start_time": "2022-12-24T14:03:49.330Z"
   },
   {
    "duration": 5,
    "start_time": "2022-12-24T14:03:49.506Z"
   },
   {
    "duration": 137,
    "start_time": "2022-12-24T14:03:49.520Z"
   },
   {
    "duration": 386,
    "start_time": "2022-12-24T14:03:49.658Z"
   },
   {
    "duration": 16,
    "start_time": "2022-12-24T14:03:50.046Z"
   },
   {
    "duration": 209,
    "start_time": "2022-12-24T14:03:50.063Z"
   },
   {
    "duration": 200,
    "start_time": "2022-12-24T14:03:50.274Z"
   },
   {
    "duration": 215,
    "start_time": "2022-12-24T14:03:50.476Z"
   },
   {
    "duration": 2,
    "start_time": "2022-12-24T14:03:50.693Z"
   },
   {
    "duration": 21,
    "start_time": "2022-12-24T14:03:50.696Z"
   },
   {
    "duration": 32,
    "start_time": "2022-12-24T14:03:50.718Z"
   },
   {
    "duration": 7,
    "start_time": "2022-12-24T14:03:50.752Z"
   },
   {
    "duration": 149,
    "start_time": "2022-12-24T14:03:50.761Z"
   },
   {
    "duration": 3,
    "start_time": "2022-12-24T14:03:50.920Z"
   },
   {
    "duration": 781,
    "start_time": "2022-12-24T14:05:06.195Z"
   },
   {
    "duration": 13,
    "start_time": "2022-12-24T14:05:06.978Z"
   },
   {
    "duration": 1848,
    "start_time": "2022-12-24T14:05:06.992Z"
   },
   {
    "duration": 6,
    "start_time": "2022-12-24T14:05:08.841Z"
   },
   {
    "duration": 12,
    "start_time": "2022-12-24T14:05:08.848Z"
   },
   {
    "duration": 5,
    "start_time": "2022-12-24T14:05:08.861Z"
   },
   {
    "duration": 10,
    "start_time": "2022-12-24T14:05:08.868Z"
   },
   {
    "duration": 1268,
    "start_time": "2022-12-24T14:05:08.880Z"
   },
   {
    "duration": 5,
    "start_time": "2022-12-24T14:05:10.150Z"
   },
   {
    "duration": 1296,
    "start_time": "2022-12-24T14:05:10.158Z"
   },
   {
    "duration": 1352,
    "start_time": "2022-12-24T14:05:11.455Z"
   },
   {
    "duration": 4,
    "start_time": "2022-12-24T14:05:12.809Z"
   },
   {
    "duration": 7160,
    "start_time": "2022-12-24T14:05:12.814Z"
   },
   {
    "duration": 1170,
    "start_time": "2022-12-24T14:05:19.975Z"
   },
   {
    "duration": 9,
    "start_time": "2022-12-24T14:05:21.146Z"
   },
   {
    "duration": 6,
    "start_time": "2022-12-24T14:05:21.157Z"
   },
   {
    "duration": 25,
    "start_time": "2022-12-24T14:05:21.165Z"
   },
   {
    "duration": 116,
    "start_time": "2022-12-24T14:05:21.192Z"
   },
   {
    "duration": 5,
    "start_time": "2022-12-24T14:05:21.310Z"
   },
   {
    "duration": 1682,
    "start_time": "2022-12-24T14:05:21.322Z"
   },
   {
    "duration": 1161,
    "start_time": "2022-12-24T14:05:23.005Z"
   },
   {
    "duration": 1758,
    "start_time": "2022-12-24T14:05:24.167Z"
   },
   {
    "duration": 1136,
    "start_time": "2022-12-24T14:05:25.926Z"
   },
   {
    "duration": 7,
    "start_time": "2022-12-24T14:05:27.064Z"
   },
   {
    "duration": 11,
    "start_time": "2022-12-24T14:05:27.072Z"
   },
   {
    "duration": 7,
    "start_time": "2022-12-24T14:05:27.085Z"
   },
   {
    "duration": 28,
    "start_time": "2022-12-24T14:05:27.094Z"
   },
   {
    "duration": 9,
    "start_time": "2022-12-24T14:05:27.125Z"
   },
   {
    "duration": 19,
    "start_time": "2022-12-24T14:05:27.136Z"
   },
   {
    "duration": 604,
    "start_time": "2022-12-24T14:05:27.157Z"
   },
   {
    "duration": 674,
    "start_time": "2022-12-24T14:05:27.762Z"
   },
   {
    "duration": 169,
    "start_time": "2022-12-24T14:05:28.438Z"
   },
   {
    "duration": 168,
    "start_time": "2022-12-24T14:05:28.609Z"
   },
   {
    "duration": 292,
    "start_time": "2022-12-24T14:05:28.779Z"
   },
   {
    "duration": 118,
    "start_time": "2022-12-24T14:05:29.073Z"
   },
   {
    "duration": 986,
    "start_time": "2022-12-24T14:05:29.193Z"
   },
   {
    "duration": 282,
    "start_time": "2022-12-24T14:05:30.181Z"
   },
   {
    "duration": 181,
    "start_time": "2022-12-24T14:05:30.464Z"
   },
   {
    "duration": 6,
    "start_time": "2022-12-24T14:05:30.647Z"
   },
   {
    "duration": 150,
    "start_time": "2022-12-24T14:05:30.654Z"
   },
   {
    "duration": 419,
    "start_time": "2022-12-24T14:05:30.806Z"
   },
   {
    "duration": 16,
    "start_time": "2022-12-24T14:05:31.228Z"
   },
   {
    "duration": 224,
    "start_time": "2022-12-24T14:05:31.246Z"
   },
   {
    "duration": 222,
    "start_time": "2022-12-24T14:05:31.472Z"
   },
   {
    "duration": 215,
    "start_time": "2022-12-24T14:05:31.695Z"
   },
   {
    "duration": 9,
    "start_time": "2022-12-24T14:05:31.912Z"
   },
   {
    "duration": 18,
    "start_time": "2022-12-24T14:05:31.923Z"
   },
   {
    "duration": 42,
    "start_time": "2022-12-24T14:05:31.943Z"
   },
   {
    "duration": 10,
    "start_time": "2022-12-24T14:05:31.987Z"
   },
   {
    "duration": 161,
    "start_time": "2022-12-24T14:05:31.998Z"
   },
   {
    "duration": 3,
    "start_time": "2022-12-24T14:05:32.160Z"
   },
   {
    "duration": 700,
    "start_time": "2022-12-24T14:08:46.469Z"
   },
   {
    "duration": 14,
    "start_time": "2022-12-24T14:08:47.171Z"
   },
   {
    "duration": 1886,
    "start_time": "2022-12-24T14:08:47.186Z"
   },
   {
    "duration": 5,
    "start_time": "2022-12-24T14:08:49.074Z"
   },
   {
    "duration": 16,
    "start_time": "2022-12-24T14:08:49.081Z"
   },
   {
    "duration": 6,
    "start_time": "2022-12-24T14:08:49.099Z"
   },
   {
    "duration": 7,
    "start_time": "2022-12-24T14:08:49.106Z"
   },
   {
    "duration": 1266,
    "start_time": "2022-12-24T14:08:49.115Z"
   },
   {
    "duration": 5,
    "start_time": "2022-12-24T14:08:50.383Z"
   },
   {
    "duration": 1313,
    "start_time": "2022-12-24T14:08:50.389Z"
   },
   {
    "duration": 1327,
    "start_time": "2022-12-24T14:08:51.703Z"
   },
   {
    "duration": 4,
    "start_time": "2022-12-24T14:08:53.032Z"
   },
   {
    "duration": 7164,
    "start_time": "2022-12-24T14:08:53.038Z"
   },
   {
    "duration": 1173,
    "start_time": "2022-12-24T14:09:00.206Z"
   },
   {
    "duration": 12,
    "start_time": "2022-12-24T14:09:01.381Z"
   },
   {
    "duration": 34,
    "start_time": "2022-12-24T14:09:01.395Z"
   },
   {
    "duration": 41,
    "start_time": "2022-12-24T14:09:01.431Z"
   },
   {
    "duration": 135,
    "start_time": "2022-12-24T14:09:01.474Z"
   },
   {
    "duration": 10,
    "start_time": "2022-12-24T14:09:01.611Z"
   },
   {
    "duration": 23,
    "start_time": "2022-12-24T14:09:01.623Z"
   },
   {
    "duration": 1267,
    "start_time": "2022-12-24T14:09:01.648Z"
   },
   {
    "duration": 1722,
    "start_time": "2022-12-24T14:09:02.917Z"
   },
   {
    "duration": 1206,
    "start_time": "2022-12-24T14:09:04.641Z"
   },
   {
    "duration": 7,
    "start_time": "2022-12-24T14:09:05.849Z"
   },
   {
    "duration": 11,
    "start_time": "2022-12-24T14:09:05.857Z"
   },
   {
    "duration": 9,
    "start_time": "2022-12-24T14:09:05.870Z"
   },
   {
    "duration": 10,
    "start_time": "2022-12-24T14:09:05.880Z"
   },
   {
    "duration": 31,
    "start_time": "2022-12-24T14:09:05.893Z"
   },
   {
    "duration": 9,
    "start_time": "2022-12-24T14:09:05.925Z"
   },
   {
    "duration": 592,
    "start_time": "2022-12-24T14:09:05.935Z"
   },
   {
    "duration": 667,
    "start_time": "2022-12-24T14:09:06.529Z"
   },
   {
    "duration": 173,
    "start_time": "2022-12-24T14:09:07.198Z"
   },
   {
    "duration": 167,
    "start_time": "2022-12-24T14:09:07.373Z"
   },
   {
    "duration": 287,
    "start_time": "2022-12-24T14:09:07.541Z"
   },
   {
    "duration": 132,
    "start_time": "2022-12-24T14:09:07.830Z"
   },
   {
    "duration": 1002,
    "start_time": "2022-12-24T14:09:07.964Z"
   },
   {
    "duration": 300,
    "start_time": "2022-12-24T14:09:08.968Z"
   },
   {
    "duration": 176,
    "start_time": "2022-12-24T14:09:09.270Z"
   },
   {
    "duration": 5,
    "start_time": "2022-12-24T14:09:09.447Z"
   },
   {
    "duration": 139,
    "start_time": "2022-12-24T14:09:09.454Z"
   },
   {
    "duration": 372,
    "start_time": "2022-12-24T14:09:09.597Z"
   },
   {
    "duration": 16,
    "start_time": "2022-12-24T14:09:09.970Z"
   },
   {
    "duration": 214,
    "start_time": "2022-12-24T14:09:09.988Z"
   },
   {
    "duration": 199,
    "start_time": "2022-12-24T14:09:10.204Z"
   },
   {
    "duration": 217,
    "start_time": "2022-12-24T14:09:10.404Z"
   },
   {
    "duration": 3,
    "start_time": "2022-12-24T14:09:10.623Z"
   },
   {
    "duration": 22,
    "start_time": "2022-12-24T14:09:10.627Z"
   },
   {
    "duration": 31,
    "start_time": "2022-12-24T14:09:10.651Z"
   },
   {
    "duration": 8,
    "start_time": "2022-12-24T14:09:10.683Z"
   },
   {
    "duration": 148,
    "start_time": "2022-12-24T14:09:10.692Z"
   },
   {
    "duration": 3,
    "start_time": "2022-12-24T14:09:10.841Z"
   },
   {
    "duration": 734,
    "start_time": "2022-12-24T14:13:24.648Z"
   },
   {
    "duration": 21,
    "start_time": "2022-12-24T14:13:25.385Z"
   },
   {
    "duration": 1940,
    "start_time": "2022-12-24T14:13:25.408Z"
   },
   {
    "duration": 5,
    "start_time": "2022-12-24T14:13:27.349Z"
   },
   {
    "duration": 14,
    "start_time": "2022-12-24T14:13:27.356Z"
   },
   {
    "duration": 4,
    "start_time": "2022-12-24T14:13:27.372Z"
   },
   {
    "duration": 7,
    "start_time": "2022-12-24T14:13:27.378Z"
   },
   {
    "duration": 1223,
    "start_time": "2022-12-24T14:13:27.386Z"
   },
   {
    "duration": 6,
    "start_time": "2022-12-24T14:13:28.610Z"
   },
   {
    "duration": 1283,
    "start_time": "2022-12-24T14:13:28.617Z"
   },
   {
    "duration": 1321,
    "start_time": "2022-12-24T14:13:29.902Z"
   },
   {
    "duration": 3,
    "start_time": "2022-12-24T14:13:31.225Z"
   },
   {
    "duration": 7173,
    "start_time": "2022-12-24T14:13:31.230Z"
   },
   {
    "duration": 1212,
    "start_time": "2022-12-24T14:13:38.406Z"
   },
   {
    "duration": 8,
    "start_time": "2022-12-24T14:13:39.621Z"
   },
   {
    "duration": 6,
    "start_time": "2022-12-24T14:13:39.631Z"
   },
   {
    "duration": 16,
    "start_time": "2022-12-24T14:13:39.640Z"
   },
   {
    "duration": 104,
    "start_time": "2022-12-24T14:13:39.658Z"
   },
   {
    "duration": 7,
    "start_time": "2022-12-24T14:13:39.764Z"
   },
   {
    "duration": 10,
    "start_time": "2022-12-24T14:13:39.773Z"
   },
   {
    "duration": 1170,
    "start_time": "2022-12-24T14:13:39.784Z"
   },
   {
    "duration": 1723,
    "start_time": "2022-12-24T14:13:40.956Z"
   },
   {
    "duration": 1163,
    "start_time": "2022-12-24T14:13:42.681Z"
   },
   {
    "duration": 6,
    "start_time": "2022-12-24T14:13:43.846Z"
   },
   {
    "duration": 15,
    "start_time": "2022-12-24T14:13:43.853Z"
   },
   {
    "duration": 8,
    "start_time": "2022-12-24T14:13:43.869Z"
   },
   {
    "duration": 10,
    "start_time": "2022-12-24T14:13:43.878Z"
   },
   {
    "duration": 38,
    "start_time": "2022-12-24T14:13:43.889Z"
   },
   {
    "duration": 11,
    "start_time": "2022-12-24T14:13:43.929Z"
   },
   {
    "duration": 590,
    "start_time": "2022-12-24T14:13:43.942Z"
   },
   {
    "duration": 631,
    "start_time": "2022-12-24T14:13:44.534Z"
   },
   {
    "duration": 203,
    "start_time": "2022-12-24T14:13:45.166Z"
   },
   {
    "duration": 179,
    "start_time": "2022-12-24T14:13:45.372Z"
   },
   {
    "duration": 290,
    "start_time": "2022-12-24T14:13:45.552Z"
   },
   {
    "duration": 128,
    "start_time": "2022-12-24T14:13:45.844Z"
   },
   {
    "duration": 1049,
    "start_time": "2022-12-24T14:13:45.974Z"
   },
   {
    "duration": 282,
    "start_time": "2022-12-24T14:13:47.024Z"
   },
   {
    "duration": 199,
    "start_time": "2022-12-24T14:13:47.307Z"
   },
   {
    "duration": 14,
    "start_time": "2022-12-24T14:13:47.508Z"
   },
   {
    "duration": 158,
    "start_time": "2022-12-24T14:13:47.524Z"
   },
   {
    "duration": 400,
    "start_time": "2022-12-24T14:13:47.686Z"
   },
   {
    "duration": 18,
    "start_time": "2022-12-24T14:13:48.088Z"
   },
   {
    "duration": 242,
    "start_time": "2022-12-24T14:13:48.108Z"
   },
   {
    "duration": 161,
    "start_time": "2022-12-24T14:13:48.352Z"
   },
   {
    "duration": 235,
    "start_time": "2022-12-24T14:13:48.514Z"
   },
   {
    "duration": 3,
    "start_time": "2022-12-24T14:13:48.752Z"
   },
   {
    "duration": 25,
    "start_time": "2022-12-24T14:13:48.757Z"
   },
   {
    "duration": 29,
    "start_time": "2022-12-24T14:13:48.784Z"
   },
   {
    "duration": 14,
    "start_time": "2022-12-24T14:13:48.815Z"
   },
   {
    "duration": 156,
    "start_time": "2022-12-24T14:13:48.830Z"
   },
   {
    "duration": 3,
    "start_time": "2022-12-24T14:13:48.988Z"
   },
   {
    "duration": 881,
    "start_time": "2022-12-24T14:15:01.708Z"
   },
   {
    "duration": 29,
    "start_time": "2022-12-24T14:15:02.592Z"
   },
   {
    "duration": 2117,
    "start_time": "2022-12-24T14:15:02.623Z"
   },
   {
    "duration": 7,
    "start_time": "2022-12-24T14:15:04.743Z"
   },
   {
    "duration": 19,
    "start_time": "2022-12-24T14:15:04.753Z"
   },
   {
    "duration": 5,
    "start_time": "2022-12-24T14:15:04.775Z"
   },
   {
    "duration": 9,
    "start_time": "2022-12-24T14:15:04.782Z"
   },
   {
    "duration": 1329,
    "start_time": "2022-12-24T14:15:04.793Z"
   },
   {
    "duration": 6,
    "start_time": "2022-12-24T14:15:06.123Z"
   },
   {
    "duration": 1298,
    "start_time": "2022-12-24T14:15:06.132Z"
   },
   {
    "duration": 1350,
    "start_time": "2022-12-24T14:15:07.432Z"
   },
   {
    "duration": 3,
    "start_time": "2022-12-24T14:15:08.784Z"
   },
   {
    "duration": 7377,
    "start_time": "2022-12-24T14:15:08.789Z"
   },
   {
    "duration": 1214,
    "start_time": "2022-12-24T14:15:16.168Z"
   },
   {
    "duration": 8,
    "start_time": "2022-12-24T14:15:17.384Z"
   },
   {
    "duration": 5,
    "start_time": "2022-12-24T14:15:17.393Z"
   },
   {
    "duration": 32,
    "start_time": "2022-12-24T14:15:17.399Z"
   },
   {
    "duration": 94,
    "start_time": "2022-12-24T14:15:17.432Z"
   },
   {
    "duration": 6,
    "start_time": "2022-12-24T14:15:17.528Z"
   },
   {
    "duration": 30,
    "start_time": "2022-12-24T14:15:17.536Z"
   },
   {
    "duration": 1180,
    "start_time": "2022-12-24T14:15:17.568Z"
   },
   {
    "duration": 1735,
    "start_time": "2022-12-24T14:15:18.750Z"
   },
   {
    "duration": 1167,
    "start_time": "2022-12-24T14:15:20.487Z"
   },
   {
    "duration": 7,
    "start_time": "2022-12-24T14:15:21.656Z"
   },
   {
    "duration": 12,
    "start_time": "2022-12-24T14:15:21.664Z"
   },
   {
    "duration": 7,
    "start_time": "2022-12-24T14:15:21.679Z"
   },
   {
    "duration": 7,
    "start_time": "2022-12-24T14:15:21.687Z"
   },
   {
    "duration": 9,
    "start_time": "2022-12-24T14:15:21.721Z"
   },
   {
    "duration": 10,
    "start_time": "2022-12-24T14:15:21.731Z"
   },
   {
    "duration": 571,
    "start_time": "2022-12-24T14:15:21.743Z"
   },
   {
    "duration": 676,
    "start_time": "2022-12-24T14:15:22.316Z"
   },
   {
    "duration": 174,
    "start_time": "2022-12-24T14:15:22.994Z"
   },
   {
    "duration": 162,
    "start_time": "2022-12-24T14:15:23.170Z"
   },
   {
    "duration": 281,
    "start_time": "2022-12-24T14:15:23.334Z"
   },
   {
    "duration": 126,
    "start_time": "2022-12-24T14:15:23.617Z"
   },
   {
    "duration": 1027,
    "start_time": "2022-12-24T14:15:23.745Z"
   },
   {
    "duration": 297,
    "start_time": "2022-12-24T14:15:24.774Z"
   },
   {
    "duration": 183,
    "start_time": "2022-12-24T14:15:25.073Z"
   },
   {
    "duration": 8,
    "start_time": "2022-12-24T14:15:25.258Z"
   },
   {
    "duration": 198,
    "start_time": "2022-12-24T14:15:25.268Z"
   },
   {
    "duration": 384,
    "start_time": "2022-12-24T14:15:25.468Z"
   },
   {
    "duration": 16,
    "start_time": "2022-12-24T14:15:25.853Z"
   },
   {
    "duration": 203,
    "start_time": "2022-12-24T14:15:25.870Z"
   },
   {
    "duration": 192,
    "start_time": "2022-12-24T14:15:26.075Z"
   },
   {
    "duration": 208,
    "start_time": "2022-12-24T14:15:26.269Z"
   },
   {
    "duration": 3,
    "start_time": "2022-12-24T14:15:26.479Z"
   },
   {
    "duration": 16,
    "start_time": "2022-12-24T14:15:26.484Z"
   },
   {
    "duration": 38,
    "start_time": "2022-12-24T14:15:26.501Z"
   },
   {
    "duration": 8,
    "start_time": "2022-12-24T14:15:26.541Z"
   },
   {
    "duration": 155,
    "start_time": "2022-12-24T14:15:26.550Z"
   },
   {
    "duration": 3,
    "start_time": "2022-12-24T14:15:26.706Z"
   },
   {
    "duration": 886,
    "start_time": "2022-12-24T14:15:55.212Z"
   },
   {
    "duration": 16,
    "start_time": "2022-12-24T14:15:56.100Z"
   },
   {
    "duration": 1866,
    "start_time": "2022-12-24T14:15:56.122Z"
   },
   {
    "duration": 6,
    "start_time": "2022-12-24T14:15:57.990Z"
   },
   {
    "duration": 13,
    "start_time": "2022-12-24T14:15:57.998Z"
   },
   {
    "duration": 6,
    "start_time": "2022-12-24T14:15:58.013Z"
   },
   {
    "duration": 13,
    "start_time": "2022-12-24T14:15:58.020Z"
   },
   {
    "duration": 1564,
    "start_time": "2022-12-24T14:15:58.034Z"
   },
   {
    "duration": 6,
    "start_time": "2022-12-24T14:15:59.599Z"
   },
   {
    "duration": 1336,
    "start_time": "2022-12-24T14:15:59.606Z"
   },
   {
    "duration": 1403,
    "start_time": "2022-12-24T14:16:00.944Z"
   },
   {
    "duration": 4,
    "start_time": "2022-12-24T14:16:02.349Z"
   },
   {
    "duration": 7400,
    "start_time": "2022-12-24T14:16:02.355Z"
   },
   {
    "duration": 1181,
    "start_time": "2022-12-24T14:16:09.759Z"
   },
   {
    "duration": 9,
    "start_time": "2022-12-24T14:16:10.942Z"
   },
   {
    "duration": 5,
    "start_time": "2022-12-24T14:16:10.953Z"
   },
   {
    "duration": 15,
    "start_time": "2022-12-24T14:16:10.960Z"
   },
   {
    "duration": 104,
    "start_time": "2022-12-24T14:16:10.976Z"
   },
   {
    "duration": 6,
    "start_time": "2022-12-24T14:16:11.081Z"
   },
   {
    "duration": 6,
    "start_time": "2022-12-24T14:16:11.089Z"
   },
   {
    "duration": 1203,
    "start_time": "2022-12-24T14:16:11.096Z"
   },
   {
    "duration": 1721,
    "start_time": "2022-12-24T14:16:12.301Z"
   },
   {
    "duration": 1124,
    "start_time": "2022-12-24T14:16:14.024Z"
   },
   {
    "duration": 6,
    "start_time": "2022-12-24T14:16:15.150Z"
   },
   {
    "duration": 15,
    "start_time": "2022-12-24T14:16:15.157Z"
   },
   {
    "duration": 15,
    "start_time": "2022-12-24T14:16:15.174Z"
   },
   {
    "duration": 30,
    "start_time": "2022-12-24T14:16:15.192Z"
   },
   {
    "duration": 20,
    "start_time": "2022-12-24T14:16:15.224Z"
   },
   {
    "duration": 20,
    "start_time": "2022-12-24T14:16:15.246Z"
   },
   {
    "duration": 598,
    "start_time": "2022-12-24T14:16:15.268Z"
   },
   {
    "duration": 635,
    "start_time": "2022-12-24T14:16:15.868Z"
   },
   {
    "duration": 178,
    "start_time": "2022-12-24T14:16:16.504Z"
   },
   {
    "duration": 166,
    "start_time": "2022-12-24T14:16:16.683Z"
   },
   {
    "duration": 276,
    "start_time": "2022-12-24T14:16:16.851Z"
   },
   {
    "duration": 120,
    "start_time": "2022-12-24T14:16:17.129Z"
   },
   {
    "duration": 955,
    "start_time": "2022-12-24T14:16:17.250Z"
   },
   {
    "duration": 258,
    "start_time": "2022-12-24T14:16:18.206Z"
   },
   {
    "duration": 167,
    "start_time": "2022-12-24T14:16:18.465Z"
   },
   {
    "duration": 5,
    "start_time": "2022-12-24T14:16:18.634Z"
   },
   {
    "duration": 140,
    "start_time": "2022-12-24T14:16:18.640Z"
   },
   {
    "duration": 386,
    "start_time": "2022-12-24T14:16:18.784Z"
   },
   {
    "duration": 17,
    "start_time": "2022-12-24T14:16:19.172Z"
   },
   {
    "duration": 223,
    "start_time": "2022-12-24T14:16:19.191Z"
   },
   {
    "duration": 192,
    "start_time": "2022-12-24T14:16:19.421Z"
   },
   {
    "duration": 201,
    "start_time": "2022-12-24T14:16:19.615Z"
   },
   {
    "duration": 3,
    "start_time": "2022-12-24T14:16:19.821Z"
   },
   {
    "duration": 14,
    "start_time": "2022-12-24T14:16:19.825Z"
   },
   {
    "duration": 25,
    "start_time": "2022-12-24T14:16:19.841Z"
   },
   {
    "duration": 8,
    "start_time": "2022-12-24T14:16:19.868Z"
   },
   {
    "duration": 154,
    "start_time": "2022-12-24T14:16:19.878Z"
   },
   {
    "duration": 3,
    "start_time": "2022-12-24T14:16:20.034Z"
   },
   {
    "duration": 253,
    "start_time": "2022-12-24T14:18:13.260Z"
   },
   {
    "duration": 496,
    "start_time": "2022-12-24T14:18:17.674Z"
   },
   {
    "duration": 277,
    "start_time": "2022-12-24T14:19:17.083Z"
   },
   {
    "duration": 292,
    "start_time": "2022-12-24T14:19:21.456Z"
   },
   {
    "duration": 448,
    "start_time": "2022-12-24T14:19:41.654Z"
   },
   {
    "duration": 385,
    "start_time": "2022-12-24T14:19:58.479Z"
   },
   {
    "duration": 363,
    "start_time": "2022-12-24T14:20:03.928Z"
   },
   {
    "duration": 296,
    "start_time": "2022-12-24T14:20:10.592Z"
   },
   {
    "duration": 287,
    "start_time": "2022-12-24T14:20:20.593Z"
   },
   {
    "duration": 285,
    "start_time": "2022-12-24T14:20:28.262Z"
   },
   {
    "duration": 273,
    "start_time": "2022-12-24T14:20:36.007Z"
   },
   {
    "duration": 480,
    "start_time": "2022-12-24T14:20:45.650Z"
   },
   {
    "duration": 290,
    "start_time": "2022-12-24T14:20:50.593Z"
   },
   {
    "duration": 292,
    "start_time": "2022-12-24T14:20:55.213Z"
   },
   {
    "duration": 256,
    "start_time": "2022-12-24T14:21:06.357Z"
   },
   {
    "duration": 240,
    "start_time": "2022-12-24T14:26:59.644Z"
   },
   {
    "duration": 479,
    "start_time": "2022-12-24T14:27:20.279Z"
   },
   {
    "duration": 193,
    "start_time": "2022-12-24T14:41:44.747Z"
   },
   {
    "duration": 9,
    "start_time": "2022-12-24T14:41:57.919Z"
   },
   {
    "duration": 265,
    "start_time": "2022-12-24T14:42:11.676Z"
   },
   {
    "duration": 509,
    "start_time": "2022-12-24T14:51:48.017Z"
   },
   {
    "duration": 15,
    "start_time": "2022-12-24T14:52:57.879Z"
   },
   {
    "duration": 232,
    "start_time": "2022-12-24T14:56:16.422Z"
   },
   {
    "duration": 205,
    "start_time": "2022-12-24T14:56:30.443Z"
   },
   {
    "duration": 205,
    "start_time": "2022-12-24T14:56:41.463Z"
   },
   {
    "duration": 195,
    "start_time": "2022-12-24T14:56:58.979Z"
   },
   {
    "duration": 215,
    "start_time": "2022-12-24T14:58:08.822Z"
   },
   {
    "duration": 211,
    "start_time": "2022-12-24T15:03:01.923Z"
   },
   {
    "duration": 224,
    "start_time": "2022-12-24T15:10:09.122Z"
   },
   {
    "duration": 15,
    "start_time": "2022-12-24T15:11:36.845Z"
   },
   {
    "duration": 208,
    "start_time": "2022-12-24T15:11:55.825Z"
   },
   {
    "duration": 17,
    "start_time": "2022-12-24T15:12:02.901Z"
   },
   {
    "duration": 244,
    "start_time": "2022-12-24T15:12:10.886Z"
   },
   {
    "duration": 110,
    "start_time": "2022-12-24T15:14:42.140Z"
   },
   {
    "duration": 124,
    "start_time": "2022-12-24T15:15:39.655Z"
   },
   {
    "duration": 97,
    "start_time": "2022-12-24T15:16:07.162Z"
   },
   {
    "duration": 143,
    "start_time": "2022-12-24T15:17:28.847Z"
   },
   {
    "duration": 143,
    "start_time": "2022-12-24T15:17:46.443Z"
   },
   {
    "duration": 78,
    "start_time": "2022-12-24T15:17:59.972Z"
   },
   {
    "duration": 186,
    "start_time": "2022-12-24T15:18:09.056Z"
   },
   {
    "duration": 133,
    "start_time": "2022-12-24T15:18:13.238Z"
   },
   {
    "duration": 1230,
    "start_time": "2022-12-24T15:18:28.276Z"
   },
   {
    "duration": 12262,
    "start_time": "2022-12-24T15:18:53.516Z"
   },
   {
    "duration": 1253,
    "start_time": "2022-12-24T15:19:38.640Z"
   },
   {
    "duration": 1736,
    "start_time": "2022-12-24T15:19:58.574Z"
   },
   {
    "duration": 172,
    "start_time": "2022-12-24T15:20:13.832Z"
   },
   {
    "duration": 179,
    "start_time": "2022-12-24T15:20:42.720Z"
   },
   {
    "duration": 143,
    "start_time": "2022-12-24T15:21:20.073Z"
   },
   {
    "duration": 333,
    "start_time": "2022-12-24T15:22:03.372Z"
   },
   {
    "duration": 154,
    "start_time": "2022-12-24T15:22:10.678Z"
   },
   {
    "duration": 276,
    "start_time": "2022-12-24T15:22:17.954Z"
   },
   {
    "duration": 294,
    "start_time": "2022-12-24T15:22:24.123Z"
   },
   {
    "duration": 841,
    "start_time": "2022-12-24T15:22:47.635Z"
   },
   {
    "duration": 170,
    "start_time": "2022-12-24T15:23:11.020Z"
   },
   {
    "duration": 165,
    "start_time": "2022-12-24T15:28:39.022Z"
   },
   {
    "duration": 140,
    "start_time": "2022-12-24T15:28:53.657Z"
   },
   {
    "duration": 184,
    "start_time": "2022-12-24T15:29:02.066Z"
   },
   {
    "duration": 169,
    "start_time": "2022-12-24T15:30:39.108Z"
   },
   {
    "duration": 155,
    "start_time": "2022-12-24T15:30:44.003Z"
   },
   {
    "duration": 196,
    "start_time": "2022-12-24T15:30:49.142Z"
   },
   {
    "duration": 128,
    "start_time": "2022-12-24T15:34:49.853Z"
   },
   {
    "duration": 142,
    "start_time": "2022-12-24T15:35:05.704Z"
   },
   {
    "duration": 164,
    "start_time": "2022-12-24T15:37:33.063Z"
   },
   {
    "duration": 187,
    "start_time": "2022-12-24T15:38:19.406Z"
   },
   {
    "duration": 231,
    "start_time": "2022-12-24T15:38:44.775Z"
   },
   {
    "duration": 216,
    "start_time": "2022-12-24T15:38:53.444Z"
   },
   {
    "duration": 292,
    "start_time": "2022-12-24T15:38:59.156Z"
   },
   {
    "duration": 298,
    "start_time": "2022-12-24T15:39:07.639Z"
   },
   {
    "duration": 139,
    "start_time": "2022-12-24T15:41:57.807Z"
   },
   {
    "duration": 112,
    "start_time": "2022-12-24T15:42:07.336Z"
   },
   {
    "duration": 56,
    "start_time": "2022-12-24T15:43:00.735Z"
   },
   {
    "duration": 59,
    "start_time": "2022-12-24T15:43:26.119Z"
   },
   {
    "duration": 42,
    "start_time": "2022-12-24T15:43:34.735Z"
   },
   {
    "duration": 188,
    "start_time": "2022-12-24T15:43:45.509Z"
   },
   {
    "duration": 699,
    "start_time": "2022-12-24T15:46:25.365Z"
   },
   {
    "duration": 14,
    "start_time": "2022-12-24T15:46:26.067Z"
   },
   {
    "duration": 1890,
    "start_time": "2022-12-24T15:46:26.082Z"
   },
   {
    "duration": 5,
    "start_time": "2022-12-24T15:46:27.974Z"
   },
   {
    "duration": 11,
    "start_time": "2022-12-24T15:46:27.981Z"
   },
   {
    "duration": 5,
    "start_time": "2022-12-24T15:46:27.993Z"
   },
   {
    "duration": 11,
    "start_time": "2022-12-24T15:46:27.999Z"
   },
   {
    "duration": 1306,
    "start_time": "2022-12-24T15:46:28.011Z"
   },
   {
    "duration": 8,
    "start_time": "2022-12-24T15:46:29.318Z"
   },
   {
    "duration": 1382,
    "start_time": "2022-12-24T15:46:29.329Z"
   },
   {
    "duration": 1421,
    "start_time": "2022-12-24T15:46:30.713Z"
   },
   {
    "duration": 4,
    "start_time": "2022-12-24T15:46:32.136Z"
   },
   {
    "duration": 7774,
    "start_time": "2022-12-24T15:46:32.142Z"
   },
   {
    "duration": 1358,
    "start_time": "2022-12-24T15:46:39.917Z"
   },
   {
    "duration": 9,
    "start_time": "2022-12-24T15:46:41.277Z"
   },
   {
    "duration": 7,
    "start_time": "2022-12-24T15:46:41.287Z"
   },
   {
    "duration": 33,
    "start_time": "2022-12-24T15:46:41.295Z"
   },
   {
    "duration": 95,
    "start_time": "2022-12-24T15:46:41.329Z"
   },
   {
    "duration": 9,
    "start_time": "2022-12-24T15:46:41.426Z"
   },
   {
    "duration": 13,
    "start_time": "2022-12-24T15:46:41.437Z"
   },
   {
    "duration": 1344,
    "start_time": "2022-12-24T15:46:41.451Z"
   },
   {
    "duration": 3,
    "start_time": "2022-12-24T15:46:42.797Z"
   },
   {
    "duration": 1359,
    "start_time": "2022-12-24T15:46:42.802Z"
   },
   {
    "duration": 7,
    "start_time": "2022-12-24T15:46:44.163Z"
   },
   {
    "duration": 14,
    "start_time": "2022-12-24T15:46:44.171Z"
   },
   {
    "duration": 10,
    "start_time": "2022-12-24T15:46:44.186Z"
   },
   {
    "duration": 36,
    "start_time": "2022-12-24T15:46:44.198Z"
   },
   {
    "duration": 14,
    "start_time": "2022-12-24T15:46:44.240Z"
   },
   {
    "duration": 11,
    "start_time": "2022-12-24T15:46:44.256Z"
   },
   {
    "duration": 639,
    "start_time": "2022-12-24T15:46:44.269Z"
   },
   {
    "duration": 716,
    "start_time": "2022-12-24T15:46:44.909Z"
   },
   {
    "duration": 225,
    "start_time": "2022-12-24T15:46:45.633Z"
   },
   {
    "duration": 222,
    "start_time": "2022-12-24T15:46:45.860Z"
   },
   {
    "duration": 277,
    "start_time": "2022-12-24T15:46:46.084Z"
   },
   {
    "duration": 154,
    "start_time": "2022-12-24T15:46:46.363Z"
   },
   {
    "duration": 1122,
    "start_time": "2022-12-24T15:46:46.523Z"
   },
   {
    "duration": 296,
    "start_time": "2022-12-24T15:46:47.647Z"
   },
   {
    "duration": 238,
    "start_time": "2022-12-24T15:46:47.946Z"
   },
   {
    "duration": 6,
    "start_time": "2022-12-24T15:46:48.186Z"
   },
   {
    "duration": 205,
    "start_time": "2022-12-24T15:46:48.194Z"
   },
   {
    "duration": 412,
    "start_time": "2022-12-24T15:46:48.401Z"
   },
   {
    "duration": 85,
    "start_time": "2022-12-24T15:46:48.815Z"
   },
   {
    "duration": 0,
    "start_time": "2022-12-24T15:46:48.902Z"
   },
   {
    "duration": 0,
    "start_time": "2022-12-24T15:46:48.903Z"
   },
   {
    "duration": 0,
    "start_time": "2022-12-24T15:46:48.905Z"
   },
   {
    "duration": 0,
    "start_time": "2022-12-24T15:46:48.906Z"
   },
   {
    "duration": 0,
    "start_time": "2022-12-24T15:46:48.907Z"
   },
   {
    "duration": 0,
    "start_time": "2022-12-24T15:46:48.908Z"
   },
   {
    "duration": 0,
    "start_time": "2022-12-24T15:46:48.923Z"
   },
   {
    "duration": 0,
    "start_time": "2022-12-24T15:46:48.923Z"
   },
   {
    "duration": 0,
    "start_time": "2022-12-24T15:46:48.924Z"
   },
   {
    "duration": 18,
    "start_time": "2022-12-24T15:47:03.206Z"
   },
   {
    "duration": 205,
    "start_time": "2022-12-24T15:47:06.149Z"
   },
   {
    "duration": 215,
    "start_time": "2022-12-24T15:47:08.735Z"
   },
   {
    "duration": 206,
    "start_time": "2022-12-24T15:47:12.702Z"
   },
   {
    "duration": 231,
    "start_time": "2022-12-24T15:47:15.283Z"
   },
   {
    "duration": 1880,
    "start_time": "2022-12-24T15:47:29.866Z"
   },
   {
    "duration": 203,
    "start_time": "2022-12-24T15:47:36.506Z"
   },
   {
    "duration": 2015,
    "start_time": "2022-12-24T15:47:56.500Z"
   },
   {
    "duration": 193,
    "start_time": "2022-12-24T15:48:04.876Z"
   },
   {
    "duration": 810,
    "start_time": "2022-12-24T15:48:12.800Z"
   },
   {
    "duration": 27,
    "start_time": "2022-12-24T15:48:13.612Z"
   },
   {
    "duration": 2055,
    "start_time": "2022-12-24T15:48:13.641Z"
   },
   {
    "duration": 5,
    "start_time": "2022-12-24T15:48:15.698Z"
   },
   {
    "duration": 10,
    "start_time": "2022-12-24T15:48:15.705Z"
   },
   {
    "duration": 7,
    "start_time": "2022-12-24T15:48:15.717Z"
   },
   {
    "duration": 18,
    "start_time": "2022-12-24T15:48:15.725Z"
   },
   {
    "duration": 1352,
    "start_time": "2022-12-24T15:48:15.745Z"
   },
   {
    "duration": 7,
    "start_time": "2022-12-24T15:48:17.098Z"
   },
   {
    "duration": 1446,
    "start_time": "2022-12-24T15:48:17.107Z"
   },
   {
    "duration": 1386,
    "start_time": "2022-12-24T15:48:18.555Z"
   },
   {
    "duration": 4,
    "start_time": "2022-12-24T15:48:19.942Z"
   },
   {
    "duration": 7629,
    "start_time": "2022-12-24T15:48:19.948Z"
   },
   {
    "duration": 1255,
    "start_time": "2022-12-24T15:48:27.579Z"
   },
   {
    "duration": 11,
    "start_time": "2022-12-24T15:48:28.835Z"
   },
   {
    "duration": 5,
    "start_time": "2022-12-24T15:48:28.848Z"
   },
   {
    "duration": 15,
    "start_time": "2022-12-24T15:48:28.854Z"
   },
   {
    "duration": 109,
    "start_time": "2022-12-24T15:48:28.871Z"
   },
   {
    "duration": 5,
    "start_time": "2022-12-24T15:48:28.981Z"
   },
   {
    "duration": 8,
    "start_time": "2022-12-24T15:48:28.988Z"
   },
   {
    "duration": 1233,
    "start_time": "2022-12-24T15:48:28.997Z"
   },
   {
    "duration": 1841,
    "start_time": "2022-12-24T15:48:30.236Z"
   },
   {
    "duration": 1236,
    "start_time": "2022-12-24T15:48:32.078Z"
   },
   {
    "duration": 20,
    "start_time": "2022-12-24T15:48:33.315Z"
   },
   {
    "duration": 30,
    "start_time": "2022-12-24T15:48:33.337Z"
   },
   {
    "duration": 9,
    "start_time": "2022-12-24T15:48:33.369Z"
   },
   {
    "duration": 10,
    "start_time": "2022-12-24T15:48:33.380Z"
   },
   {
    "duration": 13,
    "start_time": "2022-12-24T15:48:33.394Z"
   },
   {
    "duration": 22,
    "start_time": "2022-12-24T15:48:33.409Z"
   },
   {
    "duration": 632,
    "start_time": "2022-12-24T15:48:33.432Z"
   },
   {
    "duration": 717,
    "start_time": "2022-12-24T15:48:34.066Z"
   },
   {
    "duration": 172,
    "start_time": "2022-12-24T15:48:34.784Z"
   },
   {
    "duration": 179,
    "start_time": "2022-12-24T15:48:34.958Z"
   },
   {
    "duration": 327,
    "start_time": "2022-12-24T15:48:35.139Z"
   },
   {
    "duration": 192,
    "start_time": "2022-12-24T15:48:35.468Z"
   },
   {
    "duration": 1211,
    "start_time": "2022-12-24T15:48:35.662Z"
   },
   {
    "duration": 333,
    "start_time": "2022-12-24T15:48:36.876Z"
   },
   {
    "duration": 186,
    "start_time": "2022-12-24T15:48:37.211Z"
   },
   {
    "duration": 6,
    "start_time": "2022-12-24T15:48:37.399Z"
   },
   {
    "duration": 156,
    "start_time": "2022-12-24T15:48:37.407Z"
   },
   {
    "duration": 401,
    "start_time": "2022-12-24T15:48:37.565Z"
   },
   {
    "duration": 16,
    "start_time": "2022-12-24T15:48:37.967Z"
   },
   {
    "duration": 261,
    "start_time": "2022-12-24T15:48:37.984Z"
   },
   {
    "duration": 228,
    "start_time": "2022-12-24T15:48:38.247Z"
   },
   {
    "duration": 234,
    "start_time": "2022-12-24T15:48:38.477Z"
   },
   {
    "duration": 197,
    "start_time": "2022-12-24T15:48:38.713Z"
   },
   {
    "duration": 19,
    "start_time": "2022-12-24T15:48:38.912Z"
   },
   {
    "duration": 41,
    "start_time": "2022-12-24T15:48:38.933Z"
   },
   {
    "duration": 8,
    "start_time": "2022-12-24T15:48:38.976Z"
   },
   {
    "duration": 165,
    "start_time": "2022-12-24T15:48:38.986Z"
   },
   {
    "duration": 3,
    "start_time": "2022-12-24T15:48:39.152Z"
   },
   {
    "duration": 3,
    "start_time": "2022-12-24T15:49:07.414Z"
   },
   {
    "duration": 221,
    "start_time": "2022-12-24T15:49:13.616Z"
   },
   {
    "duration": 814,
    "start_time": "2022-12-24T15:49:19.740Z"
   },
   {
    "duration": 21,
    "start_time": "2022-12-24T15:49:20.556Z"
   },
   {
    "duration": 1956,
    "start_time": "2022-12-24T15:49:20.579Z"
   },
   {
    "duration": 5,
    "start_time": "2022-12-24T15:49:22.538Z"
   },
   {
    "duration": 12,
    "start_time": "2022-12-24T15:49:22.544Z"
   },
   {
    "duration": 6,
    "start_time": "2022-12-24T15:49:22.557Z"
   },
   {
    "duration": 9,
    "start_time": "2022-12-24T15:49:22.564Z"
   },
   {
    "duration": 1360,
    "start_time": "2022-12-24T15:49:22.575Z"
   },
   {
    "duration": 7,
    "start_time": "2022-12-24T15:49:23.937Z"
   },
   {
    "duration": 1420,
    "start_time": "2022-12-24T15:49:23.946Z"
   },
   {
    "duration": 1476,
    "start_time": "2022-12-24T15:49:25.369Z"
   },
   {
    "duration": 4,
    "start_time": "2022-12-24T15:49:26.847Z"
   },
   {
    "duration": 7781,
    "start_time": "2022-12-24T15:49:26.853Z"
   },
   {
    "duration": 1313,
    "start_time": "2022-12-24T15:49:34.636Z"
   },
   {
    "duration": 8,
    "start_time": "2022-12-24T15:49:35.951Z"
   },
   {
    "duration": 9,
    "start_time": "2022-12-24T15:49:35.960Z"
   },
   {
    "duration": 21,
    "start_time": "2022-12-24T15:49:35.970Z"
   },
   {
    "duration": 101,
    "start_time": "2022-12-24T15:49:35.993Z"
   },
   {
    "duration": 5,
    "start_time": "2022-12-24T15:49:36.096Z"
   },
   {
    "duration": 5,
    "start_time": "2022-12-24T15:49:36.103Z"
   },
   {
    "duration": 1236,
    "start_time": "2022-12-24T15:49:36.110Z"
   },
   {
    "duration": 2,
    "start_time": "2022-12-24T15:49:37.348Z"
   },
   {
    "duration": 1199,
    "start_time": "2022-12-24T15:49:37.352Z"
   },
   {
    "duration": 7,
    "start_time": "2022-12-24T15:49:38.552Z"
   },
   {
    "duration": 14,
    "start_time": "2022-12-24T15:49:38.560Z"
   },
   {
    "duration": 10,
    "start_time": "2022-12-24T15:49:38.575Z"
   },
   {
    "duration": 10,
    "start_time": "2022-12-24T15:49:38.586Z"
   },
   {
    "duration": 13,
    "start_time": "2022-12-24T15:49:38.622Z"
   },
   {
    "duration": 11,
    "start_time": "2022-12-24T15:49:38.639Z"
   },
   {
    "duration": 633,
    "start_time": "2022-12-24T15:49:38.652Z"
   },
   {
    "duration": 663,
    "start_time": "2022-12-24T15:49:39.287Z"
   },
   {
    "duration": 187,
    "start_time": "2022-12-24T15:49:39.952Z"
   },
   {
    "duration": 158,
    "start_time": "2022-12-24T15:49:40.141Z"
   },
   {
    "duration": 287,
    "start_time": "2022-12-24T15:49:40.300Z"
   },
   {
    "duration": 121,
    "start_time": "2022-12-24T15:49:40.589Z"
   },
   {
    "duration": 1041,
    "start_time": "2022-12-24T15:49:40.712Z"
   },
   {
    "duration": 283,
    "start_time": "2022-12-24T15:49:41.755Z"
   },
   {
    "duration": 185,
    "start_time": "2022-12-24T15:49:42.040Z"
   },
   {
    "duration": 11,
    "start_time": "2022-12-24T15:49:42.226Z"
   },
   {
    "duration": 139,
    "start_time": "2022-12-24T15:49:42.239Z"
   },
   {
    "duration": 398,
    "start_time": "2022-12-24T15:49:42.380Z"
   },
   {
    "duration": 21,
    "start_time": "2022-12-24T15:49:42.781Z"
   },
   {
    "duration": 237,
    "start_time": "2022-12-24T15:49:42.804Z"
   },
   {
    "duration": 221,
    "start_time": "2022-12-24T15:49:43.043Z"
   },
   {
    "duration": 215,
    "start_time": "2022-12-24T15:49:43.265Z"
   },
   {
    "duration": 212,
    "start_time": "2022-12-24T15:49:43.481Z"
   },
   {
    "duration": 10,
    "start_time": "2022-12-24T15:49:43.695Z"
   },
   {
    "duration": 47,
    "start_time": "2022-12-24T15:49:43.707Z"
   },
   {
    "duration": 10,
    "start_time": "2022-12-24T15:49:43.756Z"
   },
   {
    "duration": 180,
    "start_time": "2022-12-24T15:49:43.768Z"
   },
   {
    "duration": 2,
    "start_time": "2022-12-24T15:49:43.950Z"
   },
   {
    "duration": 1889,
    "start_time": "2022-12-24T15:50:13.253Z"
   },
   {
    "duration": 185,
    "start_time": "2022-12-24T15:50:21.705Z"
   },
   {
    "duration": 749,
    "start_time": "2022-12-24T15:53:05.058Z"
   },
   {
    "duration": 16,
    "start_time": "2022-12-24T15:53:05.809Z"
   },
   {
    "duration": 1858,
    "start_time": "2022-12-24T15:53:05.826Z"
   },
   {
    "duration": 5,
    "start_time": "2022-12-24T15:53:07.686Z"
   },
   {
    "duration": 12,
    "start_time": "2022-12-24T15:53:07.693Z"
   },
   {
    "duration": 5,
    "start_time": "2022-12-24T15:53:07.707Z"
   },
   {
    "duration": 7,
    "start_time": "2022-12-24T15:53:07.713Z"
   },
   {
    "duration": 1223,
    "start_time": "2022-12-24T15:53:07.722Z"
   },
   {
    "duration": 6,
    "start_time": "2022-12-24T15:53:08.946Z"
   },
   {
    "duration": 1290,
    "start_time": "2022-12-24T15:53:08.954Z"
   },
   {
    "duration": 1347,
    "start_time": "2022-12-24T15:53:10.246Z"
   },
   {
    "duration": 4,
    "start_time": "2022-12-24T15:53:11.595Z"
   },
   {
    "duration": 7236,
    "start_time": "2022-12-24T15:53:11.600Z"
   },
   {
    "duration": 1188,
    "start_time": "2022-12-24T15:53:18.838Z"
   },
   {
    "duration": 8,
    "start_time": "2022-12-24T15:53:20.027Z"
   },
   {
    "duration": 9,
    "start_time": "2022-12-24T15:53:20.036Z"
   },
   {
    "duration": 20,
    "start_time": "2022-12-24T15:53:20.046Z"
   },
   {
    "duration": 99,
    "start_time": "2022-12-24T15:53:20.067Z"
   },
   {
    "duration": 7,
    "start_time": "2022-12-24T15:53:20.167Z"
   },
   {
    "duration": 9,
    "start_time": "2022-12-24T15:53:20.175Z"
   },
   {
    "duration": 1147,
    "start_time": "2022-12-24T15:53:20.186Z"
   },
   {
    "duration": 1114,
    "start_time": "2022-12-24T15:53:21.335Z"
   },
   {
    "duration": 1684,
    "start_time": "2022-12-24T15:53:22.451Z"
   },
   {
    "duration": 9,
    "start_time": "2022-12-24T15:53:24.137Z"
   },
   {
    "duration": 10,
    "start_time": "2022-12-24T15:53:24.147Z"
   },
   {
    "duration": 12,
    "start_time": "2022-12-24T15:53:24.158Z"
   },
   {
    "duration": 9,
    "start_time": "2022-12-24T15:53:24.172Z"
   },
   {
    "duration": 9,
    "start_time": "2022-12-24T15:53:24.183Z"
   },
   {
    "duration": 35,
    "start_time": "2022-12-24T15:53:24.193Z"
   },
   {
    "duration": 595,
    "start_time": "2022-12-24T15:53:24.230Z"
   },
   {
    "duration": 713,
    "start_time": "2022-12-24T15:53:24.827Z"
   },
   {
    "duration": 156,
    "start_time": "2022-12-24T15:53:25.541Z"
   },
   {
    "duration": 149,
    "start_time": "2022-12-24T15:53:25.699Z"
   },
   {
    "duration": 253,
    "start_time": "2022-12-24T15:53:25.850Z"
   },
   {
    "duration": 123,
    "start_time": "2022-12-24T15:53:26.105Z"
   },
   {
    "duration": 980,
    "start_time": "2022-12-24T15:53:26.229Z"
   },
   {
    "duration": 277,
    "start_time": "2022-12-24T15:53:27.211Z"
   },
   {
    "duration": 173,
    "start_time": "2022-12-24T15:53:27.489Z"
   },
   {
    "duration": 5,
    "start_time": "2022-12-24T15:53:27.664Z"
   },
   {
    "duration": 145,
    "start_time": "2022-12-24T15:53:27.670Z"
   },
   {
    "duration": 384,
    "start_time": "2022-12-24T15:53:27.816Z"
   },
   {
    "duration": 21,
    "start_time": "2022-12-24T15:53:28.202Z"
   },
   {
    "duration": 211,
    "start_time": "2022-12-24T15:53:28.225Z"
   },
   {
    "duration": 212,
    "start_time": "2022-12-24T15:53:28.438Z"
   },
   {
    "duration": 200,
    "start_time": "2022-12-24T15:53:28.651Z"
   },
   {
    "duration": 195,
    "start_time": "2022-12-24T15:53:28.853Z"
   },
   {
    "duration": 10,
    "start_time": "2022-12-24T15:53:29.050Z"
   },
   {
    "duration": 27,
    "start_time": "2022-12-24T15:53:29.062Z"
   },
   {
    "duration": 7,
    "start_time": "2022-12-24T15:53:29.091Z"
   },
   {
    "duration": 154,
    "start_time": "2022-12-24T15:53:29.121Z"
   },
   {
    "duration": 2,
    "start_time": "2022-12-24T15:53:29.277Z"
   },
   {
    "duration": 95,
    "start_time": "2022-12-24T16:00:14.718Z"
   },
   {
    "duration": 60,
    "start_time": "2022-12-24T16:01:07.606Z"
   },
   {
    "duration": 63,
    "start_time": "2022-12-24T16:01:31.147Z"
   },
   {
    "duration": 36,
    "start_time": "2022-12-24T16:01:43.858Z"
   },
   {
    "duration": 37,
    "start_time": "2022-12-24T16:01:49.306Z"
   },
   {
    "duration": 37,
    "start_time": "2022-12-24T16:02:12.191Z"
   },
   {
    "duration": 36,
    "start_time": "2022-12-24T16:03:13.427Z"
   },
   {
    "duration": 34,
    "start_time": "2022-12-24T16:03:28.950Z"
   },
   {
    "duration": 54,
    "start_time": "2022-12-24T16:03:35.146Z"
   },
   {
    "duration": 35,
    "start_time": "2022-12-24T16:03:38.317Z"
   },
   {
    "duration": 37,
    "start_time": "2022-12-24T16:03:42.904Z"
   },
   {
    "duration": 55,
    "start_time": "2022-12-24T16:03:48.590Z"
   },
   {
    "duration": 38,
    "start_time": "2022-12-24T16:03:57.200Z"
   },
   {
    "duration": 84,
    "start_time": "2022-12-24T16:05:47.342Z"
   },
   {
    "duration": 80,
    "start_time": "2022-12-24T16:05:57.459Z"
   },
   {
    "duration": 50,
    "start_time": "2022-12-24T16:07:09.869Z"
   },
   {
    "duration": 85,
    "start_time": "2022-12-24T16:07:20.494Z"
   },
   {
    "duration": 59,
    "start_time": "2022-12-24T16:07:35.484Z"
   },
   {
    "duration": 55,
    "start_time": "2022-12-24T16:07:55.667Z"
   },
   {
    "duration": 48,
    "start_time": "2022-12-24T16:08:13.415Z"
   },
   {
    "duration": 7,
    "start_time": "2022-12-24T16:15:36.951Z"
   },
   {
    "duration": 594,
    "start_time": "2022-12-24T16:29:06.124Z"
   },
   {
    "duration": 1036,
    "start_time": "2022-12-24T16:29:30.145Z"
   },
   {
    "duration": 727,
    "start_time": "2022-12-24T16:33:03.781Z"
   },
   {
    "duration": 13,
    "start_time": "2022-12-24T16:33:04.509Z"
   },
   {
    "duration": 1811,
    "start_time": "2022-12-24T16:33:04.523Z"
   },
   {
    "duration": 5,
    "start_time": "2022-12-24T16:33:06.336Z"
   },
   {
    "duration": 11,
    "start_time": "2022-12-24T16:33:06.343Z"
   },
   {
    "duration": 4,
    "start_time": "2022-12-24T16:33:06.355Z"
   },
   {
    "duration": 15,
    "start_time": "2022-12-24T16:33:06.361Z"
   },
   {
    "duration": 1173,
    "start_time": "2022-12-24T16:33:06.377Z"
   },
   {
    "duration": 5,
    "start_time": "2022-12-24T16:33:07.552Z"
   },
   {
    "duration": 1253,
    "start_time": "2022-12-24T16:33:07.559Z"
   },
   {
    "duration": 1277,
    "start_time": "2022-12-24T16:33:08.814Z"
   },
   {
    "duration": 5,
    "start_time": "2022-12-24T16:33:10.093Z"
   },
   {
    "duration": 13200,
    "start_time": "2022-12-24T16:33:10.101Z"
   },
   {
    "duration": 2531,
    "start_time": "2022-12-24T16:33:23.303Z"
   },
   {
    "duration": 64,
    "start_time": "2022-12-24T16:33:25.836Z"
   },
   {
    "duration": 5,
    "start_time": "2022-12-24T16:33:25.901Z"
   },
   {
    "duration": 14,
    "start_time": "2022-12-24T16:33:25.908Z"
   },
   {
    "duration": 195,
    "start_time": "2022-12-24T16:33:25.924Z"
   },
   {
    "duration": 6,
    "start_time": "2022-12-24T16:33:26.121Z"
   },
   {
    "duration": 2473,
    "start_time": "2022-12-24T16:33:26.129Z"
   },
   {
    "duration": 2305,
    "start_time": "2022-12-24T16:33:28.603Z"
   },
   {
    "duration": 3794,
    "start_time": "2022-12-24T16:33:30.910Z"
   },
   {
    "duration": 10,
    "start_time": "2022-12-24T16:33:34.706Z"
   },
   {
    "duration": 26,
    "start_time": "2022-12-24T16:33:34.718Z"
   },
   {
    "duration": 24,
    "start_time": "2022-12-24T16:33:34.799Z"
   },
   {
    "duration": 16,
    "start_time": "2022-12-24T16:33:34.825Z"
   },
   {
    "duration": 65,
    "start_time": "2022-12-24T16:33:34.842Z"
   },
   {
    "duration": 36,
    "start_time": "2022-12-24T16:33:34.912Z"
   },
   {
    "duration": 1266,
    "start_time": "2022-12-24T16:33:34.950Z"
   },
   {
    "duration": 692,
    "start_time": "2022-12-24T16:33:36.217Z"
   },
   {
    "duration": 147,
    "start_time": "2022-12-24T16:33:36.910Z"
   },
   {
    "duration": 152,
    "start_time": "2022-12-24T16:33:37.059Z"
   },
   {
    "duration": 230,
    "start_time": "2022-12-24T16:33:37.213Z"
   },
   {
    "duration": 113,
    "start_time": "2022-12-24T16:33:37.445Z"
   },
   {
    "duration": 909,
    "start_time": "2022-12-24T16:33:37.559Z"
   },
   {
    "duration": 245,
    "start_time": "2022-12-24T16:33:38.469Z"
   },
   {
    "duration": 158,
    "start_time": "2022-12-24T16:33:38.715Z"
   },
   {
    "duration": 5,
    "start_time": "2022-12-24T16:33:38.874Z"
   },
   {
    "duration": 132,
    "start_time": "2022-12-24T16:33:38.881Z"
   },
   {
    "duration": 332,
    "start_time": "2022-12-24T16:33:39.015Z"
   },
   {
    "duration": 14,
    "start_time": "2022-12-24T16:33:39.349Z"
   },
   {
    "duration": 205,
    "start_time": "2022-12-24T16:33:39.364Z"
   },
   {
    "duration": 200,
    "start_time": "2022-12-24T16:33:39.571Z"
   },
   {
    "duration": 188,
    "start_time": "2022-12-24T16:33:39.773Z"
   },
   {
    "duration": 201,
    "start_time": "2022-12-24T16:33:39.964Z"
   },
   {
    "duration": 8,
    "start_time": "2022-12-24T16:33:40.167Z"
   },
   {
    "duration": 51,
    "start_time": "2022-12-24T16:33:40.177Z"
   },
   {
    "duration": 134,
    "start_time": "2022-12-24T16:33:40.230Z"
   },
   {
    "duration": 14,
    "start_time": "2022-12-24T16:38:32.117Z"
   },
   {
    "duration": 97,
    "start_time": "2022-12-24T16:38:35.937Z"
   },
   {
    "duration": 7,
    "start_time": "2022-12-24T16:39:09.720Z"
   },
   {
    "duration": 817,
    "start_time": "2022-12-25T09:19:54.673Z"
   },
   {
    "duration": 324,
    "start_time": "2022-12-25T09:19:55.492Z"
   },
   {
    "duration": 19,
    "start_time": "2022-12-25T09:19:55.818Z"
   },
   {
    "duration": 2105,
    "start_time": "2022-12-25T09:19:55.839Z"
   },
   {
    "duration": 5,
    "start_time": "2022-12-25T09:19:57.979Z"
   },
   {
    "duration": 14,
    "start_time": "2022-12-25T09:19:57.986Z"
   },
   {
    "duration": 19,
    "start_time": "2022-12-25T09:19:58.002Z"
   },
   {
    "duration": 21,
    "start_time": "2022-12-25T09:19:58.022Z"
   },
   {
    "duration": 1324,
    "start_time": "2022-12-25T09:19:58.044Z"
   },
   {
    "duration": 7,
    "start_time": "2022-12-25T09:19:59.371Z"
   },
   {
    "duration": 1304,
    "start_time": "2022-12-25T09:19:59.380Z"
   },
   {
    "duration": 1387,
    "start_time": "2022-12-25T09:20:00.685Z"
   },
   {
    "duration": 4,
    "start_time": "2022-12-25T09:20:02.074Z"
   },
   {
    "duration": 7352,
    "start_time": "2022-12-25T09:20:02.079Z"
   },
   {
    "duration": 1213,
    "start_time": "2022-12-25T09:20:09.433Z"
   },
   {
    "duration": 8,
    "start_time": "2022-12-25T09:20:10.647Z"
   },
   {
    "duration": 5,
    "start_time": "2022-12-25T09:20:10.657Z"
   },
   {
    "duration": 13,
    "start_time": "2022-12-25T09:20:10.678Z"
   },
   {
    "duration": 103,
    "start_time": "2022-12-25T09:20:10.692Z"
   },
   {
    "duration": 7,
    "start_time": "2022-12-25T09:20:10.797Z"
   },
   {
    "duration": 1243,
    "start_time": "2022-12-25T09:20:10.805Z"
   },
   {
    "duration": 1143,
    "start_time": "2022-12-25T09:20:12.049Z"
   },
   {
    "duration": 1724,
    "start_time": "2022-12-25T09:20:13.194Z"
   },
   {
    "duration": 7,
    "start_time": "2022-12-25T09:20:14.920Z"
   },
   {
    "duration": 31,
    "start_time": "2022-12-25T09:20:14.928Z"
   },
   {
    "duration": 10,
    "start_time": "2022-12-25T09:20:14.960Z"
   },
   {
    "duration": 27,
    "start_time": "2022-12-25T09:20:14.972Z"
   },
   {
    "duration": 17,
    "start_time": "2022-12-25T09:20:15.003Z"
   },
   {
    "duration": 45,
    "start_time": "2022-12-25T09:20:15.021Z"
   },
   {
    "duration": 654,
    "start_time": "2022-12-25T09:20:15.069Z"
   },
   {
    "duration": 741,
    "start_time": "2022-12-25T09:20:15.725Z"
   },
   {
    "duration": 176,
    "start_time": "2022-12-25T09:20:16.468Z"
   },
   {
    "duration": 181,
    "start_time": "2022-12-25T09:20:16.646Z"
   },
   {
    "duration": 288,
    "start_time": "2022-12-25T09:20:16.829Z"
   },
   {
    "duration": 144,
    "start_time": "2022-12-25T09:20:17.120Z"
   },
   {
    "duration": 1207,
    "start_time": "2022-12-25T09:20:17.266Z"
   },
   {
    "duration": 299,
    "start_time": "2022-12-25T09:20:18.479Z"
   },
   {
    "duration": 191,
    "start_time": "2022-12-25T09:20:18.781Z"
   },
   {
    "duration": 5,
    "start_time": "2022-12-25T09:20:18.978Z"
   },
   {
    "duration": 156,
    "start_time": "2022-12-25T09:20:18.985Z"
   },
   {
    "duration": 413,
    "start_time": "2022-12-25T09:20:19.143Z"
   },
   {
    "duration": 22,
    "start_time": "2022-12-25T09:20:19.558Z"
   },
   {
    "duration": 225,
    "start_time": "2022-12-25T09:20:19.582Z"
   },
   {
    "duration": 233,
    "start_time": "2022-12-25T09:20:19.808Z"
   },
   {
    "duration": 220,
    "start_time": "2022-12-25T09:20:20.043Z"
   },
   {
    "duration": 199,
    "start_time": "2022-12-25T09:20:20.265Z"
   },
   {
    "duration": 13,
    "start_time": "2022-12-25T09:20:20.465Z"
   },
   {
    "duration": 42,
    "start_time": "2022-12-25T09:20:20.480Z"
   },
   {
    "duration": 159,
    "start_time": "2022-12-25T09:20:20.524Z"
   },
   {
    "duration": 2716,
    "start_time": "2022-12-25T09:23:20.541Z"
   },
   {
    "duration": 2709,
    "start_time": "2022-12-25T09:23:35.209Z"
   },
   {
    "duration": 2701,
    "start_time": "2022-12-25T09:23:44.458Z"
   },
   {
    "duration": 1203,
    "start_time": "2022-12-25T09:32:26.780Z"
   },
   {
    "duration": 4,
    "start_time": "2022-12-25T12:02:31.517Z"
   },
   {
    "duration": 185,
    "start_time": "2022-12-25T12:03:15.677Z"
   },
   {
    "duration": 75,
    "start_time": "2022-12-25T12:03:28.700Z"
   },
   {
    "duration": 9,
    "start_time": "2022-12-25T12:03:34.501Z"
   },
   {
    "duration": 11,
    "start_time": "2022-12-25T12:03:46.514Z"
   },
   {
    "duration": 4,
    "start_time": "2022-12-25T12:04:05.955Z"
   },
   {
    "duration": 46,
    "start_time": "2022-12-25T12:09:08.022Z"
   },
   {
    "duration": 46,
    "start_time": "2022-12-25T12:09:21.201Z"
   },
   {
    "duration": 28,
    "start_time": "2022-12-25T12:09:32.821Z"
   },
   {
    "duration": 14,
    "start_time": "2022-12-25T12:09:41.338Z"
   },
   {
    "duration": 697,
    "start_time": "2022-12-26T10:56:43.549Z"
   },
   {
    "duration": 83,
    "start_time": "2022-12-26T10:56:54.490Z"
   },
   {
    "duration": 5,
    "start_time": "2022-12-26T10:57:03.049Z"
   },
   {
    "duration": 58,
    "start_time": "2022-12-26T10:57:22.997Z"
   },
   {
    "duration": 44,
    "start_time": "2022-12-26T10:57:27.953Z"
   },
   {
    "duration": 50,
    "start_time": "2022-12-26T10:57:50.444Z"
   },
   {
    "duration": 48,
    "start_time": "2022-12-26T10:58:12.684Z"
   },
   {
    "duration": 47,
    "start_time": "2022-12-26T10:58:18.667Z"
   },
   {
    "duration": 45,
    "start_time": "2022-12-26T10:58:36.028Z"
   },
   {
    "duration": 44,
    "start_time": "2022-12-26T10:58:38.946Z"
   },
   {
    "duration": 7,
    "start_time": "2022-12-26T10:58:47.168Z"
   },
   {
    "duration": 786,
    "start_time": "2022-12-26T10:58:51.888Z"
   },
   {
    "duration": 731,
    "start_time": "2022-12-26T10:58:52.676Z"
   },
   {
    "duration": 14,
    "start_time": "2022-12-26T10:58:53.408Z"
   },
   {
    "duration": 1887,
    "start_time": "2022-12-26T10:58:53.424Z"
   },
   {
    "duration": 5,
    "start_time": "2022-12-26T10:58:55.313Z"
   },
   {
    "duration": 29,
    "start_time": "2022-12-26T10:58:55.320Z"
   },
   {
    "duration": 13,
    "start_time": "2022-12-26T10:58:55.351Z"
   },
   {
    "duration": 17,
    "start_time": "2022-12-26T10:58:55.366Z"
   },
   {
    "duration": 21,
    "start_time": "2022-12-26T10:58:55.384Z"
   },
   {
    "duration": 13,
    "start_time": "2022-12-26T10:58:55.407Z"
   },
   {
    "duration": 1294,
    "start_time": "2022-12-26T10:58:55.421Z"
   },
   {
    "duration": 1261,
    "start_time": "2022-12-26T10:58:56.717Z"
   },
   {
    "duration": 3,
    "start_time": "2022-12-26T10:58:57.979Z"
   },
   {
    "duration": 10,
    "start_time": "2022-12-26T10:58:57.984Z"
   },
   {
    "duration": 4,
    "start_time": "2022-12-26T10:58:57.995Z"
   },
   {
    "duration": 20,
    "start_time": "2022-12-26T10:58:58.001Z"
   },
   {
    "duration": 98,
    "start_time": "2022-12-26T10:58:58.023Z"
   },
   {
    "duration": 6,
    "start_time": "2022-12-26T10:58:58.122Z"
   },
   {
    "duration": 1136,
    "start_time": "2022-12-26T10:58:58.129Z"
   },
   {
    "duration": 1086,
    "start_time": "2022-12-26T10:58:59.267Z"
   },
   {
    "duration": 1618,
    "start_time": "2022-12-26T10:59:00.355Z"
   },
   {
    "duration": 8,
    "start_time": "2022-12-26T10:59:01.975Z"
   },
   {
    "duration": 36,
    "start_time": "2022-12-26T10:59:01.985Z"
   },
   {
    "duration": 22,
    "start_time": "2022-12-26T10:59:02.023Z"
   },
   {
    "duration": 21,
    "start_time": "2022-12-26T10:59:02.046Z"
   },
   {
    "duration": 18,
    "start_time": "2022-12-26T10:59:02.069Z"
   },
   {
    "duration": 30,
    "start_time": "2022-12-26T10:59:02.089Z"
   },
   {
    "duration": 619,
    "start_time": "2022-12-26T10:59:02.124Z"
   },
   {
    "duration": 415,
    "start_time": "2022-12-26T10:59:02.745Z"
   },
   {
    "duration": 0,
    "start_time": "2022-12-26T10:59:03.162Z"
   },
   {
    "duration": 0,
    "start_time": "2022-12-26T10:59:03.163Z"
   },
   {
    "duration": 0,
    "start_time": "2022-12-26T10:59:03.165Z"
   },
   {
    "duration": 0,
    "start_time": "2022-12-26T10:59:03.166Z"
   },
   {
    "duration": 0,
    "start_time": "2022-12-26T10:59:03.166Z"
   },
   {
    "duration": 0,
    "start_time": "2022-12-26T10:59:03.168Z"
   },
   {
    "duration": 0,
    "start_time": "2022-12-26T10:59:03.169Z"
   },
   {
    "duration": 0,
    "start_time": "2022-12-26T10:59:03.170Z"
   },
   {
    "duration": 0,
    "start_time": "2022-12-26T10:59:03.172Z"
   },
   {
    "duration": 0,
    "start_time": "2022-12-26T10:59:03.174Z"
   },
   {
    "duration": 0,
    "start_time": "2022-12-26T10:59:03.175Z"
   },
   {
    "duration": 0,
    "start_time": "2022-12-26T10:59:03.177Z"
   },
   {
    "duration": 0,
    "start_time": "2022-12-26T10:59:03.178Z"
   },
   {
    "duration": 0,
    "start_time": "2022-12-26T10:59:03.180Z"
   },
   {
    "duration": 0,
    "start_time": "2022-12-26T10:59:03.181Z"
   },
   {
    "duration": 0,
    "start_time": "2022-12-26T10:59:03.182Z"
   },
   {
    "duration": 0,
    "start_time": "2022-12-26T10:59:03.213Z"
   },
   {
    "duration": 0,
    "start_time": "2022-12-26T10:59:03.214Z"
   },
   {
    "duration": 289,
    "start_time": "2022-12-26T10:59:24.598Z"
   },
   {
    "duration": 261,
    "start_time": "2022-12-26T10:59:30.251Z"
   },
   {
    "duration": 264,
    "start_time": "2022-12-26T10:59:37.748Z"
   },
   {
    "duration": 244,
    "start_time": "2022-12-26T10:59:42.276Z"
   },
   {
    "duration": 330,
    "start_time": "2022-12-26T10:59:58.397Z"
   },
   {
    "duration": 287,
    "start_time": "2022-12-26T11:00:03.247Z"
   },
   {
    "duration": 641,
    "start_time": "2022-12-26T11:00:15.478Z"
   },
   {
    "duration": 136,
    "start_time": "2022-12-26T11:00:16.121Z"
   },
   {
    "duration": 14,
    "start_time": "2022-12-26T11:00:16.258Z"
   },
   {
    "duration": 2017,
    "start_time": "2022-12-26T11:00:16.274Z"
   },
   {
    "duration": 5,
    "start_time": "2022-12-26T11:00:18.293Z"
   },
   {
    "duration": 15,
    "start_time": "2022-12-26T11:00:18.300Z"
   },
   {
    "duration": 5,
    "start_time": "2022-12-26T11:00:18.316Z"
   },
   {
    "duration": 10,
    "start_time": "2022-12-26T11:00:18.323Z"
   },
   {
    "duration": 4,
    "start_time": "2022-12-26T11:00:18.334Z"
   },
   {
    "duration": 10,
    "start_time": "2022-12-26T11:00:18.340Z"
   },
   {
    "duration": 1305,
    "start_time": "2022-12-26T11:00:18.351Z"
   },
   {
    "duration": 1321,
    "start_time": "2022-12-26T11:00:19.657Z"
   },
   {
    "duration": 4,
    "start_time": "2022-12-26T11:00:20.979Z"
   },
   {
    "duration": 29,
    "start_time": "2022-12-26T11:00:20.985Z"
   },
   {
    "duration": 5,
    "start_time": "2022-12-26T11:00:21.015Z"
   },
   {
    "duration": 36,
    "start_time": "2022-12-26T11:00:21.022Z"
   },
   {
    "duration": 102,
    "start_time": "2022-12-26T11:00:21.060Z"
   },
   {
    "duration": 7,
    "start_time": "2022-12-26T11:00:21.164Z"
   },
   {
    "duration": 1163,
    "start_time": "2022-12-26T11:00:21.172Z"
   },
   {
    "duration": 1060,
    "start_time": "2022-12-26T11:00:22.337Z"
   },
   {
    "duration": 1742,
    "start_time": "2022-12-26T11:00:23.400Z"
   },
   {
    "duration": 8,
    "start_time": "2022-12-26T11:00:25.144Z"
   },
   {
    "duration": 13,
    "start_time": "2022-12-26T11:00:25.154Z"
   },
   {
    "duration": 9,
    "start_time": "2022-12-26T11:00:25.168Z"
   },
   {
    "duration": 32,
    "start_time": "2022-12-26T11:00:25.181Z"
   },
   {
    "duration": 13,
    "start_time": "2022-12-26T11:00:25.215Z"
   },
   {
    "duration": 11,
    "start_time": "2022-12-26T11:00:25.230Z"
   },
   {
    "duration": 714,
    "start_time": "2022-12-26T11:00:25.247Z"
   },
   {
    "duration": 411,
    "start_time": "2022-12-26T11:00:25.963Z"
   },
   {
    "duration": 223,
    "start_time": "2022-12-26T11:00:26.376Z"
   },
   {
    "duration": 171,
    "start_time": "2022-12-26T11:00:26.601Z"
   },
   {
    "duration": 272,
    "start_time": "2022-12-26T11:00:26.774Z"
   },
   {
    "duration": 140,
    "start_time": "2022-12-26T11:00:27.048Z"
   },
   {
    "duration": 1085,
    "start_time": "2022-12-26T11:00:27.190Z"
   },
   {
    "duration": 296,
    "start_time": "2022-12-26T11:00:28.277Z"
   },
   {
    "duration": 180,
    "start_time": "2022-12-26T11:00:28.575Z"
   },
   {
    "duration": 6,
    "start_time": "2022-12-26T11:00:28.756Z"
   },
   {
    "duration": 154,
    "start_time": "2022-12-26T11:00:28.764Z"
   },
   {
    "duration": 282,
    "start_time": "2022-12-26T11:00:28.920Z"
   },
   {
    "duration": 23,
    "start_time": "2022-12-26T11:00:29.204Z"
   },
   {
    "duration": 250,
    "start_time": "2022-12-26T11:00:29.228Z"
   },
   {
    "duration": 233,
    "start_time": "2022-12-26T11:00:29.479Z"
   },
   {
    "duration": 206,
    "start_time": "2022-12-26T11:00:29.714Z"
   },
   {
    "duration": 214,
    "start_time": "2022-12-26T11:00:29.922Z"
   },
   {
    "duration": 9,
    "start_time": "2022-12-26T11:00:30.137Z"
   },
   {
    "duration": 79,
    "start_time": "2022-12-26T11:00:30.148Z"
   },
   {
    "duration": 246,
    "start_time": "2022-12-26T11:00:30.229Z"
   },
   {
    "duration": 426,
    "start_time": "2022-12-26T11:01:04.248Z"
   },
   {
    "duration": 270,
    "start_time": "2022-12-26T11:01:09.398Z"
   },
   {
    "duration": 279,
    "start_time": "2022-12-26T11:01:12.902Z"
   },
   {
    "duration": 135,
    "start_time": "2022-12-26T11:01:21.853Z"
   },
   {
    "duration": 295,
    "start_time": "2022-12-26T11:01:27.583Z"
   },
   {
    "duration": 596,
    "start_time": "2022-12-26T11:04:27.575Z"
   },
   {
    "duration": 125,
    "start_time": "2022-12-26T11:04:28.173Z"
   },
   {
    "duration": 24,
    "start_time": "2022-12-26T11:04:28.301Z"
   },
   {
    "duration": 1984,
    "start_time": "2022-12-26T11:04:28.327Z"
   },
   {
    "duration": 6,
    "start_time": "2022-12-26T11:04:30.314Z"
   },
   {
    "duration": 14,
    "start_time": "2022-12-26T11:04:30.321Z"
   },
   {
    "duration": 5,
    "start_time": "2022-12-26T11:04:30.337Z"
   },
   {
    "duration": 10,
    "start_time": "2022-12-26T11:04:30.343Z"
   },
   {
    "duration": 11,
    "start_time": "2022-12-26T11:04:30.354Z"
   },
   {
    "duration": 18,
    "start_time": "2022-12-26T11:04:30.366Z"
   },
   {
    "duration": 1309,
    "start_time": "2022-12-26T11:04:30.386Z"
   },
   {
    "duration": 1319,
    "start_time": "2022-12-26T11:04:31.697Z"
   },
   {
    "duration": 3,
    "start_time": "2022-12-26T11:04:33.018Z"
   },
   {
    "duration": 17,
    "start_time": "2022-12-26T11:04:33.025Z"
   },
   {
    "duration": 6,
    "start_time": "2022-12-26T11:04:33.044Z"
   },
   {
    "duration": 17,
    "start_time": "2022-12-26T11:04:33.052Z"
   },
   {
    "duration": 110,
    "start_time": "2022-12-26T11:04:33.071Z"
   },
   {
    "duration": 6,
    "start_time": "2022-12-26T11:04:33.183Z"
   },
   {
    "duration": 1122,
    "start_time": "2022-12-26T11:04:33.190Z"
   },
   {
    "duration": 1120,
    "start_time": "2022-12-26T11:04:34.314Z"
   },
   {
    "duration": 1800,
    "start_time": "2022-12-26T11:04:35.436Z"
   },
   {
    "duration": 7,
    "start_time": "2022-12-26T11:04:37.237Z"
   },
   {
    "duration": 15,
    "start_time": "2022-12-26T11:04:37.246Z"
   },
   {
    "duration": 8,
    "start_time": "2022-12-26T11:04:37.262Z"
   },
   {
    "duration": 8,
    "start_time": "2022-12-26T11:04:37.271Z"
   },
   {
    "duration": 33,
    "start_time": "2022-12-26T11:04:37.280Z"
   },
   {
    "duration": 9,
    "start_time": "2022-12-26T11:04:37.315Z"
   },
   {
    "duration": 582,
    "start_time": "2022-12-26T11:04:37.326Z"
   },
   {
    "duration": 376,
    "start_time": "2022-12-26T11:04:37.909Z"
   },
   {
    "duration": 171,
    "start_time": "2022-12-26T11:04:38.286Z"
   },
   {
    "duration": 169,
    "start_time": "2022-12-26T11:04:38.459Z"
   },
   {
    "duration": 262,
    "start_time": "2022-12-26T11:04:38.630Z"
   },
   {
    "duration": 145,
    "start_time": "2022-12-26T11:04:38.894Z"
   },
   {
    "duration": 1083,
    "start_time": "2022-12-26T11:04:39.040Z"
   },
   {
    "duration": 299,
    "start_time": "2022-12-26T11:04:40.125Z"
   },
   {
    "duration": 192,
    "start_time": "2022-12-26T11:04:40.425Z"
   },
   {
    "duration": 5,
    "start_time": "2022-12-26T11:04:40.619Z"
   },
   {
    "duration": 152,
    "start_time": "2022-12-26T11:04:40.625Z"
   },
   {
    "duration": 281,
    "start_time": "2022-12-26T11:04:40.779Z"
   },
   {
    "duration": 16,
    "start_time": "2022-12-26T11:04:41.063Z"
   },
   {
    "duration": 233,
    "start_time": "2022-12-26T11:04:41.082Z"
   },
   {
    "duration": 230,
    "start_time": "2022-12-26T11:04:41.317Z"
   },
   {
    "duration": 223,
    "start_time": "2022-12-26T11:04:41.549Z"
   },
   {
    "duration": 202,
    "start_time": "2022-12-26T11:04:41.774Z"
   },
   {
    "duration": 9,
    "start_time": "2022-12-26T11:04:41.978Z"
   },
   {
    "duration": 63,
    "start_time": "2022-12-26T11:04:41.989Z"
   },
   {
    "duration": 261,
    "start_time": "2022-12-26T11:04:42.053Z"
   },
   {
    "duration": 266,
    "start_time": "2022-12-26T11:05:36.051Z"
   },
   {
    "duration": 255,
    "start_time": "2022-12-26T11:05:52.691Z"
   },
   {
    "duration": 273,
    "start_time": "2022-12-26T11:06:00.187Z"
   },
   {
    "duration": 302,
    "start_time": "2022-12-26T11:06:23.367Z"
   },
   {
    "duration": 598,
    "start_time": "2022-12-26T11:06:25.606Z"
   },
   {
    "duration": 539,
    "start_time": "2022-12-26T11:06:31.062Z"
   },
   {
    "duration": 502,
    "start_time": "2022-12-26T11:06:35.493Z"
   },
   {
    "duration": 86,
    "start_time": "2022-12-26T11:06:51.293Z"
   },
   {
    "duration": 253,
    "start_time": "2022-12-26T11:06:54.466Z"
   },
   {
    "duration": 222,
    "start_time": "2022-12-26T11:08:02.780Z"
   },
   {
    "duration": 382,
    "start_time": "2022-12-26T11:10:46.981Z"
   },
   {
    "duration": 2,
    "start_time": "2022-12-26T11:11:09.662Z"
   },
   {
    "duration": 236,
    "start_time": "2022-12-26T11:11:20.377Z"
   },
   {
    "duration": 59,
    "start_time": "2022-12-26T11:12:42.961Z"
   },
   {
    "duration": 177,
    "start_time": "2022-12-26T11:12:47.383Z"
   },
   {
    "duration": 189,
    "start_time": "2022-12-26T11:13:05.700Z"
   },
   {
    "duration": 187,
    "start_time": "2022-12-26T11:13:13.372Z"
   },
   {
    "duration": 163,
    "start_time": "2022-12-26T11:13:20.558Z"
   },
   {
    "duration": 282,
    "start_time": "2022-12-26T11:13:24.655Z"
   },
   {
    "duration": 617,
    "start_time": "2022-12-26T11:13:41.226Z"
   },
   {
    "duration": 128,
    "start_time": "2022-12-26T11:13:41.845Z"
   },
   {
    "duration": 17,
    "start_time": "2022-12-26T11:13:41.975Z"
   },
   {
    "duration": 1971,
    "start_time": "2022-12-26T11:13:41.993Z"
   },
   {
    "duration": 6,
    "start_time": "2022-12-26T11:13:43.965Z"
   },
   {
    "duration": 38,
    "start_time": "2022-12-26T11:13:43.972Z"
   },
   {
    "duration": 21,
    "start_time": "2022-12-26T11:13:44.012Z"
   },
   {
    "duration": 41,
    "start_time": "2022-12-26T11:13:44.035Z"
   },
   {
    "duration": 33,
    "start_time": "2022-12-26T11:13:44.079Z"
   },
   {
    "duration": 36,
    "start_time": "2022-12-26T11:13:44.115Z"
   },
   {
    "duration": 1340,
    "start_time": "2022-12-26T11:13:44.152Z"
   },
   {
    "duration": 1305,
    "start_time": "2022-12-26T11:13:45.494Z"
   },
   {
    "duration": 3,
    "start_time": "2022-12-26T11:13:46.801Z"
   },
   {
    "duration": 8,
    "start_time": "2022-12-26T11:13:46.812Z"
   },
   {
    "duration": 4,
    "start_time": "2022-12-26T11:13:46.822Z"
   },
   {
    "duration": 14,
    "start_time": "2022-12-26T11:13:46.828Z"
   },
   {
    "duration": 103,
    "start_time": "2022-12-26T11:13:46.844Z"
   },
   {
    "duration": 8,
    "start_time": "2022-12-26T11:13:46.949Z"
   },
   {
    "duration": 1131,
    "start_time": "2022-12-26T11:13:46.959Z"
   },
   {
    "duration": 1106,
    "start_time": "2022-12-26T11:13:48.092Z"
   },
   {
    "duration": 1717,
    "start_time": "2022-12-26T11:13:49.200Z"
   },
   {
    "duration": 6,
    "start_time": "2022-12-26T11:13:50.918Z"
   },
   {
    "duration": 36,
    "start_time": "2022-12-26T11:13:50.926Z"
   },
   {
    "duration": 36,
    "start_time": "2022-12-26T11:13:50.964Z"
   },
   {
    "duration": 18,
    "start_time": "2022-12-26T11:13:51.002Z"
   },
   {
    "duration": 29,
    "start_time": "2022-12-26T11:13:51.021Z"
   },
   {
    "duration": 33,
    "start_time": "2022-12-26T11:13:51.052Z"
   },
   {
    "duration": 639,
    "start_time": "2022-12-26T11:13:51.088Z"
   },
   {
    "duration": 343,
    "start_time": "2022-12-26T11:13:51.729Z"
   },
   {
    "duration": 171,
    "start_time": "2022-12-26T11:13:52.074Z"
   },
   {
    "duration": 166,
    "start_time": "2022-12-26T11:13:52.246Z"
   },
   {
    "duration": 248,
    "start_time": "2022-12-26T11:13:52.414Z"
   },
   {
    "duration": 121,
    "start_time": "2022-12-26T11:13:52.664Z"
   },
   {
    "duration": 1023,
    "start_time": "2022-12-26T11:13:52.787Z"
   },
   {
    "duration": 328,
    "start_time": "2022-12-26T11:13:53.812Z"
   },
   {
    "duration": 0,
    "start_time": "2022-12-26T11:13:54.142Z"
   },
   {
    "duration": 0,
    "start_time": "2022-12-26T11:13:54.143Z"
   },
   {
    "duration": 0,
    "start_time": "2022-12-26T11:13:54.144Z"
   },
   {
    "duration": 0,
    "start_time": "2022-12-26T11:13:54.146Z"
   },
   {
    "duration": 0,
    "start_time": "2022-12-26T11:13:54.147Z"
   },
   {
    "duration": 0,
    "start_time": "2022-12-26T11:13:54.148Z"
   },
   {
    "duration": 0,
    "start_time": "2022-12-26T11:13:54.149Z"
   },
   {
    "duration": 1,
    "start_time": "2022-12-26T11:13:54.150Z"
   },
   {
    "duration": 0,
    "start_time": "2022-12-26T11:13:54.152Z"
   },
   {
    "duration": 0,
    "start_time": "2022-12-26T11:13:54.153Z"
   },
   {
    "duration": 0,
    "start_time": "2022-12-26T11:13:54.154Z"
   },
   {
    "duration": 0,
    "start_time": "2022-12-26T11:13:54.155Z"
   },
   {
    "duration": 246,
    "start_time": "2022-12-26T11:14:21.772Z"
   },
   {
    "duration": 253,
    "start_time": "2022-12-26T11:15:03.696Z"
   },
   {
    "duration": 277,
    "start_time": "2022-12-26T11:15:15.728Z"
   },
   {
    "duration": 304,
    "start_time": "2022-12-26T11:15:26.205Z"
   },
   {
    "duration": 417,
    "start_time": "2022-12-26T11:16:26.791Z"
   },
   {
    "duration": 241,
    "start_time": "2022-12-26T11:16:46.688Z"
   },
   {
    "duration": 247,
    "start_time": "2022-12-26T11:16:52.697Z"
   },
   {
    "duration": 280,
    "start_time": "2022-12-26T11:17:10.110Z"
   },
   {
    "duration": 264,
    "start_time": "2022-12-26T11:17:51.858Z"
   },
   {
    "duration": 272,
    "start_time": "2022-12-26T11:17:56.732Z"
   },
   {
    "duration": 302,
    "start_time": "2022-12-26T11:18:03.512Z"
   },
   {
    "duration": 474,
    "start_time": "2022-12-26T11:18:16.120Z"
   },
   {
    "duration": 280,
    "start_time": "2022-12-26T11:18:34.225Z"
   },
   {
    "duration": 310,
    "start_time": "2022-12-26T11:18:43.862Z"
   },
   {
    "duration": 3,
    "start_time": "2022-12-26T11:19:31.789Z"
   },
   {
    "duration": 132,
    "start_time": "2022-12-26T11:19:31.794Z"
   },
   {
    "duration": 22,
    "start_time": "2022-12-26T11:19:31.928Z"
   },
   {
    "duration": 2023,
    "start_time": "2022-12-26T11:19:31.953Z"
   },
   {
    "duration": 5,
    "start_time": "2022-12-26T11:19:33.979Z"
   },
   {
    "duration": 18,
    "start_time": "2022-12-26T11:19:33.986Z"
   },
   {
    "duration": 5,
    "start_time": "2022-12-26T11:19:34.013Z"
   },
   {
    "duration": 12,
    "start_time": "2022-12-26T11:19:34.020Z"
   },
   {
    "duration": 8,
    "start_time": "2022-12-26T11:19:34.035Z"
   },
   {
    "duration": 12,
    "start_time": "2022-12-26T11:19:34.045Z"
   },
   {
    "duration": 1351,
    "start_time": "2022-12-26T11:19:34.061Z"
   },
   {
    "duration": 1420,
    "start_time": "2022-12-26T11:19:35.414Z"
   },
   {
    "duration": 5,
    "start_time": "2022-12-26T11:19:36.836Z"
   },
   {
    "duration": 11,
    "start_time": "2022-12-26T11:19:36.843Z"
   },
   {
    "duration": 6,
    "start_time": "2022-12-26T11:19:36.856Z"
   },
   {
    "duration": 14,
    "start_time": "2022-12-26T11:19:36.864Z"
   },
   {
    "duration": 126,
    "start_time": "2022-12-26T11:19:36.880Z"
   },
   {
    "duration": 8,
    "start_time": "2022-12-26T11:19:37.013Z"
   },
   {
    "duration": 1259,
    "start_time": "2022-12-26T11:19:37.023Z"
   },
   {
    "duration": 1119,
    "start_time": "2022-12-26T11:19:38.283Z"
   },
   {
    "duration": 1757,
    "start_time": "2022-12-26T11:19:39.404Z"
   },
   {
    "duration": 7,
    "start_time": "2022-12-26T11:19:41.163Z"
   },
   {
    "duration": 16,
    "start_time": "2022-12-26T11:19:41.172Z"
   },
   {
    "duration": 23,
    "start_time": "2022-12-26T11:19:41.190Z"
   },
   {
    "duration": 9,
    "start_time": "2022-12-26T11:19:41.215Z"
   },
   {
    "duration": 9,
    "start_time": "2022-12-26T11:19:41.227Z"
   },
   {
    "duration": 9,
    "start_time": "2022-12-26T11:19:41.238Z"
   },
   {
    "duration": 652,
    "start_time": "2022-12-26T11:19:41.248Z"
   },
   {
    "duration": 287,
    "start_time": "2022-12-26T11:19:41.911Z"
   },
   {
    "duration": 330,
    "start_time": "2022-12-26T11:19:42.200Z"
   },
   {
    "duration": 182,
    "start_time": "2022-12-26T11:19:42.532Z"
   },
   {
    "duration": 316,
    "start_time": "2022-12-26T11:19:42.716Z"
   },
   {
    "duration": 139,
    "start_time": "2022-12-26T11:19:43.035Z"
   },
   {
    "duration": 1087,
    "start_time": "2022-12-26T11:19:43.175Z"
   },
   {
    "duration": 309,
    "start_time": "2022-12-26T11:19:44.263Z"
   },
   {
    "duration": 186,
    "start_time": "2022-12-26T11:19:44.573Z"
   },
   {
    "duration": 6,
    "start_time": "2022-12-26T11:19:44.761Z"
   },
   {
    "duration": 169,
    "start_time": "2022-12-26T11:19:44.768Z"
   },
   {
    "duration": 294,
    "start_time": "2022-12-26T11:19:44.940Z"
   },
   {
    "duration": 24,
    "start_time": "2022-12-26T11:19:45.247Z"
   },
   {
    "duration": 223,
    "start_time": "2022-12-26T11:19:45.273Z"
   },
   {
    "duration": 234,
    "start_time": "2022-12-26T11:19:45.497Z"
   },
   {
    "duration": 226,
    "start_time": "2022-12-26T11:19:45.732Z"
   },
   {
    "duration": 210,
    "start_time": "2022-12-26T11:19:45.960Z"
   },
   {
    "duration": 10,
    "start_time": "2022-12-26T11:19:46.172Z"
   },
   {
    "duration": 56,
    "start_time": "2022-12-26T11:19:46.184Z"
   },
   {
    "duration": 220,
    "start_time": "2022-12-26T11:19:46.242Z"
   },
   {
    "duration": 149,
    "start_time": "2022-12-26T11:23:34.690Z"
   },
   {
    "duration": 190,
    "start_time": "2022-12-26T11:24:21.473Z"
   },
   {
    "duration": 134,
    "start_time": "2022-12-26T11:24:26.727Z"
   },
   {
    "duration": 16,
    "start_time": "2022-12-26T11:25:13.280Z"
   },
   {
    "duration": 151,
    "start_time": "2022-12-26T11:25:25.985Z"
   },
   {
    "duration": 1180,
    "start_time": "2022-12-26T11:25:41.677Z"
   },
   {
    "duration": 8,
    "start_time": "2022-12-26T11:25:48.673Z"
   },
   {
    "duration": 551,
    "start_time": "2022-12-26T11:25:54.365Z"
   },
   {
    "duration": 715,
    "start_time": "2022-12-26T11:26:11.789Z"
   },
   {
    "duration": 575,
    "start_time": "2022-12-26T11:26:16.020Z"
   },
   {
    "duration": 149,
    "start_time": "2022-12-26T11:26:20.234Z"
   },
   {
    "duration": 223,
    "start_time": "2022-12-26T11:29:10.132Z"
   },
   {
    "duration": 342,
    "start_time": "2022-12-26T11:29:34.502Z"
   },
   {
    "duration": 193,
    "start_time": "2022-12-26T11:29:56.377Z"
   },
   {
    "duration": 153,
    "start_time": "2022-12-26T11:30:16.925Z"
   },
   {
    "duration": 156,
    "start_time": "2022-12-26T11:30:49.769Z"
   },
   {
    "duration": 143,
    "start_time": "2022-12-26T11:30:58.973Z"
   },
   {
    "duration": 155,
    "start_time": "2022-12-26T11:31:05.835Z"
   },
   {
    "duration": 163,
    "start_time": "2022-12-26T11:31:10.698Z"
   },
   {
    "duration": 142,
    "start_time": "2022-12-26T11:36:13.862Z"
   },
   {
    "duration": 152,
    "start_time": "2022-12-26T11:36:29.962Z"
   },
   {
    "duration": 714,
    "start_time": "2022-12-26T11:40:07.480Z"
   },
   {
    "duration": 163,
    "start_time": "2022-12-26T11:40:27.021Z"
   },
   {
    "duration": 173,
    "start_time": "2022-12-26T11:40:37.912Z"
   },
   {
    "duration": 152,
    "start_time": "2022-12-26T11:40:45.252Z"
   },
   {
    "duration": 185,
    "start_time": "2022-12-26T11:40:53.985Z"
   },
   {
    "duration": 153,
    "start_time": "2022-12-26T11:41:02.881Z"
   },
   {
    "duration": 20,
    "start_time": "2022-12-26T11:41:28.084Z"
   },
   {
    "duration": 173,
    "start_time": "2022-12-26T11:42:03.201Z"
   },
   {
    "duration": 170,
    "start_time": "2022-12-26T11:43:09.491Z"
   },
   {
    "duration": 168,
    "start_time": "2022-12-26T11:43:13.502Z"
   },
   {
    "duration": 166,
    "start_time": "2022-12-26T11:43:31.594Z"
   },
   {
    "duration": 165,
    "start_time": "2022-12-26T11:43:58.408Z"
   },
   {
    "duration": 167,
    "start_time": "2022-12-26T11:44:05.284Z"
   },
   {
    "duration": 49,
    "start_time": "2022-12-26T11:44:19.416Z"
   },
   {
    "duration": 642,
    "start_time": "2022-12-26T11:44:22.215Z"
   },
   {
    "duration": 133,
    "start_time": "2022-12-26T11:44:22.859Z"
   },
   {
    "duration": 22,
    "start_time": "2022-12-26T11:44:22.994Z"
   },
   {
    "duration": 1982,
    "start_time": "2022-12-26T11:44:23.018Z"
   },
   {
    "duration": 6,
    "start_time": "2022-12-26T11:44:25.001Z"
   },
   {
    "duration": 21,
    "start_time": "2022-12-26T11:44:25.008Z"
   },
   {
    "duration": 10,
    "start_time": "2022-12-26T11:44:25.031Z"
   },
   {
    "duration": 17,
    "start_time": "2022-12-26T11:44:25.042Z"
   },
   {
    "duration": 20,
    "start_time": "2022-12-26T11:44:25.060Z"
   },
   {
    "duration": 17,
    "start_time": "2022-12-26T11:44:25.082Z"
   },
   {
    "duration": 1310,
    "start_time": "2022-12-26T11:44:25.101Z"
   },
   {
    "duration": 1316,
    "start_time": "2022-12-26T11:44:26.413Z"
   },
   {
    "duration": 4,
    "start_time": "2022-12-26T11:44:27.731Z"
   },
   {
    "duration": 14,
    "start_time": "2022-12-26T11:44:27.737Z"
   },
   {
    "duration": 5,
    "start_time": "2022-12-26T11:44:27.753Z"
   },
   {
    "duration": 13,
    "start_time": "2022-12-26T11:44:27.760Z"
   },
   {
    "duration": 109,
    "start_time": "2022-12-26T11:44:27.775Z"
   },
   {
    "duration": 8,
    "start_time": "2022-12-26T11:44:27.886Z"
   },
   {
    "duration": 1267,
    "start_time": "2022-12-26T11:44:27.895Z"
   },
   {
    "duration": 1173,
    "start_time": "2022-12-26T11:44:29.164Z"
   },
   {
    "duration": 1714,
    "start_time": "2022-12-26T11:44:30.339Z"
   },
   {
    "duration": 6,
    "start_time": "2022-12-26T11:44:32.055Z"
   },
   {
    "duration": 13,
    "start_time": "2022-12-26T11:44:32.063Z"
   },
   {
    "duration": 8,
    "start_time": "2022-12-26T11:44:32.077Z"
   },
   {
    "duration": 7,
    "start_time": "2022-12-26T11:44:32.086Z"
   },
   {
    "duration": 10,
    "start_time": "2022-12-26T11:44:32.112Z"
   },
   {
    "duration": 12,
    "start_time": "2022-12-26T11:44:32.123Z"
   },
   {
    "duration": 595,
    "start_time": "2022-12-26T11:44:32.138Z"
   },
   {
    "duration": 349,
    "start_time": "2022-12-26T11:44:32.736Z"
   },
   {
    "duration": 166,
    "start_time": "2022-12-26T11:44:33.087Z"
   },
   {
    "duration": 159,
    "start_time": "2022-12-26T11:44:33.255Z"
   },
   {
    "duration": 272,
    "start_time": "2022-12-26T11:44:33.415Z"
   },
   {
    "duration": 125,
    "start_time": "2022-12-26T11:44:33.689Z"
   },
   {
    "duration": 1031,
    "start_time": "2022-12-26T11:44:33.816Z"
   },
   {
    "duration": 320,
    "start_time": "2022-12-26T11:44:34.849Z"
   },
   {
    "duration": 183,
    "start_time": "2022-12-26T11:44:35.171Z"
   },
   {
    "duration": 5,
    "start_time": "2022-12-26T11:44:35.356Z"
   },
   {
    "duration": 132,
    "start_time": "2022-12-26T11:44:35.363Z"
   },
   {
    "duration": 277,
    "start_time": "2022-12-26T11:44:35.497Z"
   },
   {
    "duration": 15,
    "start_time": "2022-12-26T11:44:35.776Z"
   },
   {
    "duration": 228,
    "start_time": "2022-12-26T11:44:35.793Z"
   },
   {
    "duration": 226,
    "start_time": "2022-12-26T11:44:36.023Z"
   },
   {
    "duration": 243,
    "start_time": "2022-12-26T11:44:36.251Z"
   },
   {
    "duration": 207,
    "start_time": "2022-12-26T11:44:36.496Z"
   },
   {
    "duration": 231,
    "start_time": "2022-12-26T11:44:36.704Z"
   },
   {
    "duration": 178,
    "start_time": "2022-12-26T11:44:36.936Z"
   },
   {
    "duration": 179,
    "start_time": "2022-12-26T11:44:37.116Z"
   },
   {
    "duration": 155,
    "start_time": "2022-12-26T11:44:37.297Z"
   },
   {
    "duration": 9,
    "start_time": "2022-12-26T11:44:37.453Z"
   },
   {
    "duration": 54,
    "start_time": "2022-12-26T11:44:37.463Z"
   },
   {
    "duration": 150,
    "start_time": "2022-12-26T11:44:37.519Z"
   },
   {
    "duration": 165,
    "start_time": "2022-12-26T11:45:27.304Z"
   },
   {
    "duration": 55,
    "start_time": "2022-12-26T11:45:46.422Z"
   },
   {
    "duration": 162,
    "start_time": "2022-12-26T11:45:49.684Z"
   },
   {
    "duration": 173,
    "start_time": "2022-12-26T11:46:02.193Z"
   },
   {
    "duration": 166,
    "start_time": "2022-12-26T11:46:11.423Z"
   },
   {
    "duration": 124,
    "start_time": "2022-12-26T11:46:53.748Z"
   },
   {
    "duration": 137,
    "start_time": "2022-12-26T11:46:59.819Z"
   },
   {
    "duration": 179,
    "start_time": "2022-12-26T11:47:18.988Z"
   },
   {
    "duration": 680,
    "start_time": "2022-12-26T11:48:18.977Z"
   },
   {
    "duration": 485,
    "start_time": "2022-12-26T11:49:21.267Z"
   },
   {
    "duration": 159,
    "start_time": "2022-12-26T11:49:33.116Z"
   },
   {
    "duration": 1569,
    "start_time": "2022-12-26T11:50:00.896Z"
   },
   {
    "duration": 55,
    "start_time": "2022-12-26T11:50:44.974Z"
   },
   {
    "duration": 656,
    "start_time": "2022-12-26T11:50:48.079Z"
   },
   {
    "duration": 132,
    "start_time": "2022-12-26T11:50:48.737Z"
   },
   {
    "duration": 16,
    "start_time": "2022-12-26T11:50:48.870Z"
   },
   {
    "duration": 2075,
    "start_time": "2022-12-26T11:50:48.888Z"
   },
   {
    "duration": 5,
    "start_time": "2022-12-26T11:50:50.966Z"
   },
   {
    "duration": 15,
    "start_time": "2022-12-26T11:50:50.973Z"
   },
   {
    "duration": 5,
    "start_time": "2022-12-26T11:50:50.990Z"
   },
   {
    "duration": 8,
    "start_time": "2022-12-26T11:50:50.997Z"
   },
   {
    "duration": 6,
    "start_time": "2022-12-26T11:50:51.006Z"
   },
   {
    "duration": 11,
    "start_time": "2022-12-26T11:50:51.013Z"
   },
   {
    "duration": 1296,
    "start_time": "2022-12-26T11:50:51.026Z"
   },
   {
    "duration": 1278,
    "start_time": "2022-12-26T11:50:52.323Z"
   },
   {
    "duration": 4,
    "start_time": "2022-12-26T11:50:53.602Z"
   },
   {
    "duration": 10,
    "start_time": "2022-12-26T11:50:53.612Z"
   },
   {
    "duration": 6,
    "start_time": "2022-12-26T11:50:53.624Z"
   },
   {
    "duration": 25,
    "start_time": "2022-12-26T11:50:53.631Z"
   },
   {
    "duration": 113,
    "start_time": "2022-12-26T11:50:53.658Z"
   },
   {
    "duration": 7,
    "start_time": "2022-12-26T11:50:53.774Z"
   },
   {
    "duration": 1227,
    "start_time": "2022-12-26T11:50:53.784Z"
   },
   {
    "duration": 1080,
    "start_time": "2022-12-26T11:50:55.013Z"
   },
   {
    "duration": 1799,
    "start_time": "2022-12-26T11:50:56.094Z"
   },
   {
    "duration": 7,
    "start_time": "2022-12-26T11:50:57.895Z"
   },
   {
    "duration": 8,
    "start_time": "2022-12-26T11:50:57.911Z"
   },
   {
    "duration": 10,
    "start_time": "2022-12-26T11:50:57.921Z"
   },
   {
    "duration": 8,
    "start_time": "2022-12-26T11:50:57.933Z"
   },
   {
    "duration": 10,
    "start_time": "2022-12-26T11:50:57.942Z"
   },
   {
    "duration": 11,
    "start_time": "2022-12-26T11:50:57.953Z"
   },
   {
    "duration": 632,
    "start_time": "2022-12-26T11:50:57.965Z"
   },
   {
    "duration": 348,
    "start_time": "2022-12-26T11:50:58.599Z"
   },
   {
    "duration": 163,
    "start_time": "2022-12-26T11:50:58.949Z"
   },
   {
    "duration": 153,
    "start_time": "2022-12-26T11:50:59.113Z"
   },
   {
    "duration": 271,
    "start_time": "2022-12-26T11:50:59.268Z"
   },
   {
    "duration": 130,
    "start_time": "2022-12-26T11:50:59.541Z"
   },
   {
    "duration": 1047,
    "start_time": "2022-12-26T11:50:59.673Z"
   },
   {
    "duration": 315,
    "start_time": "2022-12-26T11:51:00.722Z"
   },
   {
    "duration": 193,
    "start_time": "2022-12-26T11:51:01.038Z"
   },
   {
    "duration": 6,
    "start_time": "2022-12-26T11:51:01.233Z"
   },
   {
    "duration": 147,
    "start_time": "2022-12-26T11:51:01.241Z"
   },
   {
    "duration": 284,
    "start_time": "2022-12-26T11:51:01.390Z"
   },
   {
    "duration": 17,
    "start_time": "2022-12-26T11:51:01.675Z"
   },
   {
    "duration": 244,
    "start_time": "2022-12-26T11:51:01.696Z"
   },
   {
    "duration": 224,
    "start_time": "2022-12-26T11:51:01.942Z"
   },
   {
    "duration": 213,
    "start_time": "2022-12-26T11:51:02.169Z"
   },
   {
    "duration": 212,
    "start_time": "2022-12-26T11:51:02.383Z"
   },
   {
    "duration": 242,
    "start_time": "2022-12-26T11:51:02.597Z"
   },
   {
    "duration": 174,
    "start_time": "2022-12-26T11:51:02.841Z"
   },
   {
    "duration": 192,
    "start_time": "2022-12-26T11:51:03.017Z"
   },
   {
    "duration": 155,
    "start_time": "2022-12-26T11:51:03.211Z"
   },
   {
    "duration": 10,
    "start_time": "2022-12-26T11:51:03.367Z"
   },
   {
    "duration": 53,
    "start_time": "2022-12-26T11:51:03.379Z"
   },
   {
    "duration": 160,
    "start_time": "2022-12-26T11:51:03.434Z"
   },
   {
    "duration": 187,
    "start_time": "2022-12-26T11:51:20.108Z"
   },
   {
    "duration": 219,
    "start_time": "2022-12-26T11:51:26.357Z"
   },
   {
    "duration": 173,
    "start_time": "2022-12-26T11:52:32.661Z"
   },
   {
    "duration": 149,
    "start_time": "2022-12-26T11:52:53.380Z"
   },
   {
    "duration": 168,
    "start_time": "2022-12-26T11:53:53.077Z"
   },
   {
    "duration": 133,
    "start_time": "2022-12-26T11:54:22.391Z"
   },
   {
    "duration": 179,
    "start_time": "2022-12-26T11:54:33.602Z"
   },
   {
    "duration": 156,
    "start_time": "2022-12-26T11:54:48.123Z"
   },
   {
    "duration": 184,
    "start_time": "2022-12-26T11:58:38.211Z"
   },
   {
    "duration": 183,
    "start_time": "2022-12-26T11:58:43.656Z"
   },
   {
    "duration": 181,
    "start_time": "2022-12-26T11:59:45.371Z"
   },
   {
    "duration": 328,
    "start_time": "2022-12-26T12:00:19.355Z"
   },
   {
    "duration": 180,
    "start_time": "2022-12-26T12:00:30.863Z"
   },
   {
    "duration": 188,
    "start_time": "2022-12-26T12:01:15.160Z"
   },
   {
    "duration": 217,
    "start_time": "2022-12-26T12:01:20.303Z"
   },
   {
    "duration": 313,
    "start_time": "2022-12-26T12:01:26.353Z"
   },
   {
    "duration": 223,
    "start_time": "2022-12-26T12:01:30.755Z"
   },
   {
    "duration": 166,
    "start_time": "2022-12-26T12:01:37.163Z"
   },
   {
    "duration": 189,
    "start_time": "2022-12-26T12:02:43.754Z"
   },
   {
    "duration": 212,
    "start_time": "2022-12-26T12:03:34.283Z"
   },
   {
    "duration": 216,
    "start_time": "2022-12-26T12:04:07.701Z"
   },
   {
    "duration": 213,
    "start_time": "2022-12-26T12:04:23.864Z"
   },
   {
    "duration": 147,
    "start_time": "2022-12-26T12:12:27.270Z"
   },
   {
    "duration": 10,
    "start_time": "2022-12-26T12:12:53.664Z"
   },
   {
    "duration": 9,
    "start_time": "2022-12-26T12:13:08.367Z"
   },
   {
    "duration": 8,
    "start_time": "2022-12-26T12:13:14.245Z"
   },
   {
    "duration": 199,
    "start_time": "2022-12-26T12:13:23.260Z"
   },
   {
    "duration": 198,
    "start_time": "2022-12-26T12:14:16.073Z"
   },
   {
    "duration": 45,
    "start_time": "2022-12-26T12:23:10.546Z"
   },
   {
    "duration": 55,
    "start_time": "2022-12-26T12:23:14.781Z"
   },
   {
    "duration": 52,
    "start_time": "2022-12-26T12:23:24.910Z"
   },
   {
    "duration": 43,
    "start_time": "2022-12-26T12:23:38.807Z"
   },
   {
    "duration": 45,
    "start_time": "2022-12-26T12:24:20.675Z"
   },
   {
    "duration": 52,
    "start_time": "2022-12-26T12:24:39.862Z"
   },
   {
    "duration": 16,
    "start_time": "2022-12-26T12:24:45.162Z"
   },
   {
    "duration": 56,
    "start_time": "2022-12-26T12:24:52.945Z"
   },
   {
    "duration": 40,
    "start_time": "2022-12-26T12:25:07.268Z"
   },
   {
    "duration": 55,
    "start_time": "2022-12-26T12:25:21.900Z"
   },
   {
    "duration": 47,
    "start_time": "2022-12-26T12:25:24.166Z"
   },
   {
    "duration": 170,
    "start_time": "2022-12-26T12:25:45.590Z"
   },
   {
    "duration": 142,
    "start_time": "2022-12-26T12:25:47.470Z"
   },
   {
    "duration": 149,
    "start_time": "2022-12-26T12:25:48.969Z"
   },
   {
    "duration": 670,
    "start_time": "2022-12-26T12:51:21.565Z"
   },
   {
    "duration": 140,
    "start_time": "2022-12-26T12:53:24.965Z"
   },
   {
    "duration": 133,
    "start_time": "2022-12-26T12:53:39.168Z"
   },
   {
    "duration": 224,
    "start_time": "2022-12-26T12:58:34.500Z"
   },
   {
    "duration": 187,
    "start_time": "2022-12-26T12:58:51.473Z"
   },
   {
    "duration": 174,
    "start_time": "2022-12-26T12:59:01.269Z"
   },
   {
    "duration": 63,
    "start_time": "2022-12-26T12:59:12.817Z"
   },
   {
    "duration": 189,
    "start_time": "2022-12-26T12:59:14.756Z"
   },
   {
    "duration": 46,
    "start_time": "2022-12-26T12:59:38.313Z"
   },
   {
    "duration": 42,
    "start_time": "2022-12-26T12:59:42.776Z"
   },
   {
    "duration": 1017,
    "start_time": "2022-12-27T05:46:57.952Z"
   },
   {
    "duration": 136,
    "start_time": "2022-12-27T05:46:58.971Z"
   },
   {
    "duration": 20,
    "start_time": "2022-12-27T05:46:59.109Z"
   },
   {
    "duration": 3143,
    "start_time": "2022-12-27T05:46:59.133Z"
   },
   {
    "duration": 6,
    "start_time": "2022-12-27T05:47:02.279Z"
   },
   {
    "duration": 29,
    "start_time": "2022-12-27T05:47:02.287Z"
   },
   {
    "duration": 9,
    "start_time": "2022-12-27T05:47:02.318Z"
   },
   {
    "duration": 28,
    "start_time": "2022-12-27T05:47:02.329Z"
   },
   {
    "duration": 29,
    "start_time": "2022-12-27T05:47:02.358Z"
   },
   {
    "duration": 20,
    "start_time": "2022-12-27T05:47:02.390Z"
   },
   {
    "duration": 1655,
    "start_time": "2022-12-27T05:47:02.411Z"
   },
   {
    "duration": 1599,
    "start_time": "2022-12-27T05:47:04.068Z"
   },
   {
    "duration": 4,
    "start_time": "2022-12-27T05:47:05.668Z"
   },
   {
    "duration": 47,
    "start_time": "2022-12-27T05:47:05.674Z"
   },
   {
    "duration": 28,
    "start_time": "2022-12-27T05:47:05.723Z"
   },
   {
    "duration": 43,
    "start_time": "2022-12-27T05:47:05.754Z"
   },
   {
    "duration": 116,
    "start_time": "2022-12-27T05:47:05.798Z"
   },
   {
    "duration": 8,
    "start_time": "2022-12-27T05:47:05.916Z"
   },
   {
    "duration": 1303,
    "start_time": "2022-12-27T05:47:05.926Z"
   },
   {
    "duration": 1272,
    "start_time": "2022-12-27T05:47:07.231Z"
   },
   {
    "duration": 2253,
    "start_time": "2022-12-27T05:47:08.504Z"
   },
   {
    "duration": 7,
    "start_time": "2022-12-27T05:47:10.759Z"
   },
   {
    "duration": 22,
    "start_time": "2022-12-27T05:47:10.768Z"
   },
   {
    "duration": 9,
    "start_time": "2022-12-27T05:47:10.792Z"
   },
   {
    "duration": 9,
    "start_time": "2022-12-27T05:47:10.803Z"
   },
   {
    "duration": 39,
    "start_time": "2022-12-27T05:47:10.814Z"
   },
   {
    "duration": 9,
    "start_time": "2022-12-27T05:47:10.855Z"
   },
   {
    "duration": 966,
    "start_time": "2022-12-27T05:47:10.869Z"
   },
   {
    "duration": 717,
    "start_time": "2022-12-27T05:47:11.837Z"
   },
   {
    "duration": 306,
    "start_time": "2022-12-27T05:47:12.556Z"
   },
   {
    "duration": 296,
    "start_time": "2022-12-27T05:47:12.863Z"
   },
   {
    "duration": 442,
    "start_time": "2022-12-27T05:47:13.162Z"
   },
   {
    "duration": 284,
    "start_time": "2022-12-27T05:47:13.606Z"
   },
   {
    "duration": 1289,
    "start_time": "2022-12-27T05:47:13.892Z"
   },
   {
    "duration": 578,
    "start_time": "2022-12-27T05:47:15.183Z"
   },
   {
    "duration": 334,
    "start_time": "2022-12-27T05:47:15.763Z"
   },
   {
    "duration": 7,
    "start_time": "2022-12-27T05:47:16.099Z"
   },
   {
    "duration": 316,
    "start_time": "2022-12-27T05:47:16.108Z"
   },
   {
    "duration": 478,
    "start_time": "2022-12-27T05:47:16.426Z"
   },
   {
    "duration": 24,
    "start_time": "2022-12-27T05:47:16.906Z"
   },
   {
    "duration": 393,
    "start_time": "2022-12-27T05:47:16.933Z"
   },
   {
    "duration": 405,
    "start_time": "2022-12-27T05:47:17.328Z"
   },
   {
    "duration": 393,
    "start_time": "2022-12-27T05:47:17.735Z"
   },
   {
    "duration": 365,
    "start_time": "2022-12-27T05:47:18.130Z"
   },
   {
    "duration": 402,
    "start_time": "2022-12-27T05:47:18.497Z"
   },
   {
    "duration": 409,
    "start_time": "2022-12-27T05:47:18.901Z"
   },
   {
    "duration": 393,
    "start_time": "2022-12-27T05:47:19.312Z"
   },
   {
    "duration": 371,
    "start_time": "2022-12-27T05:47:19.707Z"
   },
   {
    "duration": 8,
    "start_time": "2022-12-27T05:47:20.080Z"
   },
   {
    "duration": 46,
    "start_time": "2022-12-27T05:47:20.090Z"
   },
   {
    "duration": 330,
    "start_time": "2022-12-27T05:47:20.138Z"
   },
   {
    "duration": 80,
    "start_time": "2022-12-27T08:56:21.456Z"
   },
   {
    "duration": 46,
    "start_time": "2022-12-27T08:56:24.738Z"
   },
   {
    "duration": 869,
    "start_time": "2022-12-27T08:56:27.713Z"
   },
   {
    "duration": 208,
    "start_time": "2022-12-27T08:56:28.585Z"
   },
   {
    "duration": 21,
    "start_time": "2022-12-27T08:56:28.795Z"
   },
   {
    "duration": 2479,
    "start_time": "2022-12-27T08:56:28.818Z"
   },
   {
    "duration": 7,
    "start_time": "2022-12-27T08:56:31.299Z"
   },
   {
    "duration": 30,
    "start_time": "2022-12-27T08:56:31.308Z"
   },
   {
    "duration": 11,
    "start_time": "2022-12-27T08:56:31.341Z"
   },
   {
    "duration": 24,
    "start_time": "2022-12-27T08:56:31.354Z"
   },
   {
    "duration": 9,
    "start_time": "2022-12-27T08:56:31.380Z"
   },
   {
    "duration": 22,
    "start_time": "2022-12-27T08:56:31.392Z"
   },
   {
    "duration": 1617,
    "start_time": "2022-12-27T08:56:31.416Z"
   },
   {
    "duration": 1557,
    "start_time": "2022-12-27T08:56:33.035Z"
   },
   {
    "duration": 3,
    "start_time": "2022-12-27T08:56:34.594Z"
   },
   {
    "duration": 18,
    "start_time": "2022-12-27T08:56:34.599Z"
   },
   {
    "duration": 7,
    "start_time": "2022-12-27T08:56:34.619Z"
   },
   {
    "duration": 34,
    "start_time": "2022-12-27T08:56:34.628Z"
   },
   {
    "duration": 108,
    "start_time": "2022-12-27T08:56:34.664Z"
   },
   {
    "duration": 7,
    "start_time": "2022-12-27T08:56:34.774Z"
   },
   {
    "duration": 1390,
    "start_time": "2022-12-27T08:56:34.784Z"
   },
   {
    "duration": 1256,
    "start_time": "2022-12-27T08:56:36.177Z"
   },
   {
    "duration": 2023,
    "start_time": "2022-12-27T08:56:37.435Z"
   },
   {
    "duration": 7,
    "start_time": "2022-12-27T08:56:39.460Z"
   },
   {
    "duration": 21,
    "start_time": "2022-12-27T08:56:39.469Z"
   },
   {
    "duration": 12,
    "start_time": "2022-12-27T08:56:39.492Z"
   },
   {
    "duration": 12,
    "start_time": "2022-12-27T08:56:39.506Z"
   },
   {
    "duration": 35,
    "start_time": "2022-12-27T08:56:39.520Z"
   },
   {
    "duration": 12,
    "start_time": "2022-12-27T08:56:39.557Z"
   },
   {
    "duration": 826,
    "start_time": "2022-12-27T08:56:39.574Z"
   },
   {
    "duration": 872,
    "start_time": "2022-12-27T08:56:40.402Z"
   },
   {
    "duration": 212,
    "start_time": "2022-12-27T08:56:41.276Z"
   },
   {
    "duration": 179,
    "start_time": "2022-12-27T08:56:41.490Z"
   },
   {
    "duration": 306,
    "start_time": "2022-12-27T08:56:41.671Z"
   },
   {
    "duration": 140,
    "start_time": "2022-12-27T08:56:41.979Z"
   },
   {
    "duration": 1099,
    "start_time": "2022-12-27T08:56:42.121Z"
   },
   {
    "duration": 344,
    "start_time": "2022-12-27T08:56:43.222Z"
   },
   {
    "duration": 256,
    "start_time": "2022-12-27T08:56:43.569Z"
   },
   {
    "duration": 7,
    "start_time": "2022-12-27T08:56:43.827Z"
   },
   {
    "duration": 179,
    "start_time": "2022-12-27T08:56:43.836Z"
   },
   {
    "duration": 413,
    "start_time": "2022-12-27T08:56:44.016Z"
   },
   {
    "duration": 29,
    "start_time": "2022-12-27T08:56:44.431Z"
   },
   {
    "duration": 243,
    "start_time": "2022-12-27T08:56:44.461Z"
   },
   {
    "duration": 256,
    "start_time": "2022-12-27T08:56:44.706Z"
   },
   {
    "duration": 246,
    "start_time": "2022-12-27T08:56:44.964Z"
   },
   {
    "duration": 226,
    "start_time": "2022-12-27T08:56:45.212Z"
   },
   {
    "duration": 163,
    "start_time": "2022-12-27T08:56:45.441Z"
   },
   {
    "duration": 201,
    "start_time": "2022-12-27T08:56:45.606Z"
   },
   {
    "duration": 224,
    "start_time": "2022-12-27T08:56:45.809Z"
   },
   {
    "duration": 185,
    "start_time": "2022-12-27T08:56:46.035Z"
   },
   {
    "duration": 14,
    "start_time": "2022-12-27T08:56:46.223Z"
   },
   {
    "duration": 82,
    "start_time": "2022-12-27T08:56:46.239Z"
   },
   {
    "duration": 193,
    "start_time": "2022-12-27T08:56:46.323Z"
   },
   {
    "duration": 605,
    "start_time": "2022-12-27T08:56:51.395Z"
   },
   {
    "duration": 65,
    "start_time": "2022-12-28T10:52:20.199Z"
   },
   {
    "duration": 723,
    "start_time": "2022-12-28T10:52:27.829Z"
   },
   {
    "duration": 220,
    "start_time": "2022-12-28T10:52:28.554Z"
   },
   {
    "duration": 14,
    "start_time": "2022-12-28T10:52:28.776Z"
   },
   {
    "duration": 2294,
    "start_time": "2022-12-28T10:52:28.792Z"
   },
   {
    "duration": 5,
    "start_time": "2022-12-28T10:52:31.088Z"
   },
   {
    "duration": 23,
    "start_time": "2022-12-28T10:52:31.095Z"
   },
   {
    "duration": 14,
    "start_time": "2022-12-28T10:52:31.126Z"
   },
   {
    "duration": 15,
    "start_time": "2022-12-28T10:52:31.142Z"
   },
   {
    "duration": 18,
    "start_time": "2022-12-28T10:52:31.158Z"
   },
   {
    "duration": 23,
    "start_time": "2022-12-28T10:52:31.179Z"
   },
   {
    "duration": 1666,
    "start_time": "2022-12-28T10:52:31.204Z"
   },
   {
    "duration": 1557,
    "start_time": "2022-12-28T10:52:32.871Z"
   },
   {
    "duration": 4,
    "start_time": "2022-12-28T10:52:34.429Z"
   },
   {
    "duration": 19,
    "start_time": "2022-12-28T10:52:34.434Z"
   },
   {
    "duration": 6,
    "start_time": "2022-12-28T10:52:34.455Z"
   },
   {
    "duration": 17,
    "start_time": "2022-12-28T10:52:34.463Z"
   },
   {
    "duration": 107,
    "start_time": "2022-12-28T10:52:34.481Z"
   },
   {
    "duration": 26,
    "start_time": "2022-12-28T10:52:34.590Z"
   },
   {
    "duration": 1434,
    "start_time": "2022-12-28T10:52:34.618Z"
   },
   {
    "duration": 1335,
    "start_time": "2022-12-28T10:52:36.054Z"
   },
   {
    "duration": 2096,
    "start_time": "2022-12-28T10:52:37.391Z"
   },
   {
    "duration": 20,
    "start_time": "2022-12-28T10:52:39.488Z"
   },
   {
    "duration": 17,
    "start_time": "2022-12-28T10:52:39.511Z"
   },
   {
    "duration": 14,
    "start_time": "2022-12-28T10:52:39.529Z"
   },
   {
    "duration": 7,
    "start_time": "2022-12-28T10:52:39.545Z"
   },
   {
    "duration": 10,
    "start_time": "2022-12-28T10:52:39.553Z"
   },
   {
    "duration": 12,
    "start_time": "2022-12-28T10:52:39.564Z"
   },
   {
    "duration": 655,
    "start_time": "2022-12-28T10:52:39.579Z"
   },
   {
    "duration": 699,
    "start_time": "2022-12-28T10:52:40.236Z"
   },
   {
    "duration": 194,
    "start_time": "2022-12-28T10:52:40.936Z"
   },
   {
    "duration": 154,
    "start_time": "2022-12-28T10:52:41.132Z"
   },
   {
    "duration": 275,
    "start_time": "2022-12-28T10:52:41.288Z"
   },
   {
    "duration": 178,
    "start_time": "2022-12-28T10:52:41.564Z"
   },
   {
    "duration": 1107,
    "start_time": "2022-12-28T10:52:41.744Z"
   },
   {
    "duration": 337,
    "start_time": "2022-12-28T10:52:42.853Z"
   },
   {
    "duration": 207,
    "start_time": "2022-12-28T10:52:43.192Z"
   },
   {
    "duration": 11,
    "start_time": "2022-12-28T10:52:43.404Z"
   },
   {
    "duration": 166,
    "start_time": "2022-12-28T10:52:43.421Z"
   },
   {
    "duration": 437,
    "start_time": "2022-12-28T10:52:43.588Z"
   },
   {
    "duration": 19,
    "start_time": "2022-12-28T10:52:44.029Z"
   },
   {
    "duration": 237,
    "start_time": "2022-12-28T10:52:44.050Z"
   },
   {
    "duration": 252,
    "start_time": "2022-12-28T10:52:44.290Z"
   },
   {
    "duration": 246,
    "start_time": "2022-12-28T10:52:44.544Z"
   },
   {
    "duration": 226,
    "start_time": "2022-12-28T10:52:44.792Z"
   },
   {
    "duration": 157,
    "start_time": "2022-12-28T10:52:45.020Z"
   },
   {
    "duration": 220,
    "start_time": "2022-12-28T10:52:45.178Z"
   },
   {
    "duration": 203,
    "start_time": "2022-12-28T10:52:45.400Z"
   },
   {
    "duration": 159,
    "start_time": "2022-12-28T10:52:45.607Z"
   },
   {
    "duration": 13,
    "start_time": "2022-12-28T10:52:45.769Z"
   },
   {
    "duration": 86,
    "start_time": "2022-12-28T10:52:45.784Z"
   },
   {
    "duration": 192,
    "start_time": "2022-12-28T10:52:45.872Z"
   },
   {
    "duration": 82,
    "start_time": "2022-12-28T11:20:57.132Z"
   },
   {
    "duration": 12,
    "start_time": "2022-12-28T11:21:04.410Z"
   },
   {
    "duration": 48,
    "start_time": "2023-01-09T10:30:52.704Z"
   }
  ],
  "kernelspec": {
   "display_name": "Python 3 (ipykernel)",
   "language": "python",
   "name": "python3"
  },
  "language_info": {
   "codemirror_mode": {
    "name": "ipython",
    "version": 3
   },
   "file_extension": ".py",
   "mimetype": "text/x-python",
   "name": "python",
   "nbconvert_exporter": "python",
   "pygments_lexer": "ipython3",
   "version": "3.9.5"
  },
  "toc": {
   "base_numbering": 1,
   "nav_menu": {},
   "number_sections": true,
   "sideBar": true,
   "skip_h1_title": true,
   "title_cell": "Table of Contents",
   "title_sidebar": "Contents",
   "toc_cell": false,
   "toc_position": {},
   "toc_section_display": true,
   "toc_window_display": false
  }
 },
 "nbformat": 4,
 "nbformat_minor": 2
}
